{
 "cells": [
  {
   "cell_type": "markdown",
   "metadata": {},
   "source": [
    "# 0 - Preparations"
   ]
  },
  {
   "cell_type": "code",
   "execution_count": 1,
   "metadata": {},
   "outputs": [],
   "source": [
    "from pathlib import Path\n",
    "import pandas as pd\n",
    "import numpy as np\n",
    "import plotly.express as px\n",
    "from scipy import stats\n",
    "import statistics\n",
    "\n",
    "# Set the plotly theme\n",
    "px.defaults.template = 'simple_white'\n",
    "\n",
    "# Set the pandas display options\n",
    "pd.options.display.float_format = '{:.2f}'.format"
   ]
  },
  {
   "cell_type": "code",
   "execution_count": 2,
   "metadata": {},
   "outputs": [
    {
     "data": {
      "text/html": [
       "<div>\n",
       "<style scoped>\n",
       "    .dataframe tbody tr th:only-of-type {\n",
       "        vertical-align: middle;\n",
       "    }\n",
       "\n",
       "    .dataframe tbody tr th {\n",
       "        vertical-align: top;\n",
       "    }\n",
       "\n",
       "    .dataframe thead th {\n",
       "        text-align: right;\n",
       "    }\n",
       "</style>\n",
       "<table border=\"1\" class=\"dataframe\">\n",
       "  <thead>\n",
       "    <tr style=\"text-align: right;\">\n",
       "      <th></th>\n",
       "      <th>scan_id</th>\n",
       "      <th>bone</th>\n",
       "      <th>side</th>\n",
       "      <th>patient_id</th>\n",
       "      <th>exam</th>\n",
       "      <th>vgs</th>\n",
       "      <th>x_shape</th>\n",
       "      <th>y_shape</th>\n",
       "      <th>z_shape</th>\n",
       "      <th>max_val</th>\n",
       "      <th>...</th>\n",
       "      <th>mean_val</th>\n",
       "      <th>med_val</th>\n",
       "      <th>std_val</th>\n",
       "      <th>n_class_0</th>\n",
       "      <th>n_class_1</th>\n",
       "      <th>n_class_2</th>\n",
       "      <th>prop_class_0</th>\n",
       "      <th>prop_class_1</th>\n",
       "      <th>prop_class_2</th>\n",
       "      <th>image_path</th>\n",
       "    </tr>\n",
       "  </thead>\n",
       "  <tbody>\n",
       "    <tr>\n",
       "      <th>0</th>\n",
       "      <td>D0004037</td>\n",
       "      <td>Radius</td>\n",
       "      <td>R</td>\n",
       "      <td>A01-0253</td>\n",
       "      <td>Ex01</td>\n",
       "      <td>VGS3</td>\n",
       "      <td>322</td>\n",
       "      <td>459</td>\n",
       "      <td>168</td>\n",
       "      <td>5824</td>\n",
       "      <td>...</td>\n",
       "      <td>348</td>\n",
       "      <td>99</td>\n",
       "      <td>866</td>\n",
       "      <td>14749962</td>\n",
       "      <td>7346617</td>\n",
       "      <td>2733485</td>\n",
       "      <td>0.59</td>\n",
       "      <td>0.30</td>\n",
       "      <td>0.11</td>\n",
       "      <td>/data/trainers/PPS_NPZs/Radius/A01-0253/Ex01/D...</td>\n",
       "    </tr>\n",
       "    <tr>\n",
       "      <th>1</th>\n",
       "      <td>D0004036</td>\n",
       "      <td>Radius</td>\n",
       "      <td>L</td>\n",
       "      <td>A01-0253</td>\n",
       "      <td>Ex01</td>\n",
       "      <td>VGS1</td>\n",
       "      <td>355</td>\n",
       "      <td>452</td>\n",
       "      <td>168</td>\n",
       "      <td>4902</td>\n",
       "      <td>...</td>\n",
       "      <td>356</td>\n",
       "      <td>97</td>\n",
       "      <td>860</td>\n",
       "      <td>17604824</td>\n",
       "      <td>6584447</td>\n",
       "      <td>2768008</td>\n",
       "      <td>0.65</td>\n",
       "      <td>0.24</td>\n",
       "      <td>0.10</td>\n",
       "      <td>/data/trainers/PPS_NPZs/Radius/A01-0253/Ex01/D...</td>\n",
       "    </tr>\n",
       "    <tr>\n",
       "      <th>2</th>\n",
       "      <td>D0004385</td>\n",
       "      <td>Radius</td>\n",
       "      <td>R</td>\n",
       "      <td>A01-0253</td>\n",
       "      <td>Ex02</td>\n",
       "      <td>VGS1</td>\n",
       "      <td>312</td>\n",
       "      <td>458</td>\n",
       "      <td>168</td>\n",
       "      <td>5437</td>\n",
       "      <td>...</td>\n",
       "      <td>379</td>\n",
       "      <td>104</td>\n",
       "      <td>900</td>\n",
       "      <td>13727102</td>\n",
       "      <td>7504448</td>\n",
       "      <td>2774978</td>\n",
       "      <td>0.57</td>\n",
       "      <td>0.31</td>\n",
       "      <td>0.12</td>\n",
       "      <td>/data/trainers/PPS_NPZs/Radius/A01-0253/Ex02/D...</td>\n",
       "    </tr>\n",
       "  </tbody>\n",
       "</table>\n",
       "<p>3 rows × 21 columns</p>\n",
       "</div>"
      ],
      "text/plain": [
       "    scan_id    bone side patient_id  exam   vgs  x_shape  y_shape  z_shape  \\\n",
       "0  D0004037  Radius    R   A01-0253  Ex01  VGS3      322      459      168   \n",
       "1  D0004036  Radius    L   A01-0253  Ex01  VGS1      355      452      168   \n",
       "2  D0004385  Radius    R   A01-0253  Ex02  VGS1      312      458      168   \n",
       "\n",
       "   max_val  ...  mean_val  med_val  std_val  n_class_0  n_class_1  n_class_2  \\\n",
       "0     5824  ...       348       99      866   14749962    7346617    2733485   \n",
       "1     4902  ...       356       97      860   17604824    6584447    2768008   \n",
       "2     5437  ...       379      104      900   13727102    7504448    2774978   \n",
       "\n",
       "   prop_class_0  prop_class_1  prop_class_2  \\\n",
       "0          0.59          0.30          0.11   \n",
       "1          0.65          0.24          0.10   \n",
       "2          0.57          0.31          0.12   \n",
       "\n",
       "                                          image_path  \n",
       "0  /data/trainers/PPS_NPZs/Radius/A01-0253/Ex01/D...  \n",
       "1  /data/trainers/PPS_NPZs/Radius/A01-0253/Ex01/D...  \n",
       "2  /data/trainers/PPS_NPZs/Radius/A01-0253/Ex02/D...  \n",
       "\n",
       "[3 rows x 21 columns]"
      ]
     },
     "execution_count": 2,
     "metadata": {},
     "output_type": "execute_result"
    }
   ],
   "source": [
    "# Load the dataset\n",
    "data = pd.read_csv('data/dataset_info_PPS.csv')\n",
    "data.head(3)"
   ]
  },
  {
   "cell_type": "code",
   "execution_count": 3,
   "metadata": {},
   "outputs": [
    {
     "data": {
      "text/plain": [
       "(1482, 21)"
      ]
     },
     "execution_count": 3,
     "metadata": {},
     "output_type": "execute_result"
    }
   ],
   "source": [
    "data.shape"
   ]
  },
  {
   "cell_type": "markdown",
   "metadata": {},
   "source": [
    "# 1 - Univariate Frequency Distribution\n",
    "https://mciwing.github.io/statistics/univariate/Frequency/"
   ]
  },
  {
   "cell_type": "code",
   "execution_count": 4,
   "metadata": {},
   "outputs": [
    {
     "data": {
      "text/plain": [
       "Index(['scan_id', 'bone', 'side', 'patient_id', 'exam', 'vgs', 'x_shape',\n",
       "       'y_shape', 'z_shape', 'max_val', 'min_val', 'mean_val', 'med_val',\n",
       "       'std_val', 'n_class_0', 'n_class_1', 'n_class_2', 'prop_class_0',\n",
       "       'prop_class_1', 'prop_class_2', 'image_path'],\n",
       "      dtype='object')"
      ]
     },
     "execution_count": 4,
     "metadata": {},
     "output_type": "execute_result"
    }
   ],
   "source": [
    "data.columns"
   ]
  },
  {
   "cell_type": "markdown",
   "metadata": {},
   "source": [
    "Values from dataset\n",
    "\n",
    "| name | scale | note |\n",
    "| - | - | - |\n",
    "| scan_id | unique values | unique id for each image |\n",
    "| bone | nominal | kind of bone, radius or tibia |\n",
    "| side | nominal | side of the extremity, left or right |\n",
    "| patient_id | unique values | unique id for each patient |\n",
    "| exam | ordinal | id of the investigation, there is a chronological order |\n",
    "| vgs | ordinal | type of quality of the scans (visual grading scale) |\n",
    "| x_shape, y_shape, z_shape | numeric | dimensions in the corresponding dimension, number of voxels |\n",
    "| max_val | numeric | maximal value (intensity) of voxels |\n",
    "| min_val | numeric | minimal value (intensity) of voxels |\n",
    "| mean_val | numeric | mean value (intensity) of voxels |\n",
    "| median_val | numeric | median value (intensity) of voxels |\n",
    "| std_val | numeric | mean value (intensity) of voxels |\n",
    "| n_class_0, n_class_1, n_class_2 | numeric | number of voxels for each class |\n",
    "| prop_class_0, prop_class_1, prop_class_2 | numeric | proportion of voxels for the individual classes |\n",
    "| image_path | unique values | filepath to the image files |\n",
    "\n",
    "Calculated values\n",
    "\n",
    "| name | scale | note |\n",
    "| - | - | - |\n",
    "| n_voxels | numeric | total number of voxels |"
   ]
  },
  {
   "cell_type": "code",
   "execution_count": 5,
   "metadata": {},
   "outputs": [
    {
     "data": {
      "text/html": [
       "<div>\n",
       "<style scoped>\n",
       "    .dataframe tbody tr th:only-of-type {\n",
       "        vertical-align: middle;\n",
       "    }\n",
       "\n",
       "    .dataframe tbody tr th {\n",
       "        vertical-align: top;\n",
       "    }\n",
       "\n",
       "    .dataframe thead th {\n",
       "        text-align: right;\n",
       "    }\n",
       "</style>\n",
       "<table border=\"1\" class=\"dataframe\">\n",
       "  <thead>\n",
       "    <tr style=\"text-align: right;\">\n",
       "      <th></th>\n",
       "      <th>scan_id</th>\n",
       "      <th>bone</th>\n",
       "      <th>side</th>\n",
       "      <th>patient_id</th>\n",
       "      <th>exam</th>\n",
       "      <th>vgs</th>\n",
       "      <th>x_shape</th>\n",
       "      <th>y_shape</th>\n",
       "      <th>z_shape</th>\n",
       "      <th>max_val</th>\n",
       "      <th>...</th>\n",
       "      <th>med_val</th>\n",
       "      <th>std_val</th>\n",
       "      <th>n_class_0</th>\n",
       "      <th>n_class_1</th>\n",
       "      <th>n_class_2</th>\n",
       "      <th>prop_class_0</th>\n",
       "      <th>prop_class_1</th>\n",
       "      <th>prop_class_2</th>\n",
       "      <th>image_path</th>\n",
       "      <th>n_voxels</th>\n",
       "    </tr>\n",
       "  </thead>\n",
       "  <tbody>\n",
       "    <tr>\n",
       "      <th>0</th>\n",
       "      <td>D0004037</td>\n",
       "      <td>Radius</td>\n",
       "      <td>R</td>\n",
       "      <td>A01-0253</td>\n",
       "      <td>Ex01</td>\n",
       "      <td>VGS3</td>\n",
       "      <td>322</td>\n",
       "      <td>459</td>\n",
       "      <td>168</td>\n",
       "      <td>5824</td>\n",
       "      <td>...</td>\n",
       "      <td>99</td>\n",
       "      <td>866</td>\n",
       "      <td>14749962</td>\n",
       "      <td>7346617</td>\n",
       "      <td>2733485</td>\n",
       "      <td>0.59</td>\n",
       "      <td>0.30</td>\n",
       "      <td>0.11</td>\n",
       "      <td>/data/trainers/PPS_NPZs/Radius/A01-0253/Ex01/D...</td>\n",
       "      <td>24830064</td>\n",
       "    </tr>\n",
       "    <tr>\n",
       "      <th>1</th>\n",
       "      <td>D0004036</td>\n",
       "      <td>Radius</td>\n",
       "      <td>L</td>\n",
       "      <td>A01-0253</td>\n",
       "      <td>Ex01</td>\n",
       "      <td>VGS1</td>\n",
       "      <td>355</td>\n",
       "      <td>452</td>\n",
       "      <td>168</td>\n",
       "      <td>4902</td>\n",
       "      <td>...</td>\n",
       "      <td>97</td>\n",
       "      <td>860</td>\n",
       "      <td>17604824</td>\n",
       "      <td>6584447</td>\n",
       "      <td>2768008</td>\n",
       "      <td>0.65</td>\n",
       "      <td>0.24</td>\n",
       "      <td>0.10</td>\n",
       "      <td>/data/trainers/PPS_NPZs/Radius/A01-0253/Ex01/D...</td>\n",
       "      <td>26957280</td>\n",
       "    </tr>\n",
       "    <tr>\n",
       "      <th>2</th>\n",
       "      <td>D0004385</td>\n",
       "      <td>Radius</td>\n",
       "      <td>R</td>\n",
       "      <td>A01-0253</td>\n",
       "      <td>Ex02</td>\n",
       "      <td>VGS1</td>\n",
       "      <td>312</td>\n",
       "      <td>458</td>\n",
       "      <td>168</td>\n",
       "      <td>5437</td>\n",
       "      <td>...</td>\n",
       "      <td>104</td>\n",
       "      <td>900</td>\n",
       "      <td>13727102</td>\n",
       "      <td>7504448</td>\n",
       "      <td>2774978</td>\n",
       "      <td>0.57</td>\n",
       "      <td>0.31</td>\n",
       "      <td>0.12</td>\n",
       "      <td>/data/trainers/PPS_NPZs/Radius/A01-0253/Ex02/D...</td>\n",
       "      <td>24006528</td>\n",
       "    </tr>\n",
       "  </tbody>\n",
       "</table>\n",
       "<p>3 rows × 22 columns</p>\n",
       "</div>"
      ],
      "text/plain": [
       "    scan_id    bone side patient_id  exam   vgs  x_shape  y_shape  z_shape  \\\n",
       "0  D0004037  Radius    R   A01-0253  Ex01  VGS3      322      459      168   \n",
       "1  D0004036  Radius    L   A01-0253  Ex01  VGS1      355      452      168   \n",
       "2  D0004385  Radius    R   A01-0253  Ex02  VGS1      312      458      168   \n",
       "\n",
       "   max_val  ...  med_val  std_val  n_class_0  n_class_1  n_class_2  \\\n",
       "0     5824  ...       99      866   14749962    7346617    2733485   \n",
       "1     4902  ...       97      860   17604824    6584447    2768008   \n",
       "2     5437  ...      104      900   13727102    7504448    2774978   \n",
       "\n",
       "   prop_class_0  prop_class_1  prop_class_2  \\\n",
       "0          0.59          0.30          0.11   \n",
       "1          0.65          0.24          0.10   \n",
       "2          0.57          0.31          0.12   \n",
       "\n",
       "                                          image_path  n_voxels  \n",
       "0  /data/trainers/PPS_NPZs/Radius/A01-0253/Ex01/D...  24830064  \n",
       "1  /data/trainers/PPS_NPZs/Radius/A01-0253/Ex01/D...  26957280  \n",
       "2  /data/trainers/PPS_NPZs/Radius/A01-0253/Ex02/D...  24006528  \n",
       "\n",
       "[3 rows x 22 columns]"
      ]
     },
     "execution_count": 5,
     "metadata": {},
     "output_type": "execute_result"
    }
   ],
   "source": [
    "# calculate the total number of voxels\n",
    "data['n_voxels'] = data['x_shape'] * data['y_shape'] * data['z_shape']\n",
    "\n",
    "data.head(3)"
   ]
  },
  {
   "cell_type": "markdown",
   "metadata": {},
   "source": [
    "### Nominal"
   ]
  },
  {
   "cell_type": "code",
   "execution_count": 6,
   "metadata": {},
   "outputs": [
    {
     "data": {
      "application/vnd.plotly.v1+json": {
       "config": {
        "plotlyServerURL": "https://plot.ly"
       },
       "data": [
        {
         "hovertemplate": "bone=%{x}<br>count=%{y}<extra></extra>",
         "legendgroup": "",
         "marker": {
          "color": "#1F77B4",
          "pattern": {
           "shape": ""
          }
         },
         "name": "",
         "orientation": "v",
         "showlegend": false,
         "textposition": "auto",
         "type": "bar",
         "x": [
          "Radius",
          "Tibia"
         ],
         "xaxis": "x",
         "y": {
          "bdata": "5QLlAg==",
          "dtype": "i2"
         },
         "yaxis": "y"
        }
       ],
       "layout": {
        "barmode": "relative",
        "legend": {
         "tracegroupgap": 0
        },
        "template": {
         "data": {
          "bar": [
           {
            "error_x": {
             "color": "rgb(36,36,36)"
            },
            "error_y": {
             "color": "rgb(36,36,36)"
            },
            "marker": {
             "line": {
              "color": "white",
              "width": 0.5
             },
             "pattern": {
              "fillmode": "overlay",
              "size": 10,
              "solidity": 0.2
             }
            },
            "type": "bar"
           }
          ],
          "barpolar": [
           {
            "marker": {
             "line": {
              "color": "white",
              "width": 0.5
             },
             "pattern": {
              "fillmode": "overlay",
              "size": 10,
              "solidity": 0.2
             }
            },
            "type": "barpolar"
           }
          ],
          "carpet": [
           {
            "aaxis": {
             "endlinecolor": "rgb(36,36,36)",
             "gridcolor": "white",
             "linecolor": "white",
             "minorgridcolor": "white",
             "startlinecolor": "rgb(36,36,36)"
            },
            "baxis": {
             "endlinecolor": "rgb(36,36,36)",
             "gridcolor": "white",
             "linecolor": "white",
             "minorgridcolor": "white",
             "startlinecolor": "rgb(36,36,36)"
            },
            "type": "carpet"
           }
          ],
          "choropleth": [
           {
            "colorbar": {
             "outlinewidth": 1,
             "tickcolor": "rgb(36,36,36)",
             "ticks": "outside"
            },
            "type": "choropleth"
           }
          ],
          "contour": [
           {
            "colorbar": {
             "outlinewidth": 1,
             "tickcolor": "rgb(36,36,36)",
             "ticks": "outside"
            },
            "colorscale": [
             [
              0,
              "#440154"
             ],
             [
              0.1111111111111111,
              "#482878"
             ],
             [
              0.2222222222222222,
              "#3e4989"
             ],
             [
              0.3333333333333333,
              "#31688e"
             ],
             [
              0.4444444444444444,
              "#26828e"
             ],
             [
              0.5555555555555556,
              "#1f9e89"
             ],
             [
              0.6666666666666666,
              "#35b779"
             ],
             [
              0.7777777777777778,
              "#6ece58"
             ],
             [
              0.8888888888888888,
              "#b5de2b"
             ],
             [
              1,
              "#fde725"
             ]
            ],
            "type": "contour"
           }
          ],
          "contourcarpet": [
           {
            "colorbar": {
             "outlinewidth": 1,
             "tickcolor": "rgb(36,36,36)",
             "ticks": "outside"
            },
            "type": "contourcarpet"
           }
          ],
          "heatmap": [
           {
            "colorbar": {
             "outlinewidth": 1,
             "tickcolor": "rgb(36,36,36)",
             "ticks": "outside"
            },
            "colorscale": [
             [
              0,
              "#440154"
             ],
             [
              0.1111111111111111,
              "#482878"
             ],
             [
              0.2222222222222222,
              "#3e4989"
             ],
             [
              0.3333333333333333,
              "#31688e"
             ],
             [
              0.4444444444444444,
              "#26828e"
             ],
             [
              0.5555555555555556,
              "#1f9e89"
             ],
             [
              0.6666666666666666,
              "#35b779"
             ],
             [
              0.7777777777777778,
              "#6ece58"
             ],
             [
              0.8888888888888888,
              "#b5de2b"
             ],
             [
              1,
              "#fde725"
             ]
            ],
            "type": "heatmap"
           }
          ],
          "histogram": [
           {
            "marker": {
             "line": {
              "color": "white",
              "width": 0.6
             }
            },
            "type": "histogram"
           }
          ],
          "histogram2d": [
           {
            "colorbar": {
             "outlinewidth": 1,
             "tickcolor": "rgb(36,36,36)",
             "ticks": "outside"
            },
            "colorscale": [
             [
              0,
              "#440154"
             ],
             [
              0.1111111111111111,
              "#482878"
             ],
             [
              0.2222222222222222,
              "#3e4989"
             ],
             [
              0.3333333333333333,
              "#31688e"
             ],
             [
              0.4444444444444444,
              "#26828e"
             ],
             [
              0.5555555555555556,
              "#1f9e89"
             ],
             [
              0.6666666666666666,
              "#35b779"
             ],
             [
              0.7777777777777778,
              "#6ece58"
             ],
             [
              0.8888888888888888,
              "#b5de2b"
             ],
             [
              1,
              "#fde725"
             ]
            ],
            "type": "histogram2d"
           }
          ],
          "histogram2dcontour": [
           {
            "colorbar": {
             "outlinewidth": 1,
             "tickcolor": "rgb(36,36,36)",
             "ticks": "outside"
            },
            "colorscale": [
             [
              0,
              "#440154"
             ],
             [
              0.1111111111111111,
              "#482878"
             ],
             [
              0.2222222222222222,
              "#3e4989"
             ],
             [
              0.3333333333333333,
              "#31688e"
             ],
             [
              0.4444444444444444,
              "#26828e"
             ],
             [
              0.5555555555555556,
              "#1f9e89"
             ],
             [
              0.6666666666666666,
              "#35b779"
             ],
             [
              0.7777777777777778,
              "#6ece58"
             ],
             [
              0.8888888888888888,
              "#b5de2b"
             ],
             [
              1,
              "#fde725"
             ]
            ],
            "type": "histogram2dcontour"
           }
          ],
          "mesh3d": [
           {
            "colorbar": {
             "outlinewidth": 1,
             "tickcolor": "rgb(36,36,36)",
             "ticks": "outside"
            },
            "type": "mesh3d"
           }
          ],
          "parcoords": [
           {
            "line": {
             "colorbar": {
              "outlinewidth": 1,
              "tickcolor": "rgb(36,36,36)",
              "ticks": "outside"
             }
            },
            "type": "parcoords"
           }
          ],
          "pie": [
           {
            "automargin": true,
            "type": "pie"
           }
          ],
          "scatter": [
           {
            "fillpattern": {
             "fillmode": "overlay",
             "size": 10,
             "solidity": 0.2
            },
            "type": "scatter"
           }
          ],
          "scatter3d": [
           {
            "line": {
             "colorbar": {
              "outlinewidth": 1,
              "tickcolor": "rgb(36,36,36)",
              "ticks": "outside"
             }
            },
            "marker": {
             "colorbar": {
              "outlinewidth": 1,
              "tickcolor": "rgb(36,36,36)",
              "ticks": "outside"
             }
            },
            "type": "scatter3d"
           }
          ],
          "scattercarpet": [
           {
            "marker": {
             "colorbar": {
              "outlinewidth": 1,
              "tickcolor": "rgb(36,36,36)",
              "ticks": "outside"
             }
            },
            "type": "scattercarpet"
           }
          ],
          "scattergeo": [
           {
            "marker": {
             "colorbar": {
              "outlinewidth": 1,
              "tickcolor": "rgb(36,36,36)",
              "ticks": "outside"
             }
            },
            "type": "scattergeo"
           }
          ],
          "scattergl": [
           {
            "marker": {
             "colorbar": {
              "outlinewidth": 1,
              "tickcolor": "rgb(36,36,36)",
              "ticks": "outside"
             }
            },
            "type": "scattergl"
           }
          ],
          "scattermap": [
           {
            "marker": {
             "colorbar": {
              "outlinewidth": 1,
              "tickcolor": "rgb(36,36,36)",
              "ticks": "outside"
             }
            },
            "type": "scattermap"
           }
          ],
          "scattermapbox": [
           {
            "marker": {
             "colorbar": {
              "outlinewidth": 1,
              "tickcolor": "rgb(36,36,36)",
              "ticks": "outside"
             }
            },
            "type": "scattermapbox"
           }
          ],
          "scatterpolar": [
           {
            "marker": {
             "colorbar": {
              "outlinewidth": 1,
              "tickcolor": "rgb(36,36,36)",
              "ticks": "outside"
             }
            },
            "type": "scatterpolar"
           }
          ],
          "scatterpolargl": [
           {
            "marker": {
             "colorbar": {
              "outlinewidth": 1,
              "tickcolor": "rgb(36,36,36)",
              "ticks": "outside"
             }
            },
            "type": "scatterpolargl"
           }
          ],
          "scatterternary": [
           {
            "marker": {
             "colorbar": {
              "outlinewidth": 1,
              "tickcolor": "rgb(36,36,36)",
              "ticks": "outside"
             }
            },
            "type": "scatterternary"
           }
          ],
          "surface": [
           {
            "colorbar": {
             "outlinewidth": 1,
             "tickcolor": "rgb(36,36,36)",
             "ticks": "outside"
            },
            "colorscale": [
             [
              0,
              "#440154"
             ],
             [
              0.1111111111111111,
              "#482878"
             ],
             [
              0.2222222222222222,
              "#3e4989"
             ],
             [
              0.3333333333333333,
              "#31688e"
             ],
             [
              0.4444444444444444,
              "#26828e"
             ],
             [
              0.5555555555555556,
              "#1f9e89"
             ],
             [
              0.6666666666666666,
              "#35b779"
             ],
             [
              0.7777777777777778,
              "#6ece58"
             ],
             [
              0.8888888888888888,
              "#b5de2b"
             ],
             [
              1,
              "#fde725"
             ]
            ],
            "type": "surface"
           }
          ],
          "table": [
           {
            "cells": {
             "fill": {
              "color": "rgb(237,237,237)"
             },
             "line": {
              "color": "white"
             }
            },
            "header": {
             "fill": {
              "color": "rgb(217,217,217)"
             },
             "line": {
              "color": "white"
             }
            },
            "type": "table"
           }
          ]
         },
         "layout": {
          "annotationdefaults": {
           "arrowhead": 0,
           "arrowwidth": 1
          },
          "autotypenumbers": "strict",
          "coloraxis": {
           "colorbar": {
            "outlinewidth": 1,
            "tickcolor": "rgb(36,36,36)",
            "ticks": "outside"
           }
          },
          "colorscale": {
           "diverging": [
            [
             0,
             "rgb(103,0,31)"
            ],
            [
             0.1,
             "rgb(178,24,43)"
            ],
            [
             0.2,
             "rgb(214,96,77)"
            ],
            [
             0.3,
             "rgb(244,165,130)"
            ],
            [
             0.4,
             "rgb(253,219,199)"
            ],
            [
             0.5,
             "rgb(247,247,247)"
            ],
            [
             0.6,
             "rgb(209,229,240)"
            ],
            [
             0.7,
             "rgb(146,197,222)"
            ],
            [
             0.8,
             "rgb(67,147,195)"
            ],
            [
             0.9,
             "rgb(33,102,172)"
            ],
            [
             1,
             "rgb(5,48,97)"
            ]
           ],
           "sequential": [
            [
             0,
             "#440154"
            ],
            [
             0.1111111111111111,
             "#482878"
            ],
            [
             0.2222222222222222,
             "#3e4989"
            ],
            [
             0.3333333333333333,
             "#31688e"
            ],
            [
             0.4444444444444444,
             "#26828e"
            ],
            [
             0.5555555555555556,
             "#1f9e89"
            ],
            [
             0.6666666666666666,
             "#35b779"
            ],
            [
             0.7777777777777778,
             "#6ece58"
            ],
            [
             0.8888888888888888,
             "#b5de2b"
            ],
            [
             1,
             "#fde725"
            ]
           ],
           "sequentialminus": [
            [
             0,
             "#440154"
            ],
            [
             0.1111111111111111,
             "#482878"
            ],
            [
             0.2222222222222222,
             "#3e4989"
            ],
            [
             0.3333333333333333,
             "#31688e"
            ],
            [
             0.4444444444444444,
             "#26828e"
            ],
            [
             0.5555555555555556,
             "#1f9e89"
            ],
            [
             0.6666666666666666,
             "#35b779"
            ],
            [
             0.7777777777777778,
             "#6ece58"
            ],
            [
             0.8888888888888888,
             "#b5de2b"
            ],
            [
             1,
             "#fde725"
            ]
           ]
          },
          "colorway": [
           "#1F77B4",
           "#FF7F0E",
           "#2CA02C",
           "#D62728",
           "#9467BD",
           "#8C564B",
           "#E377C2",
           "#7F7F7F",
           "#BCBD22",
           "#17BECF"
          ],
          "font": {
           "color": "rgb(36,36,36)"
          },
          "geo": {
           "bgcolor": "white",
           "lakecolor": "white",
           "landcolor": "white",
           "showlakes": true,
           "showland": true,
           "subunitcolor": "white"
          },
          "hoverlabel": {
           "align": "left"
          },
          "hovermode": "closest",
          "mapbox": {
           "style": "light"
          },
          "paper_bgcolor": "white",
          "plot_bgcolor": "white",
          "polar": {
           "angularaxis": {
            "gridcolor": "rgb(232,232,232)",
            "linecolor": "rgb(36,36,36)",
            "showgrid": false,
            "showline": true,
            "ticks": "outside"
           },
           "bgcolor": "white",
           "radialaxis": {
            "gridcolor": "rgb(232,232,232)",
            "linecolor": "rgb(36,36,36)",
            "showgrid": false,
            "showline": true,
            "ticks": "outside"
           }
          },
          "scene": {
           "xaxis": {
            "backgroundcolor": "white",
            "gridcolor": "rgb(232,232,232)",
            "gridwidth": 2,
            "linecolor": "rgb(36,36,36)",
            "showbackground": true,
            "showgrid": false,
            "showline": true,
            "ticks": "outside",
            "zeroline": false,
            "zerolinecolor": "rgb(36,36,36)"
           },
           "yaxis": {
            "backgroundcolor": "white",
            "gridcolor": "rgb(232,232,232)",
            "gridwidth": 2,
            "linecolor": "rgb(36,36,36)",
            "showbackground": true,
            "showgrid": false,
            "showline": true,
            "ticks": "outside",
            "zeroline": false,
            "zerolinecolor": "rgb(36,36,36)"
           },
           "zaxis": {
            "backgroundcolor": "white",
            "gridcolor": "rgb(232,232,232)",
            "gridwidth": 2,
            "linecolor": "rgb(36,36,36)",
            "showbackground": true,
            "showgrid": false,
            "showline": true,
            "ticks": "outside",
            "zeroline": false,
            "zerolinecolor": "rgb(36,36,36)"
           }
          },
          "shapedefaults": {
           "fillcolor": "black",
           "line": {
            "width": 0
           },
           "opacity": 0.3
          },
          "ternary": {
           "aaxis": {
            "gridcolor": "rgb(232,232,232)",
            "linecolor": "rgb(36,36,36)",
            "showgrid": false,
            "showline": true,
            "ticks": "outside"
           },
           "baxis": {
            "gridcolor": "rgb(232,232,232)",
            "linecolor": "rgb(36,36,36)",
            "showgrid": false,
            "showline": true,
            "ticks": "outside"
           },
           "bgcolor": "white",
           "caxis": {
            "gridcolor": "rgb(232,232,232)",
            "linecolor": "rgb(36,36,36)",
            "showgrid": false,
            "showline": true,
            "ticks": "outside"
           }
          },
          "title": {
           "x": 0.05
          },
          "xaxis": {
           "automargin": true,
           "gridcolor": "rgb(232,232,232)",
           "linecolor": "rgb(36,36,36)",
           "showgrid": false,
           "showline": true,
           "ticks": "outside",
           "title": {
            "standoff": 15
           },
           "zeroline": false,
           "zerolinecolor": "rgb(36,36,36)"
          },
          "yaxis": {
           "automargin": true,
           "gridcolor": "rgb(232,232,232)",
           "linecolor": "rgb(36,36,36)",
           "showgrid": false,
           "showline": true,
           "ticks": "outside",
           "title": {
            "standoff": 15
           },
           "zeroline": false,
           "zerolinecolor": "rgb(36,36,36)"
          }
         }
        },
        "title": {
         "text": "Frequency of bones in the dataset"
        },
        "width": 500,
        "xaxis": {
         "anchor": "y",
         "domain": [
          0,
          1
         ],
         "title": {
          "text": "bone"
         }
        },
        "yaxis": {
         "anchor": "x",
         "domain": [
          0,
          1
         ],
         "title": {
          "text": "Count"
         }
        }
       }
      }
     },
     "metadata": {},
     "output_type": "display_data"
    }
   ],
   "source": [
    "# create a barplot with the frequency of locations\n",
    "location_freq = data['bone'].value_counts().reset_index()\n",
    "location_freq.columns = ['bone', 'count']  # rename columns for clarity\n",
    "\n",
    "fig = px.bar(\n",
    "    location_freq,\n",
    "    x='bone',\n",
    "    y='count',\n",
    "    title='Frequency of bones in the dataset',\n",
    "    width=500,\n",
    "    )\n",
    "fig.update_xaxes(title_text='bone')\n",
    "fig.update_yaxes(title_text='Count')\n",
    "\n",
    "fig.show()"
   ]
  },
  {
   "cell_type": "code",
   "execution_count": 7,
   "metadata": {},
   "outputs": [
    {
     "data": {
      "application/vnd.plotly.v1+json": {
       "config": {
        "plotlyServerURL": "https://plot.ly"
       },
       "data": [
        {
         "domain": {
          "x": [
           0,
           1
          ],
          "y": [
           0,
           1
          ]
         },
         "hovertemplate": "side=%{label}<br>count=%{value}<extra></extra>",
         "labels": [
          "R",
          "L"
         ],
         "legendgroup": "",
         "name": "",
         "showlegend": true,
         "type": "pie",
         "values": {
          "bdata": "5QLlAg==",
          "dtype": "i2"
         }
        }
       ],
       "layout": {
        "legend": {
         "tracegroupgap": 0
        },
        "template": {
         "data": {
          "bar": [
           {
            "error_x": {
             "color": "rgb(36,36,36)"
            },
            "error_y": {
             "color": "rgb(36,36,36)"
            },
            "marker": {
             "line": {
              "color": "white",
              "width": 0.5
             },
             "pattern": {
              "fillmode": "overlay",
              "size": 10,
              "solidity": 0.2
             }
            },
            "type": "bar"
           }
          ],
          "barpolar": [
           {
            "marker": {
             "line": {
              "color": "white",
              "width": 0.5
             },
             "pattern": {
              "fillmode": "overlay",
              "size": 10,
              "solidity": 0.2
             }
            },
            "type": "barpolar"
           }
          ],
          "carpet": [
           {
            "aaxis": {
             "endlinecolor": "rgb(36,36,36)",
             "gridcolor": "white",
             "linecolor": "white",
             "minorgridcolor": "white",
             "startlinecolor": "rgb(36,36,36)"
            },
            "baxis": {
             "endlinecolor": "rgb(36,36,36)",
             "gridcolor": "white",
             "linecolor": "white",
             "minorgridcolor": "white",
             "startlinecolor": "rgb(36,36,36)"
            },
            "type": "carpet"
           }
          ],
          "choropleth": [
           {
            "colorbar": {
             "outlinewidth": 1,
             "tickcolor": "rgb(36,36,36)",
             "ticks": "outside"
            },
            "type": "choropleth"
           }
          ],
          "contour": [
           {
            "colorbar": {
             "outlinewidth": 1,
             "tickcolor": "rgb(36,36,36)",
             "ticks": "outside"
            },
            "colorscale": [
             [
              0,
              "#440154"
             ],
             [
              0.1111111111111111,
              "#482878"
             ],
             [
              0.2222222222222222,
              "#3e4989"
             ],
             [
              0.3333333333333333,
              "#31688e"
             ],
             [
              0.4444444444444444,
              "#26828e"
             ],
             [
              0.5555555555555556,
              "#1f9e89"
             ],
             [
              0.6666666666666666,
              "#35b779"
             ],
             [
              0.7777777777777778,
              "#6ece58"
             ],
             [
              0.8888888888888888,
              "#b5de2b"
             ],
             [
              1,
              "#fde725"
             ]
            ],
            "type": "contour"
           }
          ],
          "contourcarpet": [
           {
            "colorbar": {
             "outlinewidth": 1,
             "tickcolor": "rgb(36,36,36)",
             "ticks": "outside"
            },
            "type": "contourcarpet"
           }
          ],
          "heatmap": [
           {
            "colorbar": {
             "outlinewidth": 1,
             "tickcolor": "rgb(36,36,36)",
             "ticks": "outside"
            },
            "colorscale": [
             [
              0,
              "#440154"
             ],
             [
              0.1111111111111111,
              "#482878"
             ],
             [
              0.2222222222222222,
              "#3e4989"
             ],
             [
              0.3333333333333333,
              "#31688e"
             ],
             [
              0.4444444444444444,
              "#26828e"
             ],
             [
              0.5555555555555556,
              "#1f9e89"
             ],
             [
              0.6666666666666666,
              "#35b779"
             ],
             [
              0.7777777777777778,
              "#6ece58"
             ],
             [
              0.8888888888888888,
              "#b5de2b"
             ],
             [
              1,
              "#fde725"
             ]
            ],
            "type": "heatmap"
           }
          ],
          "histogram": [
           {
            "marker": {
             "line": {
              "color": "white",
              "width": 0.6
             }
            },
            "type": "histogram"
           }
          ],
          "histogram2d": [
           {
            "colorbar": {
             "outlinewidth": 1,
             "tickcolor": "rgb(36,36,36)",
             "ticks": "outside"
            },
            "colorscale": [
             [
              0,
              "#440154"
             ],
             [
              0.1111111111111111,
              "#482878"
             ],
             [
              0.2222222222222222,
              "#3e4989"
             ],
             [
              0.3333333333333333,
              "#31688e"
             ],
             [
              0.4444444444444444,
              "#26828e"
             ],
             [
              0.5555555555555556,
              "#1f9e89"
             ],
             [
              0.6666666666666666,
              "#35b779"
             ],
             [
              0.7777777777777778,
              "#6ece58"
             ],
             [
              0.8888888888888888,
              "#b5de2b"
             ],
             [
              1,
              "#fde725"
             ]
            ],
            "type": "histogram2d"
           }
          ],
          "histogram2dcontour": [
           {
            "colorbar": {
             "outlinewidth": 1,
             "tickcolor": "rgb(36,36,36)",
             "ticks": "outside"
            },
            "colorscale": [
             [
              0,
              "#440154"
             ],
             [
              0.1111111111111111,
              "#482878"
             ],
             [
              0.2222222222222222,
              "#3e4989"
             ],
             [
              0.3333333333333333,
              "#31688e"
             ],
             [
              0.4444444444444444,
              "#26828e"
             ],
             [
              0.5555555555555556,
              "#1f9e89"
             ],
             [
              0.6666666666666666,
              "#35b779"
             ],
             [
              0.7777777777777778,
              "#6ece58"
             ],
             [
              0.8888888888888888,
              "#b5de2b"
             ],
             [
              1,
              "#fde725"
             ]
            ],
            "type": "histogram2dcontour"
           }
          ],
          "mesh3d": [
           {
            "colorbar": {
             "outlinewidth": 1,
             "tickcolor": "rgb(36,36,36)",
             "ticks": "outside"
            },
            "type": "mesh3d"
           }
          ],
          "parcoords": [
           {
            "line": {
             "colorbar": {
              "outlinewidth": 1,
              "tickcolor": "rgb(36,36,36)",
              "ticks": "outside"
             }
            },
            "type": "parcoords"
           }
          ],
          "pie": [
           {
            "automargin": true,
            "type": "pie"
           }
          ],
          "scatter": [
           {
            "fillpattern": {
             "fillmode": "overlay",
             "size": 10,
             "solidity": 0.2
            },
            "type": "scatter"
           }
          ],
          "scatter3d": [
           {
            "line": {
             "colorbar": {
              "outlinewidth": 1,
              "tickcolor": "rgb(36,36,36)",
              "ticks": "outside"
             }
            },
            "marker": {
             "colorbar": {
              "outlinewidth": 1,
              "tickcolor": "rgb(36,36,36)",
              "ticks": "outside"
             }
            },
            "type": "scatter3d"
           }
          ],
          "scattercarpet": [
           {
            "marker": {
             "colorbar": {
              "outlinewidth": 1,
              "tickcolor": "rgb(36,36,36)",
              "ticks": "outside"
             }
            },
            "type": "scattercarpet"
           }
          ],
          "scattergeo": [
           {
            "marker": {
             "colorbar": {
              "outlinewidth": 1,
              "tickcolor": "rgb(36,36,36)",
              "ticks": "outside"
             }
            },
            "type": "scattergeo"
           }
          ],
          "scattergl": [
           {
            "marker": {
             "colorbar": {
              "outlinewidth": 1,
              "tickcolor": "rgb(36,36,36)",
              "ticks": "outside"
             }
            },
            "type": "scattergl"
           }
          ],
          "scattermap": [
           {
            "marker": {
             "colorbar": {
              "outlinewidth": 1,
              "tickcolor": "rgb(36,36,36)",
              "ticks": "outside"
             }
            },
            "type": "scattermap"
           }
          ],
          "scattermapbox": [
           {
            "marker": {
             "colorbar": {
              "outlinewidth": 1,
              "tickcolor": "rgb(36,36,36)",
              "ticks": "outside"
             }
            },
            "type": "scattermapbox"
           }
          ],
          "scatterpolar": [
           {
            "marker": {
             "colorbar": {
              "outlinewidth": 1,
              "tickcolor": "rgb(36,36,36)",
              "ticks": "outside"
             }
            },
            "type": "scatterpolar"
           }
          ],
          "scatterpolargl": [
           {
            "marker": {
             "colorbar": {
              "outlinewidth": 1,
              "tickcolor": "rgb(36,36,36)",
              "ticks": "outside"
             }
            },
            "type": "scatterpolargl"
           }
          ],
          "scatterternary": [
           {
            "marker": {
             "colorbar": {
              "outlinewidth": 1,
              "tickcolor": "rgb(36,36,36)",
              "ticks": "outside"
             }
            },
            "type": "scatterternary"
           }
          ],
          "surface": [
           {
            "colorbar": {
             "outlinewidth": 1,
             "tickcolor": "rgb(36,36,36)",
             "ticks": "outside"
            },
            "colorscale": [
             [
              0,
              "#440154"
             ],
             [
              0.1111111111111111,
              "#482878"
             ],
             [
              0.2222222222222222,
              "#3e4989"
             ],
             [
              0.3333333333333333,
              "#31688e"
             ],
             [
              0.4444444444444444,
              "#26828e"
             ],
             [
              0.5555555555555556,
              "#1f9e89"
             ],
             [
              0.6666666666666666,
              "#35b779"
             ],
             [
              0.7777777777777778,
              "#6ece58"
             ],
             [
              0.8888888888888888,
              "#b5de2b"
             ],
             [
              1,
              "#fde725"
             ]
            ],
            "type": "surface"
           }
          ],
          "table": [
           {
            "cells": {
             "fill": {
              "color": "rgb(237,237,237)"
             },
             "line": {
              "color": "white"
             }
            },
            "header": {
             "fill": {
              "color": "rgb(217,217,217)"
             },
             "line": {
              "color": "white"
             }
            },
            "type": "table"
           }
          ]
         },
         "layout": {
          "annotationdefaults": {
           "arrowhead": 0,
           "arrowwidth": 1
          },
          "autotypenumbers": "strict",
          "coloraxis": {
           "colorbar": {
            "outlinewidth": 1,
            "tickcolor": "rgb(36,36,36)",
            "ticks": "outside"
           }
          },
          "colorscale": {
           "diverging": [
            [
             0,
             "rgb(103,0,31)"
            ],
            [
             0.1,
             "rgb(178,24,43)"
            ],
            [
             0.2,
             "rgb(214,96,77)"
            ],
            [
             0.3,
             "rgb(244,165,130)"
            ],
            [
             0.4,
             "rgb(253,219,199)"
            ],
            [
             0.5,
             "rgb(247,247,247)"
            ],
            [
             0.6,
             "rgb(209,229,240)"
            ],
            [
             0.7,
             "rgb(146,197,222)"
            ],
            [
             0.8,
             "rgb(67,147,195)"
            ],
            [
             0.9,
             "rgb(33,102,172)"
            ],
            [
             1,
             "rgb(5,48,97)"
            ]
           ],
           "sequential": [
            [
             0,
             "#440154"
            ],
            [
             0.1111111111111111,
             "#482878"
            ],
            [
             0.2222222222222222,
             "#3e4989"
            ],
            [
             0.3333333333333333,
             "#31688e"
            ],
            [
             0.4444444444444444,
             "#26828e"
            ],
            [
             0.5555555555555556,
             "#1f9e89"
            ],
            [
             0.6666666666666666,
             "#35b779"
            ],
            [
             0.7777777777777778,
             "#6ece58"
            ],
            [
             0.8888888888888888,
             "#b5de2b"
            ],
            [
             1,
             "#fde725"
            ]
           ],
           "sequentialminus": [
            [
             0,
             "#440154"
            ],
            [
             0.1111111111111111,
             "#482878"
            ],
            [
             0.2222222222222222,
             "#3e4989"
            ],
            [
             0.3333333333333333,
             "#31688e"
            ],
            [
             0.4444444444444444,
             "#26828e"
            ],
            [
             0.5555555555555556,
             "#1f9e89"
            ],
            [
             0.6666666666666666,
             "#35b779"
            ],
            [
             0.7777777777777778,
             "#6ece58"
            ],
            [
             0.8888888888888888,
             "#b5de2b"
            ],
            [
             1,
             "#fde725"
            ]
           ]
          },
          "colorway": [
           "#1F77B4",
           "#FF7F0E",
           "#2CA02C",
           "#D62728",
           "#9467BD",
           "#8C564B",
           "#E377C2",
           "#7F7F7F",
           "#BCBD22",
           "#17BECF"
          ],
          "font": {
           "color": "rgb(36,36,36)"
          },
          "geo": {
           "bgcolor": "white",
           "lakecolor": "white",
           "landcolor": "white",
           "showlakes": true,
           "showland": true,
           "subunitcolor": "white"
          },
          "hoverlabel": {
           "align": "left"
          },
          "hovermode": "closest",
          "mapbox": {
           "style": "light"
          },
          "paper_bgcolor": "white",
          "plot_bgcolor": "white",
          "polar": {
           "angularaxis": {
            "gridcolor": "rgb(232,232,232)",
            "linecolor": "rgb(36,36,36)",
            "showgrid": false,
            "showline": true,
            "ticks": "outside"
           },
           "bgcolor": "white",
           "radialaxis": {
            "gridcolor": "rgb(232,232,232)",
            "linecolor": "rgb(36,36,36)",
            "showgrid": false,
            "showline": true,
            "ticks": "outside"
           }
          },
          "scene": {
           "xaxis": {
            "backgroundcolor": "white",
            "gridcolor": "rgb(232,232,232)",
            "gridwidth": 2,
            "linecolor": "rgb(36,36,36)",
            "showbackground": true,
            "showgrid": false,
            "showline": true,
            "ticks": "outside",
            "zeroline": false,
            "zerolinecolor": "rgb(36,36,36)"
           },
           "yaxis": {
            "backgroundcolor": "white",
            "gridcolor": "rgb(232,232,232)",
            "gridwidth": 2,
            "linecolor": "rgb(36,36,36)",
            "showbackground": true,
            "showgrid": false,
            "showline": true,
            "ticks": "outside",
            "zeroline": false,
            "zerolinecolor": "rgb(36,36,36)"
           },
           "zaxis": {
            "backgroundcolor": "white",
            "gridcolor": "rgb(232,232,232)",
            "gridwidth": 2,
            "linecolor": "rgb(36,36,36)",
            "showbackground": true,
            "showgrid": false,
            "showline": true,
            "ticks": "outside",
            "zeroline": false,
            "zerolinecolor": "rgb(36,36,36)"
           }
          },
          "shapedefaults": {
           "fillcolor": "black",
           "line": {
            "width": 0
           },
           "opacity": 0.3
          },
          "ternary": {
           "aaxis": {
            "gridcolor": "rgb(232,232,232)",
            "linecolor": "rgb(36,36,36)",
            "showgrid": false,
            "showline": true,
            "ticks": "outside"
           },
           "baxis": {
            "gridcolor": "rgb(232,232,232)",
            "linecolor": "rgb(36,36,36)",
            "showgrid": false,
            "showline": true,
            "ticks": "outside"
           },
           "bgcolor": "white",
           "caxis": {
            "gridcolor": "rgb(232,232,232)",
            "linecolor": "rgb(36,36,36)",
            "showgrid": false,
            "showline": true,
            "ticks": "outside"
           }
          },
          "title": {
           "x": 0.05
          },
          "xaxis": {
           "automargin": true,
           "gridcolor": "rgb(232,232,232)",
           "linecolor": "rgb(36,36,36)",
           "showgrid": false,
           "showline": true,
           "ticks": "outside",
           "title": {
            "standoff": 15
           },
           "zeroline": false,
           "zerolinecolor": "rgb(36,36,36)"
          },
          "yaxis": {
           "automargin": true,
           "gridcolor": "rgb(232,232,232)",
           "linecolor": "rgb(36,36,36)",
           "showgrid": false,
           "showline": true,
           "ticks": "outside",
           "title": {
            "standoff": 15
           },
           "zeroline": false,
           "zerolinecolor": "rgb(36,36,36)"
          }
         }
        },
        "title": {
         "text": "Frequency of sides"
        },
        "width": 500
       }
      }
     },
     "metadata": {},
     "output_type": "display_data"
    }
   ],
   "source": [
    "# create a pie chart with the frequency of sides\n",
    "side_freq = data['side'].value_counts().reset_index()\n",
    "side_freq.columns = ['side', 'count']  # rename columns for clarity\n",
    "\n",
    "fig = px.pie(\n",
    "    side_freq,\n",
    "    names='side',\n",
    "    values='count',\n",
    "    title='Frequency of sides',\n",
    "    width=500,\n",
    "    )\n",
    "\n",
    "fig.show()"
   ]
  },
  {
   "cell_type": "markdown",
   "metadata": {},
   "source": [
    "### Ordinal"
   ]
  },
  {
   "cell_type": "code",
   "execution_count": 8,
   "metadata": {},
   "outputs": [
    {
     "data": {
      "application/vnd.plotly.v1+json": {
       "config": {
        "plotlyServerURL": "https://plot.ly"
       },
       "data": [
        {
         "hovertemplate": "vgs=%{x}<br>count=%{y}<extra></extra>",
         "legendgroup": "",
         "marker": {
          "color": "#1F77B4",
          "pattern": {
           "shape": ""
          }
         },
         "name": "",
         "orientation": "v",
         "showlegend": false,
         "textposition": "auto",
         "type": "bar",
         "x": [
          "VGS1",
          "VGS2",
          "VGS3",
          "VGS4",
          "VGS5"
         ],
         "xaxis": "x",
         "y": {
          "bdata": "OQNkAakAWAAsAA==",
          "dtype": "i2"
         },
         "yaxis": "y"
        }
       ],
       "layout": {
        "barmode": "relative",
        "legend": {
         "tracegroupgap": 0
        },
        "template": {
         "data": {
          "bar": [
           {
            "error_x": {
             "color": "rgb(36,36,36)"
            },
            "error_y": {
             "color": "rgb(36,36,36)"
            },
            "marker": {
             "line": {
              "color": "white",
              "width": 0.5
             },
             "pattern": {
              "fillmode": "overlay",
              "size": 10,
              "solidity": 0.2
             }
            },
            "type": "bar"
           }
          ],
          "barpolar": [
           {
            "marker": {
             "line": {
              "color": "white",
              "width": 0.5
             },
             "pattern": {
              "fillmode": "overlay",
              "size": 10,
              "solidity": 0.2
             }
            },
            "type": "barpolar"
           }
          ],
          "carpet": [
           {
            "aaxis": {
             "endlinecolor": "rgb(36,36,36)",
             "gridcolor": "white",
             "linecolor": "white",
             "minorgridcolor": "white",
             "startlinecolor": "rgb(36,36,36)"
            },
            "baxis": {
             "endlinecolor": "rgb(36,36,36)",
             "gridcolor": "white",
             "linecolor": "white",
             "minorgridcolor": "white",
             "startlinecolor": "rgb(36,36,36)"
            },
            "type": "carpet"
           }
          ],
          "choropleth": [
           {
            "colorbar": {
             "outlinewidth": 1,
             "tickcolor": "rgb(36,36,36)",
             "ticks": "outside"
            },
            "type": "choropleth"
           }
          ],
          "contour": [
           {
            "colorbar": {
             "outlinewidth": 1,
             "tickcolor": "rgb(36,36,36)",
             "ticks": "outside"
            },
            "colorscale": [
             [
              0,
              "#440154"
             ],
             [
              0.1111111111111111,
              "#482878"
             ],
             [
              0.2222222222222222,
              "#3e4989"
             ],
             [
              0.3333333333333333,
              "#31688e"
             ],
             [
              0.4444444444444444,
              "#26828e"
             ],
             [
              0.5555555555555556,
              "#1f9e89"
             ],
             [
              0.6666666666666666,
              "#35b779"
             ],
             [
              0.7777777777777778,
              "#6ece58"
             ],
             [
              0.8888888888888888,
              "#b5de2b"
             ],
             [
              1,
              "#fde725"
             ]
            ],
            "type": "contour"
           }
          ],
          "contourcarpet": [
           {
            "colorbar": {
             "outlinewidth": 1,
             "tickcolor": "rgb(36,36,36)",
             "ticks": "outside"
            },
            "type": "contourcarpet"
           }
          ],
          "heatmap": [
           {
            "colorbar": {
             "outlinewidth": 1,
             "tickcolor": "rgb(36,36,36)",
             "ticks": "outside"
            },
            "colorscale": [
             [
              0,
              "#440154"
             ],
             [
              0.1111111111111111,
              "#482878"
             ],
             [
              0.2222222222222222,
              "#3e4989"
             ],
             [
              0.3333333333333333,
              "#31688e"
             ],
             [
              0.4444444444444444,
              "#26828e"
             ],
             [
              0.5555555555555556,
              "#1f9e89"
             ],
             [
              0.6666666666666666,
              "#35b779"
             ],
             [
              0.7777777777777778,
              "#6ece58"
             ],
             [
              0.8888888888888888,
              "#b5de2b"
             ],
             [
              1,
              "#fde725"
             ]
            ],
            "type": "heatmap"
           }
          ],
          "histogram": [
           {
            "marker": {
             "line": {
              "color": "white",
              "width": 0.6
             }
            },
            "type": "histogram"
           }
          ],
          "histogram2d": [
           {
            "colorbar": {
             "outlinewidth": 1,
             "tickcolor": "rgb(36,36,36)",
             "ticks": "outside"
            },
            "colorscale": [
             [
              0,
              "#440154"
             ],
             [
              0.1111111111111111,
              "#482878"
             ],
             [
              0.2222222222222222,
              "#3e4989"
             ],
             [
              0.3333333333333333,
              "#31688e"
             ],
             [
              0.4444444444444444,
              "#26828e"
             ],
             [
              0.5555555555555556,
              "#1f9e89"
             ],
             [
              0.6666666666666666,
              "#35b779"
             ],
             [
              0.7777777777777778,
              "#6ece58"
             ],
             [
              0.8888888888888888,
              "#b5de2b"
             ],
             [
              1,
              "#fde725"
             ]
            ],
            "type": "histogram2d"
           }
          ],
          "histogram2dcontour": [
           {
            "colorbar": {
             "outlinewidth": 1,
             "tickcolor": "rgb(36,36,36)",
             "ticks": "outside"
            },
            "colorscale": [
             [
              0,
              "#440154"
             ],
             [
              0.1111111111111111,
              "#482878"
             ],
             [
              0.2222222222222222,
              "#3e4989"
             ],
             [
              0.3333333333333333,
              "#31688e"
             ],
             [
              0.4444444444444444,
              "#26828e"
             ],
             [
              0.5555555555555556,
              "#1f9e89"
             ],
             [
              0.6666666666666666,
              "#35b779"
             ],
             [
              0.7777777777777778,
              "#6ece58"
             ],
             [
              0.8888888888888888,
              "#b5de2b"
             ],
             [
              1,
              "#fde725"
             ]
            ],
            "type": "histogram2dcontour"
           }
          ],
          "mesh3d": [
           {
            "colorbar": {
             "outlinewidth": 1,
             "tickcolor": "rgb(36,36,36)",
             "ticks": "outside"
            },
            "type": "mesh3d"
           }
          ],
          "parcoords": [
           {
            "line": {
             "colorbar": {
              "outlinewidth": 1,
              "tickcolor": "rgb(36,36,36)",
              "ticks": "outside"
             }
            },
            "type": "parcoords"
           }
          ],
          "pie": [
           {
            "automargin": true,
            "type": "pie"
           }
          ],
          "scatter": [
           {
            "fillpattern": {
             "fillmode": "overlay",
             "size": 10,
             "solidity": 0.2
            },
            "type": "scatter"
           }
          ],
          "scatter3d": [
           {
            "line": {
             "colorbar": {
              "outlinewidth": 1,
              "tickcolor": "rgb(36,36,36)",
              "ticks": "outside"
             }
            },
            "marker": {
             "colorbar": {
              "outlinewidth": 1,
              "tickcolor": "rgb(36,36,36)",
              "ticks": "outside"
             }
            },
            "type": "scatter3d"
           }
          ],
          "scattercarpet": [
           {
            "marker": {
             "colorbar": {
              "outlinewidth": 1,
              "tickcolor": "rgb(36,36,36)",
              "ticks": "outside"
             }
            },
            "type": "scattercarpet"
           }
          ],
          "scattergeo": [
           {
            "marker": {
             "colorbar": {
              "outlinewidth": 1,
              "tickcolor": "rgb(36,36,36)",
              "ticks": "outside"
             }
            },
            "type": "scattergeo"
           }
          ],
          "scattergl": [
           {
            "marker": {
             "colorbar": {
              "outlinewidth": 1,
              "tickcolor": "rgb(36,36,36)",
              "ticks": "outside"
             }
            },
            "type": "scattergl"
           }
          ],
          "scattermap": [
           {
            "marker": {
             "colorbar": {
              "outlinewidth": 1,
              "tickcolor": "rgb(36,36,36)",
              "ticks": "outside"
             }
            },
            "type": "scattermap"
           }
          ],
          "scattermapbox": [
           {
            "marker": {
             "colorbar": {
              "outlinewidth": 1,
              "tickcolor": "rgb(36,36,36)",
              "ticks": "outside"
             }
            },
            "type": "scattermapbox"
           }
          ],
          "scatterpolar": [
           {
            "marker": {
             "colorbar": {
              "outlinewidth": 1,
              "tickcolor": "rgb(36,36,36)",
              "ticks": "outside"
             }
            },
            "type": "scatterpolar"
           }
          ],
          "scatterpolargl": [
           {
            "marker": {
             "colorbar": {
              "outlinewidth": 1,
              "tickcolor": "rgb(36,36,36)",
              "ticks": "outside"
             }
            },
            "type": "scatterpolargl"
           }
          ],
          "scatterternary": [
           {
            "marker": {
             "colorbar": {
              "outlinewidth": 1,
              "tickcolor": "rgb(36,36,36)",
              "ticks": "outside"
             }
            },
            "type": "scatterternary"
           }
          ],
          "surface": [
           {
            "colorbar": {
             "outlinewidth": 1,
             "tickcolor": "rgb(36,36,36)",
             "ticks": "outside"
            },
            "colorscale": [
             [
              0,
              "#440154"
             ],
             [
              0.1111111111111111,
              "#482878"
             ],
             [
              0.2222222222222222,
              "#3e4989"
             ],
             [
              0.3333333333333333,
              "#31688e"
             ],
             [
              0.4444444444444444,
              "#26828e"
             ],
             [
              0.5555555555555556,
              "#1f9e89"
             ],
             [
              0.6666666666666666,
              "#35b779"
             ],
             [
              0.7777777777777778,
              "#6ece58"
             ],
             [
              0.8888888888888888,
              "#b5de2b"
             ],
             [
              1,
              "#fde725"
             ]
            ],
            "type": "surface"
           }
          ],
          "table": [
           {
            "cells": {
             "fill": {
              "color": "rgb(237,237,237)"
             },
             "line": {
              "color": "white"
             }
            },
            "header": {
             "fill": {
              "color": "rgb(217,217,217)"
             },
             "line": {
              "color": "white"
             }
            },
            "type": "table"
           }
          ]
         },
         "layout": {
          "annotationdefaults": {
           "arrowhead": 0,
           "arrowwidth": 1
          },
          "autotypenumbers": "strict",
          "coloraxis": {
           "colorbar": {
            "outlinewidth": 1,
            "tickcolor": "rgb(36,36,36)",
            "ticks": "outside"
           }
          },
          "colorscale": {
           "diverging": [
            [
             0,
             "rgb(103,0,31)"
            ],
            [
             0.1,
             "rgb(178,24,43)"
            ],
            [
             0.2,
             "rgb(214,96,77)"
            ],
            [
             0.3,
             "rgb(244,165,130)"
            ],
            [
             0.4,
             "rgb(253,219,199)"
            ],
            [
             0.5,
             "rgb(247,247,247)"
            ],
            [
             0.6,
             "rgb(209,229,240)"
            ],
            [
             0.7,
             "rgb(146,197,222)"
            ],
            [
             0.8,
             "rgb(67,147,195)"
            ],
            [
             0.9,
             "rgb(33,102,172)"
            ],
            [
             1,
             "rgb(5,48,97)"
            ]
           ],
           "sequential": [
            [
             0,
             "#440154"
            ],
            [
             0.1111111111111111,
             "#482878"
            ],
            [
             0.2222222222222222,
             "#3e4989"
            ],
            [
             0.3333333333333333,
             "#31688e"
            ],
            [
             0.4444444444444444,
             "#26828e"
            ],
            [
             0.5555555555555556,
             "#1f9e89"
            ],
            [
             0.6666666666666666,
             "#35b779"
            ],
            [
             0.7777777777777778,
             "#6ece58"
            ],
            [
             0.8888888888888888,
             "#b5de2b"
            ],
            [
             1,
             "#fde725"
            ]
           ],
           "sequentialminus": [
            [
             0,
             "#440154"
            ],
            [
             0.1111111111111111,
             "#482878"
            ],
            [
             0.2222222222222222,
             "#3e4989"
            ],
            [
             0.3333333333333333,
             "#31688e"
            ],
            [
             0.4444444444444444,
             "#26828e"
            ],
            [
             0.5555555555555556,
             "#1f9e89"
            ],
            [
             0.6666666666666666,
             "#35b779"
            ],
            [
             0.7777777777777778,
             "#6ece58"
            ],
            [
             0.8888888888888888,
             "#b5de2b"
            ],
            [
             1,
             "#fde725"
            ]
           ]
          },
          "colorway": [
           "#1F77B4",
           "#FF7F0E",
           "#2CA02C",
           "#D62728",
           "#9467BD",
           "#8C564B",
           "#E377C2",
           "#7F7F7F",
           "#BCBD22",
           "#17BECF"
          ],
          "font": {
           "color": "rgb(36,36,36)"
          },
          "geo": {
           "bgcolor": "white",
           "lakecolor": "white",
           "landcolor": "white",
           "showlakes": true,
           "showland": true,
           "subunitcolor": "white"
          },
          "hoverlabel": {
           "align": "left"
          },
          "hovermode": "closest",
          "mapbox": {
           "style": "light"
          },
          "paper_bgcolor": "white",
          "plot_bgcolor": "white",
          "polar": {
           "angularaxis": {
            "gridcolor": "rgb(232,232,232)",
            "linecolor": "rgb(36,36,36)",
            "showgrid": false,
            "showline": true,
            "ticks": "outside"
           },
           "bgcolor": "white",
           "radialaxis": {
            "gridcolor": "rgb(232,232,232)",
            "linecolor": "rgb(36,36,36)",
            "showgrid": false,
            "showline": true,
            "ticks": "outside"
           }
          },
          "scene": {
           "xaxis": {
            "backgroundcolor": "white",
            "gridcolor": "rgb(232,232,232)",
            "gridwidth": 2,
            "linecolor": "rgb(36,36,36)",
            "showbackground": true,
            "showgrid": false,
            "showline": true,
            "ticks": "outside",
            "zeroline": false,
            "zerolinecolor": "rgb(36,36,36)"
           },
           "yaxis": {
            "backgroundcolor": "white",
            "gridcolor": "rgb(232,232,232)",
            "gridwidth": 2,
            "linecolor": "rgb(36,36,36)",
            "showbackground": true,
            "showgrid": false,
            "showline": true,
            "ticks": "outside",
            "zeroline": false,
            "zerolinecolor": "rgb(36,36,36)"
           },
           "zaxis": {
            "backgroundcolor": "white",
            "gridcolor": "rgb(232,232,232)",
            "gridwidth": 2,
            "linecolor": "rgb(36,36,36)",
            "showbackground": true,
            "showgrid": false,
            "showline": true,
            "ticks": "outside",
            "zeroline": false,
            "zerolinecolor": "rgb(36,36,36)"
           }
          },
          "shapedefaults": {
           "fillcolor": "black",
           "line": {
            "width": 0
           },
           "opacity": 0.3
          },
          "ternary": {
           "aaxis": {
            "gridcolor": "rgb(232,232,232)",
            "linecolor": "rgb(36,36,36)",
            "showgrid": false,
            "showline": true,
            "ticks": "outside"
           },
           "baxis": {
            "gridcolor": "rgb(232,232,232)",
            "linecolor": "rgb(36,36,36)",
            "showgrid": false,
            "showline": true,
            "ticks": "outside"
           },
           "bgcolor": "white",
           "caxis": {
            "gridcolor": "rgb(232,232,232)",
            "linecolor": "rgb(36,36,36)",
            "showgrid": false,
            "showline": true,
            "ticks": "outside"
           }
          },
          "title": {
           "x": 0.05
          },
          "xaxis": {
           "automargin": true,
           "gridcolor": "rgb(232,232,232)",
           "linecolor": "rgb(36,36,36)",
           "showgrid": false,
           "showline": true,
           "ticks": "outside",
           "title": {
            "standoff": 15
           },
           "zeroline": false,
           "zerolinecolor": "rgb(36,36,36)"
          },
          "yaxis": {
           "automargin": true,
           "gridcolor": "rgb(232,232,232)",
           "linecolor": "rgb(36,36,36)",
           "showgrid": false,
           "showline": true,
           "ticks": "outside",
           "title": {
            "standoff": 15
           },
           "zeroline": false,
           "zerolinecolor": "rgb(36,36,36)"
          }
         }
        },
        "title": {
         "text": "Frequency of image quality"
        },
        "width": 500,
        "xaxis": {
         "anchor": "y",
         "domain": [
          0,
          1
         ],
         "title": {
          "text": "vgs"
         }
        },
        "yaxis": {
         "anchor": "x",
         "domain": [
          0,
          1
         ],
         "title": {
          "text": "count"
         }
        }
       }
      }
     },
     "metadata": {},
     "output_type": "display_data"
    }
   ],
   "source": [
    "# create a barplot with the frequency of quality\n",
    "quality_freq = data['vgs'].value_counts().reset_index()\n",
    "quality_freq.columns = ['vgs', 'count']  # rename columns for clarity\n",
    "\n",
    "fig = px.bar(\n",
    "    quality_freq,\n",
    "    x='vgs',\n",
    "    y='count',\n",
    "    title='Frequency of image quality',\n",
    "    width=500,\n",
    "    )\n",
    "\n",
    "fig.show()"
   ]
  },
  {
   "cell_type": "code",
   "execution_count": 9,
   "metadata": {},
   "outputs": [
    {
     "data": {
      "application/vnd.plotly.v1+json": {
       "config": {
        "plotlyServerURL": "https://plot.ly"
       },
       "data": [
        {
         "hovertemplate": "exam=%{x}<br>count=%{y}<extra></extra>",
         "legendgroup": "",
         "marker": {
          "color": "#1F77B4",
          "pattern": {
           "shape": ""
          }
         },
         "name": "",
         "orientation": "v",
         "showlegend": false,
         "textposition": "auto",
         "type": "bar",
         "x": [
          "Ex01",
          "Ex02",
          "Ex03",
          "Ex04"
         ],
         "xaxis": "x",
         "y": {
          "bdata": "dwF7AWwBbAE=",
          "dtype": "i2"
         },
         "yaxis": "y"
        }
       ],
       "layout": {
        "barmode": "relative",
        "legend": {
         "tracegroupgap": 0
        },
        "template": {
         "data": {
          "bar": [
           {
            "error_x": {
             "color": "rgb(36,36,36)"
            },
            "error_y": {
             "color": "rgb(36,36,36)"
            },
            "marker": {
             "line": {
              "color": "white",
              "width": 0.5
             },
             "pattern": {
              "fillmode": "overlay",
              "size": 10,
              "solidity": 0.2
             }
            },
            "type": "bar"
           }
          ],
          "barpolar": [
           {
            "marker": {
             "line": {
              "color": "white",
              "width": 0.5
             },
             "pattern": {
              "fillmode": "overlay",
              "size": 10,
              "solidity": 0.2
             }
            },
            "type": "barpolar"
           }
          ],
          "carpet": [
           {
            "aaxis": {
             "endlinecolor": "rgb(36,36,36)",
             "gridcolor": "white",
             "linecolor": "white",
             "minorgridcolor": "white",
             "startlinecolor": "rgb(36,36,36)"
            },
            "baxis": {
             "endlinecolor": "rgb(36,36,36)",
             "gridcolor": "white",
             "linecolor": "white",
             "minorgridcolor": "white",
             "startlinecolor": "rgb(36,36,36)"
            },
            "type": "carpet"
           }
          ],
          "choropleth": [
           {
            "colorbar": {
             "outlinewidth": 1,
             "tickcolor": "rgb(36,36,36)",
             "ticks": "outside"
            },
            "type": "choropleth"
           }
          ],
          "contour": [
           {
            "colorbar": {
             "outlinewidth": 1,
             "tickcolor": "rgb(36,36,36)",
             "ticks": "outside"
            },
            "colorscale": [
             [
              0,
              "#440154"
             ],
             [
              0.1111111111111111,
              "#482878"
             ],
             [
              0.2222222222222222,
              "#3e4989"
             ],
             [
              0.3333333333333333,
              "#31688e"
             ],
             [
              0.4444444444444444,
              "#26828e"
             ],
             [
              0.5555555555555556,
              "#1f9e89"
             ],
             [
              0.6666666666666666,
              "#35b779"
             ],
             [
              0.7777777777777778,
              "#6ece58"
             ],
             [
              0.8888888888888888,
              "#b5de2b"
             ],
             [
              1,
              "#fde725"
             ]
            ],
            "type": "contour"
           }
          ],
          "contourcarpet": [
           {
            "colorbar": {
             "outlinewidth": 1,
             "tickcolor": "rgb(36,36,36)",
             "ticks": "outside"
            },
            "type": "contourcarpet"
           }
          ],
          "heatmap": [
           {
            "colorbar": {
             "outlinewidth": 1,
             "tickcolor": "rgb(36,36,36)",
             "ticks": "outside"
            },
            "colorscale": [
             [
              0,
              "#440154"
             ],
             [
              0.1111111111111111,
              "#482878"
             ],
             [
              0.2222222222222222,
              "#3e4989"
             ],
             [
              0.3333333333333333,
              "#31688e"
             ],
             [
              0.4444444444444444,
              "#26828e"
             ],
             [
              0.5555555555555556,
              "#1f9e89"
             ],
             [
              0.6666666666666666,
              "#35b779"
             ],
             [
              0.7777777777777778,
              "#6ece58"
             ],
             [
              0.8888888888888888,
              "#b5de2b"
             ],
             [
              1,
              "#fde725"
             ]
            ],
            "type": "heatmap"
           }
          ],
          "histogram": [
           {
            "marker": {
             "line": {
              "color": "white",
              "width": 0.6
             }
            },
            "type": "histogram"
           }
          ],
          "histogram2d": [
           {
            "colorbar": {
             "outlinewidth": 1,
             "tickcolor": "rgb(36,36,36)",
             "ticks": "outside"
            },
            "colorscale": [
             [
              0,
              "#440154"
             ],
             [
              0.1111111111111111,
              "#482878"
             ],
             [
              0.2222222222222222,
              "#3e4989"
             ],
             [
              0.3333333333333333,
              "#31688e"
             ],
             [
              0.4444444444444444,
              "#26828e"
             ],
             [
              0.5555555555555556,
              "#1f9e89"
             ],
             [
              0.6666666666666666,
              "#35b779"
             ],
             [
              0.7777777777777778,
              "#6ece58"
             ],
             [
              0.8888888888888888,
              "#b5de2b"
             ],
             [
              1,
              "#fde725"
             ]
            ],
            "type": "histogram2d"
           }
          ],
          "histogram2dcontour": [
           {
            "colorbar": {
             "outlinewidth": 1,
             "tickcolor": "rgb(36,36,36)",
             "ticks": "outside"
            },
            "colorscale": [
             [
              0,
              "#440154"
             ],
             [
              0.1111111111111111,
              "#482878"
             ],
             [
              0.2222222222222222,
              "#3e4989"
             ],
             [
              0.3333333333333333,
              "#31688e"
             ],
             [
              0.4444444444444444,
              "#26828e"
             ],
             [
              0.5555555555555556,
              "#1f9e89"
             ],
             [
              0.6666666666666666,
              "#35b779"
             ],
             [
              0.7777777777777778,
              "#6ece58"
             ],
             [
              0.8888888888888888,
              "#b5de2b"
             ],
             [
              1,
              "#fde725"
             ]
            ],
            "type": "histogram2dcontour"
           }
          ],
          "mesh3d": [
           {
            "colorbar": {
             "outlinewidth": 1,
             "tickcolor": "rgb(36,36,36)",
             "ticks": "outside"
            },
            "type": "mesh3d"
           }
          ],
          "parcoords": [
           {
            "line": {
             "colorbar": {
              "outlinewidth": 1,
              "tickcolor": "rgb(36,36,36)",
              "ticks": "outside"
             }
            },
            "type": "parcoords"
           }
          ],
          "pie": [
           {
            "automargin": true,
            "type": "pie"
           }
          ],
          "scatter": [
           {
            "fillpattern": {
             "fillmode": "overlay",
             "size": 10,
             "solidity": 0.2
            },
            "type": "scatter"
           }
          ],
          "scatter3d": [
           {
            "line": {
             "colorbar": {
              "outlinewidth": 1,
              "tickcolor": "rgb(36,36,36)",
              "ticks": "outside"
             }
            },
            "marker": {
             "colorbar": {
              "outlinewidth": 1,
              "tickcolor": "rgb(36,36,36)",
              "ticks": "outside"
             }
            },
            "type": "scatter3d"
           }
          ],
          "scattercarpet": [
           {
            "marker": {
             "colorbar": {
              "outlinewidth": 1,
              "tickcolor": "rgb(36,36,36)",
              "ticks": "outside"
             }
            },
            "type": "scattercarpet"
           }
          ],
          "scattergeo": [
           {
            "marker": {
             "colorbar": {
              "outlinewidth": 1,
              "tickcolor": "rgb(36,36,36)",
              "ticks": "outside"
             }
            },
            "type": "scattergeo"
           }
          ],
          "scattergl": [
           {
            "marker": {
             "colorbar": {
              "outlinewidth": 1,
              "tickcolor": "rgb(36,36,36)",
              "ticks": "outside"
             }
            },
            "type": "scattergl"
           }
          ],
          "scattermap": [
           {
            "marker": {
             "colorbar": {
              "outlinewidth": 1,
              "tickcolor": "rgb(36,36,36)",
              "ticks": "outside"
             }
            },
            "type": "scattermap"
           }
          ],
          "scattermapbox": [
           {
            "marker": {
             "colorbar": {
              "outlinewidth": 1,
              "tickcolor": "rgb(36,36,36)",
              "ticks": "outside"
             }
            },
            "type": "scattermapbox"
           }
          ],
          "scatterpolar": [
           {
            "marker": {
             "colorbar": {
              "outlinewidth": 1,
              "tickcolor": "rgb(36,36,36)",
              "ticks": "outside"
             }
            },
            "type": "scatterpolar"
           }
          ],
          "scatterpolargl": [
           {
            "marker": {
             "colorbar": {
              "outlinewidth": 1,
              "tickcolor": "rgb(36,36,36)",
              "ticks": "outside"
             }
            },
            "type": "scatterpolargl"
           }
          ],
          "scatterternary": [
           {
            "marker": {
             "colorbar": {
              "outlinewidth": 1,
              "tickcolor": "rgb(36,36,36)",
              "ticks": "outside"
             }
            },
            "type": "scatterternary"
           }
          ],
          "surface": [
           {
            "colorbar": {
             "outlinewidth": 1,
             "tickcolor": "rgb(36,36,36)",
             "ticks": "outside"
            },
            "colorscale": [
             [
              0,
              "#440154"
             ],
             [
              0.1111111111111111,
              "#482878"
             ],
             [
              0.2222222222222222,
              "#3e4989"
             ],
             [
              0.3333333333333333,
              "#31688e"
             ],
             [
              0.4444444444444444,
              "#26828e"
             ],
             [
              0.5555555555555556,
              "#1f9e89"
             ],
             [
              0.6666666666666666,
              "#35b779"
             ],
             [
              0.7777777777777778,
              "#6ece58"
             ],
             [
              0.8888888888888888,
              "#b5de2b"
             ],
             [
              1,
              "#fde725"
             ]
            ],
            "type": "surface"
           }
          ],
          "table": [
           {
            "cells": {
             "fill": {
              "color": "rgb(237,237,237)"
             },
             "line": {
              "color": "white"
             }
            },
            "header": {
             "fill": {
              "color": "rgb(217,217,217)"
             },
             "line": {
              "color": "white"
             }
            },
            "type": "table"
           }
          ]
         },
         "layout": {
          "annotationdefaults": {
           "arrowhead": 0,
           "arrowwidth": 1
          },
          "autotypenumbers": "strict",
          "coloraxis": {
           "colorbar": {
            "outlinewidth": 1,
            "tickcolor": "rgb(36,36,36)",
            "ticks": "outside"
           }
          },
          "colorscale": {
           "diverging": [
            [
             0,
             "rgb(103,0,31)"
            ],
            [
             0.1,
             "rgb(178,24,43)"
            ],
            [
             0.2,
             "rgb(214,96,77)"
            ],
            [
             0.3,
             "rgb(244,165,130)"
            ],
            [
             0.4,
             "rgb(253,219,199)"
            ],
            [
             0.5,
             "rgb(247,247,247)"
            ],
            [
             0.6,
             "rgb(209,229,240)"
            ],
            [
             0.7,
             "rgb(146,197,222)"
            ],
            [
             0.8,
             "rgb(67,147,195)"
            ],
            [
             0.9,
             "rgb(33,102,172)"
            ],
            [
             1,
             "rgb(5,48,97)"
            ]
           ],
           "sequential": [
            [
             0,
             "#440154"
            ],
            [
             0.1111111111111111,
             "#482878"
            ],
            [
             0.2222222222222222,
             "#3e4989"
            ],
            [
             0.3333333333333333,
             "#31688e"
            ],
            [
             0.4444444444444444,
             "#26828e"
            ],
            [
             0.5555555555555556,
             "#1f9e89"
            ],
            [
             0.6666666666666666,
             "#35b779"
            ],
            [
             0.7777777777777778,
             "#6ece58"
            ],
            [
             0.8888888888888888,
             "#b5de2b"
            ],
            [
             1,
             "#fde725"
            ]
           ],
           "sequentialminus": [
            [
             0,
             "#440154"
            ],
            [
             0.1111111111111111,
             "#482878"
            ],
            [
             0.2222222222222222,
             "#3e4989"
            ],
            [
             0.3333333333333333,
             "#31688e"
            ],
            [
             0.4444444444444444,
             "#26828e"
            ],
            [
             0.5555555555555556,
             "#1f9e89"
            ],
            [
             0.6666666666666666,
             "#35b779"
            ],
            [
             0.7777777777777778,
             "#6ece58"
            ],
            [
             0.8888888888888888,
             "#b5de2b"
            ],
            [
             1,
             "#fde725"
            ]
           ]
          },
          "colorway": [
           "#1F77B4",
           "#FF7F0E",
           "#2CA02C",
           "#D62728",
           "#9467BD",
           "#8C564B",
           "#E377C2",
           "#7F7F7F",
           "#BCBD22",
           "#17BECF"
          ],
          "font": {
           "color": "rgb(36,36,36)"
          },
          "geo": {
           "bgcolor": "white",
           "lakecolor": "white",
           "landcolor": "white",
           "showlakes": true,
           "showland": true,
           "subunitcolor": "white"
          },
          "hoverlabel": {
           "align": "left"
          },
          "hovermode": "closest",
          "mapbox": {
           "style": "light"
          },
          "paper_bgcolor": "white",
          "plot_bgcolor": "white",
          "polar": {
           "angularaxis": {
            "gridcolor": "rgb(232,232,232)",
            "linecolor": "rgb(36,36,36)",
            "showgrid": false,
            "showline": true,
            "ticks": "outside"
           },
           "bgcolor": "white",
           "radialaxis": {
            "gridcolor": "rgb(232,232,232)",
            "linecolor": "rgb(36,36,36)",
            "showgrid": false,
            "showline": true,
            "ticks": "outside"
           }
          },
          "scene": {
           "xaxis": {
            "backgroundcolor": "white",
            "gridcolor": "rgb(232,232,232)",
            "gridwidth": 2,
            "linecolor": "rgb(36,36,36)",
            "showbackground": true,
            "showgrid": false,
            "showline": true,
            "ticks": "outside",
            "zeroline": false,
            "zerolinecolor": "rgb(36,36,36)"
           },
           "yaxis": {
            "backgroundcolor": "white",
            "gridcolor": "rgb(232,232,232)",
            "gridwidth": 2,
            "linecolor": "rgb(36,36,36)",
            "showbackground": true,
            "showgrid": false,
            "showline": true,
            "ticks": "outside",
            "zeroline": false,
            "zerolinecolor": "rgb(36,36,36)"
           },
           "zaxis": {
            "backgroundcolor": "white",
            "gridcolor": "rgb(232,232,232)",
            "gridwidth": 2,
            "linecolor": "rgb(36,36,36)",
            "showbackground": true,
            "showgrid": false,
            "showline": true,
            "ticks": "outside",
            "zeroline": false,
            "zerolinecolor": "rgb(36,36,36)"
           }
          },
          "shapedefaults": {
           "fillcolor": "black",
           "line": {
            "width": 0
           },
           "opacity": 0.3
          },
          "ternary": {
           "aaxis": {
            "gridcolor": "rgb(232,232,232)",
            "linecolor": "rgb(36,36,36)",
            "showgrid": false,
            "showline": true,
            "ticks": "outside"
           },
           "baxis": {
            "gridcolor": "rgb(232,232,232)",
            "linecolor": "rgb(36,36,36)",
            "showgrid": false,
            "showline": true,
            "ticks": "outside"
           },
           "bgcolor": "white",
           "caxis": {
            "gridcolor": "rgb(232,232,232)",
            "linecolor": "rgb(36,36,36)",
            "showgrid": false,
            "showline": true,
            "ticks": "outside"
           }
          },
          "title": {
           "x": 0.05
          },
          "xaxis": {
           "automargin": true,
           "gridcolor": "rgb(232,232,232)",
           "linecolor": "rgb(36,36,36)",
           "showgrid": false,
           "showline": true,
           "ticks": "outside",
           "title": {
            "standoff": 15
           },
           "zeroline": false,
           "zerolinecolor": "rgb(36,36,36)"
          },
          "yaxis": {
           "automargin": true,
           "gridcolor": "rgb(232,232,232)",
           "linecolor": "rgb(36,36,36)",
           "showgrid": false,
           "showline": true,
           "ticks": "outside",
           "title": {
            "standoff": 15
           },
           "zeroline": false,
           "zerolinecolor": "rgb(36,36,36)"
          }
         }
        },
        "title": {
         "text": "Frequency of exams"
        },
        "width": 500,
        "xaxis": {
         "anchor": "y",
         "domain": [
          0,
          1
         ],
         "title": {
          "text": "exam"
         }
        },
        "yaxis": {
         "anchor": "x",
         "domain": [
          0,
          1
         ],
         "title": {
          "text": "count"
         }
        }
       }
      }
     },
     "metadata": {},
     "output_type": "display_data"
    }
   ],
   "source": [
    "# create a barplot with the frequency of quality\n",
    "quality_freq = data['exam'].value_counts().reset_index()\n",
    "quality_freq.columns = ['exam', 'count']  # rename columns for clarity\n",
    "quality_freq = quality_freq.sort_values(by='exam')\n",
    "\n",
    "fig = px.bar(\n",
    "    quality_freq,\n",
    "    x='exam',\n",
    "    y='count',\n",
    "    title='Frequency of exams',\n",
    "    width=500,\n",
    "    )\n",
    "\n",
    "fig.show()"
   ]
  },
  {
   "cell_type": "markdown",
   "metadata": {},
   "source": [
    "### Numeric"
   ]
  },
  {
   "cell_type": "code",
   "execution_count": 10,
   "metadata": {},
   "outputs": [
    {
     "data": {
      "application/vnd.plotly.v1+json": {
       "config": {
        "plotlyServerURL": "https://plot.ly"
       },
       "data": [
        {
         "bingroup": "x",
         "hovertemplate": "n_voxels=%{x}<br>count=%{y}<extra></extra>",
         "legendgroup": "",
         "marker": {
          "color": "#1F77B4",
          "pattern": {
           "shape": ""
          }
         },
         "name": "",
         "nbinsx": 50,
         "orientation": "v",
         "showlegend": false,
         "type": "histogram",
         "x": {
          "bdata": "cOB6AeBVmwGAT24BONxfAQAccwFAtY0BaLZGAWDDUwEAcNwBoGQ+AnDwCQKQKdUBAGGRAQBR1AEAgvcBoLL2AcDThAIAQVYCIJ2mAtDdIgKA1WgCwKBCAgA6XQKIBVICoJJrASAccQFgrXgB8EBwAYDAgQGASY8BkIl+ASBtYgGQnIUCgOD3AcDgRwLgYm8CAM7PAfDFEQLw7zsCUChnAsATDAJgQkACUPeXAgAOFALQ/vUBwDyaAuBkOgLwFgMCQNXuASDcPQIw3wwCwNzKAWC58wEgXigCOCsEArBTJwKQex8CEFBhAuhiEAJgEC0CgAMpAjgQTwKAggQCwCwLAlAdwwJAw5AC0IqlAuCFiwJIAzcCQCymAkDhqAKQscQCAC42AtB8NQLAJCICKNUPAqDfBQKAEEACgGEHAmAllgIwHMACwL9KAoA4SwKAl9oBsA4zArjAmQJwNGICABVhAmD/wgHAfHkBQH+QAWAyhwEAAloBwDeaAeDtCAIgdo8BQJoXAgBAEgLQbT4CIKZqAoD7FQIAqu0BgNm7AlA2gwIAavkCAPTMAsBkDgOQVdsCICDqApC+BQNo9FICwNaTAkDLEAKg3hUCwAR+AviChQIA5VcCcLNSAnCl9wHwbEwCqOWBAsBXOgK4L9EBAFghAuDr5QJgQREC8MrWATjaJwJQbAICQO4XAuDvvgEg4e0BoN0lAiAENALgrwkDwIbmAoDpjQKAU6gCMN1rAkDHUAIAVeQCYIErAgB8wAIwrtACAAy2AVAudAEANowBgFXgAQDnjwGA3dMBUMmxAWAycgEAtHcBgD9yASDIxAGAKLwBsDLBAYB3owFwFbIBMAqUAUDbHQPglCoDoFIKAwCUIwMgFFYDgG6HAihBsgLAgSEDkDPyAYClIAJAFxMCAKgNAkCrQgLQn1ECkGcPAgDVRgJARDcCIKA3AkAtLQLw+RkCoMASAkAIRgIQbvcC4OOTAsBTjwLAteoCsL/zAmD53wLAHOUBwBoFAgCncQKYDlQCoBRnAgBDIQKQdUACYD8xAnC3zwKgwFECEFYBAgCtuQIYmOwC4NcYAgBnLQLgCgcCwH4nA5ApJQMAqAkDAPcFAwCjLwNgY+UC8LOzArBxEQOAkHQCINtNApAiwwIITbECAJbEAoDQeQLwHaQCALjGAoBHqwIAgZoCICWaApCbqgKQYYQCoNh1AoCQdAJoWecC4LdfAiCt+gFAmPQCAGa7AoDnLwLABRoCCEDuAsA3rwHAJFABAHpmAbCAzQGg3qwBsF2xAYButQEAtmwBgKhdAdgVdwEAM6cBgEAjARDtggFAu1cBQLicAUCUJwHgtScDYMmXAuAsXQIAe/oCwAUaAgAcrgKAKPcCwArfAcClMQLg6ssC0EemAgA40QJQK/QCoDC0AiCOrwLQlXMCgN6AAuA/pwLgT7gCmL6mAtgrzALQePYCAKOcAqDhogJgEWABwOWjASCHZgEAY+8BgH8jARB20wCgHRYCIA0NAgAhoQGAmc8BkP+/ARhBeAEAof8BgPbSAaC35QH4UtQBAM3KAQCWswGALdUBMPTNAUiLaQJA9Y4C4JzDAcBacwIAARICQFKnAoDlZAIA7KgBqCDsAiDrcwLAL1kCoCPHAgCFhAKIkCoCEME1AvByKwIAoZICEIBVAtB4tAIQ3S4CgEUOAoCoRAKQkikCgKWzAgDqWwIg5dMCgJG4AogghQIw54gCgEfAAgCl6QHAsKsBQIXDAVCfxgGAzwsCAIoKAoCKAgKgT+oBYEYAAsA3bAJARv4CwHwMAoBetQKgw94CQDFrAuBYPQLQY08BQP5WAZjiOAFADHMBYENzAWBKgQEAHmgBQDaIAQBmAgEA0xYBgMVwASCZGAGASgEBELkRAYDxJgFgzxEBAJ4vApB2bwIA7FACgNtHAoAeXAKQn1UCAJ6tAsCFeAIAIQoCENK4ASDeHQKQZw8C0G/fAQDIBQIAxuYBwG6cAcCIygFISqIBgPuCAcByhgGwnWIBgMlvAaBJjQGgDKwBoLemAYDrmwGgDmIBAHK8AYCuZgHAvrIBsNGpAcDngwGwWkoCKHtaAiCP4gHA/xACUPj0AdAkIQKAagoCgOMwAuDlXgKAsqACgFt8AmCfWAJA40kCgBN5AsDDiAJAoqgCQI8fAuAypQKg1DcC4GYaAsB5/QHA3hMCYLK3AgD0OQIAfO4BQBoNAkjCwwGAixwCAI4JAoClIALgjEUCYIOeAkAqSAIAtEkCQDRQAnifNwJQUj0CIKFRAgD4OAIIUEICAMuWAeCijQFQcYgBgDLEAWBD8QEgg6YBCFSuAQCc0QHAuSgDQCnWAgAw6AJAKgUDgHgNA+CyAwNAMgMDwDfqAoCHCAIA7jACMCsPAoDa7gEAqiwCAJg7AgD/RgJAaV0CQCnBAtDReQLAFKQCAFFSAsA/fwKQSxYCgKunAsAbiAIg36AC4F6vArAdqAIAnI4CSAM3AuDLhALgTJQCAGCIAlAx1wGgT5ICEO/gAYBVCgLA8IICsLHCAhD8NgIAMW8COEelAuDxmgIYKTsCkNE+AsC2hgKgwpoCAFG7AgCrmgJAVIcCQH93AqChSQIwsUwCkK52AsBUfwKQG3YCkNlmAgC/2AGwUd4BwEWMATBvgAFQosABoE3LAXAZ2wHgrL8BcLKlAZDqvwFguuMBwIPbAeDE+AEANQUCsIsEAoCUCgLIXxQDgN8DAwCm6gIAIswCkHLuAsBH5gJAIgcDwFIIAwDzNAKAfvABoI+CAoDzAgKAoN0BuCt6AvDbQALItbUCoIsvAoAKNwJwq1QCANlvAkCP3ALA08MCoNIYAvA7/wGAH3YCwL9KAgBRuwKAMoECwLWWAkBpXQKgdX4CIMiWAoCrkgJA2sQCYNpZAvhXgALgArECMAZ8AsCYnAEAhYgBsA6LAcCrkgGoEZABoPqQAcAhlQGAgrABwE8rAcBgVgHYYRABgIZGAWCXcwGAWUwBcNtIAnDYeAJAT24C8IMsApDWlgIAVmsCwF6cAoAihQJgC5IC8GihAkDpZwK4znYCQBSXAuCMRQL4wGsCwHRiAsDo7QIAW+0CgLS/AuDE3wKAn9QCoC7UAsA5iwIAzEMCKMXUAWBYGwLQL5sBAOLfAQA18AFgiu8B4PzVAbCtBgLAhPUBIBfWAQCk+QGorRECYDA+AfBwIQJw/fYBgBMQArCANgLAjHECoAkbAqCOqwGgcVUCAKosArB/swEAUpoBQJaFAUATqwEAAoQBAGDgAQCfHwJgZ5AC4GOeAhBfGQIw3lsCAAzgAcAb9QEAXwUC0Ks1A2D/ZgNIuAsDkCwfA+jq/wJA4isDgNEmA3jZsQLA/koCgIprAgAROAKAKE8CwABqAgCAlQJArMkBgMafAcBCvAEwtHQB4GWCAWAFzAHA938BIEmVAWAKJAJQSy8C4JUzAoDAUwLggJwC2D1+AoA5EQKgTjkCIG3LAaBY2AEANvUB+DXBAaCF5wFAqukBYNWUAgDVRgIwccUCYNPJAoATowKAn78CwOW0AlgyzQJAUnkDADtzA5DNZQMA1D0DQFpiAyC9HANAK3MDICIeA2ByEwXA3gcFwNRoBVCpagUAhv8EUOlaBfD+JgXA7GIFgKZLA8BtZQMAwYYDkLWVA0DyUQPgbF4DgPJNA2BaNgNADggEcPv5AxD0MATAyxUEQN4oBMBr7gMAWBkEgHuWBEBFGwUA4DIFAAdOBaCQvgTABc8E2LNKBUAktQQA/gsFgBO0A6DmogOAlqMDUJ6kAwDdfwMgonwDoE50A1DTsQMgdFMDUOpnA8BoTAMgOSgDAMlaA6C7NANgZJIDkN+AA6DS9wQgciwFgKXqBKDxFAUAwNEEoPX+BICH0gTQJ3gFAK/YAmAcvQIAhvICAADfAoDlIQMAJvUCeJz6AgBaJwNglTMEwAQ3BABvIwRQx3EEIAu4BMCDZgTA6ggEwOFZBKAA/wIgABwDYGcjA8DXAQOAEwwDAJE+A8DNDgPg4CwDkPqJA4gHbQOA7o0DYMlpA8CWYAMQnIkDgGGBA5CglQMAiBEDAKALA8C0+gLwESUDwMlOA+CD/wLwiiEDwMA2AwCbyAJAcP4CkKjWAgAn5QLAhMcCQHD+AqDZuQKAZ/cCgG4rBAC6SgRApjYEQA5HBCDWawRQ7uQDwDo0BCjVMQSwyj8DqNCSA4AwXgOYZYkDgG8fA2CNeAPACZMDQIh2A1BKzgNQNTsDgPypA8C4dwMQ/NoDSNxWA9BUjwPgfEUDkNJYArDrfwKg7lACOAxQAsA2ZwJAzUQC8MdFAgBnlgIAgCAFcHdqBUC96ATAT/EEAFp3BEBywQTQ4+AEANJVBSAJbwTAp0gEgNdqBIAXMQTACqkEIHUqBAAVbgQgvHwEAMlvA2CWZgOgwGIDAAFiA+BjWwOggEgDoIqkA6BgZQOomF0EwPBQBHDnuwSgLrcEMNZqBAAyqwTgFZ8EUCKABEgghQOgdugDQIprA4AabgMgjoEDABrKA8BsdQMAoCADsLVpA0A6VQMA/0IDAMRrAxDg+gLAdQ8DIAXhAuAA0QIAF+kC4AkTA0AVBQOgJ/ACALpfBOBYbAbArScEgAyiBHC8OASwexUEwB1DBnDgLwRglloGEDu+BYCM/AUwmHwGQOQUBuAohQjAWZUIAJcRBqC61wPA1MQDwF/cA5Dn/ANghAgEAHazAwAygQTApMwEwP+wBJADBwUASQkFgF0RBUCzoQSA8loFAKjbA0C7zQOAXvADwF38A4Do7QPA6dkDQB7aAwCI4wNgrS0E8MHgAwBt2gNAbT8EAIRiBGBy2AMAgi4EoIyABOCgewOAJ4UDYHZuA2A/gQOAJ4UDIG95AwBUXQPQYpYD4NsTA3j7WwOg0AoDsP83A+BGHgMgc2MDANDRAwCGrwOAqa4DAKurA4DavANg/soDgLEABGBNxwPAL8ICgHCmAlB9wAIgr4ICQN6ZAvBI0wLAXLwCAA14AlBenwMAZUkDQCtzA+CgUQOAjqUD4O6HAyBbaQMgjoEDQBGuA8DR3wMAWs8DAGAXBOAomQMAygcEgAUrBPDB4ANQCRgEOIWYBND+vwRQZzUEoFZEBAA4igTgB60E4DkYBEBo0gOAJGEDAEmPA4CpWgMwoXYDQCtzA8AuegOAn5EDAPy1AgD2bQKAhaYCoLiSAsD1mwIQJKsCANC8A4DUyAMAafADABTWAyDctwOA6K4DQPbOA4AV0wNwjqIEgCVNBKDKUQRAhXgE4EXnBAC0QQQA4J8EAOtDBABILgUAT5AFwPT3BEAyTwUg8ooFANR0BcAPKwWArlYFAN/hAuD+RAOAAjUDAAoRAwC4RAPgROoCsPl+BEB5ugTAUkMEMFqeBOCRFwTgVqkEwF6tA8CFyANAl1gDwFGrAwAX5QOAnKwDADBmA8DUcANg2mYE0KCiBKDbfASwSb8EwL22BEAV0wTgzucCwHUPA8D4/gLQY/MCAGZOAwBD8wJAENcC4AbaAsDlMgPAamsDIFeUAwC6JAOgr2EDYKtRA+ALXAPQzDIDUKFwBEAnqwXAX1oEIJ64BOA9VgRAgTYFQFBSBYDYWgTAQNQD4PaFAwAGkANAJm8D4DkYBECeZgOwMK8DwIBwA4B+agNgU2cD4G68AwAjjgPwubgDgNR0A+DajANg45cDIP++AwArdwOguHkDUN03BMBSggQA65cEEAKhBPDqgwQA6McEgJz8BACKawTgl4kEQBHUBOBe5gTgR/EEANLCBGB/1gSQdiQFgKbFBCCX1ASIM/UDIOi0AwD6pwOgV/UD8K7VA2AGyQPAweMDAIjOA4AGHwPABtwCgKnxAvBLDAOwrp4C4KfhAiDj3gLg6BUDYABkBaCbcwWAQzcFAGpFBYBIUAVA28EEAAz+BGD0ZgUA088CQKG4AqB+KQOA4pQCwMh3AqAamgLAl9IC8EqzAsCnxgSAQ6QEAGDlBYAhTgTANJQEYAufBMAXqwQAX/kEgNVkA8BoiwOAJ3ADABd8A8A8lgOY5X4DEAiZA3CjkQNQAR4DYDsuA0C4VQMAkA8DoOs9A8DMMwMAFUgDQOEmAyBwEQQAnxcE4L8BBPBK1QSAMUoEoIVdBMCdFgQA5eYDAM0BBEB95wNg3c0DAMoHBADl5gMAYNgDAJQ9B6CTSwWALbQEQAIHBcCdqQSAxXkEMIV5BOBSawQAQMsDYOerA5BO8wM4jcQDKPPgAwBw/gMAJKgDIGUEBLCkpwOwBA4EoNzZA6DZoAPA3QYEAF74A0CMxQRAI1wE4C50BMDyrgQAekUEwBmgBCAbYAQAK14EoPrLAgAezQLAcToDiIbfAnis4QJgqAMDoG7uAoBO4wKgeRADYPEgA4AvGgMAPx4DAMJMA0AHPQNQxhgEQFaNAzAVqgQAbGgEgOMPBQBGPQSAE/MDQPXzA+C9IQQAqjkEsI5KBAC4fwSg/E8E4DlXBOCkIgRAjDIEQF/1BADTMAUg6z0FgEM3BQAQJwUA1SUF4CxVBIDI8QQQmUwEQJGKBBAPeQRASiMEoPKwBAD0cASQcmgECMlLBGDkgwTA7oUEwFShBIBOcgQAup4E4CZ2BACxsAQQzHkE4DSSBBBK+ATA6cAEcN+9BCBdmQTw/9cEgB4ABMAGAgRA3tQDYC7+A7Bf8gMA8DIEsH7QA0CswQNAtcAEwA+DBEC7SwSAgQwEoNpNBPAMXATg4zcEAKQGBEAqgwPQKIUDAKNZA6CpbQOA+ooDQG5dA0DmPwNg45cDIHCXAggncQLgj34CgDdwAuAIkALYQ4cCoNCMAgCvhALAc/0EALNiBZjJ/wQgqW0FAEgZBSCrpQSgqfwEgAuEBYCtFgSgB/QDEGtiBIBbIATAGSIEkM2gBMD/MgQA+wAEcCwhA6C/MwNgTV4DoC4oA4BpKwPg5UUDIOH+AgBrKAMgYQUEwFrUBICw9wSAwfgEgJfjBMC//wRgM+kEwL//BCD3bANgJpcDACO4A2BvYANg8SADoFugAwAgvgMAWFwDoIbkA2BmRATAwtMDgKocBIgoZgSAx8YDgO4gBCBpxAPAi2gDwI5iA1BfUANgE00DwDmHA6DvZgMg1L0CgN9CAwBMIAMArAgDYMpZAwB8FAOQvRUDgJAHA4C0OQRg3c0DQD5QBGC0vQOgm00EOMmHBICkpgSYauEDAAhCBLC0NgRYkGQEAHdgBNDrYAQwimgEANygBIAfbgQAZH8EAIg3BHDOUwQQrmEEgAhkBEAeMgPAKugCwJogA3DJaANwyPoCgLUDA4BMGAPgROoCwFU9BCBMGgRABgoEAPwFBNjCBgSIryoEQOvWA1iv7gPwweADUGjRAwC/DwRgdEsEANn+A9CV7QPgstUDgMbWA4BZVQSwzz8EgE5yBMDwOwSga24EIHdeBEDtSQRIY0EEgLlnBEDvpwQAF7cEMGKHBODHUwRAN2wEwPT3BGB5IQUwz7AEgEY1BNAKKgQA9HAEAPAyBACpnQSg3wUCwEELAnAdBAIA4BQCcJ/ZAaA5uwFQAHECQHRqAtCrDwIgJ9IBEPw2AgC/gAKgUygCsDtXAmAg5gJAMYACKEqLAgDinAJgkXsCwExsAmAgfQIAdIMC4CMwAgAfVAKAQIgCgNeHAsBUfwLALEoCAPKtAmimhQIAs5gCwDyaAsDWkwLg9sgC4E50AgC2kgIIWl8CMI5vAuCaZQFQCY0BwJBfASAqeAEAhK0BwGOPAeB1qAEAHtEBsDvqAkAyHAIAHeEBAAw0AsAIaALYUToCwHtbAmA5UgJg7PICADKeAkAH1ALgGmwC0LquAgDgpwKQPkIB4Ng2AcDqUwEoDl8BADSsATBbRgFgMD4BEHJ8ASC99gHwixUCAI5yAsBMbALAoGwCAMwEAqCgrQLAbm4C",
          "dtype": "i4"
         },
         "xaxis": "x",
         "yaxis": "y"
        }
       ],
       "layout": {
        "barmode": "relative",
        "legend": {
         "tracegroupgap": 0
        },
        "template": {
         "data": {
          "bar": [
           {
            "error_x": {
             "color": "rgb(36,36,36)"
            },
            "error_y": {
             "color": "rgb(36,36,36)"
            },
            "marker": {
             "line": {
              "color": "white",
              "width": 0.5
             },
             "pattern": {
              "fillmode": "overlay",
              "size": 10,
              "solidity": 0.2
             }
            },
            "type": "bar"
           }
          ],
          "barpolar": [
           {
            "marker": {
             "line": {
              "color": "white",
              "width": 0.5
             },
             "pattern": {
              "fillmode": "overlay",
              "size": 10,
              "solidity": 0.2
             }
            },
            "type": "barpolar"
           }
          ],
          "carpet": [
           {
            "aaxis": {
             "endlinecolor": "rgb(36,36,36)",
             "gridcolor": "white",
             "linecolor": "white",
             "minorgridcolor": "white",
             "startlinecolor": "rgb(36,36,36)"
            },
            "baxis": {
             "endlinecolor": "rgb(36,36,36)",
             "gridcolor": "white",
             "linecolor": "white",
             "minorgridcolor": "white",
             "startlinecolor": "rgb(36,36,36)"
            },
            "type": "carpet"
           }
          ],
          "choropleth": [
           {
            "colorbar": {
             "outlinewidth": 1,
             "tickcolor": "rgb(36,36,36)",
             "ticks": "outside"
            },
            "type": "choropleth"
           }
          ],
          "contour": [
           {
            "colorbar": {
             "outlinewidth": 1,
             "tickcolor": "rgb(36,36,36)",
             "ticks": "outside"
            },
            "colorscale": [
             [
              0,
              "#440154"
             ],
             [
              0.1111111111111111,
              "#482878"
             ],
             [
              0.2222222222222222,
              "#3e4989"
             ],
             [
              0.3333333333333333,
              "#31688e"
             ],
             [
              0.4444444444444444,
              "#26828e"
             ],
             [
              0.5555555555555556,
              "#1f9e89"
             ],
             [
              0.6666666666666666,
              "#35b779"
             ],
             [
              0.7777777777777778,
              "#6ece58"
             ],
             [
              0.8888888888888888,
              "#b5de2b"
             ],
             [
              1,
              "#fde725"
             ]
            ],
            "type": "contour"
           }
          ],
          "contourcarpet": [
           {
            "colorbar": {
             "outlinewidth": 1,
             "tickcolor": "rgb(36,36,36)",
             "ticks": "outside"
            },
            "type": "contourcarpet"
           }
          ],
          "heatmap": [
           {
            "colorbar": {
             "outlinewidth": 1,
             "tickcolor": "rgb(36,36,36)",
             "ticks": "outside"
            },
            "colorscale": [
             [
              0,
              "#440154"
             ],
             [
              0.1111111111111111,
              "#482878"
             ],
             [
              0.2222222222222222,
              "#3e4989"
             ],
             [
              0.3333333333333333,
              "#31688e"
             ],
             [
              0.4444444444444444,
              "#26828e"
             ],
             [
              0.5555555555555556,
              "#1f9e89"
             ],
             [
              0.6666666666666666,
              "#35b779"
             ],
             [
              0.7777777777777778,
              "#6ece58"
             ],
             [
              0.8888888888888888,
              "#b5de2b"
             ],
             [
              1,
              "#fde725"
             ]
            ],
            "type": "heatmap"
           }
          ],
          "histogram": [
           {
            "marker": {
             "line": {
              "color": "white",
              "width": 0.6
             }
            },
            "type": "histogram"
           }
          ],
          "histogram2d": [
           {
            "colorbar": {
             "outlinewidth": 1,
             "tickcolor": "rgb(36,36,36)",
             "ticks": "outside"
            },
            "colorscale": [
             [
              0,
              "#440154"
             ],
             [
              0.1111111111111111,
              "#482878"
             ],
             [
              0.2222222222222222,
              "#3e4989"
             ],
             [
              0.3333333333333333,
              "#31688e"
             ],
             [
              0.4444444444444444,
              "#26828e"
             ],
             [
              0.5555555555555556,
              "#1f9e89"
             ],
             [
              0.6666666666666666,
              "#35b779"
             ],
             [
              0.7777777777777778,
              "#6ece58"
             ],
             [
              0.8888888888888888,
              "#b5de2b"
             ],
             [
              1,
              "#fde725"
             ]
            ],
            "type": "histogram2d"
           }
          ],
          "histogram2dcontour": [
           {
            "colorbar": {
             "outlinewidth": 1,
             "tickcolor": "rgb(36,36,36)",
             "ticks": "outside"
            },
            "colorscale": [
             [
              0,
              "#440154"
             ],
             [
              0.1111111111111111,
              "#482878"
             ],
             [
              0.2222222222222222,
              "#3e4989"
             ],
             [
              0.3333333333333333,
              "#31688e"
             ],
             [
              0.4444444444444444,
              "#26828e"
             ],
             [
              0.5555555555555556,
              "#1f9e89"
             ],
             [
              0.6666666666666666,
              "#35b779"
             ],
             [
              0.7777777777777778,
              "#6ece58"
             ],
             [
              0.8888888888888888,
              "#b5de2b"
             ],
             [
              1,
              "#fde725"
             ]
            ],
            "type": "histogram2dcontour"
           }
          ],
          "mesh3d": [
           {
            "colorbar": {
             "outlinewidth": 1,
             "tickcolor": "rgb(36,36,36)",
             "ticks": "outside"
            },
            "type": "mesh3d"
           }
          ],
          "parcoords": [
           {
            "line": {
             "colorbar": {
              "outlinewidth": 1,
              "tickcolor": "rgb(36,36,36)",
              "ticks": "outside"
             }
            },
            "type": "parcoords"
           }
          ],
          "pie": [
           {
            "automargin": true,
            "type": "pie"
           }
          ],
          "scatter": [
           {
            "fillpattern": {
             "fillmode": "overlay",
             "size": 10,
             "solidity": 0.2
            },
            "type": "scatter"
           }
          ],
          "scatter3d": [
           {
            "line": {
             "colorbar": {
              "outlinewidth": 1,
              "tickcolor": "rgb(36,36,36)",
              "ticks": "outside"
             }
            },
            "marker": {
             "colorbar": {
              "outlinewidth": 1,
              "tickcolor": "rgb(36,36,36)",
              "ticks": "outside"
             }
            },
            "type": "scatter3d"
           }
          ],
          "scattercarpet": [
           {
            "marker": {
             "colorbar": {
              "outlinewidth": 1,
              "tickcolor": "rgb(36,36,36)",
              "ticks": "outside"
             }
            },
            "type": "scattercarpet"
           }
          ],
          "scattergeo": [
           {
            "marker": {
             "colorbar": {
              "outlinewidth": 1,
              "tickcolor": "rgb(36,36,36)",
              "ticks": "outside"
             }
            },
            "type": "scattergeo"
           }
          ],
          "scattergl": [
           {
            "marker": {
             "colorbar": {
              "outlinewidth": 1,
              "tickcolor": "rgb(36,36,36)",
              "ticks": "outside"
             }
            },
            "type": "scattergl"
           }
          ],
          "scattermap": [
           {
            "marker": {
             "colorbar": {
              "outlinewidth": 1,
              "tickcolor": "rgb(36,36,36)",
              "ticks": "outside"
             }
            },
            "type": "scattermap"
           }
          ],
          "scattermapbox": [
           {
            "marker": {
             "colorbar": {
              "outlinewidth": 1,
              "tickcolor": "rgb(36,36,36)",
              "ticks": "outside"
             }
            },
            "type": "scattermapbox"
           }
          ],
          "scatterpolar": [
           {
            "marker": {
             "colorbar": {
              "outlinewidth": 1,
              "tickcolor": "rgb(36,36,36)",
              "ticks": "outside"
             }
            },
            "type": "scatterpolar"
           }
          ],
          "scatterpolargl": [
           {
            "marker": {
             "colorbar": {
              "outlinewidth": 1,
              "tickcolor": "rgb(36,36,36)",
              "ticks": "outside"
             }
            },
            "type": "scatterpolargl"
           }
          ],
          "scatterternary": [
           {
            "marker": {
             "colorbar": {
              "outlinewidth": 1,
              "tickcolor": "rgb(36,36,36)",
              "ticks": "outside"
             }
            },
            "type": "scatterternary"
           }
          ],
          "surface": [
           {
            "colorbar": {
             "outlinewidth": 1,
             "tickcolor": "rgb(36,36,36)",
             "ticks": "outside"
            },
            "colorscale": [
             [
              0,
              "#440154"
             ],
             [
              0.1111111111111111,
              "#482878"
             ],
             [
              0.2222222222222222,
              "#3e4989"
             ],
             [
              0.3333333333333333,
              "#31688e"
             ],
             [
              0.4444444444444444,
              "#26828e"
             ],
             [
              0.5555555555555556,
              "#1f9e89"
             ],
             [
              0.6666666666666666,
              "#35b779"
             ],
             [
              0.7777777777777778,
              "#6ece58"
             ],
             [
              0.8888888888888888,
              "#b5de2b"
             ],
             [
              1,
              "#fde725"
             ]
            ],
            "type": "surface"
           }
          ],
          "table": [
           {
            "cells": {
             "fill": {
              "color": "rgb(237,237,237)"
             },
             "line": {
              "color": "white"
             }
            },
            "header": {
             "fill": {
              "color": "rgb(217,217,217)"
             },
             "line": {
              "color": "white"
             }
            },
            "type": "table"
           }
          ]
         },
         "layout": {
          "annotationdefaults": {
           "arrowhead": 0,
           "arrowwidth": 1
          },
          "autotypenumbers": "strict",
          "coloraxis": {
           "colorbar": {
            "outlinewidth": 1,
            "tickcolor": "rgb(36,36,36)",
            "ticks": "outside"
           }
          },
          "colorscale": {
           "diverging": [
            [
             0,
             "rgb(103,0,31)"
            ],
            [
             0.1,
             "rgb(178,24,43)"
            ],
            [
             0.2,
             "rgb(214,96,77)"
            ],
            [
             0.3,
             "rgb(244,165,130)"
            ],
            [
             0.4,
             "rgb(253,219,199)"
            ],
            [
             0.5,
             "rgb(247,247,247)"
            ],
            [
             0.6,
             "rgb(209,229,240)"
            ],
            [
             0.7,
             "rgb(146,197,222)"
            ],
            [
             0.8,
             "rgb(67,147,195)"
            ],
            [
             0.9,
             "rgb(33,102,172)"
            ],
            [
             1,
             "rgb(5,48,97)"
            ]
           ],
           "sequential": [
            [
             0,
             "#440154"
            ],
            [
             0.1111111111111111,
             "#482878"
            ],
            [
             0.2222222222222222,
             "#3e4989"
            ],
            [
             0.3333333333333333,
             "#31688e"
            ],
            [
             0.4444444444444444,
             "#26828e"
            ],
            [
             0.5555555555555556,
             "#1f9e89"
            ],
            [
             0.6666666666666666,
             "#35b779"
            ],
            [
             0.7777777777777778,
             "#6ece58"
            ],
            [
             0.8888888888888888,
             "#b5de2b"
            ],
            [
             1,
             "#fde725"
            ]
           ],
           "sequentialminus": [
            [
             0,
             "#440154"
            ],
            [
             0.1111111111111111,
             "#482878"
            ],
            [
             0.2222222222222222,
             "#3e4989"
            ],
            [
             0.3333333333333333,
             "#31688e"
            ],
            [
             0.4444444444444444,
             "#26828e"
            ],
            [
             0.5555555555555556,
             "#1f9e89"
            ],
            [
             0.6666666666666666,
             "#35b779"
            ],
            [
             0.7777777777777778,
             "#6ece58"
            ],
            [
             0.8888888888888888,
             "#b5de2b"
            ],
            [
             1,
             "#fde725"
            ]
           ]
          },
          "colorway": [
           "#1F77B4",
           "#FF7F0E",
           "#2CA02C",
           "#D62728",
           "#9467BD",
           "#8C564B",
           "#E377C2",
           "#7F7F7F",
           "#BCBD22",
           "#17BECF"
          ],
          "font": {
           "color": "rgb(36,36,36)"
          },
          "geo": {
           "bgcolor": "white",
           "lakecolor": "white",
           "landcolor": "white",
           "showlakes": true,
           "showland": true,
           "subunitcolor": "white"
          },
          "hoverlabel": {
           "align": "left"
          },
          "hovermode": "closest",
          "mapbox": {
           "style": "light"
          },
          "paper_bgcolor": "white",
          "plot_bgcolor": "white",
          "polar": {
           "angularaxis": {
            "gridcolor": "rgb(232,232,232)",
            "linecolor": "rgb(36,36,36)",
            "showgrid": false,
            "showline": true,
            "ticks": "outside"
           },
           "bgcolor": "white",
           "radialaxis": {
            "gridcolor": "rgb(232,232,232)",
            "linecolor": "rgb(36,36,36)",
            "showgrid": false,
            "showline": true,
            "ticks": "outside"
           }
          },
          "scene": {
           "xaxis": {
            "backgroundcolor": "white",
            "gridcolor": "rgb(232,232,232)",
            "gridwidth": 2,
            "linecolor": "rgb(36,36,36)",
            "showbackground": true,
            "showgrid": false,
            "showline": true,
            "ticks": "outside",
            "zeroline": false,
            "zerolinecolor": "rgb(36,36,36)"
           },
           "yaxis": {
            "backgroundcolor": "white",
            "gridcolor": "rgb(232,232,232)",
            "gridwidth": 2,
            "linecolor": "rgb(36,36,36)",
            "showbackground": true,
            "showgrid": false,
            "showline": true,
            "ticks": "outside",
            "zeroline": false,
            "zerolinecolor": "rgb(36,36,36)"
           },
           "zaxis": {
            "backgroundcolor": "white",
            "gridcolor": "rgb(232,232,232)",
            "gridwidth": 2,
            "linecolor": "rgb(36,36,36)",
            "showbackground": true,
            "showgrid": false,
            "showline": true,
            "ticks": "outside",
            "zeroline": false,
            "zerolinecolor": "rgb(36,36,36)"
           }
          },
          "shapedefaults": {
           "fillcolor": "black",
           "line": {
            "width": 0
           },
           "opacity": 0.3
          },
          "ternary": {
           "aaxis": {
            "gridcolor": "rgb(232,232,232)",
            "linecolor": "rgb(36,36,36)",
            "showgrid": false,
            "showline": true,
            "ticks": "outside"
           },
           "baxis": {
            "gridcolor": "rgb(232,232,232)",
            "linecolor": "rgb(36,36,36)",
            "showgrid": false,
            "showline": true,
            "ticks": "outside"
           },
           "bgcolor": "white",
           "caxis": {
            "gridcolor": "rgb(232,232,232)",
            "linecolor": "rgb(36,36,36)",
            "showgrid": false,
            "showline": true,
            "ticks": "outside"
           }
          },
          "title": {
           "x": 0.05
          },
          "xaxis": {
           "automargin": true,
           "gridcolor": "rgb(232,232,232)",
           "linecolor": "rgb(36,36,36)",
           "showgrid": false,
           "showline": true,
           "ticks": "outside",
           "title": {
            "standoff": 15
           },
           "zeroline": false,
           "zerolinecolor": "rgb(36,36,36)"
          },
          "yaxis": {
           "automargin": true,
           "gridcolor": "rgb(232,232,232)",
           "linecolor": "rgb(36,36,36)",
           "showgrid": false,
           "showline": true,
           "ticks": "outside",
           "title": {
            "standoff": 15
           },
           "zeroline": false,
           "zerolinecolor": "rgb(36,36,36)"
          }
         }
        },
        "title": {
         "text": "Distribution of the number of voxels"
        },
        "width": 500,
        "xaxis": {
         "anchor": "y",
         "domain": [
          0,
          1
         ],
         "title": {
          "text": "n_voxels"
         }
        },
        "yaxis": {
         "anchor": "x",
         "domain": [
          0,
          1
         ],
         "title": {
          "text": "count"
         }
        }
       }
      }
     },
     "metadata": {},
     "output_type": "display_data"
    }
   ],
   "source": [
    "fig = px.histogram(\n",
    "    data,\n",
    "    x='n_voxels',\n",
    "    nbins=50,\n",
    "    title='Distribution of the number of voxels',\n",
    "    width=500,\n",
    ")\n",
    "\n",
    "fig.show()"
   ]
  },
  {
   "cell_type": "code",
   "execution_count": 11,
   "metadata": {},
   "outputs": [
    {
     "data": {
      "application/vnd.plotly.v1+json": {
       "config": {
        "plotlyServerURL": "https://plot.ly"
       },
       "data": [
        {
         "bingroup": "x",
         "hovertemplate": "bone=Radius<br>n_voxels=%{x}<br>count=%{y}<extra></extra>",
         "legendgroup": "",
         "marker": {
          "color": "#1F77B4",
          "pattern": {
           "shape": ""
          }
         },
         "name": "",
         "nbinsx": 50,
         "orientation": "v",
         "showlegend": false,
         "type": "histogram",
         "x": {
          "bdata": "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",
          "dtype": "i4"
         },
         "xaxis": "x",
         "yaxis": "y"
        },
        {
         "bingroup": "x",
         "hovertemplate": "bone=Tibia<br>n_voxels=%{x}<br>count=%{y}<extra></extra>",
         "legendgroup": "",
         "marker": {
          "color": "#1F77B4",
          "pattern": {
           "shape": ""
          }
         },
         "name": "",
         "nbinsx": 50,
         "orientation": "v",
         "showlegend": false,
         "type": "histogram",
         "x": {
          "bdata": "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",
          "dtype": "i4"
         },
         "xaxis": "x2",
         "yaxis": "y2"
        }
       ],
       "layout": {
        "annotations": [
         {
          "font": {},
          "showarrow": false,
          "text": "bone=Radius",
          "x": 0.245,
          "xanchor": "center",
          "xref": "paper",
          "y": 1,
          "yanchor": "bottom",
          "yref": "paper"
         },
         {
          "font": {},
          "showarrow": false,
          "text": "bone=Tibia",
          "x": 0.755,
          "xanchor": "center",
          "xref": "paper",
          "y": 1,
          "yanchor": "bottom",
          "yref": "paper"
         }
        ],
        "barmode": "relative",
        "legend": {
         "tracegroupgap": 0
        },
        "template": {
         "data": {
          "bar": [
           {
            "error_x": {
             "color": "rgb(36,36,36)"
            },
            "error_y": {
             "color": "rgb(36,36,36)"
            },
            "marker": {
             "line": {
              "color": "white",
              "width": 0.5
             },
             "pattern": {
              "fillmode": "overlay",
              "size": 10,
              "solidity": 0.2
             }
            },
            "type": "bar"
           }
          ],
          "barpolar": [
           {
            "marker": {
             "line": {
              "color": "white",
              "width": 0.5
             },
             "pattern": {
              "fillmode": "overlay",
              "size": 10,
              "solidity": 0.2
             }
            },
            "type": "barpolar"
           }
          ],
          "carpet": [
           {
            "aaxis": {
             "endlinecolor": "rgb(36,36,36)",
             "gridcolor": "white",
             "linecolor": "white",
             "minorgridcolor": "white",
             "startlinecolor": "rgb(36,36,36)"
            },
            "baxis": {
             "endlinecolor": "rgb(36,36,36)",
             "gridcolor": "white",
             "linecolor": "white",
             "minorgridcolor": "white",
             "startlinecolor": "rgb(36,36,36)"
            },
            "type": "carpet"
           }
          ],
          "choropleth": [
           {
            "colorbar": {
             "outlinewidth": 1,
             "tickcolor": "rgb(36,36,36)",
             "ticks": "outside"
            },
            "type": "choropleth"
           }
          ],
          "contour": [
           {
            "colorbar": {
             "outlinewidth": 1,
             "tickcolor": "rgb(36,36,36)",
             "ticks": "outside"
            },
            "colorscale": [
             [
              0,
              "#440154"
             ],
             [
              0.1111111111111111,
              "#482878"
             ],
             [
              0.2222222222222222,
              "#3e4989"
             ],
             [
              0.3333333333333333,
              "#31688e"
             ],
             [
              0.4444444444444444,
              "#26828e"
             ],
             [
              0.5555555555555556,
              "#1f9e89"
             ],
             [
              0.6666666666666666,
              "#35b779"
             ],
             [
              0.7777777777777778,
              "#6ece58"
             ],
             [
              0.8888888888888888,
              "#b5de2b"
             ],
             [
              1,
              "#fde725"
             ]
            ],
            "type": "contour"
           }
          ],
          "contourcarpet": [
           {
            "colorbar": {
             "outlinewidth": 1,
             "tickcolor": "rgb(36,36,36)",
             "ticks": "outside"
            },
            "type": "contourcarpet"
           }
          ],
          "heatmap": [
           {
            "colorbar": {
             "outlinewidth": 1,
             "tickcolor": "rgb(36,36,36)",
             "ticks": "outside"
            },
            "colorscale": [
             [
              0,
              "#440154"
             ],
             [
              0.1111111111111111,
              "#482878"
             ],
             [
              0.2222222222222222,
              "#3e4989"
             ],
             [
              0.3333333333333333,
              "#31688e"
             ],
             [
              0.4444444444444444,
              "#26828e"
             ],
             [
              0.5555555555555556,
              "#1f9e89"
             ],
             [
              0.6666666666666666,
              "#35b779"
             ],
             [
              0.7777777777777778,
              "#6ece58"
             ],
             [
              0.8888888888888888,
              "#b5de2b"
             ],
             [
              1,
              "#fde725"
             ]
            ],
            "type": "heatmap"
           }
          ],
          "histogram": [
           {
            "marker": {
             "line": {
              "color": "white",
              "width": 0.6
             }
            },
            "type": "histogram"
           }
          ],
          "histogram2d": [
           {
            "colorbar": {
             "outlinewidth": 1,
             "tickcolor": "rgb(36,36,36)",
             "ticks": "outside"
            },
            "colorscale": [
             [
              0,
              "#440154"
             ],
             [
              0.1111111111111111,
              "#482878"
             ],
             [
              0.2222222222222222,
              "#3e4989"
             ],
             [
              0.3333333333333333,
              "#31688e"
             ],
             [
              0.4444444444444444,
              "#26828e"
             ],
             [
              0.5555555555555556,
              "#1f9e89"
             ],
             [
              0.6666666666666666,
              "#35b779"
             ],
             [
              0.7777777777777778,
              "#6ece58"
             ],
             [
              0.8888888888888888,
              "#b5de2b"
             ],
             [
              1,
              "#fde725"
             ]
            ],
            "type": "histogram2d"
           }
          ],
          "histogram2dcontour": [
           {
            "colorbar": {
             "outlinewidth": 1,
             "tickcolor": "rgb(36,36,36)",
             "ticks": "outside"
            },
            "colorscale": [
             [
              0,
              "#440154"
             ],
             [
              0.1111111111111111,
              "#482878"
             ],
             [
              0.2222222222222222,
              "#3e4989"
             ],
             [
              0.3333333333333333,
              "#31688e"
             ],
             [
              0.4444444444444444,
              "#26828e"
             ],
             [
              0.5555555555555556,
              "#1f9e89"
             ],
             [
              0.6666666666666666,
              "#35b779"
             ],
             [
              0.7777777777777778,
              "#6ece58"
             ],
             [
              0.8888888888888888,
              "#b5de2b"
             ],
             [
              1,
              "#fde725"
             ]
            ],
            "type": "histogram2dcontour"
           }
          ],
          "mesh3d": [
           {
            "colorbar": {
             "outlinewidth": 1,
             "tickcolor": "rgb(36,36,36)",
             "ticks": "outside"
            },
            "type": "mesh3d"
           }
          ],
          "parcoords": [
           {
            "line": {
             "colorbar": {
              "outlinewidth": 1,
              "tickcolor": "rgb(36,36,36)",
              "ticks": "outside"
             }
            },
            "type": "parcoords"
           }
          ],
          "pie": [
           {
            "automargin": true,
            "type": "pie"
           }
          ],
          "scatter": [
           {
            "fillpattern": {
             "fillmode": "overlay",
             "size": 10,
             "solidity": 0.2
            },
            "type": "scatter"
           }
          ],
          "scatter3d": [
           {
            "line": {
             "colorbar": {
              "outlinewidth": 1,
              "tickcolor": "rgb(36,36,36)",
              "ticks": "outside"
             }
            },
            "marker": {
             "colorbar": {
              "outlinewidth": 1,
              "tickcolor": "rgb(36,36,36)",
              "ticks": "outside"
             }
            },
            "type": "scatter3d"
           }
          ],
          "scattercarpet": [
           {
            "marker": {
             "colorbar": {
              "outlinewidth": 1,
              "tickcolor": "rgb(36,36,36)",
              "ticks": "outside"
             }
            },
            "type": "scattercarpet"
           }
          ],
          "scattergeo": [
           {
            "marker": {
             "colorbar": {
              "outlinewidth": 1,
              "tickcolor": "rgb(36,36,36)",
              "ticks": "outside"
             }
            },
            "type": "scattergeo"
           }
          ],
          "scattergl": [
           {
            "marker": {
             "colorbar": {
              "outlinewidth": 1,
              "tickcolor": "rgb(36,36,36)",
              "ticks": "outside"
             }
            },
            "type": "scattergl"
           }
          ],
          "scattermap": [
           {
            "marker": {
             "colorbar": {
              "outlinewidth": 1,
              "tickcolor": "rgb(36,36,36)",
              "ticks": "outside"
             }
            },
            "type": "scattermap"
           }
          ],
          "scattermapbox": [
           {
            "marker": {
             "colorbar": {
              "outlinewidth": 1,
              "tickcolor": "rgb(36,36,36)",
              "ticks": "outside"
             }
            },
            "type": "scattermapbox"
           }
          ],
          "scatterpolar": [
           {
            "marker": {
             "colorbar": {
              "outlinewidth": 1,
              "tickcolor": "rgb(36,36,36)",
              "ticks": "outside"
             }
            },
            "type": "scatterpolar"
           }
          ],
          "scatterpolargl": [
           {
            "marker": {
             "colorbar": {
              "outlinewidth": 1,
              "tickcolor": "rgb(36,36,36)",
              "ticks": "outside"
             }
            },
            "type": "scatterpolargl"
           }
          ],
          "scatterternary": [
           {
            "marker": {
             "colorbar": {
              "outlinewidth": 1,
              "tickcolor": "rgb(36,36,36)",
              "ticks": "outside"
             }
            },
            "type": "scatterternary"
           }
          ],
          "surface": [
           {
            "colorbar": {
             "outlinewidth": 1,
             "tickcolor": "rgb(36,36,36)",
             "ticks": "outside"
            },
            "colorscale": [
             [
              0,
              "#440154"
             ],
             [
              0.1111111111111111,
              "#482878"
             ],
             [
              0.2222222222222222,
              "#3e4989"
             ],
             [
              0.3333333333333333,
              "#31688e"
             ],
             [
              0.4444444444444444,
              "#26828e"
             ],
             [
              0.5555555555555556,
              "#1f9e89"
             ],
             [
              0.6666666666666666,
              "#35b779"
             ],
             [
              0.7777777777777778,
              "#6ece58"
             ],
             [
              0.8888888888888888,
              "#b5de2b"
             ],
             [
              1,
              "#fde725"
             ]
            ],
            "type": "surface"
           }
          ],
          "table": [
           {
            "cells": {
             "fill": {
              "color": "rgb(237,237,237)"
             },
             "line": {
              "color": "white"
             }
            },
            "header": {
             "fill": {
              "color": "rgb(217,217,217)"
             },
             "line": {
              "color": "white"
             }
            },
            "type": "table"
           }
          ]
         },
         "layout": {
          "annotationdefaults": {
           "arrowhead": 0,
           "arrowwidth": 1
          },
          "autotypenumbers": "strict",
          "coloraxis": {
           "colorbar": {
            "outlinewidth": 1,
            "tickcolor": "rgb(36,36,36)",
            "ticks": "outside"
           }
          },
          "colorscale": {
           "diverging": [
            [
             0,
             "rgb(103,0,31)"
            ],
            [
             0.1,
             "rgb(178,24,43)"
            ],
            [
             0.2,
             "rgb(214,96,77)"
            ],
            [
             0.3,
             "rgb(244,165,130)"
            ],
            [
             0.4,
             "rgb(253,219,199)"
            ],
            [
             0.5,
             "rgb(247,247,247)"
            ],
            [
             0.6,
             "rgb(209,229,240)"
            ],
            [
             0.7,
             "rgb(146,197,222)"
            ],
            [
             0.8,
             "rgb(67,147,195)"
            ],
            [
             0.9,
             "rgb(33,102,172)"
            ],
            [
             1,
             "rgb(5,48,97)"
            ]
           ],
           "sequential": [
            [
             0,
             "#440154"
            ],
            [
             0.1111111111111111,
             "#482878"
            ],
            [
             0.2222222222222222,
             "#3e4989"
            ],
            [
             0.3333333333333333,
             "#31688e"
            ],
            [
             0.4444444444444444,
             "#26828e"
            ],
            [
             0.5555555555555556,
             "#1f9e89"
            ],
            [
             0.6666666666666666,
             "#35b779"
            ],
            [
             0.7777777777777778,
             "#6ece58"
            ],
            [
             0.8888888888888888,
             "#b5de2b"
            ],
            [
             1,
             "#fde725"
            ]
           ],
           "sequentialminus": [
            [
             0,
             "#440154"
            ],
            [
             0.1111111111111111,
             "#482878"
            ],
            [
             0.2222222222222222,
             "#3e4989"
            ],
            [
             0.3333333333333333,
             "#31688e"
            ],
            [
             0.4444444444444444,
             "#26828e"
            ],
            [
             0.5555555555555556,
             "#1f9e89"
            ],
            [
             0.6666666666666666,
             "#35b779"
            ],
            [
             0.7777777777777778,
             "#6ece58"
            ],
            [
             0.8888888888888888,
             "#b5de2b"
            ],
            [
             1,
             "#fde725"
            ]
           ]
          },
          "colorway": [
           "#1F77B4",
           "#FF7F0E",
           "#2CA02C",
           "#D62728",
           "#9467BD",
           "#8C564B",
           "#E377C2",
           "#7F7F7F",
           "#BCBD22",
           "#17BECF"
          ],
          "font": {
           "color": "rgb(36,36,36)"
          },
          "geo": {
           "bgcolor": "white",
           "lakecolor": "white",
           "landcolor": "white",
           "showlakes": true,
           "showland": true,
           "subunitcolor": "white"
          },
          "hoverlabel": {
           "align": "left"
          },
          "hovermode": "closest",
          "mapbox": {
           "style": "light"
          },
          "paper_bgcolor": "white",
          "plot_bgcolor": "white",
          "polar": {
           "angularaxis": {
            "gridcolor": "rgb(232,232,232)",
            "linecolor": "rgb(36,36,36)",
            "showgrid": false,
            "showline": true,
            "ticks": "outside"
           },
           "bgcolor": "white",
           "radialaxis": {
            "gridcolor": "rgb(232,232,232)",
            "linecolor": "rgb(36,36,36)",
            "showgrid": false,
            "showline": true,
            "ticks": "outside"
           }
          },
          "scene": {
           "xaxis": {
            "backgroundcolor": "white",
            "gridcolor": "rgb(232,232,232)",
            "gridwidth": 2,
            "linecolor": "rgb(36,36,36)",
            "showbackground": true,
            "showgrid": false,
            "showline": true,
            "ticks": "outside",
            "zeroline": false,
            "zerolinecolor": "rgb(36,36,36)"
           },
           "yaxis": {
            "backgroundcolor": "white",
            "gridcolor": "rgb(232,232,232)",
            "gridwidth": 2,
            "linecolor": "rgb(36,36,36)",
            "showbackground": true,
            "showgrid": false,
            "showline": true,
            "ticks": "outside",
            "zeroline": false,
            "zerolinecolor": "rgb(36,36,36)"
           },
           "zaxis": {
            "backgroundcolor": "white",
            "gridcolor": "rgb(232,232,232)",
            "gridwidth": 2,
            "linecolor": "rgb(36,36,36)",
            "showbackground": true,
            "showgrid": false,
            "showline": true,
            "ticks": "outside",
            "zeroline": false,
            "zerolinecolor": "rgb(36,36,36)"
           }
          },
          "shapedefaults": {
           "fillcolor": "black",
           "line": {
            "width": 0
           },
           "opacity": 0.3
          },
          "ternary": {
           "aaxis": {
            "gridcolor": "rgb(232,232,232)",
            "linecolor": "rgb(36,36,36)",
            "showgrid": false,
            "showline": true,
            "ticks": "outside"
           },
           "baxis": {
            "gridcolor": "rgb(232,232,232)",
            "linecolor": "rgb(36,36,36)",
            "showgrid": false,
            "showline": true,
            "ticks": "outside"
           },
           "bgcolor": "white",
           "caxis": {
            "gridcolor": "rgb(232,232,232)",
            "linecolor": "rgb(36,36,36)",
            "showgrid": false,
            "showline": true,
            "ticks": "outside"
           }
          },
          "title": {
           "x": 0.05
          },
          "xaxis": {
           "automargin": true,
           "gridcolor": "rgb(232,232,232)",
           "linecolor": "rgb(36,36,36)",
           "showgrid": false,
           "showline": true,
           "ticks": "outside",
           "title": {
            "standoff": 15
           },
           "zeroline": false,
           "zerolinecolor": "rgb(36,36,36)"
          },
          "yaxis": {
           "automargin": true,
           "gridcolor": "rgb(232,232,232)",
           "linecolor": "rgb(36,36,36)",
           "showgrid": false,
           "showline": true,
           "ticks": "outside",
           "title": {
            "standoff": 15
           },
           "zeroline": false,
           "zerolinecolor": "rgb(36,36,36)"
          }
         }
        },
        "title": {
         "text": "Distribution of the number of voxels per bone"
        },
        "width": 800,
        "xaxis": {
         "anchor": "y",
         "domain": [
          0,
          0.49
         ],
         "title": {
          "text": "n_voxels"
         }
        },
        "xaxis2": {
         "anchor": "y2",
         "domain": [
          0.51,
          1
         ],
         "matches": "x",
         "title": {
          "text": "n_voxels"
         }
        },
        "yaxis": {
         "anchor": "x",
         "domain": [
          0,
          1
         ],
         "title": {
          "text": "count"
         }
        },
        "yaxis2": {
         "anchor": "x2",
         "domain": [
          0,
          1
         ],
         "matches": "y",
         "showticklabels": false
        }
       }
      }
     },
     "metadata": {},
     "output_type": "display_data"
    }
   ],
   "source": [
    "fig = px.histogram(\n",
    "    data,\n",
    "    x='n_voxels',\n",
    "    nbins=50,\n",
    "    facet_col='bone',\n",
    "    title='Distribution of the number of voxels per bone',\n",
    "    width=800,\n",
    ")\n",
    "\n",
    "fig.show()"
   ]
  },
  {
   "cell_type": "markdown",
   "metadata": {},
   "source": [
    "> The distributions were calculated and displayed for the various data types."
   ]
  },
  {
   "cell_type": "markdown",
   "metadata": {},
   "source": [
    "# 2 - Measure of Central Tendency\n",
    "https://mciwing.github.io/statistics/univariate/CentralTend/"
   ]
  },
  {
   "cell_type": "code",
   "execution_count": 12,
   "metadata": {},
   "outputs": [
    {
     "name": "stdout",
     "output_type": "stream",
     "text": [
      "<class 'pandas.core.frame.DataFrame'>\n",
      "RangeIndex: 1482 entries, 0 to 1481\n",
      "Data columns (total 22 columns):\n",
      " #   Column        Non-Null Count  Dtype  \n",
      "---  ------        --------------  -----  \n",
      " 0   scan_id       1482 non-null   object \n",
      " 1   bone          1482 non-null   object \n",
      " 2   side          1482 non-null   object \n",
      " 3   patient_id    1482 non-null   object \n",
      " 4   exam          1482 non-null   object \n",
      " 5   vgs           1482 non-null   object \n",
      " 6   x_shape       1482 non-null   int64  \n",
      " 7   y_shape       1482 non-null   int64  \n",
      " 8   z_shape       1482 non-null   int64  \n",
      " 9   max_val       1482 non-null   int64  \n",
      " 10  min_val       1482 non-null   int64  \n",
      " 11  mean_val      1482 non-null   int64  \n",
      " 12  med_val       1482 non-null   int64  \n",
      " 13  std_val       1482 non-null   int64  \n",
      " 14  n_class_0     1482 non-null   int64  \n",
      " 15  n_class_1     1482 non-null   int64  \n",
      " 16  n_class_2     1482 non-null   int64  \n",
      " 17  prop_class_0  1482 non-null   float64\n",
      " 18  prop_class_1  1482 non-null   float64\n",
      " 19  prop_class_2  1482 non-null   float64\n",
      " 20  image_path    1482 non-null   object \n",
      " 21  n_voxels      1482 non-null   int64  \n",
      "dtypes: float64(3), int64(12), object(7)\n",
      "memory usage: 254.8+ KB\n"
     ]
    }
   ],
   "source": [
    "data.info()"
   ]
  },
  {
   "cell_type": "markdown",
   "metadata": {},
   "source": [
    "### Nominal"
   ]
  },
  {
   "cell_type": "code",
   "execution_count": 13,
   "metadata": {},
   "outputs": [
    {
     "name": "stdout",
     "output_type": "stream",
     "text": [
      "side\n",
      "----------------\n",
      "Mode: L\n"
     ]
    }
   ],
   "source": [
    "print('side')\n",
    "print('----------------')\n",
    "\n",
    "print(f'Mode: {data['side'].mode().values[0]}')"
   ]
  },
  {
   "cell_type": "markdown",
   "metadata": {},
   "source": [
    "### Ordinal"
   ]
  },
  {
   "cell_type": "code",
   "execution_count": 14,
   "metadata": {},
   "outputs": [
    {
     "name": "stdout",
     "output_type": "stream",
     "text": [
      "vgs\n",
      "----------------\n",
      "Mode:   VGS1\n",
      "Median: VGS1\n"
     ]
    }
   ],
   "source": [
    "print('vgs')\n",
    "print('----------------')\n",
    "\n",
    "print(f'Mode:   {data['vgs'].mode().values[0]}')\n",
    "\n",
    "# keep only the last character of the vgs column and convert it to an integer to calculate the median\n",
    "data['vgs_int'] = data['vgs'].str[-1].astype(int)\n",
    "vgs_median = int(data['vgs_int'].median())\n",
    "vgs_median = f'VGS{vgs_median}'\n",
    "\n",
    "print(f'Median: {vgs_median}')\n"
   ]
  },
  {
   "cell_type": "markdown",
   "metadata": {},
   "source": [
    "### Numeric"
   ]
  },
  {
   "cell_type": "code",
   "execution_count": 15,
   "metadata": {},
   "outputs": [
    {
     "name": "stdout",
     "output_type": "stream",
     "text": [
      "n_voxels\n",
      "----------------\n",
      "Mode:   57879360\n",
      "Median: 48579888.0\n",
      "Mean:   51476226.4\n"
     ]
    }
   ],
   "source": [
    "print('n_voxels')\n",
    "print('----------------')\n",
    "\n",
    "print(f'Mode:   {round(data['n_voxels'].mode().values[0], 2)}')\n",
    "print(f'Median: {round(data['n_voxels'].median(), 2)}')\n",
    "print(f'Mean:   {round(data['n_voxels'].mean(), 2)}')"
   ]
  },
  {
   "cell_type": "code",
   "execution_count": 16,
   "metadata": {},
   "outputs": [
    {
     "name": "stdout",
     "output_type": "stream",
     "text": [
      "n_voxels\n",
      "----------------\n",
      "Mode:   57879360\n",
      "Median: 48579888.0\n",
      "Mean:   51476226.4\n"
     ]
    }
   ],
   "source": [
    "# create a function to calculate the mode, median and mean for a given column\n",
    "def calculate_measure_central_tendency(data, column):\n",
    "    print(column)\n",
    "    print('----------------')\n",
    "\n",
    "    print(f'Mode:   {round(data[column].mode().values[0], 2)}')\n",
    "    print(f'Median: {round(statistics.median(data[column]), 2)}')\n",
    "    print(f'Mean:   {round(data[column].mean(), 2)}')\n",
    "\n",
    "calculate_measure_central_tendency(data, 'n_voxels')"
   ]
  },
  {
   "cell_type": "code",
   "execution_count": 17,
   "metadata": {},
   "outputs": [
    {
     "name": "stdout",
     "output_type": "stream",
     "text": [
      "x_shape\n",
      "----------------\n",
      "Mode:   406\n",
      "Median: 517.5\n",
      "Mean:   528.98\n",
      "\n",
      "y_shape\n",
      "----------------\n",
      "Mode:   604\n",
      "Median: 570.0\n",
      "Mean:   568.28\n"
     ]
    }
   ],
   "source": [
    "calculate_measure_central_tendency(data, 'x_shape')\n",
    "print()\n",
    "calculate_measure_central_tendency(data, 'y_shape')"
   ]
  },
  {
   "cell_type": "code",
   "execution_count": 18,
   "metadata": {},
   "outputs": [
    {
     "data": {
      "text/html": [
       "<div>\n",
       "<style scoped>\n",
       "    .dataframe tbody tr th:only-of-type {\n",
       "        vertical-align: middle;\n",
       "    }\n",
       "\n",
       "    .dataframe tbody tr th {\n",
       "        vertical-align: top;\n",
       "    }\n",
       "\n",
       "    .dataframe thead th {\n",
       "        text-align: right;\n",
       "    }\n",
       "</style>\n",
       "<table border=\"1\" class=\"dataframe\">\n",
       "  <thead>\n",
       "    <tr style=\"text-align: right;\">\n",
       "      <th></th>\n",
       "      <th>count</th>\n",
       "      <th>mean</th>\n",
       "      <th>std</th>\n",
       "      <th>min</th>\n",
       "      <th>25%</th>\n",
       "      <th>50%</th>\n",
       "      <th>75%</th>\n",
       "      <th>max</th>\n",
       "    </tr>\n",
       "  </thead>\n",
       "  <tbody>\n",
       "    <tr>\n",
       "      <th>x_shape</th>\n",
       "      <td>1482.00</td>\n",
       "      <td>528.98</td>\n",
       "      <td>147.32</td>\n",
       "      <td>226.00</td>\n",
       "      <td>399.00</td>\n",
       "      <td>517.50</td>\n",
       "      <td>658.00</td>\n",
       "      <td>983.00</td>\n",
       "    </tr>\n",
       "    <tr>\n",
       "      <th>y_shape</th>\n",
       "      <td>1482.00</td>\n",
       "      <td>568.28</td>\n",
       "      <td>64.00</td>\n",
       "      <td>365.00</td>\n",
       "      <td>530.00</td>\n",
       "      <td>570.00</td>\n",
       "      <td>610.00</td>\n",
       "      <td>872.00</td>\n",
       "    </tr>\n",
       "    <tr>\n",
       "      <th>z_shape</th>\n",
       "      <td>1482.00</td>\n",
       "      <td>168.00</td>\n",
       "      <td>0.03</td>\n",
       "      <td>167.00</td>\n",
       "      <td>168.00</td>\n",
       "      <td>168.00</td>\n",
       "      <td>168.00</td>\n",
       "      <td>168.00</td>\n",
       "    </tr>\n",
       "  </tbody>\n",
       "</table>\n",
       "</div>"
      ],
      "text/plain": [
       "          count   mean    std    min    25%    50%    75%    max\n",
       "x_shape 1482.00 528.98 147.32 226.00 399.00 517.50 658.00 983.00\n",
       "y_shape 1482.00 568.28  64.00 365.00 530.00 570.00 610.00 872.00\n",
       "z_shape 1482.00 168.00   0.03 167.00 168.00 168.00 168.00 168.00"
      ]
     },
     "execution_count": 18,
     "metadata": {},
     "output_type": "execute_result"
    }
   ],
   "source": [
    "data[['x_shape', 'y_shape', 'z_shape']].describe().transpose()"
   ]
  },
  {
   "cell_type": "markdown",
   "metadata": {},
   "source": [
    "> Depending on the type of data, the measures of central tendency were calculated for several examples."
   ]
  },
  {
   "cell_type": "markdown",
   "metadata": {},
   "source": [
    "# 3 - Measure of Dispersion\n",
    "https://mciwing.github.io/statistics/univariate/Dispersion/"
   ]
  },
  {
   "cell_type": "code",
   "execution_count": 19,
   "metadata": {},
   "outputs": [
    {
     "data": {
      "text/html": [
       "<div>\n",
       "<style scoped>\n",
       "    .dataframe tbody tr th:only-of-type {\n",
       "        vertical-align: middle;\n",
       "    }\n",
       "\n",
       "    .dataframe tbody tr th {\n",
       "        vertical-align: top;\n",
       "    }\n",
       "\n",
       "    .dataframe thead th {\n",
       "        text-align: right;\n",
       "    }\n",
       "</style>\n",
       "<table border=\"1\" class=\"dataframe\">\n",
       "  <thead>\n",
       "    <tr style=\"text-align: right;\">\n",
       "      <th></th>\n",
       "      <th>x_shape</th>\n",
       "      <th>y_shape</th>\n",
       "      <th>z_shape</th>\n",
       "      <th>max_val</th>\n",
       "      <th>min_val</th>\n",
       "      <th>mean_val</th>\n",
       "      <th>med_val</th>\n",
       "      <th>std_val</th>\n",
       "      <th>n_class_0</th>\n",
       "      <th>n_class_1</th>\n",
       "      <th>n_class_2</th>\n",
       "      <th>prop_class_0</th>\n",
       "      <th>prop_class_1</th>\n",
       "      <th>prop_class_2</th>\n",
       "      <th>n_voxels</th>\n",
       "      <th>vgs_int</th>\n",
       "    </tr>\n",
       "  </thead>\n",
       "  <tbody>\n",
       "    <tr>\n",
       "      <th>0</th>\n",
       "      <td>322</td>\n",
       "      <td>459</td>\n",
       "      <td>168</td>\n",
       "      <td>5824</td>\n",
       "      <td>-2215</td>\n",
       "      <td>348</td>\n",
       "      <td>99</td>\n",
       "      <td>866</td>\n",
       "      <td>14749962</td>\n",
       "      <td>7346617</td>\n",
       "      <td>2733485</td>\n",
       "      <td>0.59</td>\n",
       "      <td>0.30</td>\n",
       "      <td>0.11</td>\n",
       "      <td>24830064</td>\n",
       "      <td>3</td>\n",
       "    </tr>\n",
       "    <tr>\n",
       "      <th>1</th>\n",
       "      <td>355</td>\n",
       "      <td>452</td>\n",
       "      <td>168</td>\n",
       "      <td>4902</td>\n",
       "      <td>-1643</td>\n",
       "      <td>356</td>\n",
       "      <td>97</td>\n",
       "      <td>860</td>\n",
       "      <td>17604824</td>\n",
       "      <td>6584447</td>\n",
       "      <td>2768008</td>\n",
       "      <td>0.65</td>\n",
       "      <td>0.24</td>\n",
       "      <td>0.10</td>\n",
       "      <td>26957280</td>\n",
       "      <td>1</td>\n",
       "    </tr>\n",
       "    <tr>\n",
       "      <th>2</th>\n",
       "      <td>312</td>\n",
       "      <td>458</td>\n",
       "      <td>168</td>\n",
       "      <td>5437</td>\n",
       "      <td>-2294</td>\n",
       "      <td>379</td>\n",
       "      <td>104</td>\n",
       "      <td>900</td>\n",
       "      <td>13727102</td>\n",
       "      <td>7504448</td>\n",
       "      <td>2774978</td>\n",
       "      <td>0.57</td>\n",
       "      <td>0.31</td>\n",
       "      <td>0.12</td>\n",
       "      <td>24006528</td>\n",
       "      <td>1</td>\n",
       "    </tr>\n",
       "  </tbody>\n",
       "</table>\n",
       "</div>"
      ],
      "text/plain": [
       "   x_shape  y_shape  z_shape  max_val  min_val  mean_val  med_val  std_val  \\\n",
       "0      322      459      168     5824    -2215       348       99      866   \n",
       "1      355      452      168     4902    -1643       356       97      860   \n",
       "2      312      458      168     5437    -2294       379      104      900   \n",
       "\n",
       "   n_class_0  n_class_1  n_class_2  prop_class_0  prop_class_1  prop_class_2  \\\n",
       "0   14749962    7346617    2733485          0.59          0.30          0.11   \n",
       "1   17604824    6584447    2768008          0.65          0.24          0.10   \n",
       "2   13727102    7504448    2774978          0.57          0.31          0.12   \n",
       "\n",
       "   n_voxels  vgs_int  \n",
       "0  24830064        3  \n",
       "1  26957280        1  \n",
       "2  24006528        1  "
      ]
     },
     "execution_count": 19,
     "metadata": {},
     "output_type": "execute_result"
    }
   ],
   "source": [
    "data_numeric = data.select_dtypes(include=['number'])\n",
    "data_numeric.head(3)"
   ]
  },
  {
   "cell_type": "markdown",
   "metadata": {},
   "source": [
    "### Range"
   ]
  },
  {
   "cell_type": "code",
   "execution_count": 20,
   "metadata": {},
   "outputs": [
    {
     "data": {
      "text/plain": [
       "757.0"
      ]
     },
     "execution_count": 20,
     "metadata": {},
     "output_type": "execute_result"
    }
   ],
   "source": [
    "# define a function to calculate the range for a given column\n",
    "def calculate_range(data, column):\n",
    "    return float(data[column].max() - data[column].min())\n",
    "\n",
    "calculate_range(data, 'x_shape')"
   ]
  },
  {
   "cell_type": "code",
   "execution_count": 21,
   "metadata": {},
   "outputs": [
    {
     "data": {
      "text/html": [
       "<div>\n",
       "<style scoped>\n",
       "    .dataframe tbody tr th:only-of-type {\n",
       "        vertical-align: middle;\n",
       "    }\n",
       "\n",
       "    .dataframe tbody tr th {\n",
       "        vertical-align: top;\n",
       "    }\n",
       "\n",
       "    .dataframe thead th {\n",
       "        text-align: right;\n",
       "    }\n",
       "</style>\n",
       "<table border=\"1\" class=\"dataframe\">\n",
       "  <thead>\n",
       "    <tr style=\"text-align: right;\">\n",
       "      <th></th>\n",
       "      <th>range</th>\n",
       "    </tr>\n",
       "  </thead>\n",
       "  <tbody>\n",
       "    <tr>\n",
       "      <th>x_shape</th>\n",
       "      <td>757.00</td>\n",
       "    </tr>\n",
       "    <tr>\n",
       "      <th>y_shape</th>\n",
       "      <td>507.00</td>\n",
       "    </tr>\n",
       "    <tr>\n",
       "      <th>z_shape</th>\n",
       "      <td>1.00</td>\n",
       "    </tr>\n",
       "    <tr>\n",
       "      <th>max_val</th>\n",
       "      <td>11396.00</td>\n",
       "    </tr>\n",
       "    <tr>\n",
       "      <th>min_val</th>\n",
       "      <td>16198.00</td>\n",
       "    </tr>\n",
       "    <tr>\n",
       "      <th>mean_val</th>\n",
       "      <td>931.00</td>\n",
       "    </tr>\n",
       "    <tr>\n",
       "      <th>med_val</th>\n",
       "      <td>1035.00</td>\n",
       "    </tr>\n",
       "    <tr>\n",
       "      <th>std_val</th>\n",
       "      <td>599.00</td>\n",
       "    </tr>\n",
       "    <tr>\n",
       "      <th>n_class_0</th>\n",
       "      <td>52703001.00</td>\n",
       "    </tr>\n",
       "    <tr>\n",
       "      <th>n_class_1</th>\n",
       "      <td>78068752.00</td>\n",
       "    </tr>\n",
       "    <tr>\n",
       "      <th>n_class_2</th>\n",
       "      <td>10214362.00</td>\n",
       "    </tr>\n",
       "    <tr>\n",
       "      <th>prop_class_0</th>\n",
       "      <td>0.35</td>\n",
       "    </tr>\n",
       "    <tr>\n",
       "      <th>prop_class_1</th>\n",
       "      <td>0.37</td>\n",
       "    </tr>\n",
       "    <tr>\n",
       "      <th>prop_class_2</th>\n",
       "      <td>0.19</td>\n",
       "    </tr>\n",
       "    <tr>\n",
       "      <th>n_voxels</th>\n",
       "      <td>130147248.00</td>\n",
       "    </tr>\n",
       "    <tr>\n",
       "      <th>vgs_int</th>\n",
       "      <td>4.00</td>\n",
       "    </tr>\n",
       "  </tbody>\n",
       "</table>\n",
       "</div>"
      ],
      "text/plain": [
       "                    range\n",
       "x_shape            757.00\n",
       "y_shape            507.00\n",
       "z_shape              1.00\n",
       "max_val          11396.00\n",
       "min_val          16198.00\n",
       "mean_val           931.00\n",
       "med_val           1035.00\n",
       "std_val            599.00\n",
       "n_class_0     52703001.00\n",
       "n_class_1     78068752.00\n",
       "n_class_2     10214362.00\n",
       "prop_class_0         0.35\n",
       "prop_class_1         0.37\n",
       "prop_class_2         0.19\n",
       "n_voxels     130147248.00\n",
       "vgs_int              4.00"
      ]
     },
     "execution_count": 21,
     "metadata": {},
     "output_type": "execute_result"
    }
   ],
   "source": [
    "# Create a DataFrame to store measures of dispersion\n",
    "measure_dispersion_df = pd.DataFrame(index=data_numeric.columns)\n",
    "\n",
    "# Calculate range for all numeric columns\n",
    "measure_dispersion_df['range'] = data_numeric.apply(lambda x: calculate_range(data_numeric, x.name))\n",
    "\n",
    "measure_dispersion_df"
   ]
  },
  {
   "cell_type": "markdown",
   "metadata": {},
   "source": [
    "### Interquartile Range"
   ]
  },
  {
   "cell_type": "code",
   "execution_count": 22,
   "metadata": {},
   "outputs": [
    {
     "data": {
      "text/plain": [
       "259.0"
      ]
     },
     "execution_count": 22,
     "metadata": {},
     "output_type": "execute_result"
    }
   ],
   "source": [
    "# define a function to calculate the interquartile range for a given column\n",
    "def calculate_iqr(data, column):\n",
    "    q1 = data[column].quantile(0.25)\n",
    "    q3 = data[column].quantile(0.75)\n",
    "    return float(q3 - q1)\n",
    "\n",
    "calculate_iqr(data, 'x_shape')"
   ]
  },
  {
   "cell_type": "code",
   "execution_count": 23,
   "metadata": {},
   "outputs": [
    {
     "data": {
      "text/html": [
       "<div>\n",
       "<style scoped>\n",
       "    .dataframe tbody tr th:only-of-type {\n",
       "        vertical-align: middle;\n",
       "    }\n",
       "\n",
       "    .dataframe tbody tr th {\n",
       "        vertical-align: top;\n",
       "    }\n",
       "\n",
       "    .dataframe thead th {\n",
       "        text-align: right;\n",
       "    }\n",
       "</style>\n",
       "<table border=\"1\" class=\"dataframe\">\n",
       "  <thead>\n",
       "    <tr style=\"text-align: right;\">\n",
       "      <th></th>\n",
       "      <th>range</th>\n",
       "      <th>iqr</th>\n",
       "    </tr>\n",
       "  </thead>\n",
       "  <tbody>\n",
       "    <tr>\n",
       "      <th>x_shape</th>\n",
       "      <td>757.00</td>\n",
       "      <td>259.00</td>\n",
       "    </tr>\n",
       "    <tr>\n",
       "      <th>y_shape</th>\n",
       "      <td>507.00</td>\n",
       "      <td>80.00</td>\n",
       "    </tr>\n",
       "    <tr>\n",
       "      <th>z_shape</th>\n",
       "      <td>1.00</td>\n",
       "      <td>0.00</td>\n",
       "    </tr>\n",
       "    <tr>\n",
       "      <th>max_val</th>\n",
       "      <td>11396.00</td>\n",
       "      <td>671.25</td>\n",
       "    </tr>\n",
       "    <tr>\n",
       "      <th>min_val</th>\n",
       "      <td>16198.00</td>\n",
       "      <td>520.75</td>\n",
       "    </tr>\n",
       "    <tr>\n",
       "      <th>mean_val</th>\n",
       "      <td>931.00</td>\n",
       "      <td>140.00</td>\n",
       "    </tr>\n",
       "    <tr>\n",
       "      <th>med_val</th>\n",
       "      <td>1035.00</td>\n",
       "      <td>85.50</td>\n",
       "    </tr>\n",
       "    <tr>\n",
       "      <th>std_val</th>\n",
       "      <td>599.00</td>\n",
       "      <td>138.75</td>\n",
       "    </tr>\n",
       "    <tr>\n",
       "      <th>n_class_0</th>\n",
       "      <td>52703001.00</td>\n",
       "      <td>8362563.00</td>\n",
       "    </tr>\n",
       "    <tr>\n",
       "      <th>n_class_1</th>\n",
       "      <td>78068752.00</td>\n",
       "      <td>18889085.75</td>\n",
       "    </tr>\n",
       "    <tr>\n",
       "      <th>n_class_2</th>\n",
       "      <td>10214362.00</td>\n",
       "      <td>3399959.25</td>\n",
       "    </tr>\n",
       "    <tr>\n",
       "      <th>prop_class_0</th>\n",
       "      <td>0.35</td>\n",
       "      <td>0.13</td>\n",
       "    </tr>\n",
       "    <tr>\n",
       "      <th>prop_class_1</th>\n",
       "      <td>0.37</td>\n",
       "      <td>0.12</td>\n",
       "    </tr>\n",
       "    <tr>\n",
       "      <th>prop_class_2</th>\n",
       "      <td>0.19</td>\n",
       "      <td>0.03</td>\n",
       "    </tr>\n",
       "    <tr>\n",
       "      <th>n_voxels</th>\n",
       "      <td>130147248.00</td>\n",
       "      <td>27879138.00</td>\n",
       "    </tr>\n",
       "    <tr>\n",
       "      <th>vgs_int</th>\n",
       "      <td>4.00</td>\n",
       "      <td>1.00</td>\n",
       "    </tr>\n",
       "  </tbody>\n",
       "</table>\n",
       "</div>"
      ],
      "text/plain": [
       "                    range         iqr\n",
       "x_shape            757.00      259.00\n",
       "y_shape            507.00       80.00\n",
       "z_shape              1.00        0.00\n",
       "max_val          11396.00      671.25\n",
       "min_val          16198.00      520.75\n",
       "mean_val           931.00      140.00\n",
       "med_val           1035.00       85.50\n",
       "std_val            599.00      138.75\n",
       "n_class_0     52703001.00  8362563.00\n",
       "n_class_1     78068752.00 18889085.75\n",
       "n_class_2     10214362.00  3399959.25\n",
       "prop_class_0         0.35        0.13\n",
       "prop_class_1         0.37        0.12\n",
       "prop_class_2         0.19        0.03\n",
       "n_voxels     130147248.00 27879138.00\n",
       "vgs_int              4.00        1.00"
      ]
     },
     "execution_count": 23,
     "metadata": {},
     "output_type": "execute_result"
    }
   ],
   "source": [
    "# calculate IQR for all numeric columns\n",
    "measure_dispersion_df['iqr'] = data_numeric.apply(lambda x: calculate_iqr(data_numeric, x.name))\n",
    "measure_dispersion_df"
   ]
  },
  {
   "cell_type": "markdown",
   "metadata": {},
   "source": [
    "### Variance"
   ]
  },
  {
   "cell_type": "code",
   "execution_count": 24,
   "metadata": {},
   "outputs": [
    {
     "data": {
      "text/plain": [
       "21702.191"
      ]
     },
     "execution_count": 24,
     "metadata": {},
     "output_type": "execute_result"
    }
   ],
   "source": [
    "# define a function to calculate the variance for a given column\n",
    "def calculate_variance(data, column, round_to=3):\n",
    "    return float(round(data[column].var(), round_to))\n",
    "\n",
    "calculate_variance(data, 'x_shape')"
   ]
  },
  {
   "cell_type": "code",
   "execution_count": 25,
   "metadata": {},
   "outputs": [
    {
     "data": {
      "text/html": [
       "<div>\n",
       "<style scoped>\n",
       "    .dataframe tbody tr th:only-of-type {\n",
       "        vertical-align: middle;\n",
       "    }\n",
       "\n",
       "    .dataframe tbody tr th {\n",
       "        vertical-align: top;\n",
       "    }\n",
       "\n",
       "    .dataframe thead th {\n",
       "        text-align: right;\n",
       "    }\n",
       "</style>\n",
       "<table border=\"1\" class=\"dataframe\">\n",
       "  <thead>\n",
       "    <tr style=\"text-align: right;\">\n",
       "      <th></th>\n",
       "      <th>range</th>\n",
       "      <th>iqr</th>\n",
       "      <th>variance</th>\n",
       "    </tr>\n",
       "  </thead>\n",
       "  <tbody>\n",
       "    <tr>\n",
       "      <th>x_shape</th>\n",
       "      <td>757.00</td>\n",
       "      <td>259.00</td>\n",
       "      <td>21702.19</td>\n",
       "    </tr>\n",
       "    <tr>\n",
       "      <th>y_shape</th>\n",
       "      <td>507.00</td>\n",
       "      <td>80.00</td>\n",
       "      <td>4096.03</td>\n",
       "    </tr>\n",
       "    <tr>\n",
       "      <th>z_shape</th>\n",
       "      <td>1.00</td>\n",
       "      <td>0.00</td>\n",
       "      <td>0.00</td>\n",
       "    </tr>\n",
       "    <tr>\n",
       "      <th>max_val</th>\n",
       "      <td>11396.00</td>\n",
       "      <td>671.25</td>\n",
       "      <td>597297.53</td>\n",
       "    </tr>\n",
       "    <tr>\n",
       "      <th>min_val</th>\n",
       "      <td>16198.00</td>\n",
       "      <td>520.75</td>\n",
       "      <td>431871.65</td>\n",
       "    </tr>\n",
       "    <tr>\n",
       "      <th>mean_val</th>\n",
       "      <td>931.00</td>\n",
       "      <td>140.00</td>\n",
       "      <td>10772.51</td>\n",
       "    </tr>\n",
       "    <tr>\n",
       "      <th>med_val</th>\n",
       "      <td>1035.00</td>\n",
       "      <td>85.50</td>\n",
       "      <td>4520.26</td>\n",
       "    </tr>\n",
       "    <tr>\n",
       "      <th>std_val</th>\n",
       "      <td>599.00</td>\n",
       "      <td>138.75</td>\n",
       "      <td>10479.49</td>\n",
       "    </tr>\n",
       "    <tr>\n",
       "      <th>n_class_0</th>\n",
       "      <td>52703001.00</td>\n",
       "      <td>8362563.00</td>\n",
       "      <td>41700070941099.95</td>\n",
       "    </tr>\n",
       "    <tr>\n",
       "      <th>n_class_1</th>\n",
       "      <td>78068752.00</td>\n",
       "      <td>18889085.75</td>\n",
       "      <td>128801804599273.75</td>\n",
       "    </tr>\n",
       "    <tr>\n",
       "      <th>n_class_2</th>\n",
       "      <td>10214362.00</td>\n",
       "      <td>3399959.25</td>\n",
       "      <td>4500813493555.66</td>\n",
       "    </tr>\n",
       "    <tr>\n",
       "      <th>prop_class_0</th>\n",
       "      <td>0.35</td>\n",
       "      <td>0.13</td>\n",
       "      <td>0.01</td>\n",
       "    </tr>\n",
       "    <tr>\n",
       "      <th>prop_class_1</th>\n",
       "      <td>0.37</td>\n",
       "      <td>0.12</td>\n",
       "      <td>0.01</td>\n",
       "    </tr>\n",
       "    <tr>\n",
       "      <th>prop_class_2</th>\n",
       "      <td>0.19</td>\n",
       "      <td>0.03</td>\n",
       "      <td>0.00</td>\n",
       "    </tr>\n",
       "    <tr>\n",
       "      <th>n_voxels</th>\n",
       "      <td>130147248.00</td>\n",
       "      <td>27879138.00</td>\n",
       "      <td>341034915060421.12</td>\n",
       "    </tr>\n",
       "    <tr>\n",
       "      <th>vgs_int</th>\n",
       "      <td>4.00</td>\n",
       "      <td>1.00</td>\n",
       "      <td>1.12</td>\n",
       "    </tr>\n",
       "  </tbody>\n",
       "</table>\n",
       "</div>"
      ],
      "text/plain": [
       "                    range         iqr           variance\n",
       "x_shape            757.00      259.00           21702.19\n",
       "y_shape            507.00       80.00            4096.03\n",
       "z_shape              1.00        0.00               0.00\n",
       "max_val          11396.00      671.25          597297.53\n",
       "min_val          16198.00      520.75          431871.65\n",
       "mean_val           931.00      140.00           10772.51\n",
       "med_val           1035.00       85.50            4520.26\n",
       "std_val            599.00      138.75           10479.49\n",
       "n_class_0     52703001.00  8362563.00  41700070941099.95\n",
       "n_class_1     78068752.00 18889085.75 128801804599273.75\n",
       "n_class_2     10214362.00  3399959.25   4500813493555.66\n",
       "prop_class_0         0.35        0.13               0.01\n",
       "prop_class_1         0.37        0.12               0.01\n",
       "prop_class_2         0.19        0.03               0.00\n",
       "n_voxels     130147248.00 27879138.00 341034915060421.12\n",
       "vgs_int              4.00        1.00               1.12"
      ]
     },
     "execution_count": 25,
     "metadata": {},
     "output_type": "execute_result"
    }
   ],
   "source": [
    "# calculate variance for all numeric columns\n",
    "measure_dispersion_df['variance'] = data_numeric.apply(lambda x: calculate_variance(data_numeric, x.name))\n",
    "measure_dispersion_df"
   ]
  },
  {
   "cell_type": "markdown",
   "metadata": {},
   "source": [
    "### Standard Deviation"
   ]
  },
  {
   "cell_type": "code",
   "execution_count": 26,
   "metadata": {},
   "outputs": [
    {
     "data": {
      "text/plain": [
       "147.317"
      ]
     },
     "execution_count": 26,
     "metadata": {},
     "output_type": "execute_result"
    }
   ],
   "source": [
    "# define a function to calculate the standard deviation for a given column\n",
    "def calculate_standard_deviation(data, column, round_to=3):\n",
    "    return float(round(data[column].std(), round_to))\n",
    "\n",
    "calculate_standard_deviation(data, 'x_shape')"
   ]
  },
  {
   "cell_type": "code",
   "execution_count": 27,
   "metadata": {},
   "outputs": [
    {
     "data": {
      "text/html": [
       "<div>\n",
       "<style scoped>\n",
       "    .dataframe tbody tr th:only-of-type {\n",
       "        vertical-align: middle;\n",
       "    }\n",
       "\n",
       "    .dataframe tbody tr th {\n",
       "        vertical-align: top;\n",
       "    }\n",
       "\n",
       "    .dataframe thead th {\n",
       "        text-align: right;\n",
       "    }\n",
       "</style>\n",
       "<table border=\"1\" class=\"dataframe\">\n",
       "  <thead>\n",
       "    <tr style=\"text-align: right;\">\n",
       "      <th></th>\n",
       "      <th>range</th>\n",
       "      <th>iqr</th>\n",
       "      <th>variance</th>\n",
       "      <th>std_deviation</th>\n",
       "    </tr>\n",
       "  </thead>\n",
       "  <tbody>\n",
       "    <tr>\n",
       "      <th>x_shape</th>\n",
       "      <td>757.00</td>\n",
       "      <td>259.00</td>\n",
       "      <td>21702.19</td>\n",
       "      <td>147.32</td>\n",
       "    </tr>\n",
       "    <tr>\n",
       "      <th>y_shape</th>\n",
       "      <td>507.00</td>\n",
       "      <td>80.00</td>\n",
       "      <td>4096.03</td>\n",
       "      <td>64.00</td>\n",
       "    </tr>\n",
       "    <tr>\n",
       "      <th>z_shape</th>\n",
       "      <td>1.00</td>\n",
       "      <td>0.00</td>\n",
       "      <td>0.00</td>\n",
       "      <td>0.03</td>\n",
       "    </tr>\n",
       "    <tr>\n",
       "      <th>max_val</th>\n",
       "      <td>11396.00</td>\n",
       "      <td>671.25</td>\n",
       "      <td>597297.53</td>\n",
       "      <td>772.85</td>\n",
       "    </tr>\n",
       "    <tr>\n",
       "      <th>min_val</th>\n",
       "      <td>16198.00</td>\n",
       "      <td>520.75</td>\n",
       "      <td>431871.65</td>\n",
       "      <td>657.17</td>\n",
       "    </tr>\n",
       "    <tr>\n",
       "      <th>mean_val</th>\n",
       "      <td>931.00</td>\n",
       "      <td>140.00</td>\n",
       "      <td>10772.51</td>\n",
       "      <td>103.79</td>\n",
       "    </tr>\n",
       "    <tr>\n",
       "      <th>med_val</th>\n",
       "      <td>1035.00</td>\n",
       "      <td>85.50</td>\n",
       "      <td>4520.26</td>\n",
       "      <td>67.23</td>\n",
       "    </tr>\n",
       "    <tr>\n",
       "      <th>std_val</th>\n",
       "      <td>599.00</td>\n",
       "      <td>138.75</td>\n",
       "      <td>10479.49</td>\n",
       "      <td>102.37</td>\n",
       "    </tr>\n",
       "    <tr>\n",
       "      <th>n_class_0</th>\n",
       "      <td>52703001.00</td>\n",
       "      <td>8362563.00</td>\n",
       "      <td>41700070941099.95</td>\n",
       "      <td>6457559.21</td>\n",
       "    </tr>\n",
       "    <tr>\n",
       "      <th>n_class_1</th>\n",
       "      <td>78068752.00</td>\n",
       "      <td>18889085.75</td>\n",
       "      <td>128801804599273.75</td>\n",
       "      <td>11349088.27</td>\n",
       "    </tr>\n",
       "    <tr>\n",
       "      <th>n_class_2</th>\n",
       "      <td>10214362.00</td>\n",
       "      <td>3399959.25</td>\n",
       "      <td>4500813493555.66</td>\n",
       "      <td>2121512.08</td>\n",
       "    </tr>\n",
       "    <tr>\n",
       "      <th>prop_class_0</th>\n",
       "      <td>0.35</td>\n",
       "      <td>0.13</td>\n",
       "      <td>0.01</td>\n",
       "      <td>0.07</td>\n",
       "    </tr>\n",
       "    <tr>\n",
       "      <th>prop_class_1</th>\n",
       "      <td>0.37</td>\n",
       "      <td>0.12</td>\n",
       "      <td>0.01</td>\n",
       "      <td>0.07</td>\n",
       "    </tr>\n",
       "    <tr>\n",
       "      <th>prop_class_2</th>\n",
       "      <td>0.19</td>\n",
       "      <td>0.03</td>\n",
       "      <td>0.00</td>\n",
       "      <td>0.03</td>\n",
       "    </tr>\n",
       "    <tr>\n",
       "      <th>n_voxels</th>\n",
       "      <td>130147248.00</td>\n",
       "      <td>27879138.00</td>\n",
       "      <td>341034915060421.12</td>\n",
       "      <td>18467130.67</td>\n",
       "    </tr>\n",
       "    <tr>\n",
       "      <th>vgs_int</th>\n",
       "      <td>4.00</td>\n",
       "      <td>1.00</td>\n",
       "      <td>1.12</td>\n",
       "      <td>1.06</td>\n",
       "    </tr>\n",
       "  </tbody>\n",
       "</table>\n",
       "</div>"
      ],
      "text/plain": [
       "                    range         iqr           variance  std_deviation\n",
       "x_shape            757.00      259.00           21702.19         147.32\n",
       "y_shape            507.00       80.00            4096.03          64.00\n",
       "z_shape              1.00        0.00               0.00           0.03\n",
       "max_val          11396.00      671.25          597297.53         772.85\n",
       "min_val          16198.00      520.75          431871.65         657.17\n",
       "mean_val           931.00      140.00           10772.51         103.79\n",
       "med_val           1035.00       85.50            4520.26          67.23\n",
       "std_val            599.00      138.75           10479.49         102.37\n",
       "n_class_0     52703001.00  8362563.00  41700070941099.95     6457559.21\n",
       "n_class_1     78068752.00 18889085.75 128801804599273.75    11349088.27\n",
       "n_class_2     10214362.00  3399959.25   4500813493555.66     2121512.08\n",
       "prop_class_0         0.35        0.13               0.01           0.07\n",
       "prop_class_1         0.37        0.12               0.01           0.07\n",
       "prop_class_2         0.19        0.03               0.00           0.03\n",
       "n_voxels     130147248.00 27879138.00 341034915060421.12    18467130.67\n",
       "vgs_int              4.00        1.00               1.12           1.06"
      ]
     },
     "execution_count": 27,
     "metadata": {},
     "output_type": "execute_result"
    }
   ],
   "source": [
    "# calculate standard deviation for all numeric columns\n",
    "measure_dispersion_df['std_deviation'] = data_numeric.apply(lambda x: calculate_standard_deviation(data_numeric, x.name))\n",
    "measure_dispersion_df"
   ]
  },
  {
   "cell_type": "markdown",
   "metadata": {},
   "source": [
    "### Coefficient of Variation"
   ]
  },
  {
   "cell_type": "code",
   "execution_count": 28,
   "metadata": {},
   "outputs": [
    {
     "data": {
      "text/plain": [
       "Index(['scan_id', 'bone', 'side', 'patient_id', 'exam', 'vgs', 'x_shape',\n",
       "       'y_shape', 'z_shape', 'max_val', 'min_val', 'mean_val', 'med_val',\n",
       "       'std_val', 'n_class_0', 'n_class_1', 'n_class_2', 'prop_class_0',\n",
       "       'prop_class_1', 'prop_class_2', 'image_path', 'n_voxels', 'vgs_int'],\n",
       "      dtype='object')"
      ]
     },
     "execution_count": 28,
     "metadata": {},
     "output_type": "execute_result"
    }
   ],
   "source": [
    "data.columns"
   ]
  },
  {
   "cell_type": "code",
   "execution_count": 29,
   "metadata": {},
   "outputs": [
    {
     "data": {
      "text/plain": [
       "-0.252"
      ]
     },
     "execution_count": 29,
     "metadata": {},
     "output_type": "execute_result"
    }
   ],
   "source": [
    "# define a function to calculate the coefficient of variation for a given column\n",
    "def calculate_coefficient_of_variation(data, column, round_to=3):\n",
    "    std_dev = data[column].std()\n",
    "    mean = data[column].mean()\n",
    "    return float(round(std_dev / mean, round_to))\n",
    "\n",
    "calculate_coefficient_of_variation(data, 'min_val')"
   ]
  },
  {
   "cell_type": "code",
   "execution_count": 30,
   "metadata": {},
   "outputs": [
    {
     "data": {
      "text/html": [
       "<div>\n",
       "<style scoped>\n",
       "    .dataframe tbody tr th:only-of-type {\n",
       "        vertical-align: middle;\n",
       "    }\n",
       "\n",
       "    .dataframe tbody tr th {\n",
       "        vertical-align: top;\n",
       "    }\n",
       "\n",
       "    .dataframe thead th {\n",
       "        text-align: right;\n",
       "    }\n",
       "</style>\n",
       "<table border=\"1\" class=\"dataframe\">\n",
       "  <thead>\n",
       "    <tr style=\"text-align: right;\">\n",
       "      <th></th>\n",
       "      <th>range</th>\n",
       "      <th>iqr</th>\n",
       "      <th>variance</th>\n",
       "      <th>std_deviation</th>\n",
       "      <th>coeff_variation</th>\n",
       "    </tr>\n",
       "  </thead>\n",
       "  <tbody>\n",
       "    <tr>\n",
       "      <th>x_shape</th>\n",
       "      <td>757.00</td>\n",
       "      <td>259.00</td>\n",
       "      <td>21702.19</td>\n",
       "      <td>147.32</td>\n",
       "      <td>0.28</td>\n",
       "    </tr>\n",
       "    <tr>\n",
       "      <th>y_shape</th>\n",
       "      <td>507.00</td>\n",
       "      <td>80.00</td>\n",
       "      <td>4096.03</td>\n",
       "      <td>64.00</td>\n",
       "      <td>0.11</td>\n",
       "    </tr>\n",
       "    <tr>\n",
       "      <th>z_shape</th>\n",
       "      <td>1.00</td>\n",
       "      <td>0.00</td>\n",
       "      <td>0.00</td>\n",
       "      <td>0.03</td>\n",
       "      <td>0.00</td>\n",
       "    </tr>\n",
       "    <tr>\n",
       "      <th>max_val</th>\n",
       "      <td>11396.00</td>\n",
       "      <td>671.25</td>\n",
       "      <td>597297.53</td>\n",
       "      <td>772.85</td>\n",
       "      <td>0.14</td>\n",
       "    </tr>\n",
       "    <tr>\n",
       "      <th>min_val</th>\n",
       "      <td>16198.00</td>\n",
       "      <td>520.75</td>\n",
       "      <td>431871.65</td>\n",
       "      <td>657.17</td>\n",
       "      <td>-0.25</td>\n",
       "    </tr>\n",
       "    <tr>\n",
       "      <th>mean_val</th>\n",
       "      <td>931.00</td>\n",
       "      <td>140.00</td>\n",
       "      <td>10772.51</td>\n",
       "      <td>103.79</td>\n",
       "      <td>0.24</td>\n",
       "    </tr>\n",
       "    <tr>\n",
       "      <th>med_val</th>\n",
       "      <td>1035.00</td>\n",
       "      <td>85.50</td>\n",
       "      <td>4520.26</td>\n",
       "      <td>67.23</td>\n",
       "      <td>0.36</td>\n",
       "    </tr>\n",
       "    <tr>\n",
       "      <th>std_val</th>\n",
       "      <td>599.00</td>\n",
       "      <td>138.75</td>\n",
       "      <td>10479.49</td>\n",
       "      <td>102.37</td>\n",
       "      <td>0.12</td>\n",
       "    </tr>\n",
       "    <tr>\n",
       "      <th>n_class_0</th>\n",
       "      <td>52703001.00</td>\n",
       "      <td>8362563.00</td>\n",
       "      <td>41700070941099.95</td>\n",
       "      <td>6457559.21</td>\n",
       "      <td>0.28</td>\n",
       "    </tr>\n",
       "    <tr>\n",
       "      <th>n_class_1</th>\n",
       "      <td>78068752.00</td>\n",
       "      <td>18889085.75</td>\n",
       "      <td>128801804599273.75</td>\n",
       "      <td>11349088.27</td>\n",
       "      <td>0.48</td>\n",
       "    </tr>\n",
       "    <tr>\n",
       "      <th>n_class_2</th>\n",
       "      <td>10214362.00</td>\n",
       "      <td>3399959.25</td>\n",
       "      <td>4500813493555.66</td>\n",
       "      <td>2121512.08</td>\n",
       "      <td>0.44</td>\n",
       "    </tr>\n",
       "    <tr>\n",
       "      <th>prop_class_0</th>\n",
       "      <td>0.35</td>\n",
       "      <td>0.13</td>\n",
       "      <td>0.01</td>\n",
       "      <td>0.07</td>\n",
       "      <td>0.16</td>\n",
       "    </tr>\n",
       "    <tr>\n",
       "      <th>prop_class_1</th>\n",
       "      <td>0.37</td>\n",
       "      <td>0.12</td>\n",
       "      <td>0.01</td>\n",
       "      <td>0.07</td>\n",
       "      <td>0.16</td>\n",
       "    </tr>\n",
       "    <tr>\n",
       "      <th>prop_class_2</th>\n",
       "      <td>0.19</td>\n",
       "      <td>0.03</td>\n",
       "      <td>0.00</td>\n",
       "      <td>0.03</td>\n",
       "      <td>0.28</td>\n",
       "    </tr>\n",
       "    <tr>\n",
       "      <th>n_voxels</th>\n",
       "      <td>130147248.00</td>\n",
       "      <td>27879138.00</td>\n",
       "      <td>341034915060421.12</td>\n",
       "      <td>18467130.67</td>\n",
       "      <td>0.36</td>\n",
       "    </tr>\n",
       "    <tr>\n",
       "      <th>vgs_int</th>\n",
       "      <td>4.00</td>\n",
       "      <td>1.00</td>\n",
       "      <td>1.12</td>\n",
       "      <td>1.06</td>\n",
       "      <td>0.60</td>\n",
       "    </tr>\n",
       "  </tbody>\n",
       "</table>\n",
       "</div>"
      ],
      "text/plain": [
       "                    range         iqr           variance  std_deviation  \\\n",
       "x_shape            757.00      259.00           21702.19         147.32   \n",
       "y_shape            507.00       80.00            4096.03          64.00   \n",
       "z_shape              1.00        0.00               0.00           0.03   \n",
       "max_val          11396.00      671.25          597297.53         772.85   \n",
       "min_val          16198.00      520.75          431871.65         657.17   \n",
       "mean_val           931.00      140.00           10772.51         103.79   \n",
       "med_val           1035.00       85.50            4520.26          67.23   \n",
       "std_val            599.00      138.75           10479.49         102.37   \n",
       "n_class_0     52703001.00  8362563.00  41700070941099.95     6457559.21   \n",
       "n_class_1     78068752.00 18889085.75 128801804599273.75    11349088.27   \n",
       "n_class_2     10214362.00  3399959.25   4500813493555.66     2121512.08   \n",
       "prop_class_0         0.35        0.13               0.01           0.07   \n",
       "prop_class_1         0.37        0.12               0.01           0.07   \n",
       "prop_class_2         0.19        0.03               0.00           0.03   \n",
       "n_voxels     130147248.00 27879138.00 341034915060421.12    18467130.67   \n",
       "vgs_int              4.00        1.00               1.12           1.06   \n",
       "\n",
       "              coeff_variation  \n",
       "x_shape                  0.28  \n",
       "y_shape                  0.11  \n",
       "z_shape                  0.00  \n",
       "max_val                  0.14  \n",
       "min_val                 -0.25  \n",
       "mean_val                 0.24  \n",
       "med_val                  0.36  \n",
       "std_val                  0.12  \n",
       "n_class_0                0.28  \n",
       "n_class_1                0.48  \n",
       "n_class_2                0.44  \n",
       "prop_class_0             0.16  \n",
       "prop_class_1             0.16  \n",
       "prop_class_2             0.28  \n",
       "n_voxels                 0.36  \n",
       "vgs_int                  0.60  "
      ]
     },
     "execution_count": 30,
     "metadata": {},
     "output_type": "execute_result"
    }
   ],
   "source": [
    "# calculate coefficient of variation for all numeric columns\n",
    "measure_dispersion_df['coeff_variation'] = data_numeric.apply(lambda x: calculate_coefficient_of_variation(data_numeric, x.name))\n",
    "measure_dispersion_df"
   ]
  },
  {
   "cell_type": "markdown",
   "metadata": {},
   "source": [
    "> The measures of disperson were determined for all numerical data and summarised in a dataframe. It is noticeable that the coefficient of variation for 'min_val' is negative, as all values and therefore also the mean value are negative. It can also be clearly seen that the coefficient of variation, unlike the others, is not dependent on the range of values and therefore enables a better comparison between the different columns."
   ]
  },
  {
   "cell_type": "markdown",
   "metadata": {},
   "source": [
    "# 4 - Bivariate Frequency Distribution\n",
    "https://mciwing.github.io/statistics/bivariate/Frequency/"
   ]
  },
  {
   "cell_type": "markdown",
   "metadata": {},
   "source": [
    "### Histogram"
   ]
  },
  {
   "cell_type": "code",
   "execution_count": 31,
   "metadata": {},
   "outputs": [
    {
     "data": {
      "text/html": [
       "<div>\n",
       "<style scoped>\n",
       "    .dataframe tbody tr th:only-of-type {\n",
       "        vertical-align: middle;\n",
       "    }\n",
       "\n",
       "    .dataframe tbody tr th {\n",
       "        vertical-align: top;\n",
       "    }\n",
       "\n",
       "    .dataframe thead th {\n",
       "        text-align: right;\n",
       "    }\n",
       "</style>\n",
       "<table border=\"1\" class=\"dataframe\">\n",
       "  <thead>\n",
       "    <tr style=\"text-align: right;\">\n",
       "      <th></th>\n",
       "      <th>scan_id</th>\n",
       "      <th>bone</th>\n",
       "      <th>side</th>\n",
       "      <th>patient_id</th>\n",
       "      <th>exam</th>\n",
       "      <th>vgs</th>\n",
       "      <th>x_shape</th>\n",
       "      <th>y_shape</th>\n",
       "      <th>z_shape</th>\n",
       "      <th>max_val</th>\n",
       "      <th>...</th>\n",
       "      <th>std_val</th>\n",
       "      <th>n_class_0</th>\n",
       "      <th>n_class_1</th>\n",
       "      <th>n_class_2</th>\n",
       "      <th>prop_class_0</th>\n",
       "      <th>prop_class_1</th>\n",
       "      <th>prop_class_2</th>\n",
       "      <th>image_path</th>\n",
       "      <th>n_voxels</th>\n",
       "      <th>vgs_int</th>\n",
       "    </tr>\n",
       "  </thead>\n",
       "  <tbody>\n",
       "    <tr>\n",
       "      <th>0</th>\n",
       "      <td>D0004037</td>\n",
       "      <td>Radius</td>\n",
       "      <td>R</td>\n",
       "      <td>A01-0253</td>\n",
       "      <td>Ex01</td>\n",
       "      <td>VGS3</td>\n",
       "      <td>322</td>\n",
       "      <td>459</td>\n",
       "      <td>168</td>\n",
       "      <td>5824</td>\n",
       "      <td>...</td>\n",
       "      <td>866</td>\n",
       "      <td>14749962</td>\n",
       "      <td>7346617</td>\n",
       "      <td>2733485</td>\n",
       "      <td>0.59</td>\n",
       "      <td>0.30</td>\n",
       "      <td>0.11</td>\n",
       "      <td>/data/trainers/PPS_NPZs/Radius/A01-0253/Ex01/D...</td>\n",
       "      <td>24830064</td>\n",
       "      <td>3</td>\n",
       "    </tr>\n",
       "    <tr>\n",
       "      <th>1</th>\n",
       "      <td>D0004036</td>\n",
       "      <td>Radius</td>\n",
       "      <td>L</td>\n",
       "      <td>A01-0253</td>\n",
       "      <td>Ex01</td>\n",
       "      <td>VGS1</td>\n",
       "      <td>355</td>\n",
       "      <td>452</td>\n",
       "      <td>168</td>\n",
       "      <td>4902</td>\n",
       "      <td>...</td>\n",
       "      <td>860</td>\n",
       "      <td>17604824</td>\n",
       "      <td>6584447</td>\n",
       "      <td>2768008</td>\n",
       "      <td>0.65</td>\n",
       "      <td>0.24</td>\n",
       "      <td>0.10</td>\n",
       "      <td>/data/trainers/PPS_NPZs/Radius/A01-0253/Ex01/D...</td>\n",
       "      <td>26957280</td>\n",
       "      <td>1</td>\n",
       "    </tr>\n",
       "    <tr>\n",
       "      <th>2</th>\n",
       "      <td>D0004385</td>\n",
       "      <td>Radius</td>\n",
       "      <td>R</td>\n",
       "      <td>A01-0253</td>\n",
       "      <td>Ex02</td>\n",
       "      <td>VGS1</td>\n",
       "      <td>312</td>\n",
       "      <td>458</td>\n",
       "      <td>168</td>\n",
       "      <td>5437</td>\n",
       "      <td>...</td>\n",
       "      <td>900</td>\n",
       "      <td>13727102</td>\n",
       "      <td>7504448</td>\n",
       "      <td>2774978</td>\n",
       "      <td>0.57</td>\n",
       "      <td>0.31</td>\n",
       "      <td>0.12</td>\n",
       "      <td>/data/trainers/PPS_NPZs/Radius/A01-0253/Ex02/D...</td>\n",
       "      <td>24006528</td>\n",
       "      <td>1</td>\n",
       "    </tr>\n",
       "  </tbody>\n",
       "</table>\n",
       "<p>3 rows × 23 columns</p>\n",
       "</div>"
      ],
      "text/plain": [
       "    scan_id    bone side patient_id  exam   vgs  x_shape  y_shape  z_shape  \\\n",
       "0  D0004037  Radius    R   A01-0253  Ex01  VGS3      322      459      168   \n",
       "1  D0004036  Radius    L   A01-0253  Ex01  VGS1      355      452      168   \n",
       "2  D0004385  Radius    R   A01-0253  Ex02  VGS1      312      458      168   \n",
       "\n",
       "   max_val  ...  std_val  n_class_0  n_class_1  n_class_2  prop_class_0  \\\n",
       "0     5824  ...      866   14749962    7346617    2733485          0.59   \n",
       "1     4902  ...      860   17604824    6584447    2768008          0.65   \n",
       "2     5437  ...      900   13727102    7504448    2774978          0.57   \n",
       "\n",
       "   prop_class_1  prop_class_2  \\\n",
       "0          0.30          0.11   \n",
       "1          0.24          0.10   \n",
       "2          0.31          0.12   \n",
       "\n",
       "                                          image_path  n_voxels  vgs_int  \n",
       "0  /data/trainers/PPS_NPZs/Radius/A01-0253/Ex01/D...  24830064        3  \n",
       "1  /data/trainers/PPS_NPZs/Radius/A01-0253/Ex01/D...  26957280        1  \n",
       "2  /data/trainers/PPS_NPZs/Radius/A01-0253/Ex02/D...  24006528        1  \n",
       "\n",
       "[3 rows x 23 columns]"
      ]
     },
     "execution_count": 31,
     "metadata": {},
     "output_type": "execute_result"
    }
   ],
   "source": [
    "data.head(3)"
   ]
  },
  {
   "cell_type": "code",
   "execution_count": 32,
   "metadata": {},
   "outputs": [
    {
     "data": {
      "application/vnd.plotly.v1+json": {
       "config": {
        "plotlyServerURL": "https://plot.ly"
       },
       "data": [
        {
         "coloraxis": "coloraxis",
         "histnorm": "percent",
         "hovertemplate": "n_voxels=%{x}<br>bone=%{y}<br>percent=%{z}<extra></extra>",
         "name": "",
         "type": "histogram2d",
         "x": {
          "bdata": "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",
          "dtype": "i4"
         },
         "xaxis": "x",
         "xbingroup": "x",
         "y": [
          "Radius",
          "Radius",
          "Radius",
          "Radius",
          "Radius",
          "Radius",
          "Radius",
          "Radius",
          "Radius",
          "Radius",
          "Radius",
          "Radius",
          "Radius",
          "Radius",
          "Radius",
          "Radius",
          "Radius",
          "Radius",
          "Radius",
          "Radius",
          "Radius",
          "Radius",
          "Radius",
          "Radius",
          "Radius",
          "Radius",
          "Radius",
          "Radius",
          "Radius",
          "Radius",
          "Radius",
          "Radius",
          "Radius",
          "Radius",
          "Radius",
          "Radius",
          "Radius",
          "Radius",
          "Radius",
          "Radius",
          "Radius",
          "Radius",
          "Radius",
          "Radius",
          "Radius",
          "Radius",
          "Radius",
          "Radius",
          "Radius",
          "Radius",
          "Radius",
          "Radius",
          "Radius",
          "Radius",
          "Radius",
          "Radius",
          "Radius",
          "Radius",
          "Radius",
          "Radius",
          "Radius",
          "Radius",
          "Radius",
          "Radius",
          "Radius",
          "Radius",
          "Radius",
          "Radius",
          "Radius",
          "Radius",
          "Radius",
          "Radius",
          "Radius",
          "Radius",
          "Radius",
          "Radius",
          "Radius",
          "Radius",
          "Radius",
          "Radius",
          "Radius",
          "Radius",
          "Radius",
          "Radius",
          "Radius",
          "Radius",
          "Radius",
          "Radius",
          "Radius",
          "Radius",
          "Radius",
          "Radius",
          "Radius",
          "Radius",
          "Radius",
          "Radius",
          "Radius",
          "Radius",
          "Radius",
          "Radius",
          "Radius",
          "Radius",
          "Radius",
          "Radius",
          "Radius",
          "Radius",
          "Radius",
          "Radius",
          "Radius",
          "Radius",
          "Radius",
          "Radius",
          "Radius",
          "Radius",
          "Radius",
          "Radius",
          "Radius",
          "Radius",
          "Radius",
          "Radius",
          "Radius",
          "Radius",
          "Radius",
          "Radius",
          "Radius",
          "Radius",
          "Radius",
          "Radius",
          "Radius",
          "Radius",
          "Radius",
          "Radius",
          "Radius",
          "Radius",
          "Radius",
          "Radius",
          "Radius",
          "Radius",
          "Radius",
          "Radius",
          "Radius",
          "Radius",
          "Radius",
          "Radius",
          "Radius",
          "Radius",
          "Radius",
          "Radius",
          "Radius",
          "Radius",
          "Radius",
          "Radius",
          "Radius",
          "Radius",
          "Radius",
          "Radius",
          "Radius",
          "Radius",
          "Radius",
          "Radius",
          "Radius",
          "Radius",
          "Radius",
          "Radius",
          "Radius",
          "Radius",
          "Radius",
          "Radius",
          "Radius",
          "Radius",
          "Radius",
          "Radius",
          "Radius",
          "Radius",
          "Radius",
          "Radius",
          "Radius",
          "Radius",
          "Radius",
          "Radius",
          "Radius",
          "Radius",
          "Radius",
          "Radius",
          "Radius",
          "Radius",
          "Radius",
          "Radius",
          "Radius",
          "Radius",
          "Radius",
          "Radius",
          "Radius",
          "Radius",
          "Radius",
          "Radius",
          "Radius",
          "Radius",
          "Radius",
          "Radius",
          "Radius",
          "Radius",
          "Radius",
          "Radius",
          "Radius",
          "Radius",
          "Radius",
          "Radius",
          "Radius",
          "Radius",
          "Radius",
          "Radius",
          "Radius",
          "Radius",
          "Radius",
          "Radius",
          "Radius",
          "Radius",
          "Radius",
          "Radius",
          "Radius",
          "Radius",
          "Radius",
          "Radius",
          "Radius",
          "Radius",
          "Radius",
          "Radius",
          "Radius",
          "Radius",
          "Radius",
          "Radius",
          "Radius",
          "Radius",
          "Radius",
          "Radius",
          "Radius",
          "Radius",
          "Radius",
          "Radius",
          "Radius",
          "Radius",
          "Radius",
          "Radius",
          "Radius",
          "Radius",
          "Radius",
          "Radius",
          "Radius",
          "Radius",
          "Radius",
          "Radius",
          "Radius",
          "Radius",
          "Radius",
          "Radius",
          "Radius",
          "Radius",
          "Radius",
          "Radius",
          "Radius",
          "Radius",
          "Radius",
          "Radius",
          "Radius",
          "Radius",
          "Radius",
          "Radius",
          "Radius",
          "Radius",
          "Radius",
          "Radius",
          "Radius",
          "Radius",
          "Radius",
          "Radius",
          "Radius",
          "Radius",
          "Radius",
          "Radius",
          "Radius",
          "Radius",
          "Radius",
          "Radius",
          "Radius",
          "Radius",
          "Radius",
          "Radius",
          "Radius",
          "Radius",
          "Radius",
          "Radius",
          "Radius",
          "Radius",
          "Radius",
          "Radius",
          "Radius",
          "Radius",
          "Radius",
          "Radius",
          "Radius",
          "Radius",
          "Radius",
          "Radius",
          "Radius",
          "Radius",
          "Radius",
          "Radius",
          "Radius",
          "Radius",
          "Radius",
          "Radius",
          "Radius",
          "Radius",
          "Radius",
          "Radius",
          "Radius",
          "Radius",
          "Radius",
          "Radius",
          "Radius",
          "Radius",
          "Radius",
          "Radius",
          "Radius",
          "Radius",
          "Radius",
          "Radius",
          "Radius",
          "Radius",
          "Radius",
          "Radius",
          "Radius",
          "Radius",
          "Radius",
          "Radius",
          "Radius",
          "Radius",
          "Radius",
          "Radius",
          "Radius",
          "Radius",
          "Radius",
          "Radius",
          "Radius",
          "Radius",
          "Radius",
          "Radius",
          "Radius",
          "Radius",
          "Radius",
          "Radius",
          "Radius",
          "Radius",
          "Radius",
          "Radius",
          "Radius",
          "Radius",
          "Radius",
          "Radius",
          "Radius",
          "Radius",
          "Radius",
          "Radius",
          "Radius",
          "Radius",
          "Radius",
          "Radius",
          "Radius",
          "Radius",
          "Radius",
          "Radius",
          "Radius",
          "Radius",
          "Radius",
          "Radius",
          "Radius",
          "Radius",
          "Radius",
          "Radius",
          "Radius",
          "Radius",
          "Radius",
          "Radius",
          "Radius",
          "Radius",
          "Radius",
          "Radius",
          "Radius",
          "Radius",
          "Radius",
          "Radius",
          "Radius",
          "Radius",
          "Radius",
          "Radius",
          "Radius",
          "Radius",
          "Radius",
          "Radius",
          "Radius",
          "Radius",
          "Radius",
          "Radius",
          "Radius",
          "Radius",
          "Radius",
          "Radius",
          "Radius",
          "Radius",
          "Radius",
          "Radius",
          "Radius",
          "Radius",
          "Radius",
          "Radius",
          "Radius",
          "Radius",
          "Radius",
          "Radius",
          "Radius",
          "Radius",
          "Radius",
          "Radius",
          "Radius",
          "Radius",
          "Radius",
          "Radius",
          "Radius",
          "Radius",
          "Radius",
          "Radius",
          "Radius",
          "Radius",
          "Radius",
          "Radius",
          "Radius",
          "Radius",
          "Radius",
          "Radius",
          "Radius",
          "Radius",
          "Radius",
          "Radius",
          "Radius",
          "Radius",
          "Radius",
          "Radius",
          "Radius",
          "Radius",
          "Radius",
          "Radius",
          "Radius",
          "Radius",
          "Radius",
          "Radius",
          "Radius",
          "Radius",
          "Radius",
          "Radius",
          "Radius",
          "Radius",
          "Radius",
          "Radius",
          "Radius",
          "Radius",
          "Radius",
          "Radius",
          "Radius",
          "Radius",
          "Radius",
          "Radius",
          "Radius",
          "Radius",
          "Radius",
          "Radius",
          "Radius",
          "Radius",
          "Radius",
          "Radius",
          "Radius",
          "Radius",
          "Radius",
          "Radius",
          "Radius",
          "Radius",
          "Radius",
          "Radius",
          "Radius",
          "Radius",
          "Radius",
          "Radius",
          "Radius",
          "Radius",
          "Radius",
          "Radius",
          "Radius",
          "Radius",
          "Radius",
          "Radius",
          "Radius",
          "Radius",
          "Radius",
          "Radius",
          "Radius",
          "Radius",
          "Radius",
          "Radius",
          "Radius",
          "Radius",
          "Radius",
          "Radius",
          "Radius",
          "Radius",
          "Radius",
          "Radius",
          "Radius",
          "Radius",
          "Radius",
          "Radius",
          "Radius",
          "Radius",
          "Radius",
          "Radius",
          "Radius",
          "Radius",
          "Radius",
          "Radius",
          "Radius",
          "Radius",
          "Radius",
          "Radius",
          "Radius",
          "Radius",
          "Radius",
          "Radius",
          "Radius",
          "Radius",
          "Radius",
          "Radius",
          "Radius",
          "Radius",
          "Radius",
          "Radius",
          "Radius",
          "Radius",
          "Radius",
          "Radius",
          "Radius",
          "Radius",
          "Radius",
          "Radius",
          "Radius",
          "Radius",
          "Radius",
          "Radius",
          "Radius",
          "Radius",
          "Radius",
          "Radius",
          "Radius",
          "Radius",
          "Radius",
          "Radius",
          "Radius",
          "Radius",
          "Radius",
          "Radius",
          "Radius",
          "Radius",
          "Radius",
          "Radius",
          "Radius",
          "Radius",
          "Radius",
          "Radius",
          "Radius",
          "Radius",
          "Radius",
          "Radius",
          "Radius",
          "Radius",
          "Radius",
          "Radius",
          "Radius",
          "Radius",
          "Radius",
          "Radius",
          "Radius",
          "Radius",
          "Radius",
          "Radius",
          "Radius",
          "Radius",
          "Radius",
          "Radius",
          "Radius",
          "Radius",
          "Radius",
          "Radius",
          "Radius",
          "Radius",
          "Radius",
          "Radius",
          "Radius",
          "Radius",
          "Radius",
          "Radius",
          "Radius",
          "Radius",
          "Radius",
          "Radius",
          "Radius",
          "Radius",
          "Radius",
          "Radius",
          "Radius",
          "Radius",
          "Radius",
          "Radius",
          "Radius",
          "Radius",
          "Radius",
          "Radius",
          "Radius",
          "Radius",
          "Radius",
          "Radius",
          "Radius",
          "Radius",
          "Radius",
          "Radius",
          "Radius",
          "Radius",
          "Radius",
          "Radius",
          "Radius",
          "Radius",
          "Radius",
          "Radius",
          "Radius",
          "Radius",
          "Radius",
          "Radius",
          "Radius",
          "Radius",
          "Radius",
          "Radius",
          "Radius",
          "Radius",
          "Radius",
          "Radius",
          "Radius",
          "Radius",
          "Radius",
          "Radius",
          "Radius",
          "Radius",
          "Radius",
          "Radius",
          "Radius",
          "Radius",
          "Radius",
          "Radius",
          "Radius",
          "Tibia",
          "Tibia",
          "Tibia",
          "Tibia",
          "Tibia",
          "Tibia",
          "Tibia",
          "Tibia",
          "Tibia",
          "Tibia",
          "Tibia",
          "Tibia",
          "Tibia",
          "Tibia",
          "Tibia",
          "Tibia",
          "Tibia",
          "Tibia",
          "Tibia",
          "Tibia",
          "Tibia",
          "Tibia",
          "Tibia",
          "Tibia",
          "Tibia",
          "Tibia",
          "Tibia",
          "Tibia",
          "Tibia",
          "Tibia",
          "Tibia",
          "Tibia",
          "Tibia",
          "Tibia",
          "Tibia",
          "Tibia",
          "Tibia",
          "Tibia",
          "Tibia",
          "Tibia",
          "Tibia",
          "Tibia",
          "Tibia",
          "Tibia",
          "Tibia",
          "Tibia",
          "Tibia",
          "Tibia",
          "Tibia",
          "Tibia",
          "Tibia",
          "Tibia",
          "Tibia",
          "Tibia",
          "Tibia",
          "Tibia",
          "Tibia",
          "Tibia",
          "Tibia",
          "Tibia",
          "Tibia",
          "Tibia",
          "Tibia",
          "Tibia",
          "Tibia",
          "Tibia",
          "Tibia",
          "Tibia",
          "Tibia",
          "Tibia",
          "Tibia",
          "Tibia",
          "Tibia",
          "Tibia",
          "Tibia",
          "Tibia",
          "Tibia",
          "Tibia",
          "Tibia",
          "Tibia",
          "Tibia",
          "Tibia",
          "Tibia",
          "Tibia",
          "Tibia",
          "Tibia",
          "Tibia",
          "Tibia",
          "Tibia",
          "Tibia",
          "Tibia",
          "Tibia",
          "Tibia",
          "Tibia",
          "Tibia",
          "Tibia",
          "Tibia",
          "Tibia",
          "Tibia",
          "Tibia",
          "Tibia",
          "Tibia",
          "Tibia",
          "Tibia",
          "Tibia",
          "Tibia",
          "Tibia",
          "Tibia",
          "Tibia",
          "Tibia",
          "Tibia",
          "Tibia",
          "Tibia",
          "Tibia",
          "Tibia",
          "Tibia",
          "Tibia",
          "Tibia",
          "Tibia",
          "Tibia",
          "Tibia",
          "Tibia",
          "Tibia",
          "Tibia",
          "Tibia",
          "Tibia",
          "Tibia",
          "Tibia",
          "Tibia",
          "Tibia",
          "Tibia",
          "Tibia",
          "Tibia",
          "Tibia",
          "Tibia",
          "Tibia",
          "Tibia",
          "Tibia",
          "Tibia",
          "Tibia",
          "Tibia",
          "Tibia",
          "Tibia",
          "Tibia",
          "Tibia",
          "Tibia",
          "Tibia",
          "Tibia",
          "Tibia",
          "Tibia",
          "Tibia",
          "Tibia",
          "Tibia",
          "Tibia",
          "Tibia",
          "Tibia",
          "Tibia",
          "Tibia",
          "Tibia",
          "Tibia",
          "Tibia",
          "Tibia",
          "Tibia",
          "Tibia",
          "Tibia",
          "Tibia",
          "Tibia",
          "Tibia",
          "Tibia",
          "Tibia",
          "Tibia",
          "Tibia",
          "Tibia",
          "Tibia",
          "Tibia",
          "Tibia",
          "Tibia",
          "Tibia",
          "Tibia",
          "Tibia",
          "Tibia",
          "Tibia",
          "Tibia",
          "Tibia",
          "Tibia",
          "Tibia",
          "Tibia",
          "Tibia",
          "Tibia",
          "Tibia",
          "Tibia",
          "Tibia",
          "Tibia",
          "Tibia",
          "Tibia",
          "Tibia",
          "Tibia",
          "Tibia",
          "Tibia",
          "Tibia",
          "Tibia",
          "Tibia",
          "Tibia",
          "Tibia",
          "Tibia",
          "Tibia",
          "Tibia",
          "Tibia",
          "Tibia",
          "Tibia",
          "Tibia",
          "Tibia",
          "Tibia",
          "Tibia",
          "Tibia",
          "Tibia",
          "Tibia",
          "Tibia",
          "Tibia",
          "Tibia",
          "Tibia",
          "Tibia",
          "Tibia",
          "Tibia",
          "Tibia",
          "Tibia",
          "Tibia",
          "Tibia",
          "Tibia",
          "Tibia",
          "Tibia",
          "Tibia",
          "Tibia",
          "Tibia",
          "Tibia",
          "Tibia",
          "Tibia",
          "Tibia",
          "Tibia",
          "Tibia",
          "Tibia",
          "Tibia",
          "Tibia",
          "Tibia",
          "Tibia",
          "Tibia",
          "Tibia",
          "Tibia",
          "Tibia",
          "Tibia",
          "Tibia",
          "Tibia",
          "Tibia",
          "Tibia",
          "Tibia",
          "Tibia",
          "Tibia",
          "Tibia",
          "Tibia",
          "Tibia",
          "Tibia",
          "Tibia",
          "Tibia",
          "Tibia",
          "Tibia",
          "Tibia",
          "Tibia",
          "Tibia",
          "Tibia",
          "Tibia",
          "Tibia",
          "Tibia",
          "Tibia",
          "Tibia",
          "Tibia",
          "Tibia",
          "Tibia",
          "Tibia",
          "Tibia",
          "Tibia",
          "Tibia",
          "Tibia",
          "Tibia",
          "Tibia",
          "Tibia",
          "Tibia",
          "Tibia",
          "Tibia",
          "Tibia",
          "Tibia",
          "Tibia",
          "Tibia",
          "Tibia",
          "Tibia",
          "Tibia",
          "Tibia",
          "Tibia",
          "Tibia",
          "Tibia",
          "Tibia",
          "Tibia",
          "Tibia",
          "Tibia",
          "Tibia",
          "Tibia",
          "Tibia",
          "Tibia",
          "Tibia",
          "Tibia",
          "Tibia",
          "Tibia",
          "Tibia",
          "Tibia",
          "Tibia",
          "Tibia",
          "Tibia",
          "Tibia",
          "Tibia",
          "Tibia",
          "Tibia",
          "Tibia",
          "Tibia",
          "Tibia",
          "Tibia",
          "Tibia",
          "Tibia",
          "Tibia",
          "Tibia",
          "Tibia",
          "Tibia",
          "Tibia",
          "Tibia",
          "Tibia",
          "Tibia",
          "Tibia",
          "Tibia",
          "Tibia",
          "Tibia",
          "Tibia",
          "Tibia",
          "Tibia",
          "Tibia",
          "Tibia",
          "Tibia",
          "Tibia",
          "Tibia",
          "Tibia",
          "Tibia",
          "Tibia",
          "Tibia",
          "Tibia",
          "Tibia",
          "Tibia",
          "Tibia",
          "Tibia",
          "Tibia",
          "Tibia",
          "Tibia",
          "Tibia",
          "Tibia",
          "Tibia",
          "Tibia",
          "Tibia",
          "Tibia",
          "Tibia",
          "Tibia",
          "Tibia",
          "Tibia",
          "Tibia",
          "Tibia",
          "Tibia",
          "Tibia",
          "Tibia",
          "Tibia",
          "Tibia",
          "Tibia",
          "Tibia",
          "Tibia",
          "Tibia",
          "Tibia",
          "Tibia",
          "Tibia",
          "Tibia",
          "Tibia",
          "Tibia",
          "Tibia",
          "Tibia",
          "Tibia",
          "Tibia",
          "Tibia",
          "Tibia",
          "Tibia",
          "Tibia",
          "Tibia",
          "Tibia",
          "Tibia",
          "Tibia",
          "Tibia",
          "Tibia",
          "Tibia",
          "Tibia",
          "Tibia",
          "Tibia",
          "Tibia",
          "Tibia",
          "Tibia",
          "Tibia",
          "Tibia",
          "Tibia",
          "Tibia",
          "Tibia",
          "Tibia",
          "Tibia",
          "Tibia",
          "Tibia",
          "Tibia",
          "Tibia",
          "Tibia",
          "Tibia",
          "Tibia",
          "Tibia",
          "Tibia",
          "Tibia",
          "Tibia",
          "Tibia",
          "Tibia",
          "Tibia",
          "Tibia",
          "Tibia",
          "Tibia",
          "Tibia",
          "Tibia",
          "Tibia",
          "Tibia",
          "Tibia",
          "Tibia",
          "Tibia",
          "Tibia",
          "Tibia",
          "Tibia",
          "Tibia",
          "Tibia",
          "Tibia",
          "Tibia",
          "Tibia",
          "Tibia",
          "Tibia",
          "Tibia",
          "Tibia",
          "Tibia",
          "Tibia",
          "Tibia",
          "Tibia",
          "Tibia",
          "Tibia",
          "Tibia",
          "Tibia",
          "Tibia",
          "Tibia",
          "Tibia",
          "Tibia",
          "Tibia",
          "Tibia",
          "Tibia",
          "Tibia",
          "Tibia",
          "Tibia",
          "Tibia",
          "Tibia",
          "Tibia",
          "Tibia",
          "Tibia",
          "Tibia",
          "Tibia",
          "Tibia",
          "Tibia",
          "Tibia",
          "Tibia",
          "Tibia",
          "Tibia",
          "Tibia",
          "Tibia",
          "Tibia",
          "Tibia",
          "Tibia",
          "Tibia",
          "Tibia",
          "Tibia",
          "Tibia",
          "Tibia",
          "Tibia",
          "Tibia",
          "Tibia",
          "Tibia",
          "Tibia",
          "Tibia",
          "Tibia",
          "Tibia",
          "Tibia",
          "Tibia",
          "Tibia",
          "Tibia",
          "Tibia",
          "Tibia",
          "Tibia",
          "Tibia",
          "Tibia",
          "Tibia",
          "Tibia",
          "Tibia",
          "Tibia",
          "Tibia",
          "Tibia",
          "Tibia",
          "Tibia",
          "Tibia",
          "Tibia",
          "Tibia",
          "Tibia",
          "Tibia",
          "Tibia",
          "Tibia",
          "Tibia",
          "Tibia",
          "Tibia",
          "Tibia",
          "Tibia",
          "Tibia",
          "Tibia",
          "Tibia",
          "Tibia",
          "Tibia",
          "Tibia",
          "Tibia",
          "Tibia",
          "Tibia",
          "Tibia",
          "Tibia",
          "Tibia",
          "Tibia",
          "Tibia",
          "Tibia",
          "Tibia",
          "Tibia",
          "Tibia",
          "Tibia",
          "Tibia",
          "Tibia",
          "Tibia",
          "Tibia",
          "Tibia",
          "Tibia",
          "Tibia",
          "Tibia",
          "Tibia",
          "Tibia",
          "Tibia",
          "Tibia",
          "Tibia",
          "Tibia",
          "Tibia",
          "Tibia",
          "Tibia",
          "Tibia",
          "Tibia",
          "Tibia",
          "Tibia",
          "Tibia",
          "Tibia",
          "Tibia",
          "Tibia",
          "Tibia",
          "Tibia",
          "Tibia",
          "Tibia",
          "Tibia",
          "Tibia",
          "Tibia",
          "Tibia",
          "Tibia",
          "Tibia",
          "Tibia",
          "Tibia",
          "Tibia",
          "Tibia",
          "Tibia",
          "Tibia",
          "Tibia",
          "Tibia",
          "Tibia",
          "Tibia",
          "Tibia",
          "Tibia",
          "Tibia",
          "Tibia",
          "Tibia",
          "Tibia",
          "Tibia",
          "Tibia",
          "Tibia",
          "Tibia",
          "Tibia",
          "Tibia",
          "Tibia",
          "Tibia",
          "Tibia",
          "Tibia",
          "Tibia",
          "Tibia",
          "Tibia",
          "Tibia",
          "Tibia",
          "Tibia",
          "Tibia",
          "Tibia",
          "Tibia",
          "Tibia",
          "Tibia",
          "Tibia",
          "Tibia",
          "Tibia",
          "Tibia",
          "Tibia",
          "Tibia",
          "Tibia",
          "Tibia",
          "Tibia",
          "Tibia",
          "Tibia",
          "Tibia",
          "Tibia",
          "Tibia",
          "Tibia",
          "Tibia",
          "Tibia",
          "Tibia",
          "Tibia",
          "Tibia",
          "Tibia",
          "Tibia",
          "Tibia",
          "Tibia",
          "Tibia",
          "Tibia",
          "Tibia",
          "Tibia",
          "Tibia",
          "Tibia",
          "Tibia",
          "Tibia",
          "Tibia",
          "Tibia",
          "Tibia",
          "Tibia",
          "Tibia",
          "Tibia",
          "Tibia",
          "Tibia",
          "Tibia",
          "Tibia",
          "Tibia",
          "Tibia",
          "Tibia",
          "Tibia",
          "Tibia",
          "Tibia",
          "Tibia",
          "Tibia",
          "Tibia",
          "Tibia",
          "Tibia",
          "Tibia",
          "Tibia",
          "Tibia",
          "Tibia",
          "Tibia",
          "Tibia",
          "Tibia",
          "Tibia",
          "Tibia",
          "Tibia",
          "Tibia",
          "Tibia",
          "Tibia",
          "Tibia",
          "Tibia",
          "Tibia",
          "Tibia",
          "Tibia",
          "Tibia",
          "Tibia",
          "Tibia",
          "Tibia",
          "Tibia",
          "Tibia",
          "Tibia",
          "Tibia",
          "Tibia",
          "Tibia",
          "Tibia",
          "Tibia",
          "Tibia",
          "Tibia",
          "Tibia",
          "Tibia",
          "Tibia",
          "Tibia",
          "Tibia",
          "Tibia",
          "Tibia",
          "Tibia",
          "Tibia",
          "Tibia",
          "Tibia",
          "Tibia",
          "Tibia",
          "Tibia",
          "Tibia",
          "Tibia",
          "Tibia",
          "Tibia",
          "Tibia",
          "Tibia",
          "Tibia",
          "Tibia",
          "Tibia",
          "Tibia",
          "Tibia",
          "Tibia",
          "Tibia",
          "Tibia",
          "Tibia",
          "Tibia",
          "Tibia",
          "Tibia",
          "Tibia",
          "Tibia",
          "Tibia",
          "Tibia",
          "Tibia",
          "Tibia",
          "Radius",
          "Radius",
          "Radius",
          "Radius",
          "Radius",
          "Radius",
          "Radius",
          "Radius",
          "Radius",
          "Radius",
          "Radius",
          "Radius",
          "Radius",
          "Radius",
          "Radius",
          "Radius",
          "Radius",
          "Radius",
          "Radius",
          "Radius",
          "Radius",
          "Radius",
          "Radius",
          "Radius",
          "Radius",
          "Radius",
          "Radius",
          "Radius",
          "Radius",
          "Radius",
          "Radius",
          "Radius",
          "Radius",
          "Radius",
          "Radius",
          "Radius",
          "Radius",
          "Radius",
          "Radius",
          "Radius",
          "Radius",
          "Radius",
          "Radius",
          "Radius",
          "Radius",
          "Radius",
          "Radius",
          "Radius",
          "Radius",
          "Radius",
          "Radius",
          "Radius",
          "Radius",
          "Radius",
          "Radius",
          "Radius",
          "Radius",
          "Radius",
          "Radius",
          "Radius",
          "Radius",
          "Radius",
          "Radius",
          "Radius",
          "Radius",
          "Radius",
          "Radius",
          "Radius",
          "Radius",
          "Radius",
          "Radius",
          "Radius",
          "Radius",
          "Radius",
          "Radius",
          "Radius"
         ],
         "yaxis": "y",
         "ybingroup": "y"
        }
       ],
       "layout": {
        "coloraxis": {
         "colorbar": {
          "title": {
           "text": "percent"
          }
         },
         "colorscale": [
          [
           0,
           "#000004"
          ],
          [
           0.1111111111111111,
           "#1b0c41"
          ],
          [
           0.2222222222222222,
           "#4a0c6b"
          ],
          [
           0.3333333333333333,
           "#781c6d"
          ],
          [
           0.4444444444444444,
           "#a52c60"
          ],
          [
           0.5555555555555556,
           "#cf4446"
          ],
          [
           0.6666666666666666,
           "#ed6925"
          ],
          [
           0.7777777777777778,
           "#fb9b06"
          ],
          [
           0.8888888888888888,
           "#f7d13d"
          ],
          [
           1,
           "#fcffa4"
          ]
         ]
        },
        "legend": {
         "tracegroupgap": 0
        },
        "template": {
         "data": {
          "bar": [
           {
            "error_x": {
             "color": "rgb(36,36,36)"
            },
            "error_y": {
             "color": "rgb(36,36,36)"
            },
            "marker": {
             "line": {
              "color": "white",
              "width": 0.5
             },
             "pattern": {
              "fillmode": "overlay",
              "size": 10,
              "solidity": 0.2
             }
            },
            "type": "bar"
           }
          ],
          "barpolar": [
           {
            "marker": {
             "line": {
              "color": "white",
              "width": 0.5
             },
             "pattern": {
              "fillmode": "overlay",
              "size": 10,
              "solidity": 0.2
             }
            },
            "type": "barpolar"
           }
          ],
          "carpet": [
           {
            "aaxis": {
             "endlinecolor": "rgb(36,36,36)",
             "gridcolor": "white",
             "linecolor": "white",
             "minorgridcolor": "white",
             "startlinecolor": "rgb(36,36,36)"
            },
            "baxis": {
             "endlinecolor": "rgb(36,36,36)",
             "gridcolor": "white",
             "linecolor": "white",
             "minorgridcolor": "white",
             "startlinecolor": "rgb(36,36,36)"
            },
            "type": "carpet"
           }
          ],
          "choropleth": [
           {
            "colorbar": {
             "outlinewidth": 1,
             "tickcolor": "rgb(36,36,36)",
             "ticks": "outside"
            },
            "type": "choropleth"
           }
          ],
          "contour": [
           {
            "colorbar": {
             "outlinewidth": 1,
             "tickcolor": "rgb(36,36,36)",
             "ticks": "outside"
            },
            "colorscale": [
             [
              0,
              "#440154"
             ],
             [
              0.1111111111111111,
              "#482878"
             ],
             [
              0.2222222222222222,
              "#3e4989"
             ],
             [
              0.3333333333333333,
              "#31688e"
             ],
             [
              0.4444444444444444,
              "#26828e"
             ],
             [
              0.5555555555555556,
              "#1f9e89"
             ],
             [
              0.6666666666666666,
              "#35b779"
             ],
             [
              0.7777777777777778,
              "#6ece58"
             ],
             [
              0.8888888888888888,
              "#b5de2b"
             ],
             [
              1,
              "#fde725"
             ]
            ],
            "type": "contour"
           }
          ],
          "contourcarpet": [
           {
            "colorbar": {
             "outlinewidth": 1,
             "tickcolor": "rgb(36,36,36)",
             "ticks": "outside"
            },
            "type": "contourcarpet"
           }
          ],
          "heatmap": [
           {
            "colorbar": {
             "outlinewidth": 1,
             "tickcolor": "rgb(36,36,36)",
             "ticks": "outside"
            },
            "colorscale": [
             [
              0,
              "#440154"
             ],
             [
              0.1111111111111111,
              "#482878"
             ],
             [
              0.2222222222222222,
              "#3e4989"
             ],
             [
              0.3333333333333333,
              "#31688e"
             ],
             [
              0.4444444444444444,
              "#26828e"
             ],
             [
              0.5555555555555556,
              "#1f9e89"
             ],
             [
              0.6666666666666666,
              "#35b779"
             ],
             [
              0.7777777777777778,
              "#6ece58"
             ],
             [
              0.8888888888888888,
              "#b5de2b"
             ],
             [
              1,
              "#fde725"
             ]
            ],
            "type": "heatmap"
           }
          ],
          "histogram": [
           {
            "marker": {
             "line": {
              "color": "white",
              "width": 0.6
             }
            },
            "type": "histogram"
           }
          ],
          "histogram2d": [
           {
            "colorbar": {
             "outlinewidth": 1,
             "tickcolor": "rgb(36,36,36)",
             "ticks": "outside"
            },
            "colorscale": [
             [
              0,
              "#440154"
             ],
             [
              0.1111111111111111,
              "#482878"
             ],
             [
              0.2222222222222222,
              "#3e4989"
             ],
             [
              0.3333333333333333,
              "#31688e"
             ],
             [
              0.4444444444444444,
              "#26828e"
             ],
             [
              0.5555555555555556,
              "#1f9e89"
             ],
             [
              0.6666666666666666,
              "#35b779"
             ],
             [
              0.7777777777777778,
              "#6ece58"
             ],
             [
              0.8888888888888888,
              "#b5de2b"
             ],
             [
              1,
              "#fde725"
             ]
            ],
            "type": "histogram2d"
           }
          ],
          "histogram2dcontour": [
           {
            "colorbar": {
             "outlinewidth": 1,
             "tickcolor": "rgb(36,36,36)",
             "ticks": "outside"
            },
            "colorscale": [
             [
              0,
              "#440154"
             ],
             [
              0.1111111111111111,
              "#482878"
             ],
             [
              0.2222222222222222,
              "#3e4989"
             ],
             [
              0.3333333333333333,
              "#31688e"
             ],
             [
              0.4444444444444444,
              "#26828e"
             ],
             [
              0.5555555555555556,
              "#1f9e89"
             ],
             [
              0.6666666666666666,
              "#35b779"
             ],
             [
              0.7777777777777778,
              "#6ece58"
             ],
             [
              0.8888888888888888,
              "#b5de2b"
             ],
             [
              1,
              "#fde725"
             ]
            ],
            "type": "histogram2dcontour"
           }
          ],
          "mesh3d": [
           {
            "colorbar": {
             "outlinewidth": 1,
             "tickcolor": "rgb(36,36,36)",
             "ticks": "outside"
            },
            "type": "mesh3d"
           }
          ],
          "parcoords": [
           {
            "line": {
             "colorbar": {
              "outlinewidth": 1,
              "tickcolor": "rgb(36,36,36)",
              "ticks": "outside"
             }
            },
            "type": "parcoords"
           }
          ],
          "pie": [
           {
            "automargin": true,
            "type": "pie"
           }
          ],
          "scatter": [
           {
            "fillpattern": {
             "fillmode": "overlay",
             "size": 10,
             "solidity": 0.2
            },
            "type": "scatter"
           }
          ],
          "scatter3d": [
           {
            "line": {
             "colorbar": {
              "outlinewidth": 1,
              "tickcolor": "rgb(36,36,36)",
              "ticks": "outside"
             }
            },
            "marker": {
             "colorbar": {
              "outlinewidth": 1,
              "tickcolor": "rgb(36,36,36)",
              "ticks": "outside"
             }
            },
            "type": "scatter3d"
           }
          ],
          "scattercarpet": [
           {
            "marker": {
             "colorbar": {
              "outlinewidth": 1,
              "tickcolor": "rgb(36,36,36)",
              "ticks": "outside"
             }
            },
            "type": "scattercarpet"
           }
          ],
          "scattergeo": [
           {
            "marker": {
             "colorbar": {
              "outlinewidth": 1,
              "tickcolor": "rgb(36,36,36)",
              "ticks": "outside"
             }
            },
            "type": "scattergeo"
           }
          ],
          "scattergl": [
           {
            "marker": {
             "colorbar": {
              "outlinewidth": 1,
              "tickcolor": "rgb(36,36,36)",
              "ticks": "outside"
             }
            },
            "type": "scattergl"
           }
          ],
          "scattermap": [
           {
            "marker": {
             "colorbar": {
              "outlinewidth": 1,
              "tickcolor": "rgb(36,36,36)",
              "ticks": "outside"
             }
            },
            "type": "scattermap"
           }
          ],
          "scattermapbox": [
           {
            "marker": {
             "colorbar": {
              "outlinewidth": 1,
              "tickcolor": "rgb(36,36,36)",
              "ticks": "outside"
             }
            },
            "type": "scattermapbox"
           }
          ],
          "scatterpolar": [
           {
            "marker": {
             "colorbar": {
              "outlinewidth": 1,
              "tickcolor": "rgb(36,36,36)",
              "ticks": "outside"
             }
            },
            "type": "scatterpolar"
           }
          ],
          "scatterpolargl": [
           {
            "marker": {
             "colorbar": {
              "outlinewidth": 1,
              "tickcolor": "rgb(36,36,36)",
              "ticks": "outside"
             }
            },
            "type": "scatterpolargl"
           }
          ],
          "scatterternary": [
           {
            "marker": {
             "colorbar": {
              "outlinewidth": 1,
              "tickcolor": "rgb(36,36,36)",
              "ticks": "outside"
             }
            },
            "type": "scatterternary"
           }
          ],
          "surface": [
           {
            "colorbar": {
             "outlinewidth": 1,
             "tickcolor": "rgb(36,36,36)",
             "ticks": "outside"
            },
            "colorscale": [
             [
              0,
              "#440154"
             ],
             [
              0.1111111111111111,
              "#482878"
             ],
             [
              0.2222222222222222,
              "#3e4989"
             ],
             [
              0.3333333333333333,
              "#31688e"
             ],
             [
              0.4444444444444444,
              "#26828e"
             ],
             [
              0.5555555555555556,
              "#1f9e89"
             ],
             [
              0.6666666666666666,
              "#35b779"
             ],
             [
              0.7777777777777778,
              "#6ece58"
             ],
             [
              0.8888888888888888,
              "#b5de2b"
             ],
             [
              1,
              "#fde725"
             ]
            ],
            "type": "surface"
           }
          ],
          "table": [
           {
            "cells": {
             "fill": {
              "color": "rgb(237,237,237)"
             },
             "line": {
              "color": "white"
             }
            },
            "header": {
             "fill": {
              "color": "rgb(217,217,217)"
             },
             "line": {
              "color": "white"
             }
            },
            "type": "table"
           }
          ]
         },
         "layout": {
          "annotationdefaults": {
           "arrowhead": 0,
           "arrowwidth": 1
          },
          "autotypenumbers": "strict",
          "coloraxis": {
           "colorbar": {
            "outlinewidth": 1,
            "tickcolor": "rgb(36,36,36)",
            "ticks": "outside"
           }
          },
          "colorscale": {
           "diverging": [
            [
             0,
             "rgb(103,0,31)"
            ],
            [
             0.1,
             "rgb(178,24,43)"
            ],
            [
             0.2,
             "rgb(214,96,77)"
            ],
            [
             0.3,
             "rgb(244,165,130)"
            ],
            [
             0.4,
             "rgb(253,219,199)"
            ],
            [
             0.5,
             "rgb(247,247,247)"
            ],
            [
             0.6,
             "rgb(209,229,240)"
            ],
            [
             0.7,
             "rgb(146,197,222)"
            ],
            [
             0.8,
             "rgb(67,147,195)"
            ],
            [
             0.9,
             "rgb(33,102,172)"
            ],
            [
             1,
             "rgb(5,48,97)"
            ]
           ],
           "sequential": [
            [
             0,
             "#440154"
            ],
            [
             0.1111111111111111,
             "#482878"
            ],
            [
             0.2222222222222222,
             "#3e4989"
            ],
            [
             0.3333333333333333,
             "#31688e"
            ],
            [
             0.4444444444444444,
             "#26828e"
            ],
            [
             0.5555555555555556,
             "#1f9e89"
            ],
            [
             0.6666666666666666,
             "#35b779"
            ],
            [
             0.7777777777777778,
             "#6ece58"
            ],
            [
             0.8888888888888888,
             "#b5de2b"
            ],
            [
             1,
             "#fde725"
            ]
           ],
           "sequentialminus": [
            [
             0,
             "#440154"
            ],
            [
             0.1111111111111111,
             "#482878"
            ],
            [
             0.2222222222222222,
             "#3e4989"
            ],
            [
             0.3333333333333333,
             "#31688e"
            ],
            [
             0.4444444444444444,
             "#26828e"
            ],
            [
             0.5555555555555556,
             "#1f9e89"
            ],
            [
             0.6666666666666666,
             "#35b779"
            ],
            [
             0.7777777777777778,
             "#6ece58"
            ],
            [
             0.8888888888888888,
             "#b5de2b"
            ],
            [
             1,
             "#fde725"
            ]
           ]
          },
          "colorway": [
           "#1F77B4",
           "#FF7F0E",
           "#2CA02C",
           "#D62728",
           "#9467BD",
           "#8C564B",
           "#E377C2",
           "#7F7F7F",
           "#BCBD22",
           "#17BECF"
          ],
          "font": {
           "color": "rgb(36,36,36)"
          },
          "geo": {
           "bgcolor": "white",
           "lakecolor": "white",
           "landcolor": "white",
           "showlakes": true,
           "showland": true,
           "subunitcolor": "white"
          },
          "hoverlabel": {
           "align": "left"
          },
          "hovermode": "closest",
          "mapbox": {
           "style": "light"
          },
          "paper_bgcolor": "white",
          "plot_bgcolor": "white",
          "polar": {
           "angularaxis": {
            "gridcolor": "rgb(232,232,232)",
            "linecolor": "rgb(36,36,36)",
            "showgrid": false,
            "showline": true,
            "ticks": "outside"
           },
           "bgcolor": "white",
           "radialaxis": {
            "gridcolor": "rgb(232,232,232)",
            "linecolor": "rgb(36,36,36)",
            "showgrid": false,
            "showline": true,
            "ticks": "outside"
           }
          },
          "scene": {
           "xaxis": {
            "backgroundcolor": "white",
            "gridcolor": "rgb(232,232,232)",
            "gridwidth": 2,
            "linecolor": "rgb(36,36,36)",
            "showbackground": true,
            "showgrid": false,
            "showline": true,
            "ticks": "outside",
            "zeroline": false,
            "zerolinecolor": "rgb(36,36,36)"
           },
           "yaxis": {
            "backgroundcolor": "white",
            "gridcolor": "rgb(232,232,232)",
            "gridwidth": 2,
            "linecolor": "rgb(36,36,36)",
            "showbackground": true,
            "showgrid": false,
            "showline": true,
            "ticks": "outside",
            "zeroline": false,
            "zerolinecolor": "rgb(36,36,36)"
           },
           "zaxis": {
            "backgroundcolor": "white",
            "gridcolor": "rgb(232,232,232)",
            "gridwidth": 2,
            "linecolor": "rgb(36,36,36)",
            "showbackground": true,
            "showgrid": false,
            "showline": true,
            "ticks": "outside",
            "zeroline": false,
            "zerolinecolor": "rgb(36,36,36)"
           }
          },
          "shapedefaults": {
           "fillcolor": "black",
           "line": {
            "width": 0
           },
           "opacity": 0.3
          },
          "ternary": {
           "aaxis": {
            "gridcolor": "rgb(232,232,232)",
            "linecolor": "rgb(36,36,36)",
            "showgrid": false,
            "showline": true,
            "ticks": "outside"
           },
           "baxis": {
            "gridcolor": "rgb(232,232,232)",
            "linecolor": "rgb(36,36,36)",
            "showgrid": false,
            "showline": true,
            "ticks": "outside"
           },
           "bgcolor": "white",
           "caxis": {
            "gridcolor": "rgb(232,232,232)",
            "linecolor": "rgb(36,36,36)",
            "showgrid": false,
            "showline": true,
            "ticks": "outside"
           }
          },
          "title": {
           "x": 0.05
          },
          "xaxis": {
           "automargin": true,
           "gridcolor": "rgb(232,232,232)",
           "linecolor": "rgb(36,36,36)",
           "showgrid": false,
           "showline": true,
           "ticks": "outside",
           "title": {
            "standoff": 15
           },
           "zeroline": false,
           "zerolinecolor": "rgb(36,36,36)"
          },
          "yaxis": {
           "automargin": true,
           "gridcolor": "rgb(232,232,232)",
           "linecolor": "rgb(36,36,36)",
           "showgrid": false,
           "showline": true,
           "ticks": "outside",
           "title": {
            "standoff": 15
           },
           "zeroline": false,
           "zerolinecolor": "rgb(36,36,36)"
          }
         }
        },
        "title": {
         "text": "Density heatmap of the number of voxels per bone"
        },
        "width": 500,
        "xaxis": {
         "anchor": "y",
         "domain": [
          0,
          1
         ],
         "title": {
          "text": "n_voxels"
         }
        },
        "yaxis": {
         "anchor": "x",
         "domain": [
          0,
          1
         ],
         "title": {
          "text": "bone"
         }
        }
       }
      }
     },
     "metadata": {},
     "output_type": "display_data"
    }
   ],
   "source": [
    "fig = px.density_heatmap(\n",
    "    data,\n",
    "    x='n_voxels',\n",
    "    y='bone',\n",
    "    title='Density heatmap of the number of voxels per bone',\n",
    "    color_continuous_scale='Inferno',\n",
    "    histnorm='percent',\n",
    "    width=500,\n",
    "    )\n",
    "\n",
    "fig.show()"
   ]
  },
  {
   "cell_type": "markdown",
   "metadata": {},
   "source": [
    "> The heatmap shows that the distribution of the number of voxels (volume) differs significantly depending on the type of bone. The volume of the tibia is clearly larger than that of the radius."
   ]
  },
  {
   "cell_type": "code",
   "execution_count": 33,
   "metadata": {},
   "outputs": [
    {
     "data": {
      "application/vnd.plotly.v1+json": {
       "config": {
        "plotlyServerURL": "https://plot.ly"
       },
       "data": [
        {
         "coloraxis": "coloraxis",
         "histnorm": "percent",
         "hovertemplate": "x_shape=%{x}<br>y_shape=%{y}<br>percent=%{z}<extra></extra>",
         "name": "",
         "nbinsx": 50,
         "nbinsy": 50,
         "type": "histogram2d",
         "x": {
          "bdata": "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",
          "dtype": "i2"
         },
         "xaxis": "x",
         "xbingroup": "x",
         "y": {
          "bdata": "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",
          "dtype": "i2"
         },
         "yaxis": "y",
         "ybingroup": "y"
        }
       ],
       "layout": {
        "coloraxis": {
         "colorbar": {
          "title": {
           "text": "percent"
          }
         },
         "colorscale": [
          [
           0,
           "#000004"
          ],
          [
           0.1111111111111111,
           "#1b0c41"
          ],
          [
           0.2222222222222222,
           "#4a0c6b"
          ],
          [
           0.3333333333333333,
           "#781c6d"
          ],
          [
           0.4444444444444444,
           "#a52c60"
          ],
          [
           0.5555555555555556,
           "#cf4446"
          ],
          [
           0.6666666666666666,
           "#ed6925"
          ],
          [
           0.7777777777777778,
           "#fb9b06"
          ],
          [
           0.8888888888888888,
           "#f7d13d"
          ],
          [
           1,
           "#fcffa4"
          ]
         ]
        },
        "legend": {
         "tracegroupgap": 0
        },
        "template": {
         "data": {
          "bar": [
           {
            "error_x": {
             "color": "rgb(36,36,36)"
            },
            "error_y": {
             "color": "rgb(36,36,36)"
            },
            "marker": {
             "line": {
              "color": "white",
              "width": 0.5
             },
             "pattern": {
              "fillmode": "overlay",
              "size": 10,
              "solidity": 0.2
             }
            },
            "type": "bar"
           }
          ],
          "barpolar": [
           {
            "marker": {
             "line": {
              "color": "white",
              "width": 0.5
             },
             "pattern": {
              "fillmode": "overlay",
              "size": 10,
              "solidity": 0.2
             }
            },
            "type": "barpolar"
           }
          ],
          "carpet": [
           {
            "aaxis": {
             "endlinecolor": "rgb(36,36,36)",
             "gridcolor": "white",
             "linecolor": "white",
             "minorgridcolor": "white",
             "startlinecolor": "rgb(36,36,36)"
            },
            "baxis": {
             "endlinecolor": "rgb(36,36,36)",
             "gridcolor": "white",
             "linecolor": "white",
             "minorgridcolor": "white",
             "startlinecolor": "rgb(36,36,36)"
            },
            "type": "carpet"
           }
          ],
          "choropleth": [
           {
            "colorbar": {
             "outlinewidth": 1,
             "tickcolor": "rgb(36,36,36)",
             "ticks": "outside"
            },
            "type": "choropleth"
           }
          ],
          "contour": [
           {
            "colorbar": {
             "outlinewidth": 1,
             "tickcolor": "rgb(36,36,36)",
             "ticks": "outside"
            },
            "colorscale": [
             [
              0,
              "#440154"
             ],
             [
              0.1111111111111111,
              "#482878"
             ],
             [
              0.2222222222222222,
              "#3e4989"
             ],
             [
              0.3333333333333333,
              "#31688e"
             ],
             [
              0.4444444444444444,
              "#26828e"
             ],
             [
              0.5555555555555556,
              "#1f9e89"
             ],
             [
              0.6666666666666666,
              "#35b779"
             ],
             [
              0.7777777777777778,
              "#6ece58"
             ],
             [
              0.8888888888888888,
              "#b5de2b"
             ],
             [
              1,
              "#fde725"
             ]
            ],
            "type": "contour"
           }
          ],
          "contourcarpet": [
           {
            "colorbar": {
             "outlinewidth": 1,
             "tickcolor": "rgb(36,36,36)",
             "ticks": "outside"
            },
            "type": "contourcarpet"
           }
          ],
          "heatmap": [
           {
            "colorbar": {
             "outlinewidth": 1,
             "tickcolor": "rgb(36,36,36)",
             "ticks": "outside"
            },
            "colorscale": [
             [
              0,
              "#440154"
             ],
             [
              0.1111111111111111,
              "#482878"
             ],
             [
              0.2222222222222222,
              "#3e4989"
             ],
             [
              0.3333333333333333,
              "#31688e"
             ],
             [
              0.4444444444444444,
              "#26828e"
             ],
             [
              0.5555555555555556,
              "#1f9e89"
             ],
             [
              0.6666666666666666,
              "#35b779"
             ],
             [
              0.7777777777777778,
              "#6ece58"
             ],
             [
              0.8888888888888888,
              "#b5de2b"
             ],
             [
              1,
              "#fde725"
             ]
            ],
            "type": "heatmap"
           }
          ],
          "histogram": [
           {
            "marker": {
             "line": {
              "color": "white",
              "width": 0.6
             }
            },
            "type": "histogram"
           }
          ],
          "histogram2d": [
           {
            "colorbar": {
             "outlinewidth": 1,
             "tickcolor": "rgb(36,36,36)",
             "ticks": "outside"
            },
            "colorscale": [
             [
              0,
              "#440154"
             ],
             [
              0.1111111111111111,
              "#482878"
             ],
             [
              0.2222222222222222,
              "#3e4989"
             ],
             [
              0.3333333333333333,
              "#31688e"
             ],
             [
              0.4444444444444444,
              "#26828e"
             ],
             [
              0.5555555555555556,
              "#1f9e89"
             ],
             [
              0.6666666666666666,
              "#35b779"
             ],
             [
              0.7777777777777778,
              "#6ece58"
             ],
             [
              0.8888888888888888,
              "#b5de2b"
             ],
             [
              1,
              "#fde725"
             ]
            ],
            "type": "histogram2d"
           }
          ],
          "histogram2dcontour": [
           {
            "colorbar": {
             "outlinewidth": 1,
             "tickcolor": "rgb(36,36,36)",
             "ticks": "outside"
            },
            "colorscale": [
             [
              0,
              "#440154"
             ],
             [
              0.1111111111111111,
              "#482878"
             ],
             [
              0.2222222222222222,
              "#3e4989"
             ],
             [
              0.3333333333333333,
              "#31688e"
             ],
             [
              0.4444444444444444,
              "#26828e"
             ],
             [
              0.5555555555555556,
              "#1f9e89"
             ],
             [
              0.6666666666666666,
              "#35b779"
             ],
             [
              0.7777777777777778,
              "#6ece58"
             ],
             [
              0.8888888888888888,
              "#b5de2b"
             ],
             [
              1,
              "#fde725"
             ]
            ],
            "type": "histogram2dcontour"
           }
          ],
          "mesh3d": [
           {
            "colorbar": {
             "outlinewidth": 1,
             "tickcolor": "rgb(36,36,36)",
             "ticks": "outside"
            },
            "type": "mesh3d"
           }
          ],
          "parcoords": [
           {
            "line": {
             "colorbar": {
              "outlinewidth": 1,
              "tickcolor": "rgb(36,36,36)",
              "ticks": "outside"
             }
            },
            "type": "parcoords"
           }
          ],
          "pie": [
           {
            "automargin": true,
            "type": "pie"
           }
          ],
          "scatter": [
           {
            "fillpattern": {
             "fillmode": "overlay",
             "size": 10,
             "solidity": 0.2
            },
            "type": "scatter"
           }
          ],
          "scatter3d": [
           {
            "line": {
             "colorbar": {
              "outlinewidth": 1,
              "tickcolor": "rgb(36,36,36)",
              "ticks": "outside"
             }
            },
            "marker": {
             "colorbar": {
              "outlinewidth": 1,
              "tickcolor": "rgb(36,36,36)",
              "ticks": "outside"
             }
            },
            "type": "scatter3d"
           }
          ],
          "scattercarpet": [
           {
            "marker": {
             "colorbar": {
              "outlinewidth": 1,
              "tickcolor": "rgb(36,36,36)",
              "ticks": "outside"
             }
            },
            "type": "scattercarpet"
           }
          ],
          "scattergeo": [
           {
            "marker": {
             "colorbar": {
              "outlinewidth": 1,
              "tickcolor": "rgb(36,36,36)",
              "ticks": "outside"
             }
            },
            "type": "scattergeo"
           }
          ],
          "scattergl": [
           {
            "marker": {
             "colorbar": {
              "outlinewidth": 1,
              "tickcolor": "rgb(36,36,36)",
              "ticks": "outside"
             }
            },
            "type": "scattergl"
           }
          ],
          "scattermap": [
           {
            "marker": {
             "colorbar": {
              "outlinewidth": 1,
              "tickcolor": "rgb(36,36,36)",
              "ticks": "outside"
             }
            },
            "type": "scattermap"
           }
          ],
          "scattermapbox": [
           {
            "marker": {
             "colorbar": {
              "outlinewidth": 1,
              "tickcolor": "rgb(36,36,36)",
              "ticks": "outside"
             }
            },
            "type": "scattermapbox"
           }
          ],
          "scatterpolar": [
           {
            "marker": {
             "colorbar": {
              "outlinewidth": 1,
              "tickcolor": "rgb(36,36,36)",
              "ticks": "outside"
             }
            },
            "type": "scatterpolar"
           }
          ],
          "scatterpolargl": [
           {
            "marker": {
             "colorbar": {
              "outlinewidth": 1,
              "tickcolor": "rgb(36,36,36)",
              "ticks": "outside"
             }
            },
            "type": "scatterpolargl"
           }
          ],
          "scatterternary": [
           {
            "marker": {
             "colorbar": {
              "outlinewidth": 1,
              "tickcolor": "rgb(36,36,36)",
              "ticks": "outside"
             }
            },
            "type": "scatterternary"
           }
          ],
          "surface": [
           {
            "colorbar": {
             "outlinewidth": 1,
             "tickcolor": "rgb(36,36,36)",
             "ticks": "outside"
            },
            "colorscale": [
             [
              0,
              "#440154"
             ],
             [
              0.1111111111111111,
              "#482878"
             ],
             [
              0.2222222222222222,
              "#3e4989"
             ],
             [
              0.3333333333333333,
              "#31688e"
             ],
             [
              0.4444444444444444,
              "#26828e"
             ],
             [
              0.5555555555555556,
              "#1f9e89"
             ],
             [
              0.6666666666666666,
              "#35b779"
             ],
             [
              0.7777777777777778,
              "#6ece58"
             ],
             [
              0.8888888888888888,
              "#b5de2b"
             ],
             [
              1,
              "#fde725"
             ]
            ],
            "type": "surface"
           }
          ],
          "table": [
           {
            "cells": {
             "fill": {
              "color": "rgb(237,237,237)"
             },
             "line": {
              "color": "white"
             }
            },
            "header": {
             "fill": {
              "color": "rgb(217,217,217)"
             },
             "line": {
              "color": "white"
             }
            },
            "type": "table"
           }
          ]
         },
         "layout": {
          "annotationdefaults": {
           "arrowhead": 0,
           "arrowwidth": 1
          },
          "autotypenumbers": "strict",
          "coloraxis": {
           "colorbar": {
            "outlinewidth": 1,
            "tickcolor": "rgb(36,36,36)",
            "ticks": "outside"
           }
          },
          "colorscale": {
           "diverging": [
            [
             0,
             "rgb(103,0,31)"
            ],
            [
             0.1,
             "rgb(178,24,43)"
            ],
            [
             0.2,
             "rgb(214,96,77)"
            ],
            [
             0.3,
             "rgb(244,165,130)"
            ],
            [
             0.4,
             "rgb(253,219,199)"
            ],
            [
             0.5,
             "rgb(247,247,247)"
            ],
            [
             0.6,
             "rgb(209,229,240)"
            ],
            [
             0.7,
             "rgb(146,197,222)"
            ],
            [
             0.8,
             "rgb(67,147,195)"
            ],
            [
             0.9,
             "rgb(33,102,172)"
            ],
            [
             1,
             "rgb(5,48,97)"
            ]
           ],
           "sequential": [
            [
             0,
             "#440154"
            ],
            [
             0.1111111111111111,
             "#482878"
            ],
            [
             0.2222222222222222,
             "#3e4989"
            ],
            [
             0.3333333333333333,
             "#31688e"
            ],
            [
             0.4444444444444444,
             "#26828e"
            ],
            [
             0.5555555555555556,
             "#1f9e89"
            ],
            [
             0.6666666666666666,
             "#35b779"
            ],
            [
             0.7777777777777778,
             "#6ece58"
            ],
            [
             0.8888888888888888,
             "#b5de2b"
            ],
            [
             1,
             "#fde725"
            ]
           ],
           "sequentialminus": [
            [
             0,
             "#440154"
            ],
            [
             0.1111111111111111,
             "#482878"
            ],
            [
             0.2222222222222222,
             "#3e4989"
            ],
            [
             0.3333333333333333,
             "#31688e"
            ],
            [
             0.4444444444444444,
             "#26828e"
            ],
            [
             0.5555555555555556,
             "#1f9e89"
            ],
            [
             0.6666666666666666,
             "#35b779"
            ],
            [
             0.7777777777777778,
             "#6ece58"
            ],
            [
             0.8888888888888888,
             "#b5de2b"
            ],
            [
             1,
             "#fde725"
            ]
           ]
          },
          "colorway": [
           "#1F77B4",
           "#FF7F0E",
           "#2CA02C",
           "#D62728",
           "#9467BD",
           "#8C564B",
           "#E377C2",
           "#7F7F7F",
           "#BCBD22",
           "#17BECF"
          ],
          "font": {
           "color": "rgb(36,36,36)"
          },
          "geo": {
           "bgcolor": "white",
           "lakecolor": "white",
           "landcolor": "white",
           "showlakes": true,
           "showland": true,
           "subunitcolor": "white"
          },
          "hoverlabel": {
           "align": "left"
          },
          "hovermode": "closest",
          "mapbox": {
           "style": "light"
          },
          "paper_bgcolor": "white",
          "plot_bgcolor": "white",
          "polar": {
           "angularaxis": {
            "gridcolor": "rgb(232,232,232)",
            "linecolor": "rgb(36,36,36)",
            "showgrid": false,
            "showline": true,
            "ticks": "outside"
           },
           "bgcolor": "white",
           "radialaxis": {
            "gridcolor": "rgb(232,232,232)",
            "linecolor": "rgb(36,36,36)",
            "showgrid": false,
            "showline": true,
            "ticks": "outside"
           }
          },
          "scene": {
           "xaxis": {
            "backgroundcolor": "white",
            "gridcolor": "rgb(232,232,232)",
            "gridwidth": 2,
            "linecolor": "rgb(36,36,36)",
            "showbackground": true,
            "showgrid": false,
            "showline": true,
            "ticks": "outside",
            "zeroline": false,
            "zerolinecolor": "rgb(36,36,36)"
           },
           "yaxis": {
            "backgroundcolor": "white",
            "gridcolor": "rgb(232,232,232)",
            "gridwidth": 2,
            "linecolor": "rgb(36,36,36)",
            "showbackground": true,
            "showgrid": false,
            "showline": true,
            "ticks": "outside",
            "zeroline": false,
            "zerolinecolor": "rgb(36,36,36)"
           },
           "zaxis": {
            "backgroundcolor": "white",
            "gridcolor": "rgb(232,232,232)",
            "gridwidth": 2,
            "linecolor": "rgb(36,36,36)",
            "showbackground": true,
            "showgrid": false,
            "showline": true,
            "ticks": "outside",
            "zeroline": false,
            "zerolinecolor": "rgb(36,36,36)"
           }
          },
          "shapedefaults": {
           "fillcolor": "black",
           "line": {
            "width": 0
           },
           "opacity": 0.3
          },
          "ternary": {
           "aaxis": {
            "gridcolor": "rgb(232,232,232)",
            "linecolor": "rgb(36,36,36)",
            "showgrid": false,
            "showline": true,
            "ticks": "outside"
           },
           "baxis": {
            "gridcolor": "rgb(232,232,232)",
            "linecolor": "rgb(36,36,36)",
            "showgrid": false,
            "showline": true,
            "ticks": "outside"
           },
           "bgcolor": "white",
           "caxis": {
            "gridcolor": "rgb(232,232,232)",
            "linecolor": "rgb(36,36,36)",
            "showgrid": false,
            "showline": true,
            "ticks": "outside"
           }
          },
          "title": {
           "x": 0.05
          },
          "xaxis": {
           "automargin": true,
           "gridcolor": "rgb(232,232,232)",
           "linecolor": "rgb(36,36,36)",
           "showgrid": false,
           "showline": true,
           "ticks": "outside",
           "title": {
            "standoff": 15
           },
           "zeroline": false,
           "zerolinecolor": "rgb(36,36,36)"
          },
          "yaxis": {
           "automargin": true,
           "gridcolor": "rgb(232,232,232)",
           "linecolor": "rgb(36,36,36)",
           "showgrid": false,
           "showline": true,
           "ticks": "outside",
           "title": {
            "standoff": 15
           },
           "zeroline": false,
           "zerolinecolor": "rgb(36,36,36)"
          }
         }
        },
        "title": {
         "text": "Density heatmap of x and y sizes"
        },
        "width": 600,
        "xaxis": {
         "anchor": "y",
         "domain": [
          0,
          1
         ],
         "title": {
          "text": "x_shape"
         }
        },
        "yaxis": {
         "anchor": "x",
         "domain": [
          0,
          1
         ],
         "title": {
          "text": "y_shape"
         }
        }
       }
      }
     },
     "metadata": {},
     "output_type": "display_data"
    }
   ],
   "source": [
    "fig = px.density_heatmap(\n",
    "    data,\n",
    "    x='x_shape',\n",
    "    y='y_shape',\n",
    "    nbinsx=50,\n",
    "    nbinsy=50,\n",
    "    title='Density heatmap of x and y sizes',\n",
    "    color_continuous_scale='Inferno',\n",
    "    histnorm='percent',\n",
    "    width=600,\n",
    "    )\n",
    "\n",
    "fig.show()"
   ]
  },
  {
   "cell_type": "markdown",
   "metadata": {},
   "source": [
    "> The dependence of the x and y dimensions is clearly recognisable in the heatmap. The relationship will be examined further in the next chapters."
   ]
  },
  {
   "cell_type": "markdown",
   "metadata": {},
   "source": [
    "### Crosstab"
   ]
  },
  {
   "cell_type": "code",
   "execution_count": 34,
   "metadata": {},
   "outputs": [
    {
     "data": {
      "text/html": [
       "<div>\n",
       "<style scoped>\n",
       "    .dataframe tbody tr th:only-of-type {\n",
       "        vertical-align: middle;\n",
       "    }\n",
       "\n",
       "    .dataframe tbody tr th {\n",
       "        vertical-align: top;\n",
       "    }\n",
       "\n",
       "    .dataframe thead th {\n",
       "        text-align: right;\n",
       "    }\n",
       "</style>\n",
       "<table border=\"1\" class=\"dataframe\">\n",
       "  <thead>\n",
       "    <tr style=\"text-align: right;\">\n",
       "      <th>vgs</th>\n",
       "      <th>VGS1</th>\n",
       "      <th>VGS2</th>\n",
       "      <th>VGS3</th>\n",
       "      <th>VGS4</th>\n",
       "      <th>VGS5</th>\n",
       "      <th>Total</th>\n",
       "    </tr>\n",
       "    <tr>\n",
       "      <th>bone</th>\n",
       "      <th></th>\n",
       "      <th></th>\n",
       "      <th></th>\n",
       "      <th></th>\n",
       "      <th></th>\n",
       "      <th></th>\n",
       "    </tr>\n",
       "  </thead>\n",
       "  <tbody>\n",
       "    <tr>\n",
       "      <th>Radius</th>\n",
       "      <td>311</td>\n",
       "      <td>231</td>\n",
       "      <td>106</td>\n",
       "      <td>64</td>\n",
       "      <td>29</td>\n",
       "      <td>741</td>\n",
       "    </tr>\n",
       "    <tr>\n",
       "      <th>Tibia</th>\n",
       "      <td>514</td>\n",
       "      <td>125</td>\n",
       "      <td>63</td>\n",
       "      <td>24</td>\n",
       "      <td>15</td>\n",
       "      <td>741</td>\n",
       "    </tr>\n",
       "    <tr>\n",
       "      <th>Total</th>\n",
       "      <td>825</td>\n",
       "      <td>356</td>\n",
       "      <td>169</td>\n",
       "      <td>88</td>\n",
       "      <td>44</td>\n",
       "      <td>1482</td>\n",
       "    </tr>\n",
       "  </tbody>\n",
       "</table>\n",
       "</div>"
      ],
      "text/plain": [
       "vgs     VGS1  VGS2  VGS3  VGS4  VGS5  Total\n",
       "bone                                       \n",
       "Radius   311   231   106    64    29    741\n",
       "Tibia    514   125    63    24    15    741\n",
       "Total    825   356   169    88    44   1482"
      ]
     },
     "execution_count": 34,
     "metadata": {},
     "output_type": "execute_result"
    }
   ],
   "source": [
    "pd.crosstab(\n",
    "    data['bone'],\n",
    "    data['vgs'],\n",
    "    margins=True,\n",
    "    margins_name='Total',\n",
    "    )"
   ]
  },
  {
   "cell_type": "code",
   "execution_count": 35,
   "metadata": {},
   "outputs": [
    {
     "data": {
      "text/html": [
       "<div>\n",
       "<style scoped>\n",
       "    .dataframe tbody tr th:only-of-type {\n",
       "        vertical-align: middle;\n",
       "    }\n",
       "\n",
       "    .dataframe tbody tr th {\n",
       "        vertical-align: top;\n",
       "    }\n",
       "\n",
       "    .dataframe thead th {\n",
       "        text-align: right;\n",
       "    }\n",
       "</style>\n",
       "<table border=\"1\" class=\"dataframe\">\n",
       "  <thead>\n",
       "    <tr style=\"text-align: right;\">\n",
       "      <th>vgs</th>\n",
       "      <th>VGS1</th>\n",
       "      <th>VGS2</th>\n",
       "      <th>VGS3</th>\n",
       "      <th>VGS4</th>\n",
       "      <th>VGS5</th>\n",
       "      <th>Total</th>\n",
       "    </tr>\n",
       "    <tr>\n",
       "      <th>bone</th>\n",
       "      <th></th>\n",
       "      <th></th>\n",
       "      <th></th>\n",
       "      <th></th>\n",
       "      <th></th>\n",
       "      <th></th>\n",
       "    </tr>\n",
       "  </thead>\n",
       "  <tbody>\n",
       "    <tr>\n",
       "      <th>Radius</th>\n",
       "      <td>0.21</td>\n",
       "      <td>0.16</td>\n",
       "      <td>0.07</td>\n",
       "      <td>0.04</td>\n",
       "      <td>0.02</td>\n",
       "      <td>0.50</td>\n",
       "    </tr>\n",
       "    <tr>\n",
       "      <th>Tibia</th>\n",
       "      <td>0.35</td>\n",
       "      <td>0.08</td>\n",
       "      <td>0.04</td>\n",
       "      <td>0.02</td>\n",
       "      <td>0.01</td>\n",
       "      <td>0.50</td>\n",
       "    </tr>\n",
       "    <tr>\n",
       "      <th>Total</th>\n",
       "      <td>0.56</td>\n",
       "      <td>0.24</td>\n",
       "      <td>0.11</td>\n",
       "      <td>0.06</td>\n",
       "      <td>0.03</td>\n",
       "      <td>1.00</td>\n",
       "    </tr>\n",
       "  </tbody>\n",
       "</table>\n",
       "</div>"
      ],
      "text/plain": [
       "vgs     VGS1  VGS2  VGS3  VGS4  VGS5  Total\n",
       "bone                                       \n",
       "Radius  0.21  0.16  0.07  0.04  0.02   0.50\n",
       "Tibia   0.35  0.08  0.04  0.02  0.01   0.50\n",
       "Total   0.56  0.24  0.11  0.06  0.03   1.00"
      ]
     },
     "execution_count": 35,
     "metadata": {},
     "output_type": "execute_result"
    }
   ],
   "source": [
    "pd.crosstab(\n",
    "    data['bone'], \n",
    "    data['vgs'],\n",
    "    margins=True,\n",
    "    margins_name='Total',\n",
    "    normalize='all',\n",
    "    ).round(3)"
   ]
  },
  {
   "cell_type": "markdown",
   "metadata": {},
   "source": [
    "### Conditional frequency"
   ]
  },
  {
   "cell_type": "code",
   "execution_count": 36,
   "metadata": {},
   "outputs": [
    {
     "data": {
      "text/html": [
       "<div>\n",
       "<style scoped>\n",
       "    .dataframe tbody tr th:only-of-type {\n",
       "        vertical-align: middle;\n",
       "    }\n",
       "\n",
       "    .dataframe tbody tr th {\n",
       "        vertical-align: top;\n",
       "    }\n",
       "\n",
       "    .dataframe thead th {\n",
       "        text-align: right;\n",
       "    }\n",
       "</style>\n",
       "<table border=\"1\" class=\"dataframe\">\n",
       "  <thead>\n",
       "    <tr style=\"text-align: right;\">\n",
       "      <th>vgs</th>\n",
       "      <th>VGS1</th>\n",
       "      <th>VGS2</th>\n",
       "      <th>VGS3</th>\n",
       "      <th>VGS4</th>\n",
       "      <th>VGS5</th>\n",
       "      <th>Total</th>\n",
       "    </tr>\n",
       "    <tr>\n",
       "      <th>bone</th>\n",
       "      <th></th>\n",
       "      <th></th>\n",
       "      <th></th>\n",
       "      <th></th>\n",
       "      <th></th>\n",
       "      <th></th>\n",
       "    </tr>\n",
       "  </thead>\n",
       "  <tbody>\n",
       "    <tr>\n",
       "      <th>Radius</th>\n",
       "      <td>0.42</td>\n",
       "      <td>0.31</td>\n",
       "      <td>0.14</td>\n",
       "      <td>0.09</td>\n",
       "      <td>0.04</td>\n",
       "      <td>1.00</td>\n",
       "    </tr>\n",
       "    <tr>\n",
       "      <th>Tibia</th>\n",
       "      <td>0.69</td>\n",
       "      <td>0.17</td>\n",
       "      <td>0.09</td>\n",
       "      <td>0.03</td>\n",
       "      <td>0.02</td>\n",
       "      <td>1.00</td>\n",
       "    </tr>\n",
       "    <tr>\n",
       "      <th>Total</th>\n",
       "      <td>0.56</td>\n",
       "      <td>0.24</td>\n",
       "      <td>0.11</td>\n",
       "      <td>0.06</td>\n",
       "      <td>0.03</td>\n",
       "      <td>1.00</td>\n",
       "    </tr>\n",
       "  </tbody>\n",
       "</table>\n",
       "</div>"
      ],
      "text/plain": [
       "vgs     VGS1  VGS2  VGS3  VGS4  VGS5  Total\n",
       "bone                                       \n",
       "Radius  0.42  0.31  0.14  0.09  0.04   1.00\n",
       "Tibia   0.69  0.17  0.09  0.03  0.02   1.00\n",
       "Total   0.56  0.24  0.11  0.06  0.03   1.00"
      ]
     },
     "execution_count": 36,
     "metadata": {},
     "output_type": "execute_result"
    }
   ],
   "source": [
    "cond_frequency_df = pd.crosstab(\n",
    "    data['bone'], \n",
    "    data['vgs'],\n",
    "    margins=True,\n",
    "    margins_name='Total',\n",
    "    normalize='index',\n",
    "    ).round(3)\n",
    "\n",
    "# add a column with the total values for each row\n",
    "cond_frequency_df['Total'] = cond_frequency_df.sum(axis=1)\n",
    "\n",
    "cond_frequency_df"
   ]
  },
  {
   "cell_type": "code",
   "execution_count": 37,
   "metadata": {},
   "outputs": [
    {
     "data": {
      "text/html": [
       "<div>\n",
       "<style scoped>\n",
       "    .dataframe tbody tr th:only-of-type {\n",
       "        vertical-align: middle;\n",
       "    }\n",
       "\n",
       "    .dataframe tbody tr th {\n",
       "        vertical-align: top;\n",
       "    }\n",
       "\n",
       "    .dataframe thead th {\n",
       "        text-align: right;\n",
       "    }\n",
       "</style>\n",
       "<table border=\"1\" class=\"dataframe\">\n",
       "  <thead>\n",
       "    <tr style=\"text-align: right;\">\n",
       "      <th>vgs</th>\n",
       "      <th>VGS1</th>\n",
       "      <th>VGS2</th>\n",
       "      <th>VGS3</th>\n",
       "      <th>VGS4</th>\n",
       "      <th>VGS5</th>\n",
       "      <th>Total</th>\n",
       "    </tr>\n",
       "    <tr>\n",
       "      <th>bone</th>\n",
       "      <th></th>\n",
       "      <th></th>\n",
       "      <th></th>\n",
       "      <th></th>\n",
       "      <th></th>\n",
       "      <th></th>\n",
       "    </tr>\n",
       "  </thead>\n",
       "  <tbody>\n",
       "    <tr>\n",
       "      <th>Radius</th>\n",
       "      <td>0.38</td>\n",
       "      <td>0.65</td>\n",
       "      <td>0.63</td>\n",
       "      <td>0.73</td>\n",
       "      <td>0.66</td>\n",
       "      <td>0.50</td>\n",
       "    </tr>\n",
       "    <tr>\n",
       "      <th>Tibia</th>\n",
       "      <td>0.62</td>\n",
       "      <td>0.35</td>\n",
       "      <td>0.37</td>\n",
       "      <td>0.27</td>\n",
       "      <td>0.34</td>\n",
       "      <td>0.50</td>\n",
       "    </tr>\n",
       "    <tr>\n",
       "      <th>Total</th>\n",
       "      <td>1.00</td>\n",
       "      <td>1.00</td>\n",
       "      <td>1.00</td>\n",
       "      <td>1.00</td>\n",
       "      <td>1.00</td>\n",
       "      <td>1.00</td>\n",
       "    </tr>\n",
       "  </tbody>\n",
       "</table>\n",
       "</div>"
      ],
      "text/plain": [
       "vgs     VGS1  VGS2  VGS3  VGS4  VGS5  Total\n",
       "bone                                       \n",
       "Radius  0.38  0.65  0.63  0.73  0.66   0.50\n",
       "Tibia   0.62  0.35  0.37  0.27  0.34   0.50\n",
       "Total   1.00  1.00  1.00  1.00  1.00   1.00"
      ]
     },
     "execution_count": 37,
     "metadata": {},
     "output_type": "execute_result"
    }
   ],
   "source": [
    "cond_frequency_df = pd.crosstab(\n",
    "    data['bone'], \n",
    "    data['vgs'],\n",
    "    margins=True,\n",
    "    margins_name='Total',\n",
    "    normalize='columns',\n",
    "    ).round(3)\n",
    "\n",
    "# add a row with the total values for each column\n",
    "cond_frequency_df.loc['Total'] = cond_frequency_df.sum()\n",
    "\n",
    "cond_frequency_df"
   ]
  },
  {
   "cell_type": "markdown",
   "metadata": {},
   "source": [
    "> The various crosstabs show that there are significantly more images with good quality (VGS1) for the radius compared to the tibia. Since the quality of the scan is strongly dependent on the movement during the scan, this could be due to the fact that the leg (tibia) can be fixed better than the arm (radius)."
   ]
  },
  {
   "cell_type": "markdown",
   "metadata": {},
   "source": [
    "# 5 - Measure of Correlation\n",
    "https://mciwing.github.io/statistics/bivariate/Correlation/"
   ]
  },
  {
   "cell_type": "markdown",
   "metadata": {},
   "source": [
    "### Covariance"
   ]
  },
  {
   "cell_type": "code",
   "execution_count": 38,
   "metadata": {},
   "outputs": [
    {
     "data": {
      "text/plain": [
       "5802.073"
      ]
     },
     "execution_count": 38,
     "metadata": {},
     "output_type": "execute_result"
    }
   ],
   "source": [
    "# define a function to calculate the covariance between two columns\n",
    "def calculate_covariance(data, column1, column2, round_to=3):\n",
    "    return float(round(data[column1].cov(data[column2]), round_to))\n",
    "\n",
    "calculate_covariance(data, 'x_shape', 'y_shape')"
   ]
  },
  {
   "cell_type": "markdown",
   "metadata": {},
   "source": [
    "### Pearson Correlation Coefficient"
   ]
  },
  {
   "cell_type": "code",
   "execution_count": 39,
   "metadata": {},
   "outputs": [
    {
     "data": {
      "text/plain": [
       "0.615"
      ]
     },
     "execution_count": 39,
     "metadata": {},
     "output_type": "execute_result"
    }
   ],
   "source": [
    "# define a function to calculate the pearson correlation coefficient between two columns\n",
    "def calculate_pearson_correlation(data, column1, column2, round_to=3):\n",
    "    return float(round(data[column1].corr(data[column2], method='pearson'), round_to))\n",
    "\n",
    "calculate_pearson_correlation(data, 'x_shape', 'y_shape')"
   ]
  },
  {
   "cell_type": "markdown",
   "metadata": {},
   "source": [
    "### Spearman Correlation Coefficient"
   ]
  },
  {
   "cell_type": "code",
   "execution_count": 40,
   "metadata": {},
   "outputs": [
    {
     "data": {
      "text/plain": [
       "0.647"
      ]
     },
     "execution_count": 40,
     "metadata": {},
     "output_type": "execute_result"
    }
   ],
   "source": [
    "# define a function to calculate the spearman correlation coefficient between two columns\n",
    "def calculate_spearman_correlation(data, column1, column2, round_to=3):\n",
    "    return float(round(data[column1].corr(data[column2], method='spearman'), round_to))\n",
    "\n",
    "calculate_spearman_correlation(data, 'x_shape', 'y_shape')"
   ]
  },
  {
   "cell_type": "code",
   "execution_count": 41,
   "metadata": {},
   "outputs": [
    {
     "name": "stdout",
     "output_type": "stream",
     "text": [
      "Covariance: 5802.073\n",
      "Pearson:    0.615\n",
      "Spearman:   0.647\n"
     ]
    }
   ],
   "source": [
    "# define a function to calculate all three correlation coefficients between two columns\n",
    "def calculate_correlation_coefficients(data, column1, column2):\n",
    "    print(f'Covariance: {calculate_covariance(data, column1, column2)}')\n",
    "    print(f'Pearson:    {calculate_pearson_correlation(data, column1, column2)}')\n",
    "    print(f'Spearman:   {calculate_spearman_correlation(data, column1, column2)}')\n",
    "\n",
    "calculate_correlation_coefficients(data, 'x_shape', 'y_shape')"
   ]
  },
  {
   "cell_type": "markdown",
   "metadata": {},
   "source": [
    "> The different measures of correlations are calculated and combined into one function to calculate them for a number of numerical variables at the same time."
   ]
  },
  {
   "cell_type": "markdown",
   "metadata": {},
   "source": [
    "### Scatter Plot"
   ]
  },
  {
   "cell_type": "markdown",
   "metadata": {},
   "source": [
    "#### Minimum vs. maximum intensity"
   ]
  },
  {
   "cell_type": "code",
   "execution_count": 42,
   "metadata": {},
   "outputs": [
    {
     "data": {
      "application/vnd.plotly.v1+json": {
       "config": {
        "plotlyServerURL": "https://plot.ly"
       },
       "data": [
        {
         "hovertemplate": "bone=Radius<br>Minimum intensity value=%{x}<br>Maximum intensity value=%{y}<extra></extra>",
         "legendgroup": "",
         "marker": {
          "color": "#1F77B4",
          "symbol": "circle"
         },
         "mode": "markers",
         "name": "",
         "showlegend": false,
         "type": "scattergl",
         "x": {
          "bdata": "WfeV+Qr3E/dB+EX3S/Zv90P4UPbV9x35jvhm+Jv4Y/RO9un2gPPx9Zf2rPfg9V/1Y/dF+XD2efab+MX2U/Y/90L2ovdv88b3f/YK97v2aPfe99j2+fdl+LD21vZi91j5jfam+OL3ifXQ9VL5c/YW95/4+/Rk9Ef3H/Z19jH2SfWI9jb3OPgs91j0N/cS+Ab2UPa390L46PY4+Xf3Efdk9ff1T/Q19uT3cPbE9sb1j/Vx9kf4U/n++fj2v/SD9tb3YvX59Hb1xvYv82L13fUV9kf4CfYO9u31rvR59sb1Gfg79lT0Kvap+OH4iPi9+A73F/dO9yn55/cH9iT2hPVh9pT2SvZ994v2yvSV9R70u/jR9V/3cveE96/26fWu92H16/b785XzrfgE9ff3tfXe9WP3CPcq+M34ifXw9wr5v/dM9gD2Z/Tc9uP1D/X09er1Pfda+Az4NfaT9wv03fSt9jr2XviO+X73cvaR9vD1ovOE9cv1NPZV9WD2EPeb9tv2ofiP9db38vce9y710/Q29XDz2PVw9sD1RPbh9FH1TPTu9RLzIvNR9hP2VPgd9/30h/b79s72u/ZL+HL06PPA9nH2mfWs9pf2cfjS91r4+PWS9EH4rPdm95v2Nfjm9/b2cfmY9P73ifes9cP2XvUj+ez05vd+9r32fvdo9kn3MPaU9uv2M/Tp8/n0Lvbs9Wn2DPRq9lb1dfYM9773W/fu9pD36vcs+OP2N/UO9F/2FfeU9bD1S/dP+LD2RvNu9c/2FPWU+UX3QfgD+Uf55Pgj9/nzufGu9273CveL9Sz1y/RO9oD3iPVQ9qb12/gm+d72a/c++Jr3+/hM9g32Kfbz9CD0ZPaZ9Sb03fVq9lX3T/Ya+Of32Pf79l/3GfZa9jz1l/dO9Df3Avi79PT2cvT49Xb5RPgX8RL35Pes94j3SvaG+AL3EfjV+ET5ivTh9hT2mvSP9ln2/PYt91T16Pb99ET1PfZv9w718vRZ+Jf34fkW+db43Pek90/4QPZ0+Lr45/Ut9rf2Q/V9+Gv4jvna+Iz30ee3+Db3k+sf9Af1H/Zl9Qb4jPdj88H1vvhN90P3EvYB+ZH2QvUz9s31SvdA99n01/Z59zz2h/Vf9bv3hva49WT2CvZa8z/36fZ39tH3xPfk92r39vZZ+S/2dvZ99On14fXp9br2Kvad9if1svSZ9f/3N/Vw9drySfgk+a71hfco9qT2KfnX+ST0/fUs+Az2xfdn9SD1Svgn9BX3gPVl9S74ovZ/9uT1hfTT+Fj2YPV19Z3zivYF9mb2bfcl90342PeB+Bz4JPbk95X4LvYg97v3C/jV97j2GPbW+BX3Afkq96/2OfiF94f11fc69zz2/fYY9wb09vXZ9db2T/VA96H2evaR8sL28fad9Kz2x/Yb9mz3K/ad9SP2YfZJ9pX3NPRv9k34N/eY9nH36fbQ94j1kvaH9yH3Afes+Iv3sfjc+bv2Tfb298f2mvcJ+Gv3I/S388z2KvgX85P16vVw9Pb19fea9jT2QPaI+C34D/cT+Mf22vfM9RT34/bv9yD2U/c99KD02fZQ9hP5YvWo9a/13PcM9xf3yPb09rH1R/cU95H3/fUR9fb2Efa69Tf3r/bG9EP2QPWj973x1/Wr9gf2c/cq9271SPSa9GXzDvQJ9Un18PWf86v44vVW9LfzdfdJ90f4FPiP+EH4vvhj94z3JffC+ED36PdD91f1BPdF9/b2E/ZQ+WP3o/i59OD3Fvf89n30JPRz9JH1Pvbl9aX3dPYw9673MPXx9vr0A/Y598/2RPZC9br4pPWI9Bj4+PQp9fH0bPeA9R/2ZPXA8271EfVL9aT2tfWb9j71DfYm9gb3evZv9yT1CfUS9+T5c/nH9gH4FfVA9Er38/QA89ryBPQg9s72jfar9W33WfaK9TH18/Kn9Gr4XfjF+JH3HvWn+I/3lPZC9+v2M/dE98z3OPds+NL3",
          "dtype": "i2"
         },
         "xaxis": "x",
         "y": {
          "bdata": "wBYmEz0VYBTLEsMToxUKFsAUkBfzEyIRoBaSEi4TgBf9FJoWyhUvGLsTQxSzGHgWAxfME9IV8xQyElAWIRf7FGIToxQyFdwSCxVyFPETehUqFa4UtxMjFP0VVxPxEhITnhTDE2cVMxbXFWQTdxNRE2QTExjMF4kUqRS4F+UXgxbEFGgT0xPwFMcUeRS7E9sVfBdaEhYU0xW0EtcTgRVHFWwVFhdBFTYWIhjRE1MWcRjxFiEVoxJ2Ec4VyhekF3sULhUXGMIXBxUpGa8XxxYnGCcT1RWUFZsXlhUOFksVlhNhFoYdxxNKEoESaxIuElgVShNDFBkS5BK8FpYYNxaZFHUVlhTfE5QVFxYrFuwVLxJiFB0UNhOMFAMUzRUQFPAYLBkbF6kW0hPDFfsT7BVcFzUWRRbJE0kSgxVHFagSyBMzFRYVrhSVFLsUhhWwFWIW+xNwEq8T3hSzFJcWkRWrFecVPBNTErMV4BQbFcMU0xZYF3YVJxXSFzAX0xW9F2YYPxNxGZkTZBMlFWAZ9RUzFXEYARbEF0oXNxZ+FvEWxRbkF5IV8hfGFTQX+hJfFHQXqxaKFGYULheLFCAWwxlKFJAYhhgTFiUVBhSLExQTUxgGGSgUMRMAFo4XzhMdE+cUgxFfGYgTzxV3FDMW0BbNEecU1RTaFRsThhMAF5YSfhX0FSsViBV9F68WSRZkFd8WTRlSFukWlhdxE+sUQBVdFBMTnRJfE90VWBZdFkEXWhWaFsIUKxWLEt4WUhYQFnsVdRoCEoIR9xPAEngRJhF1FFoWXxoZFOAUOhSLFsgXohdjE5sTzhfUFAIXKxMWE+gWyRPoEkYTMxJxGAYWexQQFV8WRBR1FgUWjxZMFqUVwhZGE+gYMBZnFqgVRhUfFvEW3BPzFnUTuxOTFloX/hXyFgAS+RPjFi0VghSMFsgVHRfQE2sVjBN/EnMSxhQVF7oUjBeCFNkVkRfHFQIWIBTiFkkXcBTLE50ViRi1EoMTbhEEEvsSJRSVFK0TSRWzErUTzBgUFykThxRmEokR8xBEElUTdz2vEkEUdz1IHOkXPxZIGVMUdBS1GXoWEhI3E4MTdxfjEYgVrxRgGOEXfxNcF+gWmBgrE8cVMhkSFRMUMhgqGCwZrRUEGMsVehREFtUSVBMmEgEWfRUnEsQWxRWlF8EWpxbuFyUWbRboF1oV+xXJFNwULhWKFdwVAxOJEgMVbBW0FUsVBBJcEb4V6hTRElgUiBolFXcUpBKgFggUBBeAFSUT/BSQFBwXdBW8EhYWyhZjFaQUIxTIFUoWXhNXFg0UNxRuFIcTMRWdFm0SsRRUFQgUUxY2E+YWthVjFNMXWhN9EyQV/BNoFGkUdxNEFKkUOhZ8E3wXohaoFqwWJRbFFF8WMhVgGVwU1BQgFrkU6xVWFiYUeRh2FEEUDBSYFUkTshWpFMsTcBTjFb8TvBUQE64ULxamExwYuxl/E1wS3BMmEfgTuhUUFQgUkxQ1FbsUXRVCGCcVbxMKFc0WXhdrFj8XqRRiFtUWFxZ8FP4SnRSnEVEVARSyFZUVfhTuE/gVnRbyFecWqRMeFYkTLBhHFcYWMhU8FlETPhVdFEsXkxRQFDMUTBaBFw0VGRbxFsQYzxhGFmwX8RcjFk8YHRgBFWkYaRXXFloY5RUAGMkYRRfvFVoX0RcqGFMUjhoKGdIWxBWqEiESmxPhEs4SyBIbFSMUThZZEmgUGBNYFrYXWRa0FPgT3hWHEicUAhSVFowUqRTwFo4avRhDGLwV4hVDF6YTtxQrEy4UvxdmFBsYABXvFAwV0BUxFz4TEBUtGogTVRZCFsUVDBPbFWQV4BfLFx8WcBg4FlMV8hXzFyIYeBdpFYYU1xY/FNwWYxbHFvUQYBEfE0ETGBfFFbUVihZkF0UWqxZyFsoVKhdJGAMT+BR3GL0Y1xeRFkUY8BV3EgkYlxRlEscUkRbwFtMUlxY9FLkSDBQxEscU",
          "dtype": "i2"
         },
         "yaxis": "y"
        },
        {
         "hovertemplate": "bone=Tibia<br>Minimum intensity value=%{x}<br>Maximum intensity value=%{y}<extra></extra>",
         "legendgroup": "",
         "marker": {
          "color": "#1F77B4",
          "symbol": "circle"
         },
         "mode": "markers",
         "name": "",
         "showlegend": false,
         "type": "scattergl",
         "x": {
          "bdata": "0/R/8z3zwfK4urvSiPXC89b0pfXx9Jfz9vMx9R30LPNE9df1S/a+9hz2PfXU9U71nPal9XP1UfTE9Uv1rPP208/z3/QZ9+z22vb99sD1hfaV86fzEfbP9Uv2/PaQ9ov15fbZ9iP3uPcd9xX2bPfq86nzVvWd9tn2qfVt94T2bPar9xT20vZQ9kH3V/di9yb3M/bO9H71H/WP9GHy//ay9U/0G/TB9Dr1IvTB8l/1OfXI81P3pPX185D26vX19Q/2u/cq93H2Vva39Af0qvXD90r3/fdi9c32NPdN9tX3DvcM9nT3u/Mq9Qn1EvXj9P/10fQB9U71IfaV9f7yV/Yi9mz2OfX89GH0g/Vi9J/1MPUk9rT2LffB9Wn1i/Ze9Wz2LPRa8wX0tfLb9PD08/XZ9fb2mvZC8lD1wfYQ9gr3I/as9Yf1CPfN9Xz1dPa+9fr15PLk9CD1mPOE9DX12/O09Mz0iPI89MLzdvPn9bjz7/Pl9FnzrPUe80b2tfa79H31sPVv9Rr2L/ZZ9dD0QPSn8ij2sfUr9NH1XvQs9cj0e/Rd9CbzLvPc87LzbvV+9V72rPR/9Tj2H/YN9jn0X/UH9w32rPJ39Bv2SfVB88X1z/T28/n04/Tk9Rr0wfRO87/z8fKG8lz0+vXx9cr0IPU49fbxyvKX9t/27vSq9nb1DvaX83v0Rfez9ij2kfX89fD1xfYJ9nf1J/Yz9mH2nPa69m71Ufc39333pvbQ9lb3Z/fV9Tj1S/WP9Rr3hvZM9pH2bvWL9ir2OfXN9aj1dPU39jD1UvWr9tz1Jfa69un1sfVb9tj0zPa39hP1gPTi9SP1rfbd9tj19PZQ9SX0evOs9PT2jfVs83rxzvEO9671QPR/9NT0uPTy9I/1CvW/9ij2d/RL9t728vYX9cL0O/br9aX1/vQX9Zb2dvUa9vr0PfVr9jv2pfJk8IjzZ/TQ8hbyF/Vh9OjzlPSe87/1xfaF9m/2zvSn8WP1Tveg9u31uPeg803zxPW/9qX0nfQg8571vPV19vb1avXS9LL2hvYU9hP18vaj9mb2E/ZZ8vH0+vXH9Jj0/vJx86v0tfUg9/b1QvYG9hj3Z/Wp8lLzMfUk9dT2ofJt9azzIPNA9Y70iPSC86fz4/OM8/H0WPXK9vr1n/Y59hX3Pveg9PnzXvQJ83f1WPUl9S/1qvZY96f1Tfa09Rz3LPbB9vT1rPXE9Df1mPbD9mr2JvXR88D2pPXc9gr3NfZ29hv4ePcC92/3+/Z098L2cfaO93L1Z/SC9ZLzkPWl8sr12fV49mX14PWQ8y/1c/UH9ef0dfMx8bX0J/SF9v70y/QB9aX0ffW39bH0JfRW8if1o/Xz8372cfJ782/1pfVL9rr1l/Xj9W32EfRY9dT1xPQV9j7zJvOC9lT3HPYF9ln1WPW99Kz0hvNF8w7xY/O29IryQvap9SH2vPTX9X31Ovar9g/1svTG8S/znvEH8+vxJvNQ9KXy7fQq9s3xOvLX9BjzDvKi9w31lvS19aL0zPN384j1EfTw9F71WPYq9kH2jfV19bzzAvaK9kX1jfS09Lv10fW79s722vb29jf2zfXp9tf1aPUN84fyx/IU9oT1F/T09Zn26PXt91X0O/dV9db2r/NZ88bzG/PZ9BT09PPq9Ej0bfXQ9MD0f/XY9dr22vQ69dn0F/Oc9Nb0GPTX9Gj0gfOA9BLyrvH189z13vS/8/30bfZj9O707fYB9zn0i/Q/9uv0QvcV9EP07/QY95X1I/aH9TL0IvZ69BD3LfUG9q32xPOW9ab0wvUG9mP22POF9CL1YPRb9ab1evcv9XP1V/Rp9d/1HfaL9LL0O/Tt9U71i/QY9X72kPSs9I7z0fbo9SD34fU89f702vOm9TL1RvVR8/LzsfVp9T7zh/D/9ZX1d/Ym9tf16fSj8qX0U/bp9Wr1cfbP8j31bPVT8of0Jvad9MnzcvNr9vb04PQ681nz",
          "dtype": "i2"
         },
         "xaxis": "x2",
         "y": {
          "bdata": "TBj0FxYYdBp3PXc9chVvFqoWHxYVGFUXXhijFkcWWRi9E5oT8xNXFEgVkBRoFKUWORQeFOgVFBirFVYVaBzmPN0TfRPUEVQSbhLYEgEUrRKYFeQWkRRNFLUUhBNNFucUthNnE0gTMxNTEzcVghMZGFIWIRZ0E0oUqBZyExEVDRSGE4cTjxXGE9QSthHPEQwU4hQkF3oWnhfXGIwZ9hNKFaQVORULFqsUZhWxGpsV+BUrGLoS+xSbGBcTARfoFA4VvxLYEbASTBQxFZwVbRWaEbMTqRGqFpIT9xJiFK4TDBMKFTkTnRXWFH0WkBZxFWQV7hWLFMUUmBQNF0UWqRQrFaYU0BTEFSMWRxRtFpoUPhVLFWEULBTvFU0VRhNlFegUxBauGAYYTxjoFxcYahP2FBAUdhQEGy0VjxVBFCQU0BfkEyQTRxPCFJoTIRVSFnUUyRe7GHgX3hS6FQIWkBa4F68XQBjhFxoaYhjsFQ8Y7Rg/FYUYcxWaF90UlRYYGJ0W7RSRFtQUZxQJF4sXxhcEGV8WLhXwFxUYNRfkFjAViRb0F6EYGhZ3FVEXqRavFvAUxRVzFRYUghQHE/UUBxcLFRAVaRmvFT4VMBVMGFAVzhYcGGIVGRnwFfwYJBkQGKsXOhddGQ4UrxYNFMsVbRY+FrkXhxd0FHkT2RYsFCcUdRSMF+UWjBQ2FAEVBBRcFLUVwhQ8FFwVghQsFI8VORSUFK4UABNwErUTYxNlEtMS6xFIFpcWXxXIFAIWnhNiFIoUVRQaFXEUERMlFR0U3RNBFJoVNRTfErsVtRUyE2gUPRONFcQWoBVkFXAVFxd8FGwUHxOFE84VtxJsFAMW9RZLFyITnBTmFd0XfhZ6Fc4UbRZeFjUWmxWoFcIWoBbQFCMUXxW2FsEU0xSNFjgXbhSqFWkUnhbzFZUVLBcFFc8XthYfFOgV7BrdGboazRcyGVcaCRZcGOwVLRVjGCMVABaLFc0VIRZ8GMIUKBReFYgWVBPVF+AYERV2FGMXzRaIGo4UPBWbFW0VJRbFGqkUSRP6E9oV/BWQFTMVFxbUGasYxBTUFk4XDBkFGswTyhNuEYUVahKrFNMRhBIdF8cXPROBFlcVhRmrFWsWfRqNFhYXHhmOGKcZvBmFHCQXThVgFAMYVBPTExETBBNvFpoX/Be4F/EVcBRhFTEUdBRbE5MYiRQgF5UTMhUTE74UKhZDF9kX7RPmExAUJxYcGEkS8xUlFGMS3xOSFQARhRILEnsSTRNIE6oSuBS8EuEWWRZSF3oXmhR0GagWzhV0FBoV8BSUFTEVMxa9FiAZsxe0FlsV9hgCFKEZ+RStFRkXCRnRFAUW3BdRGIcZdxdyGIsVwxYXGJwV6Bb1Fq4VWxWGFeoVrxkhFw0VORnIFM4XnBq1FIYTsROxE0gXYha6FxIajxaSFm4XvheRFOEYPRX1FC0UpRSKFFQU0ROeEp0VgxOiGCIZpxinG4oYYhfjF0oa+xaUFWQbrhj3FDQZYRq3FH4VaxWTFTgWpxgFGI0VMBbiFhgYixa9FfIUdxUDFloWjhRrFEYUbhcDFAYUjRUZFY0T7RNmFFMUPxTCE9QV2BT2GOYW9BqQFIQWGBi4F2AV5xYuE6YV2hNkGF0VbBaXF1EWRBdUFSIVORYhFi0c5BbgGaEXnBVZFHcUnBd7FEAXyBhtF3IWFBfsF4EXGhdwFaUYVhlfF4UVJhbYFkYa6xTxFvsUOhUrE3MXShZyFLkXaRMNGL8ZbRQOFdkVLRRHFU8YvhTYF/UThRbNFdQT2hdyFmwYzxQUFgsUsBVjFzwV6BZoFQwWehN6Fj8VhRVyFEwTkBPwE0wXchUHFawWFRb5FIQT+RdoFjUXrxL6E+wSGROLFHsUXhiiFZMWuBW1FzkXgxVIFXgXaBvmFKIW2BQBFWwUxhVQF1AV4BSJFmAU9hQGF6UV+hbBGQkWXhXWFJAV0helFPkUIRbfFg8X",
          "dtype": "i2"
         },
         "yaxis": "y2"
        }
       ],
       "layout": {
        "annotations": [
         {
          "font": {},
          "showarrow": false,
          "text": "bone=Radius",
          "x": 0.245,
          "xanchor": "center",
          "xref": "paper",
          "y": 1,
          "yanchor": "bottom",
          "yref": "paper"
         },
         {
          "font": {},
          "showarrow": false,
          "text": "bone=Tibia",
          "x": 0.755,
          "xanchor": "center",
          "xref": "paper",
          "y": 1,
          "yanchor": "bottom",
          "yref": "paper"
         }
        ],
        "legend": {
         "tracegroupgap": 0
        },
        "template": {
         "data": {
          "bar": [
           {
            "error_x": {
             "color": "rgb(36,36,36)"
            },
            "error_y": {
             "color": "rgb(36,36,36)"
            },
            "marker": {
             "line": {
              "color": "white",
              "width": 0.5
             },
             "pattern": {
              "fillmode": "overlay",
              "size": 10,
              "solidity": 0.2
             }
            },
            "type": "bar"
           }
          ],
          "barpolar": [
           {
            "marker": {
             "line": {
              "color": "white",
              "width": 0.5
             },
             "pattern": {
              "fillmode": "overlay",
              "size": 10,
              "solidity": 0.2
             }
            },
            "type": "barpolar"
           }
          ],
          "carpet": [
           {
            "aaxis": {
             "endlinecolor": "rgb(36,36,36)",
             "gridcolor": "white",
             "linecolor": "white",
             "minorgridcolor": "white",
             "startlinecolor": "rgb(36,36,36)"
            },
            "baxis": {
             "endlinecolor": "rgb(36,36,36)",
             "gridcolor": "white",
             "linecolor": "white",
             "minorgridcolor": "white",
             "startlinecolor": "rgb(36,36,36)"
            },
            "type": "carpet"
           }
          ],
          "choropleth": [
           {
            "colorbar": {
             "outlinewidth": 1,
             "tickcolor": "rgb(36,36,36)",
             "ticks": "outside"
            },
            "type": "choropleth"
           }
          ],
          "contour": [
           {
            "colorbar": {
             "outlinewidth": 1,
             "tickcolor": "rgb(36,36,36)",
             "ticks": "outside"
            },
            "colorscale": [
             [
              0,
              "#440154"
             ],
             [
              0.1111111111111111,
              "#482878"
             ],
             [
              0.2222222222222222,
              "#3e4989"
             ],
             [
              0.3333333333333333,
              "#31688e"
             ],
             [
              0.4444444444444444,
              "#26828e"
             ],
             [
              0.5555555555555556,
              "#1f9e89"
             ],
             [
              0.6666666666666666,
              "#35b779"
             ],
             [
              0.7777777777777778,
              "#6ece58"
             ],
             [
              0.8888888888888888,
              "#b5de2b"
             ],
             [
              1,
              "#fde725"
             ]
            ],
            "type": "contour"
           }
          ],
          "contourcarpet": [
           {
            "colorbar": {
             "outlinewidth": 1,
             "tickcolor": "rgb(36,36,36)",
             "ticks": "outside"
            },
            "type": "contourcarpet"
           }
          ],
          "heatmap": [
           {
            "colorbar": {
             "outlinewidth": 1,
             "tickcolor": "rgb(36,36,36)",
             "ticks": "outside"
            },
            "colorscale": [
             [
              0,
              "#440154"
             ],
             [
              0.1111111111111111,
              "#482878"
             ],
             [
              0.2222222222222222,
              "#3e4989"
             ],
             [
              0.3333333333333333,
              "#31688e"
             ],
             [
              0.4444444444444444,
              "#26828e"
             ],
             [
              0.5555555555555556,
              "#1f9e89"
             ],
             [
              0.6666666666666666,
              "#35b779"
             ],
             [
              0.7777777777777778,
              "#6ece58"
             ],
             [
              0.8888888888888888,
              "#b5de2b"
             ],
             [
              1,
              "#fde725"
             ]
            ],
            "type": "heatmap"
           }
          ],
          "histogram": [
           {
            "marker": {
             "line": {
              "color": "white",
              "width": 0.6
             }
            },
            "type": "histogram"
           }
          ],
          "histogram2d": [
           {
            "colorbar": {
             "outlinewidth": 1,
             "tickcolor": "rgb(36,36,36)",
             "ticks": "outside"
            },
            "colorscale": [
             [
              0,
              "#440154"
             ],
             [
              0.1111111111111111,
              "#482878"
             ],
             [
              0.2222222222222222,
              "#3e4989"
             ],
             [
              0.3333333333333333,
              "#31688e"
             ],
             [
              0.4444444444444444,
              "#26828e"
             ],
             [
              0.5555555555555556,
              "#1f9e89"
             ],
             [
              0.6666666666666666,
              "#35b779"
             ],
             [
              0.7777777777777778,
              "#6ece58"
             ],
             [
              0.8888888888888888,
              "#b5de2b"
             ],
             [
              1,
              "#fde725"
             ]
            ],
            "type": "histogram2d"
           }
          ],
          "histogram2dcontour": [
           {
            "colorbar": {
             "outlinewidth": 1,
             "tickcolor": "rgb(36,36,36)",
             "ticks": "outside"
            },
            "colorscale": [
             [
              0,
              "#440154"
             ],
             [
              0.1111111111111111,
              "#482878"
             ],
             [
              0.2222222222222222,
              "#3e4989"
             ],
             [
              0.3333333333333333,
              "#31688e"
             ],
             [
              0.4444444444444444,
              "#26828e"
             ],
             [
              0.5555555555555556,
              "#1f9e89"
             ],
             [
              0.6666666666666666,
              "#35b779"
             ],
             [
              0.7777777777777778,
              "#6ece58"
             ],
             [
              0.8888888888888888,
              "#b5de2b"
             ],
             [
              1,
              "#fde725"
             ]
            ],
            "type": "histogram2dcontour"
           }
          ],
          "mesh3d": [
           {
            "colorbar": {
             "outlinewidth": 1,
             "tickcolor": "rgb(36,36,36)",
             "ticks": "outside"
            },
            "type": "mesh3d"
           }
          ],
          "parcoords": [
           {
            "line": {
             "colorbar": {
              "outlinewidth": 1,
              "tickcolor": "rgb(36,36,36)",
              "ticks": "outside"
             }
            },
            "type": "parcoords"
           }
          ],
          "pie": [
           {
            "automargin": true,
            "type": "pie"
           }
          ],
          "scatter": [
           {
            "fillpattern": {
             "fillmode": "overlay",
             "size": 10,
             "solidity": 0.2
            },
            "type": "scatter"
           }
          ],
          "scatter3d": [
           {
            "line": {
             "colorbar": {
              "outlinewidth": 1,
              "tickcolor": "rgb(36,36,36)",
              "ticks": "outside"
             }
            },
            "marker": {
             "colorbar": {
              "outlinewidth": 1,
              "tickcolor": "rgb(36,36,36)",
              "ticks": "outside"
             }
            },
            "type": "scatter3d"
           }
          ],
          "scattercarpet": [
           {
            "marker": {
             "colorbar": {
              "outlinewidth": 1,
              "tickcolor": "rgb(36,36,36)",
              "ticks": "outside"
             }
            },
            "type": "scattercarpet"
           }
          ],
          "scattergeo": [
           {
            "marker": {
             "colorbar": {
              "outlinewidth": 1,
              "tickcolor": "rgb(36,36,36)",
              "ticks": "outside"
             }
            },
            "type": "scattergeo"
           }
          ],
          "scattergl": [
           {
            "marker": {
             "colorbar": {
              "outlinewidth": 1,
              "tickcolor": "rgb(36,36,36)",
              "ticks": "outside"
             }
            },
            "type": "scattergl"
           }
          ],
          "scattermap": [
           {
            "marker": {
             "colorbar": {
              "outlinewidth": 1,
              "tickcolor": "rgb(36,36,36)",
              "ticks": "outside"
             }
            },
            "type": "scattermap"
           }
          ],
          "scattermapbox": [
           {
            "marker": {
             "colorbar": {
              "outlinewidth": 1,
              "tickcolor": "rgb(36,36,36)",
              "ticks": "outside"
             }
            },
            "type": "scattermapbox"
           }
          ],
          "scatterpolar": [
           {
            "marker": {
             "colorbar": {
              "outlinewidth": 1,
              "tickcolor": "rgb(36,36,36)",
              "ticks": "outside"
             }
            },
            "type": "scatterpolar"
           }
          ],
          "scatterpolargl": [
           {
            "marker": {
             "colorbar": {
              "outlinewidth": 1,
              "tickcolor": "rgb(36,36,36)",
              "ticks": "outside"
             }
            },
            "type": "scatterpolargl"
           }
          ],
          "scatterternary": [
           {
            "marker": {
             "colorbar": {
              "outlinewidth": 1,
              "tickcolor": "rgb(36,36,36)",
              "ticks": "outside"
             }
            },
            "type": "scatterternary"
           }
          ],
          "surface": [
           {
            "colorbar": {
             "outlinewidth": 1,
             "tickcolor": "rgb(36,36,36)",
             "ticks": "outside"
            },
            "colorscale": [
             [
              0,
              "#440154"
             ],
             [
              0.1111111111111111,
              "#482878"
             ],
             [
              0.2222222222222222,
              "#3e4989"
             ],
             [
              0.3333333333333333,
              "#31688e"
             ],
             [
              0.4444444444444444,
              "#26828e"
             ],
             [
              0.5555555555555556,
              "#1f9e89"
             ],
             [
              0.6666666666666666,
              "#35b779"
             ],
             [
              0.7777777777777778,
              "#6ece58"
             ],
             [
              0.8888888888888888,
              "#b5de2b"
             ],
             [
              1,
              "#fde725"
             ]
            ],
            "type": "surface"
           }
          ],
          "table": [
           {
            "cells": {
             "fill": {
              "color": "rgb(237,237,237)"
             },
             "line": {
              "color": "white"
             }
            },
            "header": {
             "fill": {
              "color": "rgb(217,217,217)"
             },
             "line": {
              "color": "white"
             }
            },
            "type": "table"
           }
          ]
         },
         "layout": {
          "annotationdefaults": {
           "arrowhead": 0,
           "arrowwidth": 1
          },
          "autotypenumbers": "strict",
          "coloraxis": {
           "colorbar": {
            "outlinewidth": 1,
            "tickcolor": "rgb(36,36,36)",
            "ticks": "outside"
           }
          },
          "colorscale": {
           "diverging": [
            [
             0,
             "rgb(103,0,31)"
            ],
            [
             0.1,
             "rgb(178,24,43)"
            ],
            [
             0.2,
             "rgb(214,96,77)"
            ],
            [
             0.3,
             "rgb(244,165,130)"
            ],
            [
             0.4,
             "rgb(253,219,199)"
            ],
            [
             0.5,
             "rgb(247,247,247)"
            ],
            [
             0.6,
             "rgb(209,229,240)"
            ],
            [
             0.7,
             "rgb(146,197,222)"
            ],
            [
             0.8,
             "rgb(67,147,195)"
            ],
            [
             0.9,
             "rgb(33,102,172)"
            ],
            [
             1,
             "rgb(5,48,97)"
            ]
           ],
           "sequential": [
            [
             0,
             "#440154"
            ],
            [
             0.1111111111111111,
             "#482878"
            ],
            [
             0.2222222222222222,
             "#3e4989"
            ],
            [
             0.3333333333333333,
             "#31688e"
            ],
            [
             0.4444444444444444,
             "#26828e"
            ],
            [
             0.5555555555555556,
             "#1f9e89"
            ],
            [
             0.6666666666666666,
             "#35b779"
            ],
            [
             0.7777777777777778,
             "#6ece58"
            ],
            [
             0.8888888888888888,
             "#b5de2b"
            ],
            [
             1,
             "#fde725"
            ]
           ],
           "sequentialminus": [
            [
             0,
             "#440154"
            ],
            [
             0.1111111111111111,
             "#482878"
            ],
            [
             0.2222222222222222,
             "#3e4989"
            ],
            [
             0.3333333333333333,
             "#31688e"
            ],
            [
             0.4444444444444444,
             "#26828e"
            ],
            [
             0.5555555555555556,
             "#1f9e89"
            ],
            [
             0.6666666666666666,
             "#35b779"
            ],
            [
             0.7777777777777778,
             "#6ece58"
            ],
            [
             0.8888888888888888,
             "#b5de2b"
            ],
            [
             1,
             "#fde725"
            ]
           ]
          },
          "colorway": [
           "#1F77B4",
           "#FF7F0E",
           "#2CA02C",
           "#D62728",
           "#9467BD",
           "#8C564B",
           "#E377C2",
           "#7F7F7F",
           "#BCBD22",
           "#17BECF"
          ],
          "font": {
           "color": "rgb(36,36,36)"
          },
          "geo": {
           "bgcolor": "white",
           "lakecolor": "white",
           "landcolor": "white",
           "showlakes": true,
           "showland": true,
           "subunitcolor": "white"
          },
          "hoverlabel": {
           "align": "left"
          },
          "hovermode": "closest",
          "mapbox": {
           "style": "light"
          },
          "paper_bgcolor": "white",
          "plot_bgcolor": "white",
          "polar": {
           "angularaxis": {
            "gridcolor": "rgb(232,232,232)",
            "linecolor": "rgb(36,36,36)",
            "showgrid": false,
            "showline": true,
            "ticks": "outside"
           },
           "bgcolor": "white",
           "radialaxis": {
            "gridcolor": "rgb(232,232,232)",
            "linecolor": "rgb(36,36,36)",
            "showgrid": false,
            "showline": true,
            "ticks": "outside"
           }
          },
          "scene": {
           "xaxis": {
            "backgroundcolor": "white",
            "gridcolor": "rgb(232,232,232)",
            "gridwidth": 2,
            "linecolor": "rgb(36,36,36)",
            "showbackground": true,
            "showgrid": false,
            "showline": true,
            "ticks": "outside",
            "zeroline": false,
            "zerolinecolor": "rgb(36,36,36)"
           },
           "yaxis": {
            "backgroundcolor": "white",
            "gridcolor": "rgb(232,232,232)",
            "gridwidth": 2,
            "linecolor": "rgb(36,36,36)",
            "showbackground": true,
            "showgrid": false,
            "showline": true,
            "ticks": "outside",
            "zeroline": false,
            "zerolinecolor": "rgb(36,36,36)"
           },
           "zaxis": {
            "backgroundcolor": "white",
            "gridcolor": "rgb(232,232,232)",
            "gridwidth": 2,
            "linecolor": "rgb(36,36,36)",
            "showbackground": true,
            "showgrid": false,
            "showline": true,
            "ticks": "outside",
            "zeroline": false,
            "zerolinecolor": "rgb(36,36,36)"
           }
          },
          "shapedefaults": {
           "fillcolor": "black",
           "line": {
            "width": 0
           },
           "opacity": 0.3
          },
          "ternary": {
           "aaxis": {
            "gridcolor": "rgb(232,232,232)",
            "linecolor": "rgb(36,36,36)",
            "showgrid": false,
            "showline": true,
            "ticks": "outside"
           },
           "baxis": {
            "gridcolor": "rgb(232,232,232)",
            "linecolor": "rgb(36,36,36)",
            "showgrid": false,
            "showline": true,
            "ticks": "outside"
           },
           "bgcolor": "white",
           "caxis": {
            "gridcolor": "rgb(232,232,232)",
            "linecolor": "rgb(36,36,36)",
            "showgrid": false,
            "showline": true,
            "ticks": "outside"
           }
          },
          "title": {
           "x": 0.05
          },
          "xaxis": {
           "automargin": true,
           "gridcolor": "rgb(232,232,232)",
           "linecolor": "rgb(36,36,36)",
           "showgrid": false,
           "showline": true,
           "ticks": "outside",
           "title": {
            "standoff": 15
           },
           "zeroline": false,
           "zerolinecolor": "rgb(36,36,36)"
          },
          "yaxis": {
           "automargin": true,
           "gridcolor": "rgb(232,232,232)",
           "linecolor": "rgb(36,36,36)",
           "showgrid": false,
           "showline": true,
           "ticks": "outside",
           "title": {
            "standoff": 15
           },
           "zeroline": false,
           "zerolinecolor": "rgb(36,36,36)"
          }
         }
        },
        "title": {
         "text": "Minimum vs. maximum intensity values per bone"
        },
        "width": 800,
        "xaxis": {
         "anchor": "y",
         "domain": [
          0,
          0.49
         ],
         "title": {
          "text": "Minimum intensity value"
         }
        },
        "xaxis2": {
         "anchor": "y2",
         "domain": [
          0.51,
          1
         ],
         "matches": "x",
         "title": {
          "text": "Minimum intensity value"
         }
        },
        "yaxis": {
         "anchor": "x",
         "domain": [
          0,
          1
         ],
         "title": {
          "text": "Maximum intensity value"
         }
        },
        "yaxis2": {
         "anchor": "x2",
         "domain": [
          0,
          1
         ],
         "matches": "y",
         "showticklabels": false
        }
       }
      }
     },
     "metadata": {},
     "output_type": "display_data"
    }
   ],
   "source": [
    "fig = px.scatter(\n",
    "    data,\n",
    "    x='min_val',\n",
    "    y='max_val',\n",
    "    facet_col='bone',\n",
    "    title='Minimum vs. maximum intensity values per bone',\n",
    "    labels={'min_val': 'Minimum intensity value', 'max_val': 'Maximum intensity value'},\n",
    "    width=800,\n",
    ")\n",
    "\n",
    "fig.show()"
   ]
  },
  {
   "cell_type": "code",
   "execution_count": 43,
   "metadata": {},
   "outputs": [
    {
     "name": "stdout",
     "output_type": "stream",
     "text": [
      "Covariance: -406927.45\n",
      "Pearson:    -0.801\n",
      "Spearman:   -0.694\n"
     ]
    }
   ],
   "source": [
    "calculate_correlation_coefficients(data, 'min_val', 'max_val')"
   ]
  },
  {
   "cell_type": "markdown",
   "metadata": {},
   "source": [
    "> The area of interest is difficult to recognise due to the outliers. These have been removed for better visualisation. These images should be viewed separately. This is not possible in the present work as the raw data cannot be shared. The outliers are therefore excluded for further calculation."
   ]
  },
  {
   "cell_type": "code",
   "execution_count": 44,
   "metadata": {},
   "outputs": [
    {
     "data": {
      "text/plain": [
       "393    D0005448\n",
       "396    D0004734\n",
       "669    D0004406\n",
       "670    D0004405\n",
       "696    D0005851\n",
       "Name: scan_id, dtype: object"
      ]
     },
     "execution_count": 44,
     "metadata": {},
     "output_type": "execute_result"
    }
   ],
   "source": [
    "data[data['max_val'] > 10000]['scan_id']"
   ]
  },
  {
   "cell_type": "code",
   "execution_count": 45,
   "metadata": {},
   "outputs": [
    {
     "data": {
      "application/vnd.plotly.v1+json": {
       "config": {
        "plotlyServerURL": "https://plot.ly"
       },
       "data": [
        {
         "hovertemplate": "bone=Radius<br>Minimum intensity value=%{x}<br>Maximum intensity value=%{y}<extra></extra>",
         "legendgroup": "",
         "marker": {
          "color": "#1F77B4",
          "symbol": "circle"
         },
         "mode": "markers",
         "name": "",
         "showlegend": false,
         "type": "scattergl",
         "x": {
          "bdata": "WfeV+Qr3E/dB+EX3S/Zv90P4UPbV9x35jvhm+Jv4Y/RO9un2gPPx9Zf2rPfg9V/1Y/dF+XD2efab+MX2U/Y/90L2ovdv88b3f/YK97v2aPfe99j2+fdl+LD21vZi91j5jfam+OL3ifXQ9VL5c/YW95/4+/Rk9Ef3H/Z19jH2SfWI9jb3OPgs91j0N/cS+Ab2UPa390L46PY4+Xf3Efdk9ff1T/Q19uT3cPbE9sb1j/Vx9kf4U/n++fj2v/SD9tb3YvX59Hb1xvYv82L13fUV9kf4CfYO9u31rvR59sb1Gfg79lT0Kvap+OH4iPi9+A73F/dO9yn55/cH9iT2hPVh9pT2SvZ994v2yvSV9R70u/jR9V/3cveE96/26fWu92H16/b785XzrfgE9ff3tfXe9WP3CPcq+M34ifXw9wr5v/dM9gD2Z/Tc9uP1D/X09er1Pfda+Az4NfaT9wv03fSt9jr2XviO+X73cvaR9vD1ovOE9cv1NPZV9WD2EPeb9tv2ofiP9db38vce9y710/Q29XDz2PVw9sD1RPbh9FH1TPTu9RLzIvNR9hP2VPgd9/30h/b79s72u/ZL+HL06PPA9nH2mfWs9pf2cfjS91r4+PWS9EH4rPdm95v2Nfjm9/b2cfmY9P73ifes9cP2XvUj+ez05vd+9r32fvdo9kn3MPaU9uv2M/Tp8/n0Lvbs9Wn2DPRq9lb1dfYM9773W/fu9pD36vcs+OP2N/UO9F/2FfeU9bD1S/dP+LD2RvNu9c/2FPWU+UX3QfgD+Uf55Pgj9/nzufGu9273CveL9Sz1y/RO9oD3iPVQ9qb12/gm+d72a/c++Jr3+/hM9g32Kfbz9CD0ZPaZ9Sb03fVq9lX3T/Ya+Of32Pf79l/3GfZa9jz1l/dO9Df3Avi79PT2cvT49Xb5RPgX8RL35Pes94j3SvaG+AL3EfjV+ET5ivTh9hT2mvSP9ln2/PYt91T16Pb99ET1PfZv9w718vRZ+Jf34fkW+db43Pek90/4QPZ0+Lr45/Ut9rf2Q/V9+Gv4jvna+Iz3t/g29x/0B/Uf9mX1BviM92PzwfW++E33Q/cS9gH5kfZC9TP2zfVK90D32fTX9nn3PPaH9V/1u/eG9rj1ZPYK9lrzP/fp9nf20ffE9+T3avf29ln5L/Z29n306fXh9en1uvYq9p32J/Wy9Jn1//c39XD12vJJ+CT5rvWF9yj2pPYp+df5JPT99Sz4DPbF92f1IPVK+Cf0FfeA9WX1Lvii9n/25PWF9NP4WPZg9XX1nfOK9gX2ZvZt9yX3TfjY94H4HPgk9uT3lfgu9iD3u/cL+NX3uPYY9tb4FfcB+Sr3r/Y5+IX3h/XV9zr3PPb99hj3BvT29dn11vZP9UD3ofZ69pHywvbx9p30rPbH9hv2bPcr9p31I/Zh9kn2lfc09G/2Tfg395j2cffp9tD3iPWS9of3IfcB96z4i/ex+Nz5u/ZN9vb3x/aa9wn4a/cj9LfzzPYq+Bfzk/Xq9XD09vX195r2NPZA9oj4LfgP9xP4x/ba98z1FPfj9u/3IPZT9z30oPTZ9lD2E/li9aj1r/Xc9wz3F/fI9vT2sfVH9xT3kff99RH19vYR9rr1N/ev9sb0Q/ZA9aP3vfHX9av2B/Zz9yr3bvVI9Jr0ZfMO9An1SfXw9Z/zq/ji9Vb0t/N190n3R/gU+I/4Qfi++GP3jPcl98L4QPfo90P3V/UE90X39vYT9lD5Y/ej+Ln04PcW9/z2ffQk9HP0kfU+9uX1pfd09jD3rvcw9fH2+vQD9jn3z/ZE9kL1uvik9Yj0GPj49Cn18fRs94D1H/Zk9cDzbvUR9Uv1pPa19Zv2PvUN9ib2Bvd69m/3JPUJ9RL35Plz+cf2AfgV9UD0Svfz9ADz2vIE9CD2zvaN9qv1bfdZ9or1MfXz8qf0avhd+MX4kfce9af4j/eU9kL36/Yz90T3zPc492z40vc=",
          "dtype": "i2"
         },
         "xaxis": "x",
         "y": {
          "bdata": "wBYmEz0VYBTLEsMToxUKFsAUkBfzEyIRoBaSEi4TgBf9FJoWyhUvGLsTQxSzGHgWAxfME9IV8xQyElAWIRf7FGIToxQyFdwSCxVyFPETehUqFa4UtxMjFP0VVxPxEhITnhTDE2cVMxbXFWQTdxNRE2QTExjMF4kUqRS4F+UXgxbEFGgT0xPwFMcUeRS7E9sVfBdaEhYU0xW0EtcTgRVHFWwVFhdBFTYWIhjRE1MWcRjxFiEVoxJ2Ec4VyhekF3sULhUXGMIXBxUpGa8XxxYnGCcT1RWUFZsXlhUOFksVlhNhFoYdxxNKEoESaxIuElgVShNDFBkS5BK8FpYYNxaZFHUVlhTfE5QVFxYrFuwVLxJiFB0UNhOMFAMUzRUQFPAYLBkbF6kW0hPDFfsT7BVcFzUWRRbJE0kSgxVHFagSyBMzFRYVrhSVFLsUhhWwFWIW+xNwEq8T3hSzFJcWkRWrFecVPBNTErMV4BQbFcMU0xZYF3YVJxXSFzAX0xW9F2YYPxNxGZkTZBMlFWAZ9RUzFXEYARbEF0oXNxZ+FvEWxRbkF5IV8hfGFTQX+hJfFHQXqxaKFGYULheLFCAWwxlKFJAYhhgTFiUVBhSLExQTUxgGGSgUMRMAFo4XzhMdE+cUgxFfGYgTzxV3FDMW0BbNEecU1RTaFRsThhMAF5YSfhX0FSsViBV9F68WSRZkFd8WTRlSFukWlhdxE+sUQBVdFBMTnRJfE90VWBZdFkEXWhWaFsIUKxWLEt4WUhYQFnsVdRoCEoIR9xPAEngRJhF1FFoWXxoZFOAUOhSLFsgXohdjE5sTzhfUFAIXKxMWE+gWyRPoEkYTMxJxGAYWexQQFV8WRBR1FgUWjxZMFqUVwhZGE+gYMBZnFqgVRhUfFvEW3BPzFnUTuxOTFloX/hXyFgAS+RPjFi0VghSMFsgVHRfQE2sVjBN/EnMSxhQVF7oUjBeCFNkVkRfHFQIWIBTiFkkXcBTLE50ViRi1EoMTbhEEEvsSJRSVFK0TSRWzErUTzBgUFykThxRmEokR8xBEElUTrxJBFEgc6Rc/FkgZUxR0FLUZehYSEjcTgxN3F+MRiBWvFGAY4Rd/E1wX6BaYGCsTxxUyGRIVExQyGCoYLBmtFQQYyxV6FEQW1RJUEyYSARZ9FScSxBbFFaUXwRanFu4XJRZtFugXWhX7FckU3BQuFYoV3BUDE4kSAxVsFbQVSxUEElwRvhXqFNESWBSIGiUVdxSkEqAWCBQEF4AVJRP8FJAUHBd0FbwSFhbKFmMVpBQjFMgVShZeE1cWDRQ3FG4UhxMxFZ0WbRKxFFQVCBRTFjYT5ha2FWMU0xdaE30TJBX8E2gUaRR3E0QUqRQ6FnwTfBeiFqgWrBYlFsUUXxYyFWAZXBTUFCAWuRTrFVYWJhR5GHYUQRQMFJgVSROyFakUyxNwFOMVvxO8FRATrhQvFqYTHBi7GX8TXBLcEyYR+BO6FRQVCBSTFDUVuxRdFUIYJxVvEwoVzRZeF2sWPxepFGIW1RYXFnwU/hKdFKcRURUBFLIVlRV+FO4T+BWdFvIV5xapEx4ViRMsGEcVxhYyFTwWURM+FV0USxeTFFAUMxRMFoEXDRUZFvEWxBjPGEYWbBfxFyMWTxgdGAEVaRhpFdcWWhjlFQAYyRhFF+8VWhfRFyoYUxSOGgoZ0hbEFaoSIRKbE+ESzhLIEhsVIxROFlkSaBQYE1gWthdZFrQU+BPeFYcSJxQCFJUWjBSpFPAWjhq9GEMYvBXiFUMXphO3FCsTLhS/F2YUGxgAFe8UDBXQFTEXPhMQFS0aiBNVFkIWxRUME9sVZBXgF8sXHxZwGDgWUxXyFfMXIhh4F2kVhhTXFj8U3BZjFscW9RBgER8TQRMYF8UVtRWKFmQXRRarFnIWyhUqF0kYAxP4FHcYvRjXF5EWRRjwFXcSCRiXFGUSxxSRFvAW0xSXFj0UuRIMFDESxxQ=",
          "dtype": "i2"
         },
         "yaxis": "y"
        },
        {
         "hovertemplate": "bone=Tibia<br>Minimum intensity value=%{x}<br>Maximum intensity value=%{y}<extra></extra>",
         "legendgroup": "",
         "marker": {
          "color": "#1F77B4",
          "symbol": "circle"
         },
         "mode": "markers",
         "name": "",
         "showlegend": false,
         "type": "scattergl",
         "x": {
          "bdata": "0/R/8z3zwfKI9cLz1vSl9fH0l/P28zH1HfQs80T11/VL9r72HPY99dT1TvWc9qX1c/VR9MT1S/Ws88/z3/QZ9+z22vb99sD1hfaV86fzEfbP9Uv2/PaQ9ov15fbZ9iP3uPcd9xX2bPfq86nzVvWd9tn2qfVt94T2bPar9xT20vZQ9kH3V/di9yb3M/bO9H71H/WP9GHy//ay9U/0G/TB9Dr1IvTB8l/1OfXI81P3pPX185D26vX19Q/2u/cq93H2Vva39Af0qvXD90r3/fdi9c32NPdN9tX3DvcM9nT3u/Mq9Qn1EvXj9P/10fQB9U71IfaV9f7yV/Yi9mz2OfX89GH0g/Vi9J/1MPUk9rT2LffB9Wn1i/Ze9Wz2LPRa8wX0tfLb9PD08/XZ9fb2mvZC8lD1wfYQ9gr3I/as9Yf1CPfN9Xz1dPa+9fr15PLk9CD1mPOE9DX12/O09Mz0iPI89MLzdvPn9bjz7/Pl9FnzrPUe80b2tfa79H31sPVv9Rr2L/ZZ9dD0QPSn8ij2sfUr9NH1XvQs9cj0e/Rd9CbzLvPc87LzbvV+9V72rPR/9Tj2H/YN9jn0X/UH9w32rPJ39Bv2SfVB88X1z/T28/n04/Tk9Rr0wfRO87/z8fKG8lz0+vXx9cr0IPU49fbxyvKX9t/27vSq9nb1DvaX83v0Rfez9ij2kfX89fD1xfYJ9nf1J/Yz9mH2nPa69m71Ufc39333pvbQ9lb3Z/fV9Tj1S/WP9Rr3hvZM9pH2bvWL9ir2OfXN9aj1dPU39jD1UvWr9tz1Jfa69un1sfVb9tj0zPa39hP1gPTi9SP1rfbd9tj19PZQ9SX0evOs9PT2jfVs83rxzvEO9671QPR/9NT0uPTy9I/1CvW/9ij2d/RL9t728vYX9cL0O/br9aX1/vQX9Zb2dvUa9vr0PfVr9jv2pfJk8IjzZ/TQ8hbyF/Vh9OjzlPSe87/1xfaF9m/2zvSn8WP1Tveg9u31uPeg803zxPW/9qX0nfQg8571vPV19vb1avXS9LL2hvYU9hP18vaj9mb2E/ZZ8vH0+vXH9Jj0/vJx86v0tfUg9/b1QvYG9hj3Z/Wp8lLzMfUk9dT2ofJt9azzIPNA9Y70iPSC86fz4/OM8/H0WPXK9vr1n/Y59hX3Pveg9PnzXvQJ83f1WPUl9S/1qvZY96f1Tfa09Rz3LPbB9vT1rPXE9Df1mPbD9mr2JvXR88D2pPXc9gr3NfZ29hv4ePcC92/3+/Z098L2cfaO93L1Z/SC9ZLzkPWl8sr12fV49mX14PWQ8y/1c/UH9ef0dfMx8bX0J/SF9v70y/QB9aX0ffW39bH0JfRW8if1o/Xz8372cfJ782/1pfVL9rr1l/Xj9W32EfRY9dT1xPQV9j7zJvOC9lT3HPYF9ln1WPW99Kz0hvNF8w7xY/O29IryQvap9SH2vPTX9X31Ovar9g/1svTG8S/znvEH8+vxJvNQ9KXy7fQq9s3xOvLX9BjzDvKi9w31lvS19aL0zPN384j1EfTw9F71WPYq9kH2jfV19bzzAvaK9kX1jfS09Lv10fW79s722vb29jf2zfXp9tf1aPUN84fyx/IU9oT1F/T09Zn26PXt91X0O/dV9db2r/NZ88bzG/PZ9BT09PPq9Ej0bfXQ9MD0f/XY9dr22vQ69dn0F/Oc9Nb0GPTX9Gj0gfOA9BLyrvH189z13vS/8/30bfZj9O707fYB9zn0i/Q/9uv0QvcV9EP07/QY95X1I/aH9TL0IvZ69BD3LfUG9q32xPOW9ab0wvUG9mP22POF9CL1YPRb9ab1evcv9XP1V/Rp9d/1HfaL9LL0O/Tt9U71i/QY9X72kPSs9I7z0fbo9SD34fU89f702vOm9TL1RvVR8/LzsfVp9T7zh/D/9ZX1d/Ym9tf16fSj8qX0U/bp9Wr1cfbP8j31bPVT8of0Jvad9MnzcvNr9vb04PQ681nz",
          "dtype": "i2"
         },
         "xaxis": "x2",
         "y": {
          "bdata": "TBj0FxYYdBpyFW8WqhYfFhUYVRdeGKMWRxZZGL0TmhPzE1cUSBWQFGgUpRY5FB4U6BUUGKsVVhVoHN0TfRPUEVQSbhLYEgEUrRKYFeQWkRRNFLUUhBNNFucUthNnE0gTMxNTEzcVghMZGFIWIRZ0E0oUqBZyExEVDRSGE4cTjxXGE9QSthHPEQwU4hQkF3oWnhfXGIwZ9hNKFaQVORULFqsUZhWxGpsV+BUrGLoS+xSbGBcTARfoFA4VvxLYEbASTBQxFZwVbRWaEbMTqRGqFpIT9xJiFK4TDBMKFTkTnRXWFH0WkBZxFWQV7hWLFMUUmBQNF0UWqRQrFaYU0BTEFSMWRxRtFpoUPhVLFWEULBTvFU0VRhNlFegUxBauGAYYTxjoFxcYahP2FBAUdhQEGy0VjxVBFCQU0BfkEyQTRxPCFJoTIRVSFnUUyRe7GHgX3hS6FQIWkBa4F68XQBjhFxoaYhjsFQ8Y7Rg/FYUYcxWaF90UlRYYGJ0W7RSRFtQUZxQJF4sXxhcEGV8WLhXwFxUYNRfkFjAViRb0F6EYGhZ3FVEXqRavFvAUxRVzFRYUghQHE/UUBxcLFRAVaRmvFT4VMBVMGFAVzhYcGGIVGRnwFfwYJBkQGKsXOhddGQ4UrxYNFMsVbRY+FrkXhxd0FHkT2RYsFCcUdRSMF+UWjBQ2FAEVBBRcFLUVwhQ8FFwVghQsFI8VORSUFK4UABNwErUTYxNlEtMS6xFIFpcWXxXIFAIWnhNiFIoUVRQaFXEUERMlFR0U3RNBFJoVNRTfErsVtRUyE2gUPRONFcQWoBVkFXAVFxd8FGwUHxOFE84VtxJsFAMW9RZLFyITnBTmFd0XfhZ6Fc4UbRZeFjUWmxWoFcIWoBbQFCMUXxW2FsEU0xSNFjgXbhSqFWkUnhbzFZUVLBcFFc8XthYfFOgV7BrdGboazRcyGVcaCRZcGOwVLRVjGCMVABaLFc0VIRZ8GMIUKBReFYgWVBPVF+AYERV2FGMXzRaIGo4UPBWbFW0VJRbFGqkUSRP6E9oV/BWQFTMVFxbUGasYxBTUFk4XDBkFGswTyhNuEYUVahKrFNMRhBIdF8cXPROBFlcVhRmrFWsWfRqNFhYXHhmOGKcZvBmFHCQXThVgFAMYVBPTExETBBNvFpoX/Be4F/EVcBRhFTEUdBRbE5MYiRQgF5UTMhUTE74UKhZDF9kX7RPmExAUJxYcGEkS8xUlFGMS3xOSFQARhRILEnsSTRNIE6oSuBS8EuEWWRZSF3oXmhR0GagWzhV0FBoV8BSUFTEVMxa9FiAZsxe0FlsV9hgCFKEZ+RStFRkXCRnRFAUW3BdRGIcZdxdyGIsVwxYXGJwV6Bb1Fq4VWxWGFeoVrxkhFw0VORnIFM4XnBq1FIYTsROxE0gXYha6FxIajxaSFm4XvheRFOEYPRX1FC0UpRSKFFQU0ROeEp0VgxOiGCIZpxinG4oYYhfjF0oa+xaUFWQbrhj3FDQZYRq3FH4VaxWTFTgWpxgFGI0VMBbiFhgYixa9FfIUdxUDFloWjhRrFEYUbhcDFAYUjRUZFY0T7RNmFFMUPxTCE9QV2BT2GOYW9BqQFIQWGBi4F2AV5xYuE6YV2hNkGF0VbBaXF1EWRBdUFSIVORYhFi0c5BbgGaEXnBVZFHcUnBd7FEAXyBhtF3IWFBfsF4EXGhdwFaUYVhlfF4UVJhbYFkYa6xTxFvsUOhUrE3MXShZyFLkXaRMNGL8ZbRQOFdkVLRRHFU8YvhTYF/UThRbNFdQT2hdyFmwYzxQUFgsUsBVjFzwV6BZoFQwWehN6Fj8VhRVyFEwTkBPwE0wXchUHFawWFRb5FIQT+RdoFjUXrxL6E+wSGROLFHsUXhiiFZMWuBW1FzkXgxVIFXgXaBvmFKIW2BQBFWwUxhVQF1AV4BSJFmAU9hQGF6UV+hbBGQkWXhXWFJAV0helFPkUIRbfFg8X",
          "dtype": "i2"
         },
         "yaxis": "y2"
        }
       ],
       "layout": {
        "annotations": [
         {
          "font": {},
          "showarrow": false,
          "text": "bone=Radius",
          "x": 0.245,
          "xanchor": "center",
          "xref": "paper",
          "y": 1,
          "yanchor": "bottom",
          "yref": "paper"
         },
         {
          "font": {},
          "showarrow": false,
          "text": "bone=Tibia",
          "x": 0.755,
          "xanchor": "center",
          "xref": "paper",
          "y": 1,
          "yanchor": "bottom",
          "yref": "paper"
         }
        ],
        "legend": {
         "tracegroupgap": 0
        },
        "template": {
         "data": {
          "bar": [
           {
            "error_x": {
             "color": "rgb(36,36,36)"
            },
            "error_y": {
             "color": "rgb(36,36,36)"
            },
            "marker": {
             "line": {
              "color": "white",
              "width": 0.5
             },
             "pattern": {
              "fillmode": "overlay",
              "size": 10,
              "solidity": 0.2
             }
            },
            "type": "bar"
           }
          ],
          "barpolar": [
           {
            "marker": {
             "line": {
              "color": "white",
              "width": 0.5
             },
             "pattern": {
              "fillmode": "overlay",
              "size": 10,
              "solidity": 0.2
             }
            },
            "type": "barpolar"
           }
          ],
          "carpet": [
           {
            "aaxis": {
             "endlinecolor": "rgb(36,36,36)",
             "gridcolor": "white",
             "linecolor": "white",
             "minorgridcolor": "white",
             "startlinecolor": "rgb(36,36,36)"
            },
            "baxis": {
             "endlinecolor": "rgb(36,36,36)",
             "gridcolor": "white",
             "linecolor": "white",
             "minorgridcolor": "white",
             "startlinecolor": "rgb(36,36,36)"
            },
            "type": "carpet"
           }
          ],
          "choropleth": [
           {
            "colorbar": {
             "outlinewidth": 1,
             "tickcolor": "rgb(36,36,36)",
             "ticks": "outside"
            },
            "type": "choropleth"
           }
          ],
          "contour": [
           {
            "colorbar": {
             "outlinewidth": 1,
             "tickcolor": "rgb(36,36,36)",
             "ticks": "outside"
            },
            "colorscale": [
             [
              0,
              "#440154"
             ],
             [
              0.1111111111111111,
              "#482878"
             ],
             [
              0.2222222222222222,
              "#3e4989"
             ],
             [
              0.3333333333333333,
              "#31688e"
             ],
             [
              0.4444444444444444,
              "#26828e"
             ],
             [
              0.5555555555555556,
              "#1f9e89"
             ],
             [
              0.6666666666666666,
              "#35b779"
             ],
             [
              0.7777777777777778,
              "#6ece58"
             ],
             [
              0.8888888888888888,
              "#b5de2b"
             ],
             [
              1,
              "#fde725"
             ]
            ],
            "type": "contour"
           }
          ],
          "contourcarpet": [
           {
            "colorbar": {
             "outlinewidth": 1,
             "tickcolor": "rgb(36,36,36)",
             "ticks": "outside"
            },
            "type": "contourcarpet"
           }
          ],
          "heatmap": [
           {
            "colorbar": {
             "outlinewidth": 1,
             "tickcolor": "rgb(36,36,36)",
             "ticks": "outside"
            },
            "colorscale": [
             [
              0,
              "#440154"
             ],
             [
              0.1111111111111111,
              "#482878"
             ],
             [
              0.2222222222222222,
              "#3e4989"
             ],
             [
              0.3333333333333333,
              "#31688e"
             ],
             [
              0.4444444444444444,
              "#26828e"
             ],
             [
              0.5555555555555556,
              "#1f9e89"
             ],
             [
              0.6666666666666666,
              "#35b779"
             ],
             [
              0.7777777777777778,
              "#6ece58"
             ],
             [
              0.8888888888888888,
              "#b5de2b"
             ],
             [
              1,
              "#fde725"
             ]
            ],
            "type": "heatmap"
           }
          ],
          "histogram": [
           {
            "marker": {
             "line": {
              "color": "white",
              "width": 0.6
             }
            },
            "type": "histogram"
           }
          ],
          "histogram2d": [
           {
            "colorbar": {
             "outlinewidth": 1,
             "tickcolor": "rgb(36,36,36)",
             "ticks": "outside"
            },
            "colorscale": [
             [
              0,
              "#440154"
             ],
             [
              0.1111111111111111,
              "#482878"
             ],
             [
              0.2222222222222222,
              "#3e4989"
             ],
             [
              0.3333333333333333,
              "#31688e"
             ],
             [
              0.4444444444444444,
              "#26828e"
             ],
             [
              0.5555555555555556,
              "#1f9e89"
             ],
             [
              0.6666666666666666,
              "#35b779"
             ],
             [
              0.7777777777777778,
              "#6ece58"
             ],
             [
              0.8888888888888888,
              "#b5de2b"
             ],
             [
              1,
              "#fde725"
             ]
            ],
            "type": "histogram2d"
           }
          ],
          "histogram2dcontour": [
           {
            "colorbar": {
             "outlinewidth": 1,
             "tickcolor": "rgb(36,36,36)",
             "ticks": "outside"
            },
            "colorscale": [
             [
              0,
              "#440154"
             ],
             [
              0.1111111111111111,
              "#482878"
             ],
             [
              0.2222222222222222,
              "#3e4989"
             ],
             [
              0.3333333333333333,
              "#31688e"
             ],
             [
              0.4444444444444444,
              "#26828e"
             ],
             [
              0.5555555555555556,
              "#1f9e89"
             ],
             [
              0.6666666666666666,
              "#35b779"
             ],
             [
              0.7777777777777778,
              "#6ece58"
             ],
             [
              0.8888888888888888,
              "#b5de2b"
             ],
             [
              1,
              "#fde725"
             ]
            ],
            "type": "histogram2dcontour"
           }
          ],
          "mesh3d": [
           {
            "colorbar": {
             "outlinewidth": 1,
             "tickcolor": "rgb(36,36,36)",
             "ticks": "outside"
            },
            "type": "mesh3d"
           }
          ],
          "parcoords": [
           {
            "line": {
             "colorbar": {
              "outlinewidth": 1,
              "tickcolor": "rgb(36,36,36)",
              "ticks": "outside"
             }
            },
            "type": "parcoords"
           }
          ],
          "pie": [
           {
            "automargin": true,
            "type": "pie"
           }
          ],
          "scatter": [
           {
            "fillpattern": {
             "fillmode": "overlay",
             "size": 10,
             "solidity": 0.2
            },
            "type": "scatter"
           }
          ],
          "scatter3d": [
           {
            "line": {
             "colorbar": {
              "outlinewidth": 1,
              "tickcolor": "rgb(36,36,36)",
              "ticks": "outside"
             }
            },
            "marker": {
             "colorbar": {
              "outlinewidth": 1,
              "tickcolor": "rgb(36,36,36)",
              "ticks": "outside"
             }
            },
            "type": "scatter3d"
           }
          ],
          "scattercarpet": [
           {
            "marker": {
             "colorbar": {
              "outlinewidth": 1,
              "tickcolor": "rgb(36,36,36)",
              "ticks": "outside"
             }
            },
            "type": "scattercarpet"
           }
          ],
          "scattergeo": [
           {
            "marker": {
             "colorbar": {
              "outlinewidth": 1,
              "tickcolor": "rgb(36,36,36)",
              "ticks": "outside"
             }
            },
            "type": "scattergeo"
           }
          ],
          "scattergl": [
           {
            "marker": {
             "colorbar": {
              "outlinewidth": 1,
              "tickcolor": "rgb(36,36,36)",
              "ticks": "outside"
             }
            },
            "type": "scattergl"
           }
          ],
          "scattermap": [
           {
            "marker": {
             "colorbar": {
              "outlinewidth": 1,
              "tickcolor": "rgb(36,36,36)",
              "ticks": "outside"
             }
            },
            "type": "scattermap"
           }
          ],
          "scattermapbox": [
           {
            "marker": {
             "colorbar": {
              "outlinewidth": 1,
              "tickcolor": "rgb(36,36,36)",
              "ticks": "outside"
             }
            },
            "type": "scattermapbox"
           }
          ],
          "scatterpolar": [
           {
            "marker": {
             "colorbar": {
              "outlinewidth": 1,
              "tickcolor": "rgb(36,36,36)",
              "ticks": "outside"
             }
            },
            "type": "scatterpolar"
           }
          ],
          "scatterpolargl": [
           {
            "marker": {
             "colorbar": {
              "outlinewidth": 1,
              "tickcolor": "rgb(36,36,36)",
              "ticks": "outside"
             }
            },
            "type": "scatterpolargl"
           }
          ],
          "scatterternary": [
           {
            "marker": {
             "colorbar": {
              "outlinewidth": 1,
              "tickcolor": "rgb(36,36,36)",
              "ticks": "outside"
             }
            },
            "type": "scatterternary"
           }
          ],
          "surface": [
           {
            "colorbar": {
             "outlinewidth": 1,
             "tickcolor": "rgb(36,36,36)",
             "ticks": "outside"
            },
            "colorscale": [
             [
              0,
              "#440154"
             ],
             [
              0.1111111111111111,
              "#482878"
             ],
             [
              0.2222222222222222,
              "#3e4989"
             ],
             [
              0.3333333333333333,
              "#31688e"
             ],
             [
              0.4444444444444444,
              "#26828e"
             ],
             [
              0.5555555555555556,
              "#1f9e89"
             ],
             [
              0.6666666666666666,
              "#35b779"
             ],
             [
              0.7777777777777778,
              "#6ece58"
             ],
             [
              0.8888888888888888,
              "#b5de2b"
             ],
             [
              1,
              "#fde725"
             ]
            ],
            "type": "surface"
           }
          ],
          "table": [
           {
            "cells": {
             "fill": {
              "color": "rgb(237,237,237)"
             },
             "line": {
              "color": "white"
             }
            },
            "header": {
             "fill": {
              "color": "rgb(217,217,217)"
             },
             "line": {
              "color": "white"
             }
            },
            "type": "table"
           }
          ]
         },
         "layout": {
          "annotationdefaults": {
           "arrowhead": 0,
           "arrowwidth": 1
          },
          "autotypenumbers": "strict",
          "coloraxis": {
           "colorbar": {
            "outlinewidth": 1,
            "tickcolor": "rgb(36,36,36)",
            "ticks": "outside"
           }
          },
          "colorscale": {
           "diverging": [
            [
             0,
             "rgb(103,0,31)"
            ],
            [
             0.1,
             "rgb(178,24,43)"
            ],
            [
             0.2,
             "rgb(214,96,77)"
            ],
            [
             0.3,
             "rgb(244,165,130)"
            ],
            [
             0.4,
             "rgb(253,219,199)"
            ],
            [
             0.5,
             "rgb(247,247,247)"
            ],
            [
             0.6,
             "rgb(209,229,240)"
            ],
            [
             0.7,
             "rgb(146,197,222)"
            ],
            [
             0.8,
             "rgb(67,147,195)"
            ],
            [
             0.9,
             "rgb(33,102,172)"
            ],
            [
             1,
             "rgb(5,48,97)"
            ]
           ],
           "sequential": [
            [
             0,
             "#440154"
            ],
            [
             0.1111111111111111,
             "#482878"
            ],
            [
             0.2222222222222222,
             "#3e4989"
            ],
            [
             0.3333333333333333,
             "#31688e"
            ],
            [
             0.4444444444444444,
             "#26828e"
            ],
            [
             0.5555555555555556,
             "#1f9e89"
            ],
            [
             0.6666666666666666,
             "#35b779"
            ],
            [
             0.7777777777777778,
             "#6ece58"
            ],
            [
             0.8888888888888888,
             "#b5de2b"
            ],
            [
             1,
             "#fde725"
            ]
           ],
           "sequentialminus": [
            [
             0,
             "#440154"
            ],
            [
             0.1111111111111111,
             "#482878"
            ],
            [
             0.2222222222222222,
             "#3e4989"
            ],
            [
             0.3333333333333333,
             "#31688e"
            ],
            [
             0.4444444444444444,
             "#26828e"
            ],
            [
             0.5555555555555556,
             "#1f9e89"
            ],
            [
             0.6666666666666666,
             "#35b779"
            ],
            [
             0.7777777777777778,
             "#6ece58"
            ],
            [
             0.8888888888888888,
             "#b5de2b"
            ],
            [
             1,
             "#fde725"
            ]
           ]
          },
          "colorway": [
           "#1F77B4",
           "#FF7F0E",
           "#2CA02C",
           "#D62728",
           "#9467BD",
           "#8C564B",
           "#E377C2",
           "#7F7F7F",
           "#BCBD22",
           "#17BECF"
          ],
          "font": {
           "color": "rgb(36,36,36)"
          },
          "geo": {
           "bgcolor": "white",
           "lakecolor": "white",
           "landcolor": "white",
           "showlakes": true,
           "showland": true,
           "subunitcolor": "white"
          },
          "hoverlabel": {
           "align": "left"
          },
          "hovermode": "closest",
          "mapbox": {
           "style": "light"
          },
          "paper_bgcolor": "white",
          "plot_bgcolor": "white",
          "polar": {
           "angularaxis": {
            "gridcolor": "rgb(232,232,232)",
            "linecolor": "rgb(36,36,36)",
            "showgrid": false,
            "showline": true,
            "ticks": "outside"
           },
           "bgcolor": "white",
           "radialaxis": {
            "gridcolor": "rgb(232,232,232)",
            "linecolor": "rgb(36,36,36)",
            "showgrid": false,
            "showline": true,
            "ticks": "outside"
           }
          },
          "scene": {
           "xaxis": {
            "backgroundcolor": "white",
            "gridcolor": "rgb(232,232,232)",
            "gridwidth": 2,
            "linecolor": "rgb(36,36,36)",
            "showbackground": true,
            "showgrid": false,
            "showline": true,
            "ticks": "outside",
            "zeroline": false,
            "zerolinecolor": "rgb(36,36,36)"
           },
           "yaxis": {
            "backgroundcolor": "white",
            "gridcolor": "rgb(232,232,232)",
            "gridwidth": 2,
            "linecolor": "rgb(36,36,36)",
            "showbackground": true,
            "showgrid": false,
            "showline": true,
            "ticks": "outside",
            "zeroline": false,
            "zerolinecolor": "rgb(36,36,36)"
           },
           "zaxis": {
            "backgroundcolor": "white",
            "gridcolor": "rgb(232,232,232)",
            "gridwidth": 2,
            "linecolor": "rgb(36,36,36)",
            "showbackground": true,
            "showgrid": false,
            "showline": true,
            "ticks": "outside",
            "zeroline": false,
            "zerolinecolor": "rgb(36,36,36)"
           }
          },
          "shapedefaults": {
           "fillcolor": "black",
           "line": {
            "width": 0
           },
           "opacity": 0.3
          },
          "ternary": {
           "aaxis": {
            "gridcolor": "rgb(232,232,232)",
            "linecolor": "rgb(36,36,36)",
            "showgrid": false,
            "showline": true,
            "ticks": "outside"
           },
           "baxis": {
            "gridcolor": "rgb(232,232,232)",
            "linecolor": "rgb(36,36,36)",
            "showgrid": false,
            "showline": true,
            "ticks": "outside"
           },
           "bgcolor": "white",
           "caxis": {
            "gridcolor": "rgb(232,232,232)",
            "linecolor": "rgb(36,36,36)",
            "showgrid": false,
            "showline": true,
            "ticks": "outside"
           }
          },
          "title": {
           "x": 0.05
          },
          "xaxis": {
           "automargin": true,
           "gridcolor": "rgb(232,232,232)",
           "linecolor": "rgb(36,36,36)",
           "showgrid": false,
           "showline": true,
           "ticks": "outside",
           "title": {
            "standoff": 15
           },
           "zeroline": false,
           "zerolinecolor": "rgb(36,36,36)"
          },
          "yaxis": {
           "automargin": true,
           "gridcolor": "rgb(232,232,232)",
           "linecolor": "rgb(36,36,36)",
           "showgrid": false,
           "showline": true,
           "ticks": "outside",
           "title": {
            "standoff": 15
           },
           "zeroline": false,
           "zerolinecolor": "rgb(36,36,36)"
          }
         }
        },
        "title": {
         "text": "Minimum vs. maximum intensity values per bone"
        },
        "width": 800,
        "xaxis": {
         "anchor": "y",
         "domain": [
          0,
          0.49
         ],
         "title": {
          "text": "Minimum intensity value"
         }
        },
        "xaxis2": {
         "anchor": "y2",
         "domain": [
          0.51,
          1
         ],
         "matches": "x",
         "title": {
          "text": "Minimum intensity value"
         }
        },
        "yaxis": {
         "anchor": "x",
         "domain": [
          0,
          1
         ],
         "title": {
          "text": "Maximum intensity value"
         }
        },
        "yaxis2": {
         "anchor": "x2",
         "domain": [
          0,
          1
         ],
         "matches": "y",
         "showticklabels": false
        }
       }
      }
     },
     "metadata": {},
     "output_type": "display_data"
    }
   ],
   "source": [
    "# Filter out the outliers for better visualization\n",
    "fig = px.scatter(\n",
    "    data[data['max_val'] < 10000],\n",
    "    x='min_val',\n",
    "    y='max_val',\n",
    "    facet_col='bone',\n",
    "    title='Minimum vs. maximum intensity values per bone',\n",
    "    labels={'min_val': 'Minimum intensity value', 'max_val': 'Maximum intensity value'},\n",
    "    width=800,\n",
    ")\n",
    "\n",
    "fig.show()"
   ]
  },
  {
   "cell_type": "code",
   "execution_count": 46,
   "metadata": {},
   "outputs": [
    {
     "name": "stdout",
     "output_type": "stream",
     "text": [
      "Covariance: -139606.139\n",
      "Pearson:    -0.701\n",
      "Spearman:   -0.691\n"
     ]
    }
   ],
   "source": [
    "calculate_correlation_coefficients(data[data['max_val'] < 10000], 'min_val', 'max_val')"
   ]
  },
  {
   "cell_type": "markdown",
   "metadata": {},
   "source": [
    "> A negative correlation is recognisable, meaning that images with a higher maximum value also have a lower minimum value and therefore a higher overall span. There is no recognisable difference between radius and tibia."
   ]
  },
  {
   "cell_type": "code",
   "execution_count": 47,
   "metadata": {},
   "outputs": [
    {
     "name": "stdout",
     "output_type": "stream",
     "text": [
      "Covariance: -406927.45\n",
      "Pearson:    -0.801\n",
      "Spearman:   -0.694\n"
     ]
    }
   ],
   "source": [
    "calculate_correlation_coefficients(data, 'min_val', 'max_val')"
   ]
  },
  {
   "cell_type": "markdown",
   "metadata": {},
   "source": [
    "> It can be seen that the amount of the correlation is greater if the outliers are not excluded. this seems plausible, as these lie on the line in the scatterplot."
   ]
  },
  {
   "cell_type": "markdown",
   "metadata": {},
   "source": [
    "#### X-Dimension vs. Y-Dimension"
   ]
  },
  {
   "cell_type": "code",
   "execution_count": 48,
   "metadata": {},
   "outputs": [
    {
     "data": {
      "application/vnd.plotly.v1+json": {
       "config": {
        "plotlyServerURL": "https://plot.ly"
       },
       "data": [
        {
         "hovertemplate": "bone=Radius<br>x-size / voxel=%{x}<br>Y-size / voxel=%{y}<extra></extra>",
         "legendgroup": "Radius",
         "marker": {
          "color": "#1F77B4",
          "opacity": 0.2,
          "symbol": "circle"
         },
         "mode": "markers",
         "name": "Radius",
         "showlegend": true,
         "type": "scattergl",
         "x": {
          "bdata": "QgFjATgBLwE4AUgBIQEaAWABkwF+AWIBUAFaAXQBcgG+AaABygGGAbABogGyAZMBPgFSATwBSwFWAWIBQwE2AbYBbAGRAaQBYAF+AZIBpQF8AYkBtwF4AWYBugGFAW4BfwGaAYYBZgF8AZwBgQGSAX4BoQF9AY4BhAGbAYgBhAGrAaQBsgGWAXUBtgGyAbIBlgGXAYwBcwFyAagBegHCAcYBmAGcAVwBlgG/AZkBjAFqATwBSwFEASgBTAGUAUYBiAGUAaYBugF4AWIBxAGqAdwBzAHmAdYB6gHuAa0BwgF+AYYBqAG5AZwBlwFyAZIBtQGWAV8BgAHzAXIBVgGLAXUBdAFcAYYBhgGCAd0B5gGsAcgBpgGaAdsBigHEAdMBZAE9AUABiAFFAXYBZQE8AUABMgFnAWwBYgFQAWYBRwH2AesB1gHwAf8BuAGzAeQBbgGIAXgBgAGWAZ8BggGWAY4BigGUAYkBfgGUAdoBpgG4AcoB7QHCAXwBmgHQAZ0BrgGHAZMBmgG2AXIBdwGwAckBcgFoAWcB9AHqAdoB4AHoAc4BvgHeAZABhgHCAbEBwAGYAaYByAGwAaABqgGmAY8BpAGQAekBhAFqAdMB0AF2AYwB3wFYASgBMAFhAV4BagFoATgBNgFDAWABBwFGAS4BXgEcAc4BrAGcAbgBaAGYAb4BSQGYAbwBogHAAdIBzAGyAZYBkAGqAbQBqQG/AdQBoAGqATsBbAFNAYwBFAHiAIQBgQFTAWQBVgE1AXoBaAGUAX8BeAFiAXQBeQGZAbQBPgGMAWwBqAGYAUAB2QGiAZoBvgGwAYMBkgGSAbIBngHGAYYBeAGMAYMBtgGZAcYBvAG/AbkBvgF4AVgBZgFnAYwBiAGCAXoBbAGYARICdAHqAQwCtAGmATkBLAE1AUYBRAFOAUABVAH8AAgBRAEEAfYABwEaAQIBewGSAaABhgGcAZkBwAGeAXwBWgGGAYIBbgGAAXABUgFcAUcBKAE8AR8BJgE7AUoBVAFMASQBUAE+AVgBUwE4AZcBqQF6AYEBegGSAXgBkAG0AaoBrAGqAawBpAHIAbwBfAGmAXoBbAFsAXwBugGCAWABaAFBAX4BdgGIAY4BqgGmAaQBrwGhAaoBogGYAaEBVgE6ATsBXgFuAU8BXQFgAd4BvAHAAdgB0AHSAcwB1AGIAaABjQF8AaABoAGcAagBzAGuAbwBngGrAYoBxgG6AaYBmgGuAY8BdQGbAZUBoAFKAbQBbQFoAawBzQF+AawBrwG2AXkBfgGoAakBuAGwAawBqAGOAY4BpgGuAaoBmgGYAY0BUwFOAXIBegGHAXoBVgFaAXIBYgFuAYQBhQF0ARUC7AHsAeAB9wH8AQQCGAKEAWgBnwFoAVQBnQGGAdUBigGQAZIBoAHmAdgBegFyAbABjAG4AbABzAGoAaQBtAGoAb4BpAGrAb0BrgFVAUoBSgFlAVcBSgFoAXIBFgE+AQ0BMAFOASgBhgGmAZgBigG6AZABtAGsAakBvgGqAakBsgGOAaMBnAHeAdAByAHEAdQBxAG2AYABbQGKAT0BaAFwAWoBZAF2AW0BWgFwAXcBHgF+AY4BnAGaAdgBjAFTAa4BoAFaAUgBOgFUAUABgAF4AbIBvAF1AZ4BYAFqAXMB4gHrAd8B0gHPAdgB2gG3AZYBqAGQAZYBpAHAAVoBRwFcATYBPgFsATwBVAGEAYcBigGfAboBsQF2AY4BXAFyAXgBWwFyAXsBvgGWAcIB1AG0AdYBxAHbAYYBlQGKAZYBcwFsAa4BqAF5AVIBggGsAXwBnQH0AagBqwGwAaoBlgGuAagBiQGgAbQBsAGuAZQBxAGzAbwBugG4Ac4BrgG4AZUBqgE2AUIBPAE/AWABSAFUAXoB3gFzAVkBfgGYAYcBmAGbAfoBrgHMAZoBrgHAAR8BGgEsATEBXAEiAR4BMgFiAXUBkgGWAagBaAGuAZIB",
          "dtype": "i2"
         },
         "xaxis": "x",
         "y": {
          "bdata": "ywHEAcoBxQHQAdkBuQHWARACLAIVAgUC0gEQAhACEgI0AjECQgIjAi0CHAIgAj8CvgGqAdEBsgG4AbgBzgG+AT8CHAI4AkMCAgIdAisCOgIaAjwCTgIoAiMCTAI8AiUC+AEiAg0C9AEBAgsCCwIXAisCOgIdAiICLAIxAgICDgKGAmICYQJyAlECXAJkAn0CIAIeAhoCKwIiAhICGAI+Al0CMQIsAhQCHQJFAkYCWALmAdIB2AHXAcgB4gH3Ad4BFQIAAhMCIgIqAiACXAJNAnACYAJ0Al8CUgJjAh0CPAIcAhYCSwI7AjgCOgITAjsCPQIkAgUCKgJEAi4CGQIhAhoCMgL1Ae4BJgI6AnwCVAJUAkYCPQI0AmACJgJgAloC4AHKAeMB3gHgAegB2gHJAcoB2AHsAdwB7wHnAdkB4gFsAoQChgJ4AowCPgJrAoYCEwIeAicCFgIsAi4CFQIwAiwCMgIaAhYCHgIyAnECYgJFAnwCVgJ+AvIB7AEOAjMCLgIgAi4CFgKBAnICFgJ2An8CNgJcAjQCdgKBAoACdQKMAnICXQKBAmUCTgJlAm0CaQJeAnECYAJpAnECYgJ3AnYCSQJlAlECYwIiAngCTAJIAhICYwLpAbsBzAH+Ad4B0wHaAcgBuAHFAdUBsAHPAbwBzAGWAaoCXQI9AqQCRwKQApgCOAIZAnUCeQJ0AnkCSwJqAlsCcQJuAm8CbwJxAnwCcwJqArQBwgGkAegBnAFtARkCFALgAfwB/wHbARAC+gHVAd0B3AHgAewB3gFNAkoCKgJqAjgCcQJKAgYCaQJKAjwCbgJGAi8CJQIbAlACMwJTAi8CIgI8Ai4CaAJAAm4CZAIzAj4CaAL8AeUB7AHuAQQCCAIIAvoBJQJRAjQCJgIoAiMCKgISAqIBvgGLAbwBvwHCAbcBwgGQAZwBvAGlAZgBlgGYAZ4BQAJdAiwCSAI8AjoCVQJUAhgC8QEeAhUC/wEOAgQC3AECAvMB/gHiAeIB6AHsAfoB5QHkAdkBBAK4Ae0B6gHlATICKQLyARgCBQIRAh4CIwIfAmgCRAImAhYCTAIrAlYCLgJyAkoCQQIiAiICZgJAAiQCOQIlAigCIAIeAjoCZgIcAiACGAITAg0CKgIgAh0C0AHuAeYB+AESAuwB4QEEApQCfgKIAn8CkQKGAo4CbgIGAg4CBgL8AQoCGAIoAi0CVgI/AlICMAJIAhECSAI8Am4CjgJpAoACUQJkAnwCYAItAk0CAgI2AkoCVgJDAjgCZQJSAk8CSwJTAmQCbAJaAk4CRQI+AkECRwJEAkECSQLEAdYByAHBAdkB2gHaAc4B4QH5Af4BDAIaAggCBgIkAkECZAJQAkYCRgI6AkoCNQI4AhoCXAIuAiQCVwJBAkECKgIpAkMCSQJMAkkCKgIbAjkCQgJsAkMCMgItAlECUQJeAmwCLwJJAlwCQQLYAdAB0wG4AccB2gG3AcgBpAGkAYsBowGyAbYBSQJJAlMCJwJJAlwCVgJMAlwCTQI0AkMCVAI6AkECQgJkAnYCWgJ7AlwCcQJEAk0C9QEWAvoBCAIOAhYCAwIdAhgCEgIYAicCsgEtAu0B9AEbAgUCEwLsAR4CCgLrAegB5AHqAdkB6AE0Ak4CTQIyAjkCFAIcAiACmQK0AnsCnQKHAp8CmAJlAjQCOgIqAjgCPgJAAgQC8AHyAdUB2gHtAdoB0QEnAi4CLgIwAk4CPwIoAi4CAwLyAQgC+QECAvgBQgIwAmcCUwJcAkgCVgJNAgYC+AH/AQAC8gHbATcCOQIiAhoCPQJIAjcCNgJDAk0CUwJcAkYCVAJCAlACLAIvAkQCSQJEAjYCUAJDAkgCTAJJAloCOgJIAkkCOwLCAeEBsgHMAdwB2wHnAeABYQI4AiACQAJNAjkCQQI0AkYCYAJmAk4CbwJQArYBrgG6AcEB4AG3AbIB5QEqAi4CYAJUAjsCMAJuAlwC",
          "dtype": "i2"
         },
         "yaxis": "y"
        },
        {
         "hovertemplate": "<b>OLS trendline</b><br>y_shape = 0.928417 * x_shape + 181.439<br>R<sup>2</sup>=0.675803<br><br>bone=Radius<br>x-size / voxel=%{x}<br>Y-size / voxel=%{y} <b>(trend)</b><extra></extra>",
         "legendgroup": "Radius",
         "marker": {
          "color": "#1F77B4",
          "symbol": "circle"
         },
         "mode": "lines",
         "name": "Radius",
         "showlegend": false,
         "type": "scattergl",
         "x": {
          "bdata": "4gD2APwAAgEEAQcBBwEIAQ0BFAEWARoBGgEaARwBHgEeAR8BHwEhASIBJAEmASgBKAEoASgBLAEsAS4BLwEwATABMQEyATIBNQE1ATYBNgE2ATYBOAE4ATgBOAE5AToBOgE7ATsBOwE8ATwBPAE8ATwBPAE9AT0BPgE+AT4BPgE+AT8BQAFAAUABQAFAAUEBQgFCAUMBQwFEAUQBRAFFAUYBRgFGAUcBRwFHAUgBSAFIAUkBSgFKAUoBSgFKAUsBSwFMAUwBTQFOAU4BTgFPAVABUAFQAVIBUgFSAVMBUwFTAVMBVAFUAVQBVAFUAVQBVQFWAVYBVgFWAVYBVwFYAVgBWAFZAVoBWgFaAVoBWgFaAVsBXAFcAVwBXAFcAVwBXQFeAV4BXgFfAWABYAFgAWABYAFgAWABYQFiAWIBYgFiAWIBYgFiAWMBZAFkAWQBZQFlAWYBZgFmAWYBZwFnAWcBaAFoAWgBaAFoAWgBaAFoAWgBaAFoAWoBagFqAWoBagFsAWwBbAFsAWwBbAFsAWwBbAFtAW0BbQFuAW4BbgFuAW4BcAFwAXABcgFyAXIBcgFyAXIBcgFyAXIBcgFyAXIBcwFzAXMBcwF0AXQBdAF0AXQBdQF1AXUBdQF1AXYBdgF2AXYBdgF3AXcBeAF4AXgBeAF4AXgBeAF4AXgBeQF5AXkBegF6AXoBegF6AXoBegF6AXoBegF7AXsBfAF8AXwBfAF8AXwBfAF8AX0BfgF+AX4BfgF+AX4BfgF+AX4BfgF/AX8BgAGAAYABgAGAAYEBgQGBAYIBggGCAYIBggGCAYMBgwGEAYQBhAGEAYQBhAGEAYUBhQGGAYYBhgGGAYYBhgGGAYYBhgGGAYYBhgGHAYcBhwGHAYgBiAGIAYgBiAGIAYgBiQGJAYkBigGKAYoBigGKAYoBigGKAYsBjAGMAYwBjAGMAYwBjAGMAYwBjQGNAY4BjgGOAY4BjgGOAY4BjgGPAY8BkAGQAZABkAGQAZABkAGRAZIBkgGSAZIBkgGSAZIBkgGSAZIBkwGTAZMBlAGUAZQBlAGUAZQBlQGVAZUBlgGWAZYBlgGWAZYBlgGWAZYBlgGWAZYBlgGXAZcBlwGYAZgBmAGYAZgBmAGYAZgBmAGYAZgBmQGZAZkBmQGaAZoBmgGaAZoBmgGaAZoBmgGbAZsBmwGcAZwBnAGcAZwBnAGcAZwBnQGdAZ0BngGeAZ4BngGfAZ8BnwGgAaABoAGgAaABoAGgAaABoAGgAaABoQGhAaEBogGiAaIBogGjAaQBpAGkAaQBpAGkAaQBpAGlAaYBpgGmAaYBpgGmAaYBpgGmAaYBpgGoAagBqAGoAagBqAGoAagBqAGoAagBqAGoAakBqQGpAakBqQGqAaoBqgGqAaoBqgGqAaoBqgGqAaoBqgGrAasBqwGrAawBrAGsAawBrAGsAawBrAGsAa0BrgGuAa4BrgGuAa4BrgGuAa4BrgGuAa4BrgGvAa8BsAGwAbABsAGwAbABsAGwAbABsQGxAbIBsgGyAbIBsgGyAbIBsgGzAbMBtAG0AbQBtAG0AbQBtAG0AbQBtQG2AbYBtgG2AbYBtgG3AbcBuAG4AbgBuAG4AbgBuAG5AbkBugG6AboBugG6AboBugG8AbwBvAG8AbwBvAG8Ab0BvgG+Ab4BvgG+Ab4BvgG+Ab8BvwG/AcABwAHAAcABwAHAAcIBwgHCAcIBwgHEAcQBxAHEAcQBxAHGAcYBxgHGAcgByAHIAcgByQHKAcoBzAHMAcwBzAHMAcwBzQHOAc4BzgHPAdAB0AHQAdAB0gHSAdIB0wHTAdQB1AHUAdQB1QHWAdYB1gHYAdgB2AHYAdkB2gHaAdoB2wHbAdwB3QHeAd4B3gHeAd8B3wHgAeAB4gHkAeYB5gHmAegB6QHqAeoB6gHrAesB7AHsAe0B7gHwAfMB9AH0AfYB9wH6AfwB/wEEAgwCEgIVAhgC",
          "dtype": "i2"
         },
         "xaxis": "x",
         "y": {
          "bdata": "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",
          "dtype": "f8"
         },
         "yaxis": "y"
        },
        {
         "hovertemplate": "bone=Tibia<br>x-size / voxel=%{x}<br>Y-size / voxel=%{y}<extra></extra>",
         "legendgroup": "Tibia",
         "marker": {
          "color": "#FF7F0E",
          "opacity": 0.2,
          "symbol": "circle"
         },
         "mode": "markers",
         "name": "Tibia",
         "showlegend": true,
         "type": "scattergl",
         "x": {
          "bdata": "TgJGAkYCMgI4AiwCRAIyAs4C1gLcAuUCxQLtAt4C6AJmAmICbAJ9AmYCXAJYAlsClAKLAqICkgKeAooCkAKyAvgCAAMCA+IC7AL/AtoC7gKeAp4CpgKeAowClgKGAqoCbgJaAlgCVAJgAmMCZwJzAvICFgMEA/oC8AIOA/oCLgM0AiMCQAIwAkwCOAI7AlACmgKoApACrgKpAqICjAKoAjsCVAJMAkYCPAJYAj4CXAJWAlMCZAJWAlYCXwJkAmYCYAJSAkwCYwJ0AkICVwJuAiACMgIeAiwCHAIyAhoCMAK2AtQCwgK6AtsCogLKArkCWgKDAmgCgQJIAnwCggJuAmYCYgJSAmYCawJtAkMCXQIKAhICAgIHAgwC/AH+ASACIAMxAxgDDQPgAv4CDgMgA7YCsgK6AqwCzAKqArwCugJwAm4CaQJtAmYCZgKFAmwC0wLMAvIC+gLeAvAC7ALiAoUCmgKCAngChgKIAnQCYgJ2AnQCcAJ0AlICXAJGAj4CSgJaAlQCTAK8AmQDpgLKArICoQJUA6kCRAM+A1ADWgNVA9ID1wNYA6YCkgKoAqMCrQKUAsAC1ALTAuoC6ALwAswC/AKAAoYClAKCAo4CgQKMApACtAKWAooCvALAAowCuALUAqoCtAKsArECtAKrAqACuQJdAn8CXAJ6AmUCjAKAAogCjAJ4ApACggKYApYCOAIsAjICGgIkAjoCOAIYAo0CcAJ+Am8CiAKNAn4ChgKHApICkAKgAnwClgKwApYCpgLBAtICsQK2AsACygKlAogCeAKEAngCdgJ+AnwCiAJAAiACOAI2AjQCNwKIAngChwKQAn4CeAJ8Ao4CtwKsAroCvgLOApACwAK4AvACCAPeAvwCBAMGA+wC/gIwAlYCUAJEAlgCMgL5AhMD3gICA9ICBAOCApgCZAKMAqgChgJwAmoCxQK2AsQC1gLSAtoCQgJcAlQCSwJoAlICSgJEAkgCZAJiAkACZgJSAmICSQLKAjgDxAL2AsYCHAMYA8ICpgKOAo4CjAKlAnwCgQJsAmoCagKKAnoCgwJkAm4CegKFAmoCbgKiAtsC8ALmAuIC6gLuAtYC4gLUAtYC5ALgAuUC8QLkAtwCrQKOAowCngKaAo4CmAKUAmgCTgJYAmICOgJaAlQCbAIaAy8D/gIgAyQD5AL4AiQDHAIYAjoCDAL4AQ4CHAIWAsoCuAIgA6QCuALGArwC0gJmAloCbgJYAlgCdQJiAm4CZgJkAnICVQJkAlgCaAJiApoCsAKsAuoCygLGArQCkAKQAowCjwKWApACgAKAAxoD7ALeArgC5AKiAuICgAKBAosCgQKLApACegKWAoYCswKeApQCnAKgAtICvALCAtQCsALUAroCsAI6AjQCXgI/AkMCRAI+AjACPAJSAkICUAJgAkwCygJ+AqsC1ALIAtACmALGArICtgLCAtACwgLCAq4CtgLsAggDEgP+AgAD9ALKAvoCogKrAo4CkgK0AqACnQKRAroCxALOArgCyAK2AsoCwQK6AsMCtALHAroCuQKQAo4CggKSApICoAJ9An4C7wLqAssCqwLKAtICygK6AngCfgJnAmoCcAJsAmICegIiAhECEgIWAiQCHwIXAh4C6gIQA/ECDAMAA9QC5AIcA6QCnAK3AqgCqALZArQCoAJGAk4CXQJKAkgCTgI8AkgCjgLSAtAC2ALOAtwCzQLcAm4CfgJ8AmQCUgJqAoACYAKUAssCigK4As8CiALCAoICdAJyAmYCbgJ8AnQCHAJOAkACQAJJAkACQgI9AsQCjwLIAowCtALNAtgCmwLAArsCxwK4Ar8CzQLgAsUCwAKSAp4CmgK4Aj4CKgI8AkYCJQI4AiQCMgLEAqwCrgKwAq0CuQKcAp0ClgKOAqQCtgKiApoCkgKMArACsgK4AqoCugLCAqoCswLBAtIC0ALGArkCzQLeAuwCtwKoAqICoAKgArAC",
          "dtype": "i2"
         },
         "xaxis": "x",
         "y": {
          "bdata": "TAJQAkcCQAJTAi8CUgIqAsICtALiAtoCwALKAr0C0wIYAiwCOAIyAhwCLQImAhQCYgJiAm0CbAJsAlwCcAKYAp8CpAKwAoICggKxAoQCoAIoAh4CGAIfAhgCDgIWAh0CFgI1AiUCEQInAgwCRAIuApICjgJ8ApoCgAJ+AngCnwL4AfQB/wEAAhQCCAIJAhQCdgJrAnYChwK0AowCagJ/AgwCCQIVAgQCFAIcAhQCDQJPAj8CRAI6AjQCRgI8AkcC+AEAAvoBAgIOAgYCCgIEAv8BFAILAggCAgIUAvoBEQJYAlACVAJkAlwCQQJMAlkCGwIrAiICJwIWAiECLAIsAmsCEQJoAjQCbgIZAmYCHALBAdcBwgG9AcoBvgG9AdsBgAKWAmsCeAJeAmwCbwKaAn4CbAJ4AmQCigJiAngCggImAiICJAIgAiICFgI0AiMCWwJaAnMCagJZAmwCaQJhAiECSgIUAh4CHgJIAiYCAAIdAhICCgIgAvUB+gHuAeoB8AH+AfoB8wFwAuMCZAKIAmMCXgLeAmYC9wKzAsEC8wLIAmYDaAPEAjYCPAI3Ak4CTAIwAn8ClgKIAqECpAKhAoYCvAJaAkwCVAJsAlgCWAJOAlACWwJJAlACXgJuAk0CWAJtAv4B/AH1AfwB/AH8AfQBAgL8AQ0C9wH7AfwBBwJUAjgCNAJEAjkCTgJaAjoC5QHcAekB0gHaAe8B4QHMASoCDgIcAhQCMgIcAhYCHgI4AkwCRAJgAjUCYAJdAkkCWwKLApECYgJmAoQCjgJcAk0CFgIoAhICJQIcAiICJgLWAb4B0gHGAc4B1gFAAlYCYAJIAkYCRgJWAkgCmgJ0AmoCfAKqAogCkAJkArACzAKkArYCzQLAArICuAICAiICHQIQAiACBgJOAlgCRAJXAjYCWwI8AjkCIgIyAjwCOAIgAiwCbAKbAnkCjQKMApQC9gH6AfYB9gEYAvAB5AHrASMCLgJKAiECJgIuAiYCIgJtAq8CZgJuAmICjgKfAmgCNAIaAiACDgJcAhYCPgIqAigCJgI+AjACQgI0AjoCNgJEAjACLgJxAmgCYgJvAmMCgAKYAmACZgKaAqICmwKGAowCqgKEApMCQQI2AjACTgI/AkICSQJAAvoB5AHqAfMBywHeAeEB8QGmApwCqAKSApQCggKQAp8CCAL7ASoC7AHpAe4BCgL5AZwCmgLgAnwCkQKKApoCsAIoAkwCKAJEAlUCKwJNAj0C+wEHAhQCAAIRAhUCFAIEAmICUgJJAocCWAJmAk4CUgJiAlYCRAJgAlICWAInA5oCdAKsAp0CXAKXAlYCUAI8Al4CSwJTAmACQAJeAjUCSgI+AiUCWgJOApQCbgJ2AoYCbAJ+AnICegLqAfABFALzAfEBBwL+AQMCFwIOAhgCDgIeAiYCPQIsAqoCYALGAkwCUgIsAlYCYAJfAnACYgJmAloCXAKWApwCmgKoAp4CqAJeAogCfQKYAqsCdAKlApQCkgKNAoYCfgKEAn4CiAKCApACegKOAr4CrgKaApICtgJhAmQCVAJeAlcCcAJWAkwCeAJcAlgCUAJaAlsCTgJAAisCJwIgAioCNwIeAhQCNgLaAc0B1gHIAdMB0QHcAdABnAKuApcCtwKXAoECoQK0AlwCTwJ2Al4CXwJ6Al4CUwIZAh4CLAIaAh4CKgILAhwCZgKcArECqgKoAqoCrAKqAiYCMgJIAicCDgJKAkgCKAJNAlQCTAJOAmMCRgJIAkoCHgIcAhsCEgIqAh0C+wEoAh4CDgI8AhYCFQIQAlQCRAJdAj0CbQJ3An4CRQJcAloCaQJ0Am4CZgJ0AnACfgKAAoUCkQJ2AiwCDAIiAkkCHgISAjQCBgJWAlcCTAJIAksCVQI+AksCSQJHAlgCagJQAk0CRgJMAnUCZwJ+AmwCegJqAnQCZwJwAoQCjgJ9AmwCaAKkAq0CogJqAmkClAJwAp4C",
          "dtype": "i2"
         },
         "yaxis": "y"
        },
        {
         "hovertemplate": "<b>OLS trendline</b><br>y_shape = 0.771154 * x_shape + 77.1141<br>R<sup>2</sup>=0.732312<br><br>bone=Tibia<br>x-size / voxel=%{x}<br>Y-size / voxel=%{y} <b>(trend)</b><extra></extra>",
         "legendgroup": "Tibia",
         "marker": {
          "color": "#FF7F0E",
          "symbol": "circle"
         },
         "mode": "lines",
         "name": "Tibia",
         "showlegend": false,
         "type": "scattergl",
         "x": {
          "bdata": "+AH8Af4BAgIHAgoCDAIMAg4CEQISAhICFgIWAhcCGAIYAhoCGgIcAhwCHAIcAh4CHgIfAiACIAIgAiICIwIkAiQCJAIlAioCLAIsAiwCMAIwAjACMAIyAjICMgIyAjICMgIyAjQCNAI0AjYCNwI4AjgCOAI4AjgCOAI6AjoCOgI6AjsCOwI8AjwCPAI8Aj0CPgI+Aj4CPgI/AkACQAJAAkACQAJAAkICQgJCAkICQwJDAkQCRAJEAkQCRgJGAkYCRgJGAkYCSAJIAkgCSAJJAkkCSgJKAkoCSwJMAkwCTAJMAkwCTgJOAk4CTgJOAlACUAJQAlICUgJSAlICUgJSAlICUwJUAlQCVAJUAlQCVQJWAlYCVgJWAlcCWAJYAlgCWAJYAlgCWAJYAloCWgJaAloCWgJbAlwCXAJcAlwCXAJdAl0CXQJeAl8CYAJgAmACYAJiAmICYgJiAmICYgJiAmICYgJjAmMCZAJkAmQCZAJkAmQCZAJkAmUCZgJmAmYCZgJmAmYCZgJmAmYCZgJmAmcCZwJoAmgCaAJoAmkCagJqAmoCagJqAmoCawJsAmwCbAJsAmwCbQJtAm4CbgJuAm4CbgJuAm4CbgJuAm4CbwJwAnACcAJwAnACcgJyAnMCdAJ0AnQCdAJ0AnQCdQJ2AnYCeAJ4AngCeAJ4AngCeAJ6AnoCegJ6AnoCfAJ8AnwCfAJ8AnwCfAJ9An0CfgJ+An4CfgJ+An4CfgJ+An8CgAKAAoACgAKAAoECgQKBAoECgQKCAoICggKCAoICggKCAoMCgwKEAoUChQKFAoYChgKGAoYChgKGAocChwKIAogCiAKIAogCiAKIAooCigKKAooCiwKLAosCjAKMAowCjAKMAowCjAKMAowCjAKMAowCjQKNAo4CjgKOAo4CjgKOAo4CjgKOAo4CjwKPApACkAKQApACkAKQApACkAKQApACkAKQApECkgKSApICkgKSApICkgKSApQClAKUApQClAKUApYClgKWApYClgKWApYClgKYApgCmAKYApoCmgKaApoCmgKaApsCnAKcApwCnQKdAp4CngKeAp4CngKeAp4CoAKgAqACoAKgAqACoAKgAqECogKiAqICogKiAqICogKiAqMCpAKkAqQCpQKlAqYCpgKmAqYCpgKoAqgCqAKoAqgCqAKoAqkCqQKqAqoCqgKqAqoCqwKrAqsCqwKsAqwCrAKsAqwCrQKtAq0CrgKuAq4CsAKwArACsAKwArACsAKxArECsgKyArICsgKyArMCswK0ArQCtAK0ArQCtAK0ArQCtgK2ArYCtgK2ArYCtgK2ArcCtwK3ArgCuAK4ArgCuAK4ArgCuAK4ArgCuQK5ArkCuQK5AroCugK6AroCugK6AroCugK6AroCuwK8ArwCvAK8ArwCvgK/AsACwALAAsACwALAAsECwQLBAsICwgLCAsICwgLCAsICwgLDAsQCxALEAsQCxALFAsUCxQLGAsYCxgLGAsYCxwLHAsgCyALIAsoCygLKAsoCygLKAsoCygLKAsoCygLLAssCzALMAswCzQLNAs0CzQLOAs4CzgLOAs8C0ALQAtAC0ALSAtIC0gLSAtIC0gLSAtIC0wLTAtQC1ALUAtQC1ALUAtQC1ALWAtYC1gLWAtgC2ALZAtoC2gLbAtsC3ALcAtwC3ALeAt4C3gLeAt4C3gLgAuAC4ALiAuIC4gLiAuIC5ALkAuQC5ALkAuUC5QLmAugC6ALqAuoC6gLqAuoC7ALsAuwC7ALsAuwC7QLuAu4C7wLwAvAC8ALwAvAC8QLxAvIC8gL0AvYC+AL4AvkC+gL6AvoC+gL8AvwC/gL+Av4C/gL/AgADAAMAAwIDAgMEAwQDBAMGAwgDCAMMAw0DDgMOAxADEgMTAxYDGAMYAxoDGgMcAxwDIAMgAyADIAMkAyQDLgMvAzEDOAM+A0QDUANUA1UDWANaA2QDgAPSA9cD",
          "dtype": "i2"
         },
         "xaxis": "x",
         "y": {
          "bdata": "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",
          "dtype": "f8"
         },
         "yaxis": "y"
        }
       ],
       "layout": {
        "legend": {
         "title": {
          "text": "bone"
         },
         "tracegroupgap": 0
        },
        "template": {
         "data": {
          "bar": [
           {
            "error_x": {
             "color": "rgb(36,36,36)"
            },
            "error_y": {
             "color": "rgb(36,36,36)"
            },
            "marker": {
             "line": {
              "color": "white",
              "width": 0.5
             },
             "pattern": {
              "fillmode": "overlay",
              "size": 10,
              "solidity": 0.2
             }
            },
            "type": "bar"
           }
          ],
          "barpolar": [
           {
            "marker": {
             "line": {
              "color": "white",
              "width": 0.5
             },
             "pattern": {
              "fillmode": "overlay",
              "size": 10,
              "solidity": 0.2
             }
            },
            "type": "barpolar"
           }
          ],
          "carpet": [
           {
            "aaxis": {
             "endlinecolor": "rgb(36,36,36)",
             "gridcolor": "white",
             "linecolor": "white",
             "minorgridcolor": "white",
             "startlinecolor": "rgb(36,36,36)"
            },
            "baxis": {
             "endlinecolor": "rgb(36,36,36)",
             "gridcolor": "white",
             "linecolor": "white",
             "minorgridcolor": "white",
             "startlinecolor": "rgb(36,36,36)"
            },
            "type": "carpet"
           }
          ],
          "choropleth": [
           {
            "colorbar": {
             "outlinewidth": 1,
             "tickcolor": "rgb(36,36,36)",
             "ticks": "outside"
            },
            "type": "choropleth"
           }
          ],
          "contour": [
           {
            "colorbar": {
             "outlinewidth": 1,
             "tickcolor": "rgb(36,36,36)",
             "ticks": "outside"
            },
            "colorscale": [
             [
              0,
              "#440154"
             ],
             [
              0.1111111111111111,
              "#482878"
             ],
             [
              0.2222222222222222,
              "#3e4989"
             ],
             [
              0.3333333333333333,
              "#31688e"
             ],
             [
              0.4444444444444444,
              "#26828e"
             ],
             [
              0.5555555555555556,
              "#1f9e89"
             ],
             [
              0.6666666666666666,
              "#35b779"
             ],
             [
              0.7777777777777778,
              "#6ece58"
             ],
             [
              0.8888888888888888,
              "#b5de2b"
             ],
             [
              1,
              "#fde725"
             ]
            ],
            "type": "contour"
           }
          ],
          "contourcarpet": [
           {
            "colorbar": {
             "outlinewidth": 1,
             "tickcolor": "rgb(36,36,36)",
             "ticks": "outside"
            },
            "type": "contourcarpet"
           }
          ],
          "heatmap": [
           {
            "colorbar": {
             "outlinewidth": 1,
             "tickcolor": "rgb(36,36,36)",
             "ticks": "outside"
            },
            "colorscale": [
             [
              0,
              "#440154"
             ],
             [
              0.1111111111111111,
              "#482878"
             ],
             [
              0.2222222222222222,
              "#3e4989"
             ],
             [
              0.3333333333333333,
              "#31688e"
             ],
             [
              0.4444444444444444,
              "#26828e"
             ],
             [
              0.5555555555555556,
              "#1f9e89"
             ],
             [
              0.6666666666666666,
              "#35b779"
             ],
             [
              0.7777777777777778,
              "#6ece58"
             ],
             [
              0.8888888888888888,
              "#b5de2b"
             ],
             [
              1,
              "#fde725"
             ]
            ],
            "type": "heatmap"
           }
          ],
          "histogram": [
           {
            "marker": {
             "line": {
              "color": "white",
              "width": 0.6
             }
            },
            "type": "histogram"
           }
          ],
          "histogram2d": [
           {
            "colorbar": {
             "outlinewidth": 1,
             "tickcolor": "rgb(36,36,36)",
             "ticks": "outside"
            },
            "colorscale": [
             [
              0,
              "#440154"
             ],
             [
              0.1111111111111111,
              "#482878"
             ],
             [
              0.2222222222222222,
              "#3e4989"
             ],
             [
              0.3333333333333333,
              "#31688e"
             ],
             [
              0.4444444444444444,
              "#26828e"
             ],
             [
              0.5555555555555556,
              "#1f9e89"
             ],
             [
              0.6666666666666666,
              "#35b779"
             ],
             [
              0.7777777777777778,
              "#6ece58"
             ],
             [
              0.8888888888888888,
              "#b5de2b"
             ],
             [
              1,
              "#fde725"
             ]
            ],
            "type": "histogram2d"
           }
          ],
          "histogram2dcontour": [
           {
            "colorbar": {
             "outlinewidth": 1,
             "tickcolor": "rgb(36,36,36)",
             "ticks": "outside"
            },
            "colorscale": [
             [
              0,
              "#440154"
             ],
             [
              0.1111111111111111,
              "#482878"
             ],
             [
              0.2222222222222222,
              "#3e4989"
             ],
             [
              0.3333333333333333,
              "#31688e"
             ],
             [
              0.4444444444444444,
              "#26828e"
             ],
             [
              0.5555555555555556,
              "#1f9e89"
             ],
             [
              0.6666666666666666,
              "#35b779"
             ],
             [
              0.7777777777777778,
              "#6ece58"
             ],
             [
              0.8888888888888888,
              "#b5de2b"
             ],
             [
              1,
              "#fde725"
             ]
            ],
            "type": "histogram2dcontour"
           }
          ],
          "mesh3d": [
           {
            "colorbar": {
             "outlinewidth": 1,
             "tickcolor": "rgb(36,36,36)",
             "ticks": "outside"
            },
            "type": "mesh3d"
           }
          ],
          "parcoords": [
           {
            "line": {
             "colorbar": {
              "outlinewidth": 1,
              "tickcolor": "rgb(36,36,36)",
              "ticks": "outside"
             }
            },
            "type": "parcoords"
           }
          ],
          "pie": [
           {
            "automargin": true,
            "type": "pie"
           }
          ],
          "scatter": [
           {
            "fillpattern": {
             "fillmode": "overlay",
             "size": 10,
             "solidity": 0.2
            },
            "type": "scatter"
           }
          ],
          "scatter3d": [
           {
            "line": {
             "colorbar": {
              "outlinewidth": 1,
              "tickcolor": "rgb(36,36,36)",
              "ticks": "outside"
             }
            },
            "marker": {
             "colorbar": {
              "outlinewidth": 1,
              "tickcolor": "rgb(36,36,36)",
              "ticks": "outside"
             }
            },
            "type": "scatter3d"
           }
          ],
          "scattercarpet": [
           {
            "marker": {
             "colorbar": {
              "outlinewidth": 1,
              "tickcolor": "rgb(36,36,36)",
              "ticks": "outside"
             }
            },
            "type": "scattercarpet"
           }
          ],
          "scattergeo": [
           {
            "marker": {
             "colorbar": {
              "outlinewidth": 1,
              "tickcolor": "rgb(36,36,36)",
              "ticks": "outside"
             }
            },
            "type": "scattergeo"
           }
          ],
          "scattergl": [
           {
            "marker": {
             "colorbar": {
              "outlinewidth": 1,
              "tickcolor": "rgb(36,36,36)",
              "ticks": "outside"
             }
            },
            "type": "scattergl"
           }
          ],
          "scattermap": [
           {
            "marker": {
             "colorbar": {
              "outlinewidth": 1,
              "tickcolor": "rgb(36,36,36)",
              "ticks": "outside"
             }
            },
            "type": "scattermap"
           }
          ],
          "scattermapbox": [
           {
            "marker": {
             "colorbar": {
              "outlinewidth": 1,
              "tickcolor": "rgb(36,36,36)",
              "ticks": "outside"
             }
            },
            "type": "scattermapbox"
           }
          ],
          "scatterpolar": [
           {
            "marker": {
             "colorbar": {
              "outlinewidth": 1,
              "tickcolor": "rgb(36,36,36)",
              "ticks": "outside"
             }
            },
            "type": "scatterpolar"
           }
          ],
          "scatterpolargl": [
           {
            "marker": {
             "colorbar": {
              "outlinewidth": 1,
              "tickcolor": "rgb(36,36,36)",
              "ticks": "outside"
             }
            },
            "type": "scatterpolargl"
           }
          ],
          "scatterternary": [
           {
            "marker": {
             "colorbar": {
              "outlinewidth": 1,
              "tickcolor": "rgb(36,36,36)",
              "ticks": "outside"
             }
            },
            "type": "scatterternary"
           }
          ],
          "surface": [
           {
            "colorbar": {
             "outlinewidth": 1,
             "tickcolor": "rgb(36,36,36)",
             "ticks": "outside"
            },
            "colorscale": [
             [
              0,
              "#440154"
             ],
             [
              0.1111111111111111,
              "#482878"
             ],
             [
              0.2222222222222222,
              "#3e4989"
             ],
             [
              0.3333333333333333,
              "#31688e"
             ],
             [
              0.4444444444444444,
              "#26828e"
             ],
             [
              0.5555555555555556,
              "#1f9e89"
             ],
             [
              0.6666666666666666,
              "#35b779"
             ],
             [
              0.7777777777777778,
              "#6ece58"
             ],
             [
              0.8888888888888888,
              "#b5de2b"
             ],
             [
              1,
              "#fde725"
             ]
            ],
            "type": "surface"
           }
          ],
          "table": [
           {
            "cells": {
             "fill": {
              "color": "rgb(237,237,237)"
             },
             "line": {
              "color": "white"
             }
            },
            "header": {
             "fill": {
              "color": "rgb(217,217,217)"
             },
             "line": {
              "color": "white"
             }
            },
            "type": "table"
           }
          ]
         },
         "layout": {
          "annotationdefaults": {
           "arrowhead": 0,
           "arrowwidth": 1
          },
          "autotypenumbers": "strict",
          "coloraxis": {
           "colorbar": {
            "outlinewidth": 1,
            "tickcolor": "rgb(36,36,36)",
            "ticks": "outside"
           }
          },
          "colorscale": {
           "diverging": [
            [
             0,
             "rgb(103,0,31)"
            ],
            [
             0.1,
             "rgb(178,24,43)"
            ],
            [
             0.2,
             "rgb(214,96,77)"
            ],
            [
             0.3,
             "rgb(244,165,130)"
            ],
            [
             0.4,
             "rgb(253,219,199)"
            ],
            [
             0.5,
             "rgb(247,247,247)"
            ],
            [
             0.6,
             "rgb(209,229,240)"
            ],
            [
             0.7,
             "rgb(146,197,222)"
            ],
            [
             0.8,
             "rgb(67,147,195)"
            ],
            [
             0.9,
             "rgb(33,102,172)"
            ],
            [
             1,
             "rgb(5,48,97)"
            ]
           ],
           "sequential": [
            [
             0,
             "#440154"
            ],
            [
             0.1111111111111111,
             "#482878"
            ],
            [
             0.2222222222222222,
             "#3e4989"
            ],
            [
             0.3333333333333333,
             "#31688e"
            ],
            [
             0.4444444444444444,
             "#26828e"
            ],
            [
             0.5555555555555556,
             "#1f9e89"
            ],
            [
             0.6666666666666666,
             "#35b779"
            ],
            [
             0.7777777777777778,
             "#6ece58"
            ],
            [
             0.8888888888888888,
             "#b5de2b"
            ],
            [
             1,
             "#fde725"
            ]
           ],
           "sequentialminus": [
            [
             0,
             "#440154"
            ],
            [
             0.1111111111111111,
             "#482878"
            ],
            [
             0.2222222222222222,
             "#3e4989"
            ],
            [
             0.3333333333333333,
             "#31688e"
            ],
            [
             0.4444444444444444,
             "#26828e"
            ],
            [
             0.5555555555555556,
             "#1f9e89"
            ],
            [
             0.6666666666666666,
             "#35b779"
            ],
            [
             0.7777777777777778,
             "#6ece58"
            ],
            [
             0.8888888888888888,
             "#b5de2b"
            ],
            [
             1,
             "#fde725"
            ]
           ]
          },
          "colorway": [
           "#1F77B4",
           "#FF7F0E",
           "#2CA02C",
           "#D62728",
           "#9467BD",
           "#8C564B",
           "#E377C2",
           "#7F7F7F",
           "#BCBD22",
           "#17BECF"
          ],
          "font": {
           "color": "rgb(36,36,36)"
          },
          "geo": {
           "bgcolor": "white",
           "lakecolor": "white",
           "landcolor": "white",
           "showlakes": true,
           "showland": true,
           "subunitcolor": "white"
          },
          "hoverlabel": {
           "align": "left"
          },
          "hovermode": "closest",
          "mapbox": {
           "style": "light"
          },
          "paper_bgcolor": "white",
          "plot_bgcolor": "white",
          "polar": {
           "angularaxis": {
            "gridcolor": "rgb(232,232,232)",
            "linecolor": "rgb(36,36,36)",
            "showgrid": false,
            "showline": true,
            "ticks": "outside"
           },
           "bgcolor": "white",
           "radialaxis": {
            "gridcolor": "rgb(232,232,232)",
            "linecolor": "rgb(36,36,36)",
            "showgrid": false,
            "showline": true,
            "ticks": "outside"
           }
          },
          "scene": {
           "xaxis": {
            "backgroundcolor": "white",
            "gridcolor": "rgb(232,232,232)",
            "gridwidth": 2,
            "linecolor": "rgb(36,36,36)",
            "showbackground": true,
            "showgrid": false,
            "showline": true,
            "ticks": "outside",
            "zeroline": false,
            "zerolinecolor": "rgb(36,36,36)"
           },
           "yaxis": {
            "backgroundcolor": "white",
            "gridcolor": "rgb(232,232,232)",
            "gridwidth": 2,
            "linecolor": "rgb(36,36,36)",
            "showbackground": true,
            "showgrid": false,
            "showline": true,
            "ticks": "outside",
            "zeroline": false,
            "zerolinecolor": "rgb(36,36,36)"
           },
           "zaxis": {
            "backgroundcolor": "white",
            "gridcolor": "rgb(232,232,232)",
            "gridwidth": 2,
            "linecolor": "rgb(36,36,36)",
            "showbackground": true,
            "showgrid": false,
            "showline": true,
            "ticks": "outside",
            "zeroline": false,
            "zerolinecolor": "rgb(36,36,36)"
           }
          },
          "shapedefaults": {
           "fillcolor": "black",
           "line": {
            "width": 0
           },
           "opacity": 0.3
          },
          "ternary": {
           "aaxis": {
            "gridcolor": "rgb(232,232,232)",
            "linecolor": "rgb(36,36,36)",
            "showgrid": false,
            "showline": true,
            "ticks": "outside"
           },
           "baxis": {
            "gridcolor": "rgb(232,232,232)",
            "linecolor": "rgb(36,36,36)",
            "showgrid": false,
            "showline": true,
            "ticks": "outside"
           },
           "bgcolor": "white",
           "caxis": {
            "gridcolor": "rgb(232,232,232)",
            "linecolor": "rgb(36,36,36)",
            "showgrid": false,
            "showline": true,
            "ticks": "outside"
           }
          },
          "title": {
           "x": 0.05
          },
          "xaxis": {
           "automargin": true,
           "gridcolor": "rgb(232,232,232)",
           "linecolor": "rgb(36,36,36)",
           "showgrid": false,
           "showline": true,
           "ticks": "outside",
           "title": {
            "standoff": 15
           },
           "zeroline": false,
           "zerolinecolor": "rgb(36,36,36)"
          },
          "yaxis": {
           "automargin": true,
           "gridcolor": "rgb(232,232,232)",
           "linecolor": "rgb(36,36,36)",
           "showgrid": false,
           "showline": true,
           "ticks": "outside",
           "title": {
            "standoff": 15
           },
           "zeroline": false,
           "zerolinecolor": "rgb(36,36,36)"
          }
         }
        },
        "title": {
         "text": "X vs. Y dimensions"
        },
        "width": 500,
        "xaxis": {
         "anchor": "y",
         "domain": [
          0,
          1
         ],
         "title": {
          "text": "x-size / voxel"
         }
        },
        "yaxis": {
         "anchor": "x",
         "domain": [
          0,
          1
         ],
         "title": {
          "text": "Y-size / voxel"
         }
        }
       }
      }
     },
     "metadata": {},
     "output_type": "display_data"
    }
   ],
   "source": [
    "px.scatter(\n",
    "    data,\n",
    "    x='x_shape',\n",
    "    y='y_shape',\n",
    "    color='bone',\n",
    "    opacity=0.2,\n",
    "    trendline='ols',\n",
    "    title='X vs. Y dimensions',\n",
    "    labels={'x_shape': 'x-size / voxel', 'y_shape': 'Y-size / voxel'},\n",
    "    width=500,\n",
    ")"
   ]
  },
  {
   "cell_type": "markdown",
   "metadata": {},
   "source": [
    "> With radius, the trend line is steeper, which means that small x-dimensions are assigned to larger y-dimensions, which in turn corresponds to a more rectangular shape of the images. The images of the tibia have a more quardatic shape, which is evident from the trend line running at an angle of almost 45 degrees."
   ]
  },
  {
   "cell_type": "code",
   "execution_count": 49,
   "metadata": {},
   "outputs": [
    {
     "name": "stdout",
     "output_type": "stream",
     "text": [
      "Total dataset\n",
      "----------------\n",
      "Covariance: 5802.073\n",
      "Pearson:    0.615\n",
      "Spearman:   0.647\n"
     ]
    }
   ],
   "source": [
    "print('Total dataset')\n",
    "print('----------------')\n",
    "calculate_correlation_coefficients(data, 'x_shape', 'y_shape')"
   ]
  },
  {
   "cell_type": "code",
   "execution_count": 50,
   "metadata": {},
   "outputs": [
    {
     "name": "stdout",
     "output_type": "stream",
     "text": [
      "Radius\n",
      "----------------\n",
      "Covariance: 2511.952\n",
      "Pearson:    0.822\n",
      "Spearman:   0.821\n",
      "\n",
      "Tibia\n",
      "----------------\n",
      "Covariance: 3749.638\n",
      "Pearson:    0.856\n",
      "Spearman:   0.854\n"
     ]
    }
   ],
   "source": [
    "print('Radius')\n",
    "print('----------------')\n",
    "calculate_correlation_coefficients(data[data['bone']=='Radius'], 'x_shape', 'y_shape')\n",
    "print()\n",
    "print('Tibia')\n",
    "print('----------------')\n",
    "calculate_correlation_coefficients(data[data['bone']=='Tibia'], 'x_shape', 'y_shape')"
   ]
  },
  {
   "cell_type": "markdown",
   "metadata": {},
   "source": [
    "> It can be seen that the correlation is significantly greater when the bones are considered separately. as is also shown in the scatterplot."
   ]
  },
  {
   "cell_type": "markdown",
   "metadata": {},
   "source": [
    "# 6 - Probability\n",
    "https://mciwing.github.io/statistics/probability/General/"
   ]
  },
  {
   "cell_type": "code",
   "execution_count": 51,
   "metadata": {},
   "outputs": [
    {
     "data": {
      "text/plain": [
       "count   1482.00\n",
       "mean     528.98\n",
       "std      147.32\n",
       "min      226.00\n",
       "25%      399.00\n",
       "50%      517.50\n",
       "75%      658.00\n",
       "max      983.00\n",
       "Name: x_shape, dtype: float64"
      ]
     },
     "execution_count": 51,
     "metadata": {},
     "output_type": "execute_result"
    }
   ],
   "source": [
    "data['x_shape'].describe()"
   ]
  },
  {
   "cell_type": "code",
   "execution_count": 52,
   "metadata": {},
   "outputs": [
    {
     "data": {
      "application/vnd.plotly.v1+json": {
       "config": {
        "plotlyServerURL": "https://plot.ly"
       },
       "data": [
        {
         "bingroup": "x",
         "histnorm": "probability density",
         "hovertemplate": "bone=Radius<br>x_shape=%{x}<br>probability density=%{y}<extra></extra>",
         "legendgroup": "",
         "marker": {
          "color": "#1F77B4",
          "opacity": 0.7,
          "pattern": {
           "shape": ""
          }
         },
         "name": "",
         "orientation": "v",
         "showlegend": false,
         "type": "histogram",
         "x": {
          "bdata": "QgFjATgBLwE4AUgBIQEaAWABkwF+AWIBUAFaAXQBcgG+AaABygGGAbABogGyAZMBPgFSATwBSwFWAWIBQwE2AbYBbAGRAaQBYAF+AZIBpQF8AYkBtwF4AWYBugGFAW4BfwGaAYYBZgF8AZwBgQGSAX4BoQF9AY4BhAGbAYgBhAGrAaQBsgGWAXUBtgGyAbIBlgGXAYwBcwFyAagBegHCAcYBmAGcAVwBlgG/AZkBjAFqATwBSwFEASgBTAGUAUYBiAGUAaYBugF4AWIBxAGqAdwBzAHmAdYB6gHuAa0BwgF+AYYBqAG5AZwBlwFyAZIBtQGWAV8BgAHzAXIBVgGLAXUBdAFcAYYBhgGCAd0B5gGsAcgBpgGaAdsBigHEAdMBZAE9AUABiAFFAXYBZQE8AUABMgFnAWwBYgFQAWYBRwH2AesB1gHwAf8BuAGzAeQBbgGIAXgBgAGWAZ8BggGWAY4BigGUAYkBfgGUAdoBpgG4AcoB7QHCAXwBmgHQAZ0BrgGHAZMBmgG2AXIBdwGwAckBcgFoAWcB9AHqAdoB4AHoAc4BvgHeAZABhgHCAbEBwAGYAaYByAGwAaABqgGmAY8BpAGQAekBhAFqAdMB0AF2AYwB3wFYASgBMAFhAV4BagFoATgBNgFDAWABBwFGAS4BXgEcAc4BrAGcAbgBaAGYAb4BSQGYAbwBogHAAdIBzAGyAZYBkAGqAbQBqQG/AdQBoAGqATsBbAFNAYwBFAHiAIQBgQFTAWQBVgE1AXoBaAGUAX8BeAFiAXQBeQGZAbQBPgGMAWwBqAGYAUAB2QGiAZoBvgGwAYMBkgGSAbIBngHGAYYBeAGMAYMBtgGZAcYBvAG/AbkBvgF4AVgBZgFnAYwBiAGCAXoBbAGYARICdAHqAQwCtAGmATkBLAE1AUYBRAFOAUABVAH8AAgBRAEEAfYABwEaAQIBewGSAaABhgGcAZkBwAGeAXwBWgGGAYIBbgGAAXABUgFcAUcBKAE8AR8BJgE7AUoBVAFMASQBUAE+AVgBUwE4AZcBqQF6AYEBegGSAXgBkAG0AaoBrAGqAawBpAHIAbwBfAGmAXoBbAFsAXwBugGCAWABaAFBAX4BdgGIAY4BqgGmAaQBrwGhAaoBogGYAaEBVgE6ATsBXgFuAU8BXQFgAd4BvAHAAdgB0AHSAcwB1AGIAaABjQF8AaABoAGcAagBzAGuAbwBngGrAYoBxgG6AaYBmgGuAY8BdQGbAZUBoAFKAbQBbQFoAawBzQF+AawBrwG2AXkBfgGoAakBuAGwAawBqAGOAY4BpgGuAaoBmgGYAY0BUwFOAXIBegGHAXoBVgFaAXIBYgFuAYQBhQF0ARUC7AHsAeAB9wH8AQQCGAKEAWgBnwFoAVQBnQGGAdUBigGQAZIBoAHmAdgBegFyAbABjAG4AbABzAGoAaQBtAGoAb4BpAGrAb0BrgFVAUoBSgFlAVcBSgFoAXIBFgE+AQ0BMAFOASgBhgGmAZgBigG6AZABtAGsAakBvgGqAakBsgGOAaMBnAHeAdAByAHEAdQBxAG2AYABbQGKAT0BaAFwAWoBZAF2AW0BWgFwAXcBHgF+AY4BnAGaAdgBjAFTAa4BoAFaAUgBOgFUAUABgAF4AbIBvAF1AZ4BYAFqAXMB4gHrAd8B0gHPAdgB2gG3AZYBqAGQAZYBpAHAAVoBRwFcATYBPgFsATwBVAGEAYcBigGfAboBsQF2AY4BXAFyAXgBWwFyAXsBvgGWAcIB1AG0AdYBxAHbAYYBlQGKAZYBcwFsAa4BqAF5AVIBggGsAXwBnQH0AagBqwGwAaoBlgGuAagBiQGgAbQBsAGuAZQBxAGzAbwBugG4Ac4BrgG4AZUBqgE2AUIBPAE/AWABSAFUAXoB3gFzAVkBfgGYAYcBmAGbAfoBrgHMAZoBrgHAAR8BGgEsATEBXAEiAR4BMgFiAXUBkgGWAagBaAGuAZIB",
          "dtype": "i2"
         },
         "xaxis": "x2",
         "yaxis": "y2"
        },
        {
         "bingroup": "x",
         "histnorm": "probability density",
         "hovertemplate": "bone=Tibia<br>x_shape=%{x}<br>probability density=%{y}<extra></extra>",
         "legendgroup": "",
         "marker": {
          "color": "#1F77B4",
          "opacity": 0.7,
          "pattern": {
           "shape": ""
          }
         },
         "name": "",
         "orientation": "v",
         "showlegend": false,
         "type": "histogram",
         "x": {
          "bdata": "TgJGAkYCMgI4AiwCRAIyAs4C1gLcAuUCxQLtAt4C6AJmAmICbAJ9AmYCXAJYAlsClAKLAqICkgKeAooCkAKyAvgCAAMCA+IC7AL/AtoC7gKeAp4CpgKeAowClgKGAqoCbgJaAlgCVAJgAmMCZwJzAvICFgMEA/oC8AIOA/oCLgM0AiMCQAIwAkwCOAI7AlACmgKoApACrgKpAqICjAKoAjsCVAJMAkYCPAJYAj4CXAJWAlMCZAJWAlYCXwJkAmYCYAJSAkwCYwJ0AkICVwJuAiACMgIeAiwCHAIyAhoCMAK2AtQCwgK6AtsCogLKArkCWgKDAmgCgQJIAnwCggJuAmYCYgJSAmYCawJtAkMCXQIKAhICAgIHAgwC/AH+ASACIAMxAxgDDQPgAv4CDgMgA7YCsgK6AqwCzAKqArwCugJwAm4CaQJtAmYCZgKFAmwC0wLMAvIC+gLeAvAC7ALiAoUCmgKCAngChgKIAnQCYgJ2AnQCcAJ0AlICXAJGAj4CSgJaAlQCTAK8AmQDpgLKArICoQJUA6kCRAM+A1ADWgNVA9ID1wNYA6YCkgKoAqMCrQKUAsAC1ALTAuoC6ALwAswC/AKAAoYClAKCAo4CgQKMApACtAKWAooCvALAAowCuALUAqoCtAKsArECtAKrAqACuQJdAn8CXAJ6AmUCjAKAAogCjAJ4ApACggKYApYCOAIsAjICGgIkAjoCOAIYAo0CcAJ+Am8CiAKNAn4ChgKHApICkAKgAnwClgKwApYCpgLBAtICsQK2AsACygKlAogCeAKEAngCdgJ+AnwCiAJAAiACOAI2AjQCNwKIAngChwKQAn4CeAJ8Ao4CtwKsAroCvgLOApACwAK4AvACCAPeAvwCBAMGA+wC/gIwAlYCUAJEAlgCMgL5AhMD3gICA9ICBAOCApgCZAKMAqgChgJwAmoCxQK2AsQC1gLSAtoCQgJcAlQCSwJoAlICSgJEAkgCZAJiAkACZgJSAmICSQLKAjgDxAL2AsYCHAMYA8ICpgKOAo4CjAKlAnwCgQJsAmoCagKKAnoCgwJkAm4CegKFAmoCbgKiAtsC8ALmAuIC6gLuAtYC4gLUAtYC5ALgAuUC8QLkAtwCrQKOAowCngKaAo4CmAKUAmgCTgJYAmICOgJaAlQCbAIaAy8D/gIgAyQD5AL4AiQDHAIYAjoCDAL4AQ4CHAIWAsoCuAIgA6QCuALGArwC0gJmAloCbgJYAlgCdQJiAm4CZgJkAnICVQJkAlgCaAJiApoCsAKsAuoCygLGArQCkAKQAowCjwKWApACgAKAAxoD7ALeArgC5AKiAuICgAKBAosCgQKLApACegKWAoYCswKeApQCnAKgAtICvALCAtQCsALUAroCsAI6AjQCXgI/AkMCRAI+AjACPAJSAkICUAJgAkwCygJ+AqsC1ALIAtACmALGArICtgLCAtACwgLCAq4CtgLsAggDEgP+AgAD9ALKAvoCogKrAo4CkgK0AqACnQKRAroCxALOArgCyAK2AsoCwQK6AsMCtALHAroCuQKQAo4CggKSApICoAJ9An4C7wLqAssCqwLKAtICygK6AngCfgJnAmoCcAJsAmICegIiAhECEgIWAiQCHwIXAh4C6gIQA/ECDAMAA9QC5AIcA6QCnAK3AqgCqALZArQCoAJGAk4CXQJKAkgCTgI8AkgCjgLSAtAC2ALOAtwCzQLcAm4CfgJ8AmQCUgJqAoACYAKUAssCigK4As8CiALCAoICdAJyAmYCbgJ8AnQCHAJOAkACQAJJAkACQgI9AsQCjwLIAowCtALNAtgCmwLAArsCxwK4Ar8CzQLgAsUCwAKSAp4CmgK4Aj4CKgI8AkYCJQI4AiQCMgLEAqwCrgKwAq0CuQKcAp0ClgKOAqQCtgKiApoCkgKMArACsgK4AqoCugLCAqoCswLBAtIC0ALGArkCzQLeAuwCtwKoAqICoAKgArAC",
          "dtype": "i2"
         },
         "xaxis": "x",
         "yaxis": "y"
        }
       ],
       "layout": {
        "annotations": [
         {
          "font": {},
          "showarrow": false,
          "text": "bone=Tibia",
          "textangle": 90,
          "x": 0.98,
          "xanchor": "left",
          "xref": "paper",
          "y": 0.2425,
          "yanchor": "middle",
          "yref": "paper"
         },
         {
          "font": {},
          "showarrow": false,
          "text": "bone=Radius",
          "textangle": 90,
          "x": 0.98,
          "xanchor": "left",
          "xref": "paper",
          "y": 0.7575000000000001,
          "yanchor": "middle",
          "yref": "paper"
         }
        ],
        "barmode": "relative",
        "height": 600,
        "legend": {
         "tracegroupgap": 0
        },
        "template": {
         "data": {
          "bar": [
           {
            "error_x": {
             "color": "rgb(36,36,36)"
            },
            "error_y": {
             "color": "rgb(36,36,36)"
            },
            "marker": {
             "line": {
              "color": "white",
              "width": 0.5
             },
             "pattern": {
              "fillmode": "overlay",
              "size": 10,
              "solidity": 0.2
             }
            },
            "type": "bar"
           }
          ],
          "barpolar": [
           {
            "marker": {
             "line": {
              "color": "white",
              "width": 0.5
             },
             "pattern": {
              "fillmode": "overlay",
              "size": 10,
              "solidity": 0.2
             }
            },
            "type": "barpolar"
           }
          ],
          "carpet": [
           {
            "aaxis": {
             "endlinecolor": "rgb(36,36,36)",
             "gridcolor": "white",
             "linecolor": "white",
             "minorgridcolor": "white",
             "startlinecolor": "rgb(36,36,36)"
            },
            "baxis": {
             "endlinecolor": "rgb(36,36,36)",
             "gridcolor": "white",
             "linecolor": "white",
             "minorgridcolor": "white",
             "startlinecolor": "rgb(36,36,36)"
            },
            "type": "carpet"
           }
          ],
          "choropleth": [
           {
            "colorbar": {
             "outlinewidth": 1,
             "tickcolor": "rgb(36,36,36)",
             "ticks": "outside"
            },
            "type": "choropleth"
           }
          ],
          "contour": [
           {
            "colorbar": {
             "outlinewidth": 1,
             "tickcolor": "rgb(36,36,36)",
             "ticks": "outside"
            },
            "colorscale": [
             [
              0,
              "#440154"
             ],
             [
              0.1111111111111111,
              "#482878"
             ],
             [
              0.2222222222222222,
              "#3e4989"
             ],
             [
              0.3333333333333333,
              "#31688e"
             ],
             [
              0.4444444444444444,
              "#26828e"
             ],
             [
              0.5555555555555556,
              "#1f9e89"
             ],
             [
              0.6666666666666666,
              "#35b779"
             ],
             [
              0.7777777777777778,
              "#6ece58"
             ],
             [
              0.8888888888888888,
              "#b5de2b"
             ],
             [
              1,
              "#fde725"
             ]
            ],
            "type": "contour"
           }
          ],
          "contourcarpet": [
           {
            "colorbar": {
             "outlinewidth": 1,
             "tickcolor": "rgb(36,36,36)",
             "ticks": "outside"
            },
            "type": "contourcarpet"
           }
          ],
          "heatmap": [
           {
            "colorbar": {
             "outlinewidth": 1,
             "tickcolor": "rgb(36,36,36)",
             "ticks": "outside"
            },
            "colorscale": [
             [
              0,
              "#440154"
             ],
             [
              0.1111111111111111,
              "#482878"
             ],
             [
              0.2222222222222222,
              "#3e4989"
             ],
             [
              0.3333333333333333,
              "#31688e"
             ],
             [
              0.4444444444444444,
              "#26828e"
             ],
             [
              0.5555555555555556,
              "#1f9e89"
             ],
             [
              0.6666666666666666,
              "#35b779"
             ],
             [
              0.7777777777777778,
              "#6ece58"
             ],
             [
              0.8888888888888888,
              "#b5de2b"
             ],
             [
              1,
              "#fde725"
             ]
            ],
            "type": "heatmap"
           }
          ],
          "histogram": [
           {
            "marker": {
             "line": {
              "color": "white",
              "width": 0.6
             }
            },
            "type": "histogram"
           }
          ],
          "histogram2d": [
           {
            "colorbar": {
             "outlinewidth": 1,
             "tickcolor": "rgb(36,36,36)",
             "ticks": "outside"
            },
            "colorscale": [
             [
              0,
              "#440154"
             ],
             [
              0.1111111111111111,
              "#482878"
             ],
             [
              0.2222222222222222,
              "#3e4989"
             ],
             [
              0.3333333333333333,
              "#31688e"
             ],
             [
              0.4444444444444444,
              "#26828e"
             ],
             [
              0.5555555555555556,
              "#1f9e89"
             ],
             [
              0.6666666666666666,
              "#35b779"
             ],
             [
              0.7777777777777778,
              "#6ece58"
             ],
             [
              0.8888888888888888,
              "#b5de2b"
             ],
             [
              1,
              "#fde725"
             ]
            ],
            "type": "histogram2d"
           }
          ],
          "histogram2dcontour": [
           {
            "colorbar": {
             "outlinewidth": 1,
             "tickcolor": "rgb(36,36,36)",
             "ticks": "outside"
            },
            "colorscale": [
             [
              0,
              "#440154"
             ],
             [
              0.1111111111111111,
              "#482878"
             ],
             [
              0.2222222222222222,
              "#3e4989"
             ],
             [
              0.3333333333333333,
              "#31688e"
             ],
             [
              0.4444444444444444,
              "#26828e"
             ],
             [
              0.5555555555555556,
              "#1f9e89"
             ],
             [
              0.6666666666666666,
              "#35b779"
             ],
             [
              0.7777777777777778,
              "#6ece58"
             ],
             [
              0.8888888888888888,
              "#b5de2b"
             ],
             [
              1,
              "#fde725"
             ]
            ],
            "type": "histogram2dcontour"
           }
          ],
          "mesh3d": [
           {
            "colorbar": {
             "outlinewidth": 1,
             "tickcolor": "rgb(36,36,36)",
             "ticks": "outside"
            },
            "type": "mesh3d"
           }
          ],
          "parcoords": [
           {
            "line": {
             "colorbar": {
              "outlinewidth": 1,
              "tickcolor": "rgb(36,36,36)",
              "ticks": "outside"
             }
            },
            "type": "parcoords"
           }
          ],
          "pie": [
           {
            "automargin": true,
            "type": "pie"
           }
          ],
          "scatter": [
           {
            "fillpattern": {
             "fillmode": "overlay",
             "size": 10,
             "solidity": 0.2
            },
            "type": "scatter"
           }
          ],
          "scatter3d": [
           {
            "line": {
             "colorbar": {
              "outlinewidth": 1,
              "tickcolor": "rgb(36,36,36)",
              "ticks": "outside"
             }
            },
            "marker": {
             "colorbar": {
              "outlinewidth": 1,
              "tickcolor": "rgb(36,36,36)",
              "ticks": "outside"
             }
            },
            "type": "scatter3d"
           }
          ],
          "scattercarpet": [
           {
            "marker": {
             "colorbar": {
              "outlinewidth": 1,
              "tickcolor": "rgb(36,36,36)",
              "ticks": "outside"
             }
            },
            "type": "scattercarpet"
           }
          ],
          "scattergeo": [
           {
            "marker": {
             "colorbar": {
              "outlinewidth": 1,
              "tickcolor": "rgb(36,36,36)",
              "ticks": "outside"
             }
            },
            "type": "scattergeo"
           }
          ],
          "scattergl": [
           {
            "marker": {
             "colorbar": {
              "outlinewidth": 1,
              "tickcolor": "rgb(36,36,36)",
              "ticks": "outside"
             }
            },
            "type": "scattergl"
           }
          ],
          "scattermap": [
           {
            "marker": {
             "colorbar": {
              "outlinewidth": 1,
              "tickcolor": "rgb(36,36,36)",
              "ticks": "outside"
             }
            },
            "type": "scattermap"
           }
          ],
          "scattermapbox": [
           {
            "marker": {
             "colorbar": {
              "outlinewidth": 1,
              "tickcolor": "rgb(36,36,36)",
              "ticks": "outside"
             }
            },
            "type": "scattermapbox"
           }
          ],
          "scatterpolar": [
           {
            "marker": {
             "colorbar": {
              "outlinewidth": 1,
              "tickcolor": "rgb(36,36,36)",
              "ticks": "outside"
             }
            },
            "type": "scatterpolar"
           }
          ],
          "scatterpolargl": [
           {
            "marker": {
             "colorbar": {
              "outlinewidth": 1,
              "tickcolor": "rgb(36,36,36)",
              "ticks": "outside"
             }
            },
            "type": "scatterpolargl"
           }
          ],
          "scatterternary": [
           {
            "marker": {
             "colorbar": {
              "outlinewidth": 1,
              "tickcolor": "rgb(36,36,36)",
              "ticks": "outside"
             }
            },
            "type": "scatterternary"
           }
          ],
          "surface": [
           {
            "colorbar": {
             "outlinewidth": 1,
             "tickcolor": "rgb(36,36,36)",
             "ticks": "outside"
            },
            "colorscale": [
             [
              0,
              "#440154"
             ],
             [
              0.1111111111111111,
              "#482878"
             ],
             [
              0.2222222222222222,
              "#3e4989"
             ],
             [
              0.3333333333333333,
              "#31688e"
             ],
             [
              0.4444444444444444,
              "#26828e"
             ],
             [
              0.5555555555555556,
              "#1f9e89"
             ],
             [
              0.6666666666666666,
              "#35b779"
             ],
             [
              0.7777777777777778,
              "#6ece58"
             ],
             [
              0.8888888888888888,
              "#b5de2b"
             ],
             [
              1,
              "#fde725"
             ]
            ],
            "type": "surface"
           }
          ],
          "table": [
           {
            "cells": {
             "fill": {
              "color": "rgb(237,237,237)"
             },
             "line": {
              "color": "white"
             }
            },
            "header": {
             "fill": {
              "color": "rgb(217,217,217)"
             },
             "line": {
              "color": "white"
             }
            },
            "type": "table"
           }
          ]
         },
         "layout": {
          "annotationdefaults": {
           "arrowhead": 0,
           "arrowwidth": 1
          },
          "autotypenumbers": "strict",
          "coloraxis": {
           "colorbar": {
            "outlinewidth": 1,
            "tickcolor": "rgb(36,36,36)",
            "ticks": "outside"
           }
          },
          "colorscale": {
           "diverging": [
            [
             0,
             "rgb(103,0,31)"
            ],
            [
             0.1,
             "rgb(178,24,43)"
            ],
            [
             0.2,
             "rgb(214,96,77)"
            ],
            [
             0.3,
             "rgb(244,165,130)"
            ],
            [
             0.4,
             "rgb(253,219,199)"
            ],
            [
             0.5,
             "rgb(247,247,247)"
            ],
            [
             0.6,
             "rgb(209,229,240)"
            ],
            [
             0.7,
             "rgb(146,197,222)"
            ],
            [
             0.8,
             "rgb(67,147,195)"
            ],
            [
             0.9,
             "rgb(33,102,172)"
            ],
            [
             1,
             "rgb(5,48,97)"
            ]
           ],
           "sequential": [
            [
             0,
             "#440154"
            ],
            [
             0.1111111111111111,
             "#482878"
            ],
            [
             0.2222222222222222,
             "#3e4989"
            ],
            [
             0.3333333333333333,
             "#31688e"
            ],
            [
             0.4444444444444444,
             "#26828e"
            ],
            [
             0.5555555555555556,
             "#1f9e89"
            ],
            [
             0.6666666666666666,
             "#35b779"
            ],
            [
             0.7777777777777778,
             "#6ece58"
            ],
            [
             0.8888888888888888,
             "#b5de2b"
            ],
            [
             1,
             "#fde725"
            ]
           ],
           "sequentialminus": [
            [
             0,
             "#440154"
            ],
            [
             0.1111111111111111,
             "#482878"
            ],
            [
             0.2222222222222222,
             "#3e4989"
            ],
            [
             0.3333333333333333,
             "#31688e"
            ],
            [
             0.4444444444444444,
             "#26828e"
            ],
            [
             0.5555555555555556,
             "#1f9e89"
            ],
            [
             0.6666666666666666,
             "#35b779"
            ],
            [
             0.7777777777777778,
             "#6ece58"
            ],
            [
             0.8888888888888888,
             "#b5de2b"
            ],
            [
             1,
             "#fde725"
            ]
           ]
          },
          "colorway": [
           "#1F77B4",
           "#FF7F0E",
           "#2CA02C",
           "#D62728",
           "#9467BD",
           "#8C564B",
           "#E377C2",
           "#7F7F7F",
           "#BCBD22",
           "#17BECF"
          ],
          "font": {
           "color": "rgb(36,36,36)"
          },
          "geo": {
           "bgcolor": "white",
           "lakecolor": "white",
           "landcolor": "white",
           "showlakes": true,
           "showland": true,
           "subunitcolor": "white"
          },
          "hoverlabel": {
           "align": "left"
          },
          "hovermode": "closest",
          "mapbox": {
           "style": "light"
          },
          "paper_bgcolor": "white",
          "plot_bgcolor": "white",
          "polar": {
           "angularaxis": {
            "gridcolor": "rgb(232,232,232)",
            "linecolor": "rgb(36,36,36)",
            "showgrid": false,
            "showline": true,
            "ticks": "outside"
           },
           "bgcolor": "white",
           "radialaxis": {
            "gridcolor": "rgb(232,232,232)",
            "linecolor": "rgb(36,36,36)",
            "showgrid": false,
            "showline": true,
            "ticks": "outside"
           }
          },
          "scene": {
           "xaxis": {
            "backgroundcolor": "white",
            "gridcolor": "rgb(232,232,232)",
            "gridwidth": 2,
            "linecolor": "rgb(36,36,36)",
            "showbackground": true,
            "showgrid": false,
            "showline": true,
            "ticks": "outside",
            "zeroline": false,
            "zerolinecolor": "rgb(36,36,36)"
           },
           "yaxis": {
            "backgroundcolor": "white",
            "gridcolor": "rgb(232,232,232)",
            "gridwidth": 2,
            "linecolor": "rgb(36,36,36)",
            "showbackground": true,
            "showgrid": false,
            "showline": true,
            "ticks": "outside",
            "zeroline": false,
            "zerolinecolor": "rgb(36,36,36)"
           },
           "zaxis": {
            "backgroundcolor": "white",
            "gridcolor": "rgb(232,232,232)",
            "gridwidth": 2,
            "linecolor": "rgb(36,36,36)",
            "showbackground": true,
            "showgrid": false,
            "showline": true,
            "ticks": "outside",
            "zeroline": false,
            "zerolinecolor": "rgb(36,36,36)"
           }
          },
          "shapedefaults": {
           "fillcolor": "black",
           "line": {
            "width": 0
           },
           "opacity": 0.3
          },
          "ternary": {
           "aaxis": {
            "gridcolor": "rgb(232,232,232)",
            "linecolor": "rgb(36,36,36)",
            "showgrid": false,
            "showline": true,
            "ticks": "outside"
           },
           "baxis": {
            "gridcolor": "rgb(232,232,232)",
            "linecolor": "rgb(36,36,36)",
            "showgrid": false,
            "showline": true,
            "ticks": "outside"
           },
           "bgcolor": "white",
           "caxis": {
            "gridcolor": "rgb(232,232,232)",
            "linecolor": "rgb(36,36,36)",
            "showgrid": false,
            "showline": true,
            "ticks": "outside"
           }
          },
          "title": {
           "x": 0.05
          },
          "xaxis": {
           "automargin": true,
           "gridcolor": "rgb(232,232,232)",
           "linecolor": "rgb(36,36,36)",
           "showgrid": false,
           "showline": true,
           "ticks": "outside",
           "title": {
            "standoff": 15
           },
           "zeroline": false,
           "zerolinecolor": "rgb(36,36,36)"
          },
          "yaxis": {
           "automargin": true,
           "gridcolor": "rgb(232,232,232)",
           "linecolor": "rgb(36,36,36)",
           "showgrid": false,
           "showline": true,
           "ticks": "outside",
           "title": {
            "standoff": 15
           },
           "zeroline": false,
           "zerolinecolor": "rgb(36,36,36)"
          }
         }
        },
        "title": {
         "text": "Distribution of the x_shape per bone"
        },
        "width": 600,
        "xaxis": {
         "anchor": "y",
         "domain": [
          0,
          0.98
         ],
         "title": {
          "text": "x_shape"
         }
        },
        "xaxis2": {
         "anchor": "y2",
         "domain": [
          0,
          0.98
         ],
         "matches": "x",
         "showticklabels": false
        },
        "yaxis": {
         "anchor": "x",
         "domain": [
          0,
          0.485
         ],
         "title": {
          "text": "probability density"
         }
        },
        "yaxis2": {
         "anchor": "x2",
         "domain": [
          0.515,
          1
         ],
         "matches": "y",
         "title": {
          "text": "probability density"
         }
        }
       }
      }
     },
     "metadata": {},
     "output_type": "display_data"
    }
   ],
   "source": [
    "# show the distribution of the number of voxels per bone\n",
    "fig = px.histogram(\n",
    "    data,\n",
    "    x='x_shape',\n",
    "    facet_row ='bone',\n",
    "    title='Distribution of the x_shape per bone',\n",
    "    opacity=0.7,\n",
    "    histnorm='probability density',\n",
    "    width=600,\n",
    "    height=600,\n",
    "    )\n",
    "\n",
    "fig.show()"
   ]
  },
  {
   "cell_type": "markdown",
   "metadata": {},
   "source": [
    "> The distributions of the data differ between radius and tibia. further analysis is limited to the tibia; all steps can also be applied to radius and all other variables."
   ]
  },
  {
   "cell_type": "code",
   "execution_count": 53,
   "metadata": {},
   "outputs": [
    {
     "data": {
      "text/plain": [
       "(np.float64(662.8070175438596), np.float64(69.6836635101856))"
      ]
     },
     "execution_count": 53,
     "metadata": {},
     "output_type": "execute_result"
    }
   ],
   "source": [
    "# fit a normal distribution to the data\n",
    "mu, std = stats.norm.fit(data[data['bone']=='Tibia']['x_shape'])\n",
    "mu, std"
   ]
  },
  {
   "cell_type": "code",
   "execution_count": 54,
   "metadata": {},
   "outputs": [
    {
     "data": {
      "application/vnd.plotly.v1+json": {
       "config": {
        "plotlyServerURL": "https://plot.ly"
       },
       "data": [
        {
         "hovertemplate": "x=%{x}<br>pdf=%{y}<extra></extra>",
         "legendgroup": "",
         "line": {
          "color": "#1F77B4",
          "dash": "solid"
         },
         "marker": {
          "symbol": "circle"
         },
         "mode": "lines",
         "name": "",
         "orientation": "v",
         "showlegend": false,
         "type": "scatter",
         "x": {
          "bdata": "AAAKABQAHgAoADIAPABGAFAAWgBkAG4AeACCAIwAlgCgAKoAtAC+AMgA0gDcAOYA8AD6AAQBDgEYASIBLAE2AUABSgFUAV4BaAFyAXwBhgGQAZoBpAGuAbgBwgHMAdYB4AHqAfQB/gEIAhICHAImAjACOgJEAk4CWAJiAmwCdgKAAooClAKeAqgCsgK8AsYC0ALaAuQC7gL4AgIDDAMWAyADKgM0Az4DSANSA1wDZgNwA3oDhAOOA5gDogOsA7YDwAPKA9QD3gPoAw==",
          "dtype": "i2"
         },
         "xaxis": "x",
         "y": {
          "bdata": "iPwvSBWQYzsR3FnUOvSCOxSuS3tm/aE7eJIVbge6wDtJv4Ona3jeO5xPQOMNMPs7nJ/1jaPDFzxq2StVMVk0PM6WoNGEEVE8LG8L0/cMbDxCBWm5aJSGPFxGzQ8rzqE8gXidBDOCuzw5Kz02FdHUPPldW40D3e48yyd1ZrhpBj1nKGmDm+MfPWo07LMyOTY9hRjZGfJXTj0U4br9BUtkPdKruBb9lno9BdCDO6oQkT1KFP2rPXWlPYw2Y6CCbro9evUfFgTlzz0BNtd33tniPVeE6nFO1PU9JtJo/UvDCD70KgkooYQbPjbfXe7e9C0+7iSMZ0LyPz5LQ/v32q9QPjjt8ObHE2E+1Yi8IdkecT7pWYpsYdCAPt6rN7cmLZA+msZSI859nj6xN0GNxCasPhhWFusTdrk+/G95YwmPxj6H71moZ5TTPsU033/OpeA+UKWMAX+76z6VnWBMyaD2Psz9+/A9FgI/H5SW0yJTDD+KMTnqC7oVPwd5Vc1zUyA/xHzdYAwJKD/d55Tk+lQxP/i8Z4uafDg/afVpe+jxQD9SJelPVvlGPxdN5Fhig04/zmBffqrZUz9BO4a+8kxZP3mO7pwQl18/81Zu8s9RYz/izJP/HiZnP1pxAyMALGs/zBk0u24+bz95HuoOz5hxPzQOG33janM/A6z3W2L9dD8lYLEREzp2P4sWz42cDnc/k//1Xkdudz98OvocQFN3P9oi88Atv3Y/NSwo2Aa7dT/5/ZiXK1Z0P6kixtnkpHI/YlXHYHy+cD/e9Q/hW3ZtP4jJiv5iZGk/LXw8+CpwZT8eDDECH7thP7tfxUlVu1w/rs1n6O7NVj+ugw/eH7tRP2LWBK6qAks/6CRhhl4nRD9FuRYpYHY9PyTq8fylGDU/wCVyaYWYLT/j2n+EMFYkP9CvwPsAYRs/WST7s+ENEj9+fKgFSFMHP3Tirolmhf0+0p0LS+9M8j5q90bCHDrmPh+kxJcWcto+APSBptrSzj4ONzNv2JjBPuARm369rrM+L2mnFwiRpT6X7EmTLSaXPplAt11lV4g+RrmwkcYSeT70DJIgBU1pPg==",
          "dtype": "f8"
         },
         "yaxis": "y"
        },
        {
         "histnorm": "probability density",
         "opacity": 0.4,
         "showlegend": false,
         "type": "histogram",
         "x": {
          "bdata": "TgJGAkYCMgI4AiwCRAIyAs4C1gLcAuUCxQLtAt4C6AJmAmICbAJ9AmYCXAJYAlsClAKLAqICkgKeAooCkAKyAvgCAAMCA+IC7AL/AtoC7gKeAp4CpgKeAowClgKGAqoCbgJaAlgCVAJgAmMCZwJzAvICFgMEA/oC8AIOA/oCLgM0AiMCQAIwAkwCOAI7AlACmgKoApACrgKpAqICjAKoAjsCVAJMAkYCPAJYAj4CXAJWAlMCZAJWAlYCXwJkAmYCYAJSAkwCYwJ0AkICVwJuAiACMgIeAiwCHAIyAhoCMAK2AtQCwgK6AtsCogLKArkCWgKDAmgCgQJIAnwCggJuAmYCYgJSAmYCawJtAkMCXQIKAhICAgIHAgwC/AH+ASACIAMxAxgDDQPgAv4CDgMgA7YCsgK6AqwCzAKqArwCugJwAm4CaQJtAmYCZgKFAmwC0wLMAvIC+gLeAvAC7ALiAoUCmgKCAngChgKIAnQCYgJ2AnQCcAJ0AlICXAJGAj4CSgJaAlQCTAK8AmQDpgLKArICoQJUA6kCRAM+A1ADWgNVA9ID1wNYA6YCkgKoAqMCrQKUAsAC1ALTAuoC6ALwAswC/AKAAoYClAKCAo4CgQKMApACtAKWAooCvALAAowCuALUAqoCtAKsArECtAKrAqACuQJdAn8CXAJ6AmUCjAKAAogCjAJ4ApACggKYApYCOAIsAjICGgIkAjoCOAIYAo0CcAJ+Am8CiAKNAn4ChgKHApICkAKgAnwClgKwApYCpgLBAtICsQK2AsACygKlAogCeAKEAngCdgJ+AnwCiAJAAiACOAI2AjQCNwKIAngChwKQAn4CeAJ8Ao4CtwKsAroCvgLOApACwAK4AvACCAPeAvwCBAMGA+wC/gIwAlYCUAJEAlgCMgL5AhMD3gICA9ICBAOCApgCZAKMAqgChgJwAmoCxQK2AsQC1gLSAtoCQgJcAlQCSwJoAlICSgJEAkgCZAJiAkACZgJSAmICSQLKAjgDxAL2AsYCHAMYA8ICpgKOAo4CjAKlAnwCgQJsAmoCagKKAnoCgwJkAm4CegKFAmoCbgKiAtsC8ALmAuIC6gLuAtYC4gLUAtYC5ALgAuUC8QLkAtwCrQKOAowCngKaAo4CmAKUAmgCTgJYAmICOgJaAlQCbAIaAy8D/gIgAyQD5AL4AiQDHAIYAjoCDAL4AQ4CHAIWAsoCuAIgA6QCuALGArwC0gJmAloCbgJYAlgCdQJiAm4CZgJkAnICVQJkAlgCaAJiApoCsAKsAuoCygLGArQCkAKQAowCjwKWApACgAKAAxoD7ALeArgC5AKiAuICgAKBAosCgQKLApACegKWAoYCswKeApQCnAKgAtICvALCAtQCsALUAroCsAI6AjQCXgI/AkMCRAI+AjACPAJSAkICUAJgAkwCygJ+AqsC1ALIAtACmALGArICtgLCAtACwgLCAq4CtgLsAggDEgP+AgAD9ALKAvoCogKrAo4CkgK0AqACnQKRAroCxALOArgCyAK2AsoCwQK6AsMCtALHAroCuQKQAo4CggKSApICoAJ9An4C7wLqAssCqwLKAtICygK6AngCfgJnAmoCcAJsAmICegIiAhECEgIWAiQCHwIXAh4C6gIQA/ECDAMAA9QC5AIcA6QCnAK3AqgCqALZArQCoAJGAk4CXQJKAkgCTgI8AkgCjgLSAtAC2ALOAtwCzQLcAm4CfgJ8AmQCUgJqAoACYAKUAssCigK4As8CiALCAoICdAJyAmYCbgJ8AnQCHAJOAkACQAJJAkACQgI9AsQCjwLIAowCtALNAtgCmwLAArsCxwK4Ar8CzQLgAsUCwAKSAp4CmgK4Aj4CKgI8AkYCJQI4AiQCMgLEAqwCrgKwAq0CuQKcAp0ClgKOAqQCtgKiApoCkgKMArACsgK4AqoCugLCAqoCswLBAtIC0ALGArkCzQLeAuwCtwKoAqICoAKgArAC",
          "dtype": "i2"
         },
         "xbins": {
          "size": 10
         }
        }
       ],
       "layout": {
        "legend": {
         "tracegroupgap": 0
        },
        "template": {
         "data": {
          "bar": [
           {
            "error_x": {
             "color": "rgb(36,36,36)"
            },
            "error_y": {
             "color": "rgb(36,36,36)"
            },
            "marker": {
             "line": {
              "color": "white",
              "width": 0.5
             },
             "pattern": {
              "fillmode": "overlay",
              "size": 10,
              "solidity": 0.2
             }
            },
            "type": "bar"
           }
          ],
          "barpolar": [
           {
            "marker": {
             "line": {
              "color": "white",
              "width": 0.5
             },
             "pattern": {
              "fillmode": "overlay",
              "size": 10,
              "solidity": 0.2
             }
            },
            "type": "barpolar"
           }
          ],
          "carpet": [
           {
            "aaxis": {
             "endlinecolor": "rgb(36,36,36)",
             "gridcolor": "white",
             "linecolor": "white",
             "minorgridcolor": "white",
             "startlinecolor": "rgb(36,36,36)"
            },
            "baxis": {
             "endlinecolor": "rgb(36,36,36)",
             "gridcolor": "white",
             "linecolor": "white",
             "minorgridcolor": "white",
             "startlinecolor": "rgb(36,36,36)"
            },
            "type": "carpet"
           }
          ],
          "choropleth": [
           {
            "colorbar": {
             "outlinewidth": 1,
             "tickcolor": "rgb(36,36,36)",
             "ticks": "outside"
            },
            "type": "choropleth"
           }
          ],
          "contour": [
           {
            "colorbar": {
             "outlinewidth": 1,
             "tickcolor": "rgb(36,36,36)",
             "ticks": "outside"
            },
            "colorscale": [
             [
              0,
              "#440154"
             ],
             [
              0.1111111111111111,
              "#482878"
             ],
             [
              0.2222222222222222,
              "#3e4989"
             ],
             [
              0.3333333333333333,
              "#31688e"
             ],
             [
              0.4444444444444444,
              "#26828e"
             ],
             [
              0.5555555555555556,
              "#1f9e89"
             ],
             [
              0.6666666666666666,
              "#35b779"
             ],
             [
              0.7777777777777778,
              "#6ece58"
             ],
             [
              0.8888888888888888,
              "#b5de2b"
             ],
             [
              1,
              "#fde725"
             ]
            ],
            "type": "contour"
           }
          ],
          "contourcarpet": [
           {
            "colorbar": {
             "outlinewidth": 1,
             "tickcolor": "rgb(36,36,36)",
             "ticks": "outside"
            },
            "type": "contourcarpet"
           }
          ],
          "heatmap": [
           {
            "colorbar": {
             "outlinewidth": 1,
             "tickcolor": "rgb(36,36,36)",
             "ticks": "outside"
            },
            "colorscale": [
             [
              0,
              "#440154"
             ],
             [
              0.1111111111111111,
              "#482878"
             ],
             [
              0.2222222222222222,
              "#3e4989"
             ],
             [
              0.3333333333333333,
              "#31688e"
             ],
             [
              0.4444444444444444,
              "#26828e"
             ],
             [
              0.5555555555555556,
              "#1f9e89"
             ],
             [
              0.6666666666666666,
              "#35b779"
             ],
             [
              0.7777777777777778,
              "#6ece58"
             ],
             [
              0.8888888888888888,
              "#b5de2b"
             ],
             [
              1,
              "#fde725"
             ]
            ],
            "type": "heatmap"
           }
          ],
          "histogram": [
           {
            "marker": {
             "line": {
              "color": "white",
              "width": 0.6
             }
            },
            "type": "histogram"
           }
          ],
          "histogram2d": [
           {
            "colorbar": {
             "outlinewidth": 1,
             "tickcolor": "rgb(36,36,36)",
             "ticks": "outside"
            },
            "colorscale": [
             [
              0,
              "#440154"
             ],
             [
              0.1111111111111111,
              "#482878"
             ],
             [
              0.2222222222222222,
              "#3e4989"
             ],
             [
              0.3333333333333333,
              "#31688e"
             ],
             [
              0.4444444444444444,
              "#26828e"
             ],
             [
              0.5555555555555556,
              "#1f9e89"
             ],
             [
              0.6666666666666666,
              "#35b779"
             ],
             [
              0.7777777777777778,
              "#6ece58"
             ],
             [
              0.8888888888888888,
              "#b5de2b"
             ],
             [
              1,
              "#fde725"
             ]
            ],
            "type": "histogram2d"
           }
          ],
          "histogram2dcontour": [
           {
            "colorbar": {
             "outlinewidth": 1,
             "tickcolor": "rgb(36,36,36)",
             "ticks": "outside"
            },
            "colorscale": [
             [
              0,
              "#440154"
             ],
             [
              0.1111111111111111,
              "#482878"
             ],
             [
              0.2222222222222222,
              "#3e4989"
             ],
             [
              0.3333333333333333,
              "#31688e"
             ],
             [
              0.4444444444444444,
              "#26828e"
             ],
             [
              0.5555555555555556,
              "#1f9e89"
             ],
             [
              0.6666666666666666,
              "#35b779"
             ],
             [
              0.7777777777777778,
              "#6ece58"
             ],
             [
              0.8888888888888888,
              "#b5de2b"
             ],
             [
              1,
              "#fde725"
             ]
            ],
            "type": "histogram2dcontour"
           }
          ],
          "mesh3d": [
           {
            "colorbar": {
             "outlinewidth": 1,
             "tickcolor": "rgb(36,36,36)",
             "ticks": "outside"
            },
            "type": "mesh3d"
           }
          ],
          "parcoords": [
           {
            "line": {
             "colorbar": {
              "outlinewidth": 1,
              "tickcolor": "rgb(36,36,36)",
              "ticks": "outside"
             }
            },
            "type": "parcoords"
           }
          ],
          "pie": [
           {
            "automargin": true,
            "type": "pie"
           }
          ],
          "scatter": [
           {
            "fillpattern": {
             "fillmode": "overlay",
             "size": 10,
             "solidity": 0.2
            },
            "type": "scatter"
           }
          ],
          "scatter3d": [
           {
            "line": {
             "colorbar": {
              "outlinewidth": 1,
              "tickcolor": "rgb(36,36,36)",
              "ticks": "outside"
             }
            },
            "marker": {
             "colorbar": {
              "outlinewidth": 1,
              "tickcolor": "rgb(36,36,36)",
              "ticks": "outside"
             }
            },
            "type": "scatter3d"
           }
          ],
          "scattercarpet": [
           {
            "marker": {
             "colorbar": {
              "outlinewidth": 1,
              "tickcolor": "rgb(36,36,36)",
              "ticks": "outside"
             }
            },
            "type": "scattercarpet"
           }
          ],
          "scattergeo": [
           {
            "marker": {
             "colorbar": {
              "outlinewidth": 1,
              "tickcolor": "rgb(36,36,36)",
              "ticks": "outside"
             }
            },
            "type": "scattergeo"
           }
          ],
          "scattergl": [
           {
            "marker": {
             "colorbar": {
              "outlinewidth": 1,
              "tickcolor": "rgb(36,36,36)",
              "ticks": "outside"
             }
            },
            "type": "scattergl"
           }
          ],
          "scattermap": [
           {
            "marker": {
             "colorbar": {
              "outlinewidth": 1,
              "tickcolor": "rgb(36,36,36)",
              "ticks": "outside"
             }
            },
            "type": "scattermap"
           }
          ],
          "scattermapbox": [
           {
            "marker": {
             "colorbar": {
              "outlinewidth": 1,
              "tickcolor": "rgb(36,36,36)",
              "ticks": "outside"
             }
            },
            "type": "scattermapbox"
           }
          ],
          "scatterpolar": [
           {
            "marker": {
             "colorbar": {
              "outlinewidth": 1,
              "tickcolor": "rgb(36,36,36)",
              "ticks": "outside"
             }
            },
            "type": "scatterpolar"
           }
          ],
          "scatterpolargl": [
           {
            "marker": {
             "colorbar": {
              "outlinewidth": 1,
              "tickcolor": "rgb(36,36,36)",
              "ticks": "outside"
             }
            },
            "type": "scatterpolargl"
           }
          ],
          "scatterternary": [
           {
            "marker": {
             "colorbar": {
              "outlinewidth": 1,
              "tickcolor": "rgb(36,36,36)",
              "ticks": "outside"
             }
            },
            "type": "scatterternary"
           }
          ],
          "surface": [
           {
            "colorbar": {
             "outlinewidth": 1,
             "tickcolor": "rgb(36,36,36)",
             "ticks": "outside"
            },
            "colorscale": [
             [
              0,
              "#440154"
             ],
             [
              0.1111111111111111,
              "#482878"
             ],
             [
              0.2222222222222222,
              "#3e4989"
             ],
             [
              0.3333333333333333,
              "#31688e"
             ],
             [
              0.4444444444444444,
              "#26828e"
             ],
             [
              0.5555555555555556,
              "#1f9e89"
             ],
             [
              0.6666666666666666,
              "#35b779"
             ],
             [
              0.7777777777777778,
              "#6ece58"
             ],
             [
              0.8888888888888888,
              "#b5de2b"
             ],
             [
              1,
              "#fde725"
             ]
            ],
            "type": "surface"
           }
          ],
          "table": [
           {
            "cells": {
             "fill": {
              "color": "rgb(237,237,237)"
             },
             "line": {
              "color": "white"
             }
            },
            "header": {
             "fill": {
              "color": "rgb(217,217,217)"
             },
             "line": {
              "color": "white"
             }
            },
            "type": "table"
           }
          ]
         },
         "layout": {
          "annotationdefaults": {
           "arrowhead": 0,
           "arrowwidth": 1
          },
          "autotypenumbers": "strict",
          "coloraxis": {
           "colorbar": {
            "outlinewidth": 1,
            "tickcolor": "rgb(36,36,36)",
            "ticks": "outside"
           }
          },
          "colorscale": {
           "diverging": [
            [
             0,
             "rgb(103,0,31)"
            ],
            [
             0.1,
             "rgb(178,24,43)"
            ],
            [
             0.2,
             "rgb(214,96,77)"
            ],
            [
             0.3,
             "rgb(244,165,130)"
            ],
            [
             0.4,
             "rgb(253,219,199)"
            ],
            [
             0.5,
             "rgb(247,247,247)"
            ],
            [
             0.6,
             "rgb(209,229,240)"
            ],
            [
             0.7,
             "rgb(146,197,222)"
            ],
            [
             0.8,
             "rgb(67,147,195)"
            ],
            [
             0.9,
             "rgb(33,102,172)"
            ],
            [
             1,
             "rgb(5,48,97)"
            ]
           ],
           "sequential": [
            [
             0,
             "#440154"
            ],
            [
             0.1111111111111111,
             "#482878"
            ],
            [
             0.2222222222222222,
             "#3e4989"
            ],
            [
             0.3333333333333333,
             "#31688e"
            ],
            [
             0.4444444444444444,
             "#26828e"
            ],
            [
             0.5555555555555556,
             "#1f9e89"
            ],
            [
             0.6666666666666666,
             "#35b779"
            ],
            [
             0.7777777777777778,
             "#6ece58"
            ],
            [
             0.8888888888888888,
             "#b5de2b"
            ],
            [
             1,
             "#fde725"
            ]
           ],
           "sequentialminus": [
            [
             0,
             "#440154"
            ],
            [
             0.1111111111111111,
             "#482878"
            ],
            [
             0.2222222222222222,
             "#3e4989"
            ],
            [
             0.3333333333333333,
             "#31688e"
            ],
            [
             0.4444444444444444,
             "#26828e"
            ],
            [
             0.5555555555555556,
             "#1f9e89"
            ],
            [
             0.6666666666666666,
             "#35b779"
            ],
            [
             0.7777777777777778,
             "#6ece58"
            ],
            [
             0.8888888888888888,
             "#b5de2b"
            ],
            [
             1,
             "#fde725"
            ]
           ]
          },
          "colorway": [
           "#1F77B4",
           "#FF7F0E",
           "#2CA02C",
           "#D62728",
           "#9467BD",
           "#8C564B",
           "#E377C2",
           "#7F7F7F",
           "#BCBD22",
           "#17BECF"
          ],
          "font": {
           "color": "rgb(36,36,36)"
          },
          "geo": {
           "bgcolor": "white",
           "lakecolor": "white",
           "landcolor": "white",
           "showlakes": true,
           "showland": true,
           "subunitcolor": "white"
          },
          "hoverlabel": {
           "align": "left"
          },
          "hovermode": "closest",
          "mapbox": {
           "style": "light"
          },
          "paper_bgcolor": "white",
          "plot_bgcolor": "white",
          "polar": {
           "angularaxis": {
            "gridcolor": "rgb(232,232,232)",
            "linecolor": "rgb(36,36,36)",
            "showgrid": false,
            "showline": true,
            "ticks": "outside"
           },
           "bgcolor": "white",
           "radialaxis": {
            "gridcolor": "rgb(232,232,232)",
            "linecolor": "rgb(36,36,36)",
            "showgrid": false,
            "showline": true,
            "ticks": "outside"
           }
          },
          "scene": {
           "xaxis": {
            "backgroundcolor": "white",
            "gridcolor": "rgb(232,232,232)",
            "gridwidth": 2,
            "linecolor": "rgb(36,36,36)",
            "showbackground": true,
            "showgrid": false,
            "showline": true,
            "ticks": "outside",
            "zeroline": false,
            "zerolinecolor": "rgb(36,36,36)"
           },
           "yaxis": {
            "backgroundcolor": "white",
            "gridcolor": "rgb(232,232,232)",
            "gridwidth": 2,
            "linecolor": "rgb(36,36,36)",
            "showbackground": true,
            "showgrid": false,
            "showline": true,
            "ticks": "outside",
            "zeroline": false,
            "zerolinecolor": "rgb(36,36,36)"
           },
           "zaxis": {
            "backgroundcolor": "white",
            "gridcolor": "rgb(232,232,232)",
            "gridwidth": 2,
            "linecolor": "rgb(36,36,36)",
            "showbackground": true,
            "showgrid": false,
            "showline": true,
            "ticks": "outside",
            "zeroline": false,
            "zerolinecolor": "rgb(36,36,36)"
           }
          },
          "shapedefaults": {
           "fillcolor": "black",
           "line": {
            "width": 0
           },
           "opacity": 0.3
          },
          "ternary": {
           "aaxis": {
            "gridcolor": "rgb(232,232,232)",
            "linecolor": "rgb(36,36,36)",
            "showgrid": false,
            "showline": true,
            "ticks": "outside"
           },
           "baxis": {
            "gridcolor": "rgb(232,232,232)",
            "linecolor": "rgb(36,36,36)",
            "showgrid": false,
            "showline": true,
            "ticks": "outside"
           },
           "bgcolor": "white",
           "caxis": {
            "gridcolor": "rgb(232,232,232)",
            "linecolor": "rgb(36,36,36)",
            "showgrid": false,
            "showline": true,
            "ticks": "outside"
           }
          },
          "title": {
           "x": 0.05
          },
          "xaxis": {
           "automargin": true,
           "gridcolor": "rgb(232,232,232)",
           "linecolor": "rgb(36,36,36)",
           "showgrid": false,
           "showline": true,
           "ticks": "outside",
           "title": {
            "standoff": 15
           },
           "zeroline": false,
           "zerolinecolor": "rgb(36,36,36)"
          },
          "yaxis": {
           "automargin": true,
           "gridcolor": "rgb(232,232,232)",
           "linecolor": "rgb(36,36,36)",
           "showgrid": false,
           "showline": true,
           "ticks": "outside",
           "title": {
            "standoff": 15
           },
           "zeroline": false,
           "zerolinecolor": "rgb(36,36,36)"
          }
         }
        },
        "title": {
         "text": "Fitted normal distribution for the x_shape of the Tibia bone"
        },
        "width": 800,
        "xaxis": {
         "anchor": "y",
         "domain": [
          0,
          1
         ],
         "title": {
          "text": ""
         }
        },
        "yaxis": {
         "anchor": "x",
         "domain": [
          0,
          1
         ],
         "title": {
          "text": "PDF"
         }
        }
       }
      }
     },
     "metadata": {},
     "output_type": "display_data"
    }
   ],
   "source": [
    "# Generate data from the fitted distribution to plot the distribution\n",
    "x = np.arange(\n",
    "    0,\n",
    "    1001,\n",
    "    10,\n",
    "    )\n",
    "\n",
    "pdf = stats.norm.pdf(x, mu, std)\n",
    "cdf = stats.norm.cdf(x, mu, std)\n",
    "df = pd.DataFrame({'x': x, 'pdf': pdf, 'cdf': cdf})\n",
    "\n",
    "# Plot the fitted distribution\n",
    "fig = px.line(\n",
    "    df,\n",
    "    x='x',\n",
    "    y='pdf',\n",
    "    title='Fitted normal distribution for the x_shape of the Tibia bone',\n",
    "    width=800,\n",
    "    )\n",
    "\n",
    "# add the histogram to the plot\n",
    "fig.add_histogram(\n",
    "    x=data[data['bone']=='Tibia']['x_shape'],\n",
    "    histnorm='probability density',\n",
    "    xbins=dict(size=10),\n",
    "    opacity=0.4,\n",
    "    )\n",
    "\n",
    "# dont show the histogram legend\n",
    "fig.update_traces(showlegend=False)\n",
    "\n",
    "# dont show the x-axis title\n",
    "fig.update_xaxes(title_text='')\n",
    "fig.update_yaxes(title_text='PDF')\n",
    "\n",
    "fig.show()"
   ]
  },
  {
   "cell_type": "markdown",
   "metadata": {},
   "source": [
    "> For further analysis, the normal distribution describes the data sufficiently. By using appropriate libraries (https://erdogant.github.io/distfit/pages/html/index.html), several distributions can be analysed and those with the best match can be selected."
   ]
  },
  {
   "cell_type": "code",
   "execution_count": 55,
   "metadata": {},
   "outputs": [
    {
     "name": "stdout",
     "output_type": "stream",
     "text": [
      "Propabyility of having a x_shape value of 500 or less: 0.01\n",
      "Propabyility of having a x_shape value of 800 or more: 0.02\n"
     ]
    }
   ],
   "source": [
    "upper_limit = 800\n",
    "lower_limit = 500\n",
    "\n",
    "# calculate the probability of having a x_shape value of 'lower_limit' or less\n",
    "print(f'Propabyility of having a x_shape value of {lower_limit} or less: {round(stats.norm.cdf(lower_limit, mu, std), 2)}')\n",
    "\n",
    "# calculate the probability of having a x_shape value of 'upper_limit' or more\n",
    "print(f'Propabyility of having a x_shape value of {upper_limit} or more: {round(1 - stats.norm.cdf(upper_limit, mu, std), 2)}')"
   ]
  },
  {
   "cell_type": "code",
   "execution_count": 56,
   "metadata": {},
   "outputs": [
    {
     "name": "stdout",
     "output_type": "stream",
     "text": [
      "Propabyility of having a x_shape value between 600 and 700: 0.52\n"
     ]
    }
   ],
   "source": [
    "upper_limit = 700\n",
    "lower_limit = 600\n",
    "\n",
    "# calculate the probability of having a x_shape value between 'lower_limit' and 'upper_limit'\n",
    "prob_between = round(stats.norm.cdf(upper_limit, mu, std) - stats.norm.cdf(lower_limit, mu, std), 2)\n",
    "print(f'Propabyility of having a x_shape value between {lower_limit} and {upper_limit}: {prob_between}')"
   ]
  },
  {
   "cell_type": "markdown",
   "metadata": {},
   "source": [
    "> The propability can be determined whether and how much data is below or above a limit value. An application for the measurement is the cropping or expansion of the image data for the training of a model to determine how much data is affected."
   ]
  },
  {
   "cell_type": "markdown",
   "metadata": {},
   "source": [
    "# 7 - Sampling\n",
    "https://mciwing.github.io/statistics/probability/Sampling/"
   ]
  },
  {
   "cell_type": "code",
   "execution_count": 57,
   "metadata": {},
   "outputs": [
    {
     "data": {
      "text/html": [
       "<div>\n",
       "<style scoped>\n",
       "    .dataframe tbody tr th:only-of-type {\n",
       "        vertical-align: middle;\n",
       "    }\n",
       "\n",
       "    .dataframe tbody tr th {\n",
       "        vertical-align: top;\n",
       "    }\n",
       "\n",
       "    .dataframe thead th {\n",
       "        text-align: right;\n",
       "    }\n",
       "</style>\n",
       "<table border=\"1\" class=\"dataframe\">\n",
       "  <thead>\n",
       "    <tr style=\"text-align: right;\">\n",
       "      <th></th>\n",
       "      <th>scan_id</th>\n",
       "      <th>bone</th>\n",
       "      <th>side</th>\n",
       "      <th>patient_id</th>\n",
       "      <th>exam</th>\n",
       "      <th>vgs</th>\n",
       "      <th>x_shape</th>\n",
       "      <th>y_shape</th>\n",
       "      <th>z_shape</th>\n",
       "      <th>max_val</th>\n",
       "      <th>...</th>\n",
       "      <th>std_val</th>\n",
       "      <th>n_class_0</th>\n",
       "      <th>n_class_1</th>\n",
       "      <th>n_class_2</th>\n",
       "      <th>prop_class_0</th>\n",
       "      <th>prop_class_1</th>\n",
       "      <th>prop_class_2</th>\n",
       "      <th>image_path</th>\n",
       "      <th>n_voxels</th>\n",
       "      <th>vgs_int</th>\n",
       "    </tr>\n",
       "  </thead>\n",
       "  <tbody>\n",
       "    <tr>\n",
       "      <th>0</th>\n",
       "      <td>D0004037</td>\n",
       "      <td>Radius</td>\n",
       "      <td>R</td>\n",
       "      <td>A01-0253</td>\n",
       "      <td>Ex01</td>\n",
       "      <td>VGS3</td>\n",
       "      <td>322</td>\n",
       "      <td>459</td>\n",
       "      <td>168</td>\n",
       "      <td>5824</td>\n",
       "      <td>...</td>\n",
       "      <td>866</td>\n",
       "      <td>14749962</td>\n",
       "      <td>7346617</td>\n",
       "      <td>2733485</td>\n",
       "      <td>0.59</td>\n",
       "      <td>0.30</td>\n",
       "      <td>0.11</td>\n",
       "      <td>/data/trainers/PPS_NPZs/Radius/A01-0253/Ex01/D...</td>\n",
       "      <td>24830064</td>\n",
       "      <td>3</td>\n",
       "    </tr>\n",
       "    <tr>\n",
       "      <th>1</th>\n",
       "      <td>D0004036</td>\n",
       "      <td>Radius</td>\n",
       "      <td>L</td>\n",
       "      <td>A01-0253</td>\n",
       "      <td>Ex01</td>\n",
       "      <td>VGS1</td>\n",
       "      <td>355</td>\n",
       "      <td>452</td>\n",
       "      <td>168</td>\n",
       "      <td>4902</td>\n",
       "      <td>...</td>\n",
       "      <td>860</td>\n",
       "      <td>17604824</td>\n",
       "      <td>6584447</td>\n",
       "      <td>2768008</td>\n",
       "      <td>0.65</td>\n",
       "      <td>0.24</td>\n",
       "      <td>0.10</td>\n",
       "      <td>/data/trainers/PPS_NPZs/Radius/A01-0253/Ex01/D...</td>\n",
       "      <td>26957280</td>\n",
       "      <td>1</td>\n",
       "    </tr>\n",
       "    <tr>\n",
       "      <th>2</th>\n",
       "      <td>D0004385</td>\n",
       "      <td>Radius</td>\n",
       "      <td>R</td>\n",
       "      <td>A01-0253</td>\n",
       "      <td>Ex02</td>\n",
       "      <td>VGS1</td>\n",
       "      <td>312</td>\n",
       "      <td>458</td>\n",
       "      <td>168</td>\n",
       "      <td>5437</td>\n",
       "      <td>...</td>\n",
       "      <td>900</td>\n",
       "      <td>13727102</td>\n",
       "      <td>7504448</td>\n",
       "      <td>2774978</td>\n",
       "      <td>0.57</td>\n",
       "      <td>0.31</td>\n",
       "      <td>0.12</td>\n",
       "      <td>/data/trainers/PPS_NPZs/Radius/A01-0253/Ex02/D...</td>\n",
       "      <td>24006528</td>\n",
       "      <td>1</td>\n",
       "    </tr>\n",
       "  </tbody>\n",
       "</table>\n",
       "<p>3 rows × 23 columns</p>\n",
       "</div>"
      ],
      "text/plain": [
       "    scan_id    bone side patient_id  exam   vgs  x_shape  y_shape  z_shape  \\\n",
       "0  D0004037  Radius    R   A01-0253  Ex01  VGS3      322      459      168   \n",
       "1  D0004036  Radius    L   A01-0253  Ex01  VGS1      355      452      168   \n",
       "2  D0004385  Radius    R   A01-0253  Ex02  VGS1      312      458      168   \n",
       "\n",
       "   max_val  ...  std_val  n_class_0  n_class_1  n_class_2  prop_class_0  \\\n",
       "0     5824  ...      866   14749962    7346617    2733485          0.59   \n",
       "1     4902  ...      860   17604824    6584447    2768008          0.65   \n",
       "2     5437  ...      900   13727102    7504448    2774978          0.57   \n",
       "\n",
       "   prop_class_1  prop_class_2  \\\n",
       "0          0.30          0.11   \n",
       "1          0.24          0.10   \n",
       "2          0.31          0.12   \n",
       "\n",
       "                                          image_path  n_voxels  vgs_int  \n",
       "0  /data/trainers/PPS_NPZs/Radius/A01-0253/Ex01/D...  24830064        3  \n",
       "1  /data/trainers/PPS_NPZs/Radius/A01-0253/Ex01/D...  26957280        1  \n",
       "2  /data/trainers/PPS_NPZs/Radius/A01-0253/Ex02/D...  24006528        1  \n",
       "\n",
       "[3 rows x 23 columns]"
      ]
     },
     "execution_count": 57,
     "metadata": {},
     "output_type": "execute_result"
    }
   ],
   "source": [
    "data.head(3)"
   ]
  },
  {
   "cell_type": "code",
   "execution_count": 58,
   "metadata": {},
   "outputs": [
    {
     "data": {
      "text/plain": [
       "prop_class_0   0.46\n",
       "prop_class_1   0.44\n",
       "prop_class_2   0.09\n",
       "dtype: float64"
      ]
     },
     "execution_count": 58,
     "metadata": {},
     "output_type": "execute_result"
    }
   ],
   "source": [
    "# calculate the mean proportion of each class\n",
    "mean_prop = data[['prop_class_0', 'prop_class_1', 'prop_class_2']].mean()\n",
    "mean_prop"
   ]
  },
  {
   "cell_type": "code",
   "execution_count": 59,
   "metadata": {},
   "outputs": [
    {
     "data": {
      "text/plain": [
       "1482"
      ]
     },
     "execution_count": 59,
     "metadata": {},
     "output_type": "execute_result"
    }
   ],
   "source": [
    "n_samples = data.shape[0]\n",
    "n_samples"
   ]
  },
  {
   "cell_type": "code",
   "execution_count": 60,
   "metadata": {},
   "outputs": [
    {
     "data": {
      "text/html": [
       "<div>\n",
       "<style scoped>\n",
       "    .dataframe tbody tr th:only-of-type {\n",
       "        vertical-align: middle;\n",
       "    }\n",
       "\n",
       "    .dataframe tbody tr th {\n",
       "        vertical-align: top;\n",
       "    }\n",
       "\n",
       "    .dataframe thead th {\n",
       "        text-align: right;\n",
       "    }\n",
       "</style>\n",
       "<table border=\"1\" class=\"dataframe\">\n",
       "  <thead>\n",
       "    <tr style=\"text-align: right;\">\n",
       "      <th></th>\n",
       "      <th>prop_class_0</th>\n",
       "      <th>prop_class_1</th>\n",
       "      <th>prop_class_2</th>\n",
       "      <th>n</th>\n",
       "    </tr>\n",
       "  </thead>\n",
       "  <tbody>\n",
       "    <tr>\n",
       "      <th>0</th>\n",
       "      <td>0.47</td>\n",
       "      <td>0.39</td>\n",
       "      <td>0.14</td>\n",
       "      <td>1</td>\n",
       "    </tr>\n",
       "    <tr>\n",
       "      <th>1</th>\n",
       "      <td>0.45</td>\n",
       "      <td>0.44</td>\n",
       "      <td>0.11</td>\n",
       "      <td>2</td>\n",
       "    </tr>\n",
       "    <tr>\n",
       "      <th>2</th>\n",
       "      <td>0.48</td>\n",
       "      <td>0.42</td>\n",
       "      <td>0.10</td>\n",
       "      <td>3</td>\n",
       "    </tr>\n",
       "    <tr>\n",
       "      <th>3</th>\n",
       "      <td>0.44</td>\n",
       "      <td>0.44</td>\n",
       "      <td>0.11</td>\n",
       "      <td>4</td>\n",
       "    </tr>\n",
       "    <tr>\n",
       "      <th>4</th>\n",
       "      <td>0.43</td>\n",
       "      <td>0.46</td>\n",
       "      <td>0.11</td>\n",
       "      <td>5</td>\n",
       "    </tr>\n",
       "    <tr>\n",
       "      <th>...</th>\n",
       "      <td>...</td>\n",
       "      <td>...</td>\n",
       "      <td>...</td>\n",
       "      <td>...</td>\n",
       "    </tr>\n",
       "    <tr>\n",
       "      <th>1477</th>\n",
       "      <td>0.46</td>\n",
       "      <td>0.44</td>\n",
       "      <td>0.09</td>\n",
       "      <td>1478</td>\n",
       "    </tr>\n",
       "    <tr>\n",
       "      <th>1478</th>\n",
       "      <td>0.46</td>\n",
       "      <td>0.44</td>\n",
       "      <td>0.09</td>\n",
       "      <td>1479</td>\n",
       "    </tr>\n",
       "    <tr>\n",
       "      <th>1479</th>\n",
       "      <td>0.46</td>\n",
       "      <td>0.44</td>\n",
       "      <td>0.09</td>\n",
       "      <td>1480</td>\n",
       "    </tr>\n",
       "    <tr>\n",
       "      <th>1480</th>\n",
       "      <td>0.46</td>\n",
       "      <td>0.44</td>\n",
       "      <td>0.09</td>\n",
       "      <td>1481</td>\n",
       "    </tr>\n",
       "    <tr>\n",
       "      <th>1481</th>\n",
       "      <td>0.46</td>\n",
       "      <td>0.44</td>\n",
       "      <td>0.09</td>\n",
       "      <td>1482</td>\n",
       "    </tr>\n",
       "  </tbody>\n",
       "</table>\n",
       "<p>1482 rows × 4 columns</p>\n",
       "</div>"
      ],
      "text/plain": [
       "      prop_class_0  prop_class_1  prop_class_2     n\n",
       "0             0.47          0.39          0.14     1\n",
       "1             0.45          0.44          0.11     2\n",
       "2             0.48          0.42          0.10     3\n",
       "3             0.44          0.44          0.11     4\n",
       "4             0.43          0.46          0.11     5\n",
       "...            ...           ...           ...   ...\n",
       "1477          0.46          0.44          0.09  1478\n",
       "1478          0.46          0.44          0.09  1479\n",
       "1479          0.46          0.44          0.09  1480\n",
       "1480          0.46          0.44          0.09  1481\n",
       "1481          0.46          0.44          0.09  1482\n",
       "\n",
       "[1482 rows x 4 columns]"
      ]
     },
     "execution_count": 60,
     "metadata": {},
     "output_type": "execute_result"
    }
   ],
   "source": [
    "# take a sample of the data and calculate the mean proportion of each class\n",
    "# repeat this process for different sample sizes and store the results in a DataFrame\n",
    "mean_prop_df = pd.DataFrame()\n",
    "\n",
    "for n_sample in range(1, n_samples + 1):\n",
    "\n",
    "    mean_sample = pd.DataFrame([data[['prop_class_0', 'prop_class_1', 'prop_class_2']].sample(n=n_sample).mean()])\n",
    "    mean_sample['n'] = n_sample\n",
    "\n",
    "    mean_prop_df = pd.concat([mean_prop_df, mean_sample], ignore_index=True)\n",
    "\n",
    "mean_prop_df"
   ]
  },
  {
   "cell_type": "code",
   "execution_count": 61,
   "metadata": {},
   "outputs": [
    {
     "data": {
      "application/vnd.plotly.v1+json": {
       "config": {
        "plotlyServerURL": "https://plot.ly"
       },
       "data": [
        {
         "hovertemplate": "variable=prop_class_0<br>Number of samples=%{x}<br>Mean proportion=%{y}<extra></extra>",
         "legendgroup": "prop_class_0",
         "line": {
          "color": "#1F77B4",
          "dash": "solid"
         },
         "marker": {
          "symbol": "circle"
         },
         "mode": "lines",
         "name": "prop_class_0",
         "showlegend": true,
         "type": "scattergl",
         "x": {
          "bdata": "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",
          "dtype": "i2"
         },
         "xaxis": "x",
         "y": {
          "bdata": "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",
          "dtype": "f8"
         },
         "yaxis": "y"
        },
        {
         "hovertemplate": "variable=prop_class_1<br>Number of samples=%{x}<br>Mean proportion=%{y}<extra></extra>",
         "legendgroup": "prop_class_1",
         "line": {
          "color": "#FF7F0E",
          "dash": "solid"
         },
         "marker": {
          "symbol": "circle"
         },
         "mode": "lines",
         "name": "prop_class_1",
         "showlegend": true,
         "type": "scattergl",
         "x": {
          "bdata": "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",
          "dtype": "i2"
         },
         "xaxis": "x",
         "y": {
          "bdata": "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",
          "dtype": "f8"
         },
         "yaxis": "y"
        },
        {
         "hovertemplate": "variable=prop_class_2<br>Number of samples=%{x}<br>Mean proportion=%{y}<extra></extra>",
         "legendgroup": "prop_class_2",
         "line": {
          "color": "#2CA02C",
          "dash": "solid"
         },
         "marker": {
          "symbol": "circle"
         },
         "mode": "lines",
         "name": "prop_class_2",
         "showlegend": true,
         "type": "scattergl",
         "x": {
          "bdata": "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",
          "dtype": "i2"
         },
         "xaxis": "x",
         "y": {
          "bdata": "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",
          "dtype": "f8"
         },
         "yaxis": "y"
        }
       ],
       "layout": {
        "legend": {
         "title": {
          "text": "variable"
         },
         "tracegroupgap": 0
        },
        "template": {
         "data": {
          "bar": [
           {
            "error_x": {
             "color": "rgb(36,36,36)"
            },
            "error_y": {
             "color": "rgb(36,36,36)"
            },
            "marker": {
             "line": {
              "color": "white",
              "width": 0.5
             },
             "pattern": {
              "fillmode": "overlay",
              "size": 10,
              "solidity": 0.2
             }
            },
            "type": "bar"
           }
          ],
          "barpolar": [
           {
            "marker": {
             "line": {
              "color": "white",
              "width": 0.5
             },
             "pattern": {
              "fillmode": "overlay",
              "size": 10,
              "solidity": 0.2
             }
            },
            "type": "barpolar"
           }
          ],
          "carpet": [
           {
            "aaxis": {
             "endlinecolor": "rgb(36,36,36)",
             "gridcolor": "white",
             "linecolor": "white",
             "minorgridcolor": "white",
             "startlinecolor": "rgb(36,36,36)"
            },
            "baxis": {
             "endlinecolor": "rgb(36,36,36)",
             "gridcolor": "white",
             "linecolor": "white",
             "minorgridcolor": "white",
             "startlinecolor": "rgb(36,36,36)"
            },
            "type": "carpet"
           }
          ],
          "choropleth": [
           {
            "colorbar": {
             "outlinewidth": 1,
             "tickcolor": "rgb(36,36,36)",
             "ticks": "outside"
            },
            "type": "choropleth"
           }
          ],
          "contour": [
           {
            "colorbar": {
             "outlinewidth": 1,
             "tickcolor": "rgb(36,36,36)",
             "ticks": "outside"
            },
            "colorscale": [
             [
              0,
              "#440154"
             ],
             [
              0.1111111111111111,
              "#482878"
             ],
             [
              0.2222222222222222,
              "#3e4989"
             ],
             [
              0.3333333333333333,
              "#31688e"
             ],
             [
              0.4444444444444444,
              "#26828e"
             ],
             [
              0.5555555555555556,
              "#1f9e89"
             ],
             [
              0.6666666666666666,
              "#35b779"
             ],
             [
              0.7777777777777778,
              "#6ece58"
             ],
             [
              0.8888888888888888,
              "#b5de2b"
             ],
             [
              1,
              "#fde725"
             ]
            ],
            "type": "contour"
           }
          ],
          "contourcarpet": [
           {
            "colorbar": {
             "outlinewidth": 1,
             "tickcolor": "rgb(36,36,36)",
             "ticks": "outside"
            },
            "type": "contourcarpet"
           }
          ],
          "heatmap": [
           {
            "colorbar": {
             "outlinewidth": 1,
             "tickcolor": "rgb(36,36,36)",
             "ticks": "outside"
            },
            "colorscale": [
             [
              0,
              "#440154"
             ],
             [
              0.1111111111111111,
              "#482878"
             ],
             [
              0.2222222222222222,
              "#3e4989"
             ],
             [
              0.3333333333333333,
              "#31688e"
             ],
             [
              0.4444444444444444,
              "#26828e"
             ],
             [
              0.5555555555555556,
              "#1f9e89"
             ],
             [
              0.6666666666666666,
              "#35b779"
             ],
             [
              0.7777777777777778,
              "#6ece58"
             ],
             [
              0.8888888888888888,
              "#b5de2b"
             ],
             [
              1,
              "#fde725"
             ]
            ],
            "type": "heatmap"
           }
          ],
          "histogram": [
           {
            "marker": {
             "line": {
              "color": "white",
              "width": 0.6
             }
            },
            "type": "histogram"
           }
          ],
          "histogram2d": [
           {
            "colorbar": {
             "outlinewidth": 1,
             "tickcolor": "rgb(36,36,36)",
             "ticks": "outside"
            },
            "colorscale": [
             [
              0,
              "#440154"
             ],
             [
              0.1111111111111111,
              "#482878"
             ],
             [
              0.2222222222222222,
              "#3e4989"
             ],
             [
              0.3333333333333333,
              "#31688e"
             ],
             [
              0.4444444444444444,
              "#26828e"
             ],
             [
              0.5555555555555556,
              "#1f9e89"
             ],
             [
              0.6666666666666666,
              "#35b779"
             ],
             [
              0.7777777777777778,
              "#6ece58"
             ],
             [
              0.8888888888888888,
              "#b5de2b"
             ],
             [
              1,
              "#fde725"
             ]
            ],
            "type": "histogram2d"
           }
          ],
          "histogram2dcontour": [
           {
            "colorbar": {
             "outlinewidth": 1,
             "tickcolor": "rgb(36,36,36)",
             "ticks": "outside"
            },
            "colorscale": [
             [
              0,
              "#440154"
             ],
             [
              0.1111111111111111,
              "#482878"
             ],
             [
              0.2222222222222222,
              "#3e4989"
             ],
             [
              0.3333333333333333,
              "#31688e"
             ],
             [
              0.4444444444444444,
              "#26828e"
             ],
             [
              0.5555555555555556,
              "#1f9e89"
             ],
             [
              0.6666666666666666,
              "#35b779"
             ],
             [
              0.7777777777777778,
              "#6ece58"
             ],
             [
              0.8888888888888888,
              "#b5de2b"
             ],
             [
              1,
              "#fde725"
             ]
            ],
            "type": "histogram2dcontour"
           }
          ],
          "mesh3d": [
           {
            "colorbar": {
             "outlinewidth": 1,
             "tickcolor": "rgb(36,36,36)",
             "ticks": "outside"
            },
            "type": "mesh3d"
           }
          ],
          "parcoords": [
           {
            "line": {
             "colorbar": {
              "outlinewidth": 1,
              "tickcolor": "rgb(36,36,36)",
              "ticks": "outside"
             }
            },
            "type": "parcoords"
           }
          ],
          "pie": [
           {
            "automargin": true,
            "type": "pie"
           }
          ],
          "scatter": [
           {
            "fillpattern": {
             "fillmode": "overlay",
             "size": 10,
             "solidity": 0.2
            },
            "type": "scatter"
           }
          ],
          "scatter3d": [
           {
            "line": {
             "colorbar": {
              "outlinewidth": 1,
              "tickcolor": "rgb(36,36,36)",
              "ticks": "outside"
             }
            },
            "marker": {
             "colorbar": {
              "outlinewidth": 1,
              "tickcolor": "rgb(36,36,36)",
              "ticks": "outside"
             }
            },
            "type": "scatter3d"
           }
          ],
          "scattercarpet": [
           {
            "marker": {
             "colorbar": {
              "outlinewidth": 1,
              "tickcolor": "rgb(36,36,36)",
              "ticks": "outside"
             }
            },
            "type": "scattercarpet"
           }
          ],
          "scattergeo": [
           {
            "marker": {
             "colorbar": {
              "outlinewidth": 1,
              "tickcolor": "rgb(36,36,36)",
              "ticks": "outside"
             }
            },
            "type": "scattergeo"
           }
          ],
          "scattergl": [
           {
            "marker": {
             "colorbar": {
              "outlinewidth": 1,
              "tickcolor": "rgb(36,36,36)",
              "ticks": "outside"
             }
            },
            "type": "scattergl"
           }
          ],
          "scattermap": [
           {
            "marker": {
             "colorbar": {
              "outlinewidth": 1,
              "tickcolor": "rgb(36,36,36)",
              "ticks": "outside"
             }
            },
            "type": "scattermap"
           }
          ],
          "scattermapbox": [
           {
            "marker": {
             "colorbar": {
              "outlinewidth": 1,
              "tickcolor": "rgb(36,36,36)",
              "ticks": "outside"
             }
            },
            "type": "scattermapbox"
           }
          ],
          "scatterpolar": [
           {
            "marker": {
             "colorbar": {
              "outlinewidth": 1,
              "tickcolor": "rgb(36,36,36)",
              "ticks": "outside"
             }
            },
            "type": "scatterpolar"
           }
          ],
          "scatterpolargl": [
           {
            "marker": {
             "colorbar": {
              "outlinewidth": 1,
              "tickcolor": "rgb(36,36,36)",
              "ticks": "outside"
             }
            },
            "type": "scatterpolargl"
           }
          ],
          "scatterternary": [
           {
            "marker": {
             "colorbar": {
              "outlinewidth": 1,
              "tickcolor": "rgb(36,36,36)",
              "ticks": "outside"
             }
            },
            "type": "scatterternary"
           }
          ],
          "surface": [
           {
            "colorbar": {
             "outlinewidth": 1,
             "tickcolor": "rgb(36,36,36)",
             "ticks": "outside"
            },
            "colorscale": [
             [
              0,
              "#440154"
             ],
             [
              0.1111111111111111,
              "#482878"
             ],
             [
              0.2222222222222222,
              "#3e4989"
             ],
             [
              0.3333333333333333,
              "#31688e"
             ],
             [
              0.4444444444444444,
              "#26828e"
             ],
             [
              0.5555555555555556,
              "#1f9e89"
             ],
             [
              0.6666666666666666,
              "#35b779"
             ],
             [
              0.7777777777777778,
              "#6ece58"
             ],
             [
              0.8888888888888888,
              "#b5de2b"
             ],
             [
              1,
              "#fde725"
             ]
            ],
            "type": "surface"
           }
          ],
          "table": [
           {
            "cells": {
             "fill": {
              "color": "rgb(237,237,237)"
             },
             "line": {
              "color": "white"
             }
            },
            "header": {
             "fill": {
              "color": "rgb(217,217,217)"
             },
             "line": {
              "color": "white"
             }
            },
            "type": "table"
           }
          ]
         },
         "layout": {
          "annotationdefaults": {
           "arrowhead": 0,
           "arrowwidth": 1
          },
          "autotypenumbers": "strict",
          "coloraxis": {
           "colorbar": {
            "outlinewidth": 1,
            "tickcolor": "rgb(36,36,36)",
            "ticks": "outside"
           }
          },
          "colorscale": {
           "diverging": [
            [
             0,
             "rgb(103,0,31)"
            ],
            [
             0.1,
             "rgb(178,24,43)"
            ],
            [
             0.2,
             "rgb(214,96,77)"
            ],
            [
             0.3,
             "rgb(244,165,130)"
            ],
            [
             0.4,
             "rgb(253,219,199)"
            ],
            [
             0.5,
             "rgb(247,247,247)"
            ],
            [
             0.6,
             "rgb(209,229,240)"
            ],
            [
             0.7,
             "rgb(146,197,222)"
            ],
            [
             0.8,
             "rgb(67,147,195)"
            ],
            [
             0.9,
             "rgb(33,102,172)"
            ],
            [
             1,
             "rgb(5,48,97)"
            ]
           ],
           "sequential": [
            [
             0,
             "#440154"
            ],
            [
             0.1111111111111111,
             "#482878"
            ],
            [
             0.2222222222222222,
             "#3e4989"
            ],
            [
             0.3333333333333333,
             "#31688e"
            ],
            [
             0.4444444444444444,
             "#26828e"
            ],
            [
             0.5555555555555556,
             "#1f9e89"
            ],
            [
             0.6666666666666666,
             "#35b779"
            ],
            [
             0.7777777777777778,
             "#6ece58"
            ],
            [
             0.8888888888888888,
             "#b5de2b"
            ],
            [
             1,
             "#fde725"
            ]
           ],
           "sequentialminus": [
            [
             0,
             "#440154"
            ],
            [
             0.1111111111111111,
             "#482878"
            ],
            [
             0.2222222222222222,
             "#3e4989"
            ],
            [
             0.3333333333333333,
             "#31688e"
            ],
            [
             0.4444444444444444,
             "#26828e"
            ],
            [
             0.5555555555555556,
             "#1f9e89"
            ],
            [
             0.6666666666666666,
             "#35b779"
            ],
            [
             0.7777777777777778,
             "#6ece58"
            ],
            [
             0.8888888888888888,
             "#b5de2b"
            ],
            [
             1,
             "#fde725"
            ]
           ]
          },
          "colorway": [
           "#1F77B4",
           "#FF7F0E",
           "#2CA02C",
           "#D62728",
           "#9467BD",
           "#8C564B",
           "#E377C2",
           "#7F7F7F",
           "#BCBD22",
           "#17BECF"
          ],
          "font": {
           "color": "rgb(36,36,36)"
          },
          "geo": {
           "bgcolor": "white",
           "lakecolor": "white",
           "landcolor": "white",
           "showlakes": true,
           "showland": true,
           "subunitcolor": "white"
          },
          "hoverlabel": {
           "align": "left"
          },
          "hovermode": "closest",
          "mapbox": {
           "style": "light"
          },
          "paper_bgcolor": "white",
          "plot_bgcolor": "white",
          "polar": {
           "angularaxis": {
            "gridcolor": "rgb(232,232,232)",
            "linecolor": "rgb(36,36,36)",
            "showgrid": false,
            "showline": true,
            "ticks": "outside"
           },
           "bgcolor": "white",
           "radialaxis": {
            "gridcolor": "rgb(232,232,232)",
            "linecolor": "rgb(36,36,36)",
            "showgrid": false,
            "showline": true,
            "ticks": "outside"
           }
          },
          "scene": {
           "xaxis": {
            "backgroundcolor": "white",
            "gridcolor": "rgb(232,232,232)",
            "gridwidth": 2,
            "linecolor": "rgb(36,36,36)",
            "showbackground": true,
            "showgrid": false,
            "showline": true,
            "ticks": "outside",
            "zeroline": false,
            "zerolinecolor": "rgb(36,36,36)"
           },
           "yaxis": {
            "backgroundcolor": "white",
            "gridcolor": "rgb(232,232,232)",
            "gridwidth": 2,
            "linecolor": "rgb(36,36,36)",
            "showbackground": true,
            "showgrid": false,
            "showline": true,
            "ticks": "outside",
            "zeroline": false,
            "zerolinecolor": "rgb(36,36,36)"
           },
           "zaxis": {
            "backgroundcolor": "white",
            "gridcolor": "rgb(232,232,232)",
            "gridwidth": 2,
            "linecolor": "rgb(36,36,36)",
            "showbackground": true,
            "showgrid": false,
            "showline": true,
            "ticks": "outside",
            "zeroline": false,
            "zerolinecolor": "rgb(36,36,36)"
           }
          },
          "shapedefaults": {
           "fillcolor": "black",
           "line": {
            "width": 0
           },
           "opacity": 0.3
          },
          "ternary": {
           "aaxis": {
            "gridcolor": "rgb(232,232,232)",
            "linecolor": "rgb(36,36,36)",
            "showgrid": false,
            "showline": true,
            "ticks": "outside"
           },
           "baxis": {
            "gridcolor": "rgb(232,232,232)",
            "linecolor": "rgb(36,36,36)",
            "showgrid": false,
            "showline": true,
            "ticks": "outside"
           },
           "bgcolor": "white",
           "caxis": {
            "gridcolor": "rgb(232,232,232)",
            "linecolor": "rgb(36,36,36)",
            "showgrid": false,
            "showline": true,
            "ticks": "outside"
           }
          },
          "title": {
           "x": 0.05
          },
          "xaxis": {
           "automargin": true,
           "gridcolor": "rgb(232,232,232)",
           "linecolor": "rgb(36,36,36)",
           "showgrid": false,
           "showline": true,
           "ticks": "outside",
           "title": {
            "standoff": 15
           },
           "zeroline": false,
           "zerolinecolor": "rgb(36,36,36)"
          },
          "yaxis": {
           "automargin": true,
           "gridcolor": "rgb(232,232,232)",
           "linecolor": "rgb(36,36,36)",
           "showgrid": false,
           "showline": true,
           "ticks": "outside",
           "title": {
            "standoff": 15
           },
           "zeroline": false,
           "zerolinecolor": "rgb(36,36,36)"
          }
         }
        },
        "title": {
         "text": "Mean proportions of each class"
        },
        "width": 800,
        "xaxis": {
         "anchor": "y",
         "domain": [
          0,
          1
         ],
         "title": {
          "text": "Number of samples"
         }
        },
        "yaxis": {
         "anchor": "x",
         "domain": [
          0,
          1
         ],
         "title": {
          "text": "Mean proportion"
         }
        }
       }
      }
     },
     "metadata": {},
     "output_type": "display_data"
    }
   ],
   "source": [
    "# create a line plot with the mean proportion of each class depending on the number of samples taken\n",
    "fig = px.line(\n",
    "    mean_prop_df,\n",
    "    x='n',\n",
    "    y=['prop_class_0', 'prop_class_1', 'prop_class_2'],\n",
    "    title='Mean proportions of each class',\n",
    "    labels={'value': 'Mean proportion', 'n': 'Number of samples'},\n",
    "    width=800,\n",
    ")\n",
    "\n",
    "fig.show()"
   ]
  },
  {
   "cell_type": "code",
   "execution_count": 62,
   "metadata": {},
   "outputs": [
    {
     "data": {
      "application/vnd.plotly.v1+json": {
       "config": {
        "plotlyServerURL": "https://plot.ly"
       },
       "data": [
        {
         "hovertemplate": "variable=prop_class_0<br>Number of samples=%{x}<br>Difference / %=%{y}<extra></extra>",
         "legendgroup": "prop_class_0",
         "line": {
          "color": "#1F77B4",
          "dash": "solid"
         },
         "marker": {
          "symbol": "circle"
         },
         "mode": "lines",
         "name": "prop_class_0",
         "showlegend": true,
         "type": "scattergl",
         "x": {
          "bdata": "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",
          "dtype": "i2"
         },
         "xaxis": "x",
         "y": {
          "bdata": "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",
          "dtype": "f8"
         },
         "yaxis": "y"
        },
        {
         "hovertemplate": "variable=prop_class_1<br>Number of samples=%{x}<br>Difference / %=%{y}<extra></extra>",
         "legendgroup": "prop_class_1",
         "line": {
          "color": "#FF7F0E",
          "dash": "solid"
         },
         "marker": {
          "symbol": "circle"
         },
         "mode": "lines",
         "name": "prop_class_1",
         "showlegend": true,
         "type": "scattergl",
         "x": {
          "bdata": "AQACAAMABAAFAAYABwAIAAkACgALAAwADQAOAA8AEAARABIAEwAUABUAFgAXABgAGQAaABsAHAAdAB4AHwAgACEAIgAjACQAJQAmACcAKAApACoAKwAsAC0ALgAvADAAMQAyADMANAA1ADYANwA4ADkAOgA7ADwAPQA+AD8AQABBAEIAQwBEAEUARgBHAEgASQBKAEsATABNAE4ATwBQAFEAUgBTAFQAVQBWAFcAWABZAFoAWwBcAF0AXgBfAGAAYQBiAGMAZABlAGYAZwBoAGkAagBrAGwAbQBuAG8AcABxAHIAcwB0AHUAdgB3AHgAeQB6AHsAfAB9AH4AfwCAAIEAggCDAIQAhQCGAIcAiACJAIoAiwCMAI0AjgCPAJAAkQCSAJMAlACVAJYAlwCYAJkAmgCbAJwAnQCeAJ8AoAChAKIAowCkAKUApgCnAKgAqQCqAKsArACtAK4ArwCwALEAsgCzALQAtQC2ALcAuAC5ALoAuwC8AL0AvgC/AMAAwQDCAMMAxADFAMYAxwDIAMkAygDLAMwAzQDOAM8A0ADRANIA0wDUANUA1gDXANgA2QDaANsA3ADdAN4A3wDgAOEA4gDjAOQA5QDmAOcA6ADpAOoA6wDsAO0A7gDvAPAA8QDyAPMA9AD1APYA9wD4APkA+gD7APwA/QD+AP8AAAEBAQIBAwEEAQUBBgEHAQgBCQEKAQsBDAENAQ4BDwEQAREBEgETARQBFQEWARcBGAEZARoBGwEcAR0BHgEfASABIQEiASMBJAElASYBJwEoASkBKgErASwBLQEuAS8BMAExATIBMwE0ATUBNgE3ATgBOQE6ATsBPAE9AT4BPwFAAUEBQgFDAUQBRQFGAUcBSAFJAUoBSwFMAU0BTgFPAVABUQFSAVMBVAFVAVYBVwFYAVkBWgFbAVwBXQFeAV8BYAFhAWIBYwFkAWUBZgFnAWgBaQFqAWsBbAFtAW4BbwFwAXEBcgFzAXQBdQF2AXcBeAF5AXoBewF8AX0BfgF/AYABgQGCAYMBhAGFAYYBhwGIAYkBigGLAYwBjQGOAY8BkAGRAZIBkwGUAZUBlgGXAZgBmQGaAZsBnAGdAZ4BnwGgAaEBogGjAaQBpQGmAacBqAGpAaoBqwGsAa0BrgGvAbABsQGyAbMBtAG1AbYBtwG4AbkBugG7AbwBvQG+Ab8BwAHBAcIBwwHEAcUBxgHHAcgByQHKAcsBzAHNAc4BzwHQAdEB0gHTAdQB1QHWAdcB2AHZAdoB2wHcAd0B3gHfAeAB4QHiAeMB5AHlAeYB5wHoAekB6gHrAewB7QHuAe8B8AHxAfIB8wH0AfUB9gH3AfgB+QH6AfsB/AH9Af4B/wEAAgECAgIDAgQCBQIGAgcCCAIJAgoCCwIMAg0CDgIPAhACEQISAhMCFAIVAhYCFwIYAhkCGgIbAhwCHQIeAh8CIAIhAiICIwIkAiUCJgInAigCKQIqAisCLAItAi4CLwIwAjECMgIzAjQCNQI2AjcCOAI5AjoCOwI8Aj0CPgI/AkACQQJCAkMCRAJFAkYCRwJIAkkCSgJLAkwCTQJOAk8CUAJRAlICUwJUAlUCVgJXAlgCWQJaAlsCXAJdAl4CXwJgAmECYgJjAmQCZQJmAmcCaAJpAmoCawJsAm0CbgJvAnACcQJyAnMCdAJ1AnYCdwJ4AnkCegJ7AnwCfQJ+An8CgAKBAoICgwKEAoUChgKHAogCiQKKAosCjAKNAo4CjwKQApECkgKTApQClQKWApcCmAKZApoCmwKcAp0CngKfAqACoQKiAqMCpAKlAqYCpwKoAqkCqgKrAqwCrQKuAq8CsAKxArICswK0ArUCtgK3ArgCuQK6ArsCvAK9Ar4CvwLAAsECwgLDAsQCxQLGAscCyALJAsoCywLMAs0CzgLPAtAC0QLSAtMC1ALVAtYC1wLYAtkC2gLbAtwC3QLeAt8C4ALhAuIC4wLkAuUC5gLnAugC6QLqAusC7ALtAu4C7wLwAvEC8gLzAvQC9QL2AvcC+AL5AvoC+wL8Av0C/gL/AgADAQMCAwMDBAMFAwYDBwMIAwkDCgMLAwwDDQMOAw8DEAMRAxIDEwMUAxUDFgMXAxgDGQMaAxsDHAMdAx4DHwMgAyEDIgMjAyQDJQMmAycDKAMpAyoDKwMsAy0DLgMvAzADMQMyAzMDNAM1AzYDNwM4AzkDOgM7AzwDPQM+Az8DQANBA0IDQwNEA0UDRgNHA0gDSQNKA0sDTANNA04DTwNQA1EDUgNTA1QDVQNWA1cDWANZA1oDWwNcA10DXgNfA2ADYQNiA2MDZANlA2YDZwNoA2kDagNrA2wDbQNuA28DcANxA3IDcwN0A3UDdgN3A3gDeQN6A3sDfAN9A34DfwOAA4EDggODA4QDhQOGA4cDiAOJA4oDiwOMA40DjgOPA5ADkQOSA5MDlAOVA5YDlwOYA5kDmgObA5wDnQOeA58DoAOhA6IDowOkA6UDpgOnA6gDqQOqA6sDrAOtA64DrwOwA7EDsgOzA7QDtQO2A7cDuAO5A7oDuwO8A70DvgO/A8ADwQPCA8MDxAPFA8YDxwPIA8kDygPLA8wDzQPOA88D0APRA9ID0wPUA9UD1gPXA9gD2QPaA9sD3APdA94D3wPgA+ED4gPjA+QD5QPmA+cD6APpA+oD6wPsA+0D7gPvA/AD8QPyA/MD9AP1A/YD9wP4A/kD+gP7A/wD/QP+A/8DAAQBBAIEAwQEBAUEBgQHBAgECQQKBAsEDAQNBA4EDwQQBBEEEgQTBBQEFQQWBBcEGAQZBBoEGwQcBB0EHgQfBCAEIQQiBCMEJAQlBCYEJwQoBCkEKgQrBCwELQQuBC8EMAQxBDIEMwQ0BDUENgQ3BDgEOQQ6BDsEPAQ9BD4EPwRABEEEQgRDBEQERQRGBEcESARJBEoESwRMBE0ETgRPBFAEUQRSBFMEVARVBFYEVwRYBFkEWgRbBFwEXQReBF8EYARhBGIEYwRkBGUEZgRnBGgEaQRqBGsEbARtBG4EbwRwBHEEcgRzBHQEdQR2BHcEeAR5BHoEewR8BH0EfgR/BIAEgQSCBIMEhASFBIYEhwSIBIkEigSLBIwEjQSOBI8EkASRBJIEkwSUBJUElgSXBJgEmQSaBJsEnASdBJ4EnwSgBKEEogSjBKQEpQSmBKcEqASpBKoEqwSsBK0ErgSvBLAEsQSyBLMEtAS1BLYEtwS4BLkEugS7BLwEvQS+BL8EwATBBMIEwwTEBMUExgTHBMgEyQTKBMsEzATNBM4EzwTQBNEE0gTTBNQE1QTWBNcE2ATZBNoE2wTcBN0E3gTfBOAE4QTiBOME5ATlBOYE5wToBOkE6gTrBOwE7QTuBO8E8ATxBPIE8wT0BPUE9gT3BPgE+QT6BPsE/AT9BP4E/wQABQEFAgUDBQQFBQUGBQcFCAUJBQoFCwUMBQ0FDgUPBRAFEQUSBRMFFAUVBRYFFwUYBRkFGgUbBRwFHQUeBR8FIAUhBSIFIwUkBSUFJgUnBSgFKQUqBSsFLAUtBS4FLwUwBTEFMgUzBTQFNQU2BTcFOAU5BToFOwU8BT0FPgU/BUAFQQVCBUMFRAVFBUYFRwVIBUkFSgVLBUwFTQVOBU8FUAVRBVIFUwVUBVUFVgVXBVgFWQVaBVsFXAVdBV4FXwVgBWEFYgVjBWQFZQVmBWcFaAVpBWoFawVsBW0FbgVvBXAFcQVyBXMFdAV1BXYFdwV4BXkFegV7BXwFfQV+BX8FgAWBBYIFgwWEBYUFhgWHBYgFiQWKBYsFjAWNBY4FjwWQBZEFkgWTBZQFlQWWBZcFmAWZBZoFmwWcBZ0FngWfBaAFoQWiBaMFpAWlBaYFpwWoBakFqgWrBawFrQWuBa8FsAWxBbIFswW0BbUFtgW3BbgFuQW6BbsFvAW9Bb4FvwXABcEFwgXDBcQFxQXGBccFyAXJBcoF",
          "dtype": "i2"
         },
         "xaxis": "x",
         "y": {
          "bdata": "5kYz6L9cJ0BFgd6LoWDjP6qkSSX42BdAqhqiT9D/2D9oSMOjprYRQHIQwMNN/f8/Ty5qgXU5HUAXdDG7qv/gPyaIAClpWBRAE818JtW4IUAhmBYs/gwCQCXjvncrEPQ/5EoxXvsLGkAqQAdDefXqP8TdV3DmbgpAM7E8yBZpB0DZNooHEVf2PxGmdNFOew9AGx3cil8qCkB3UZ1VWdDSP3KYpsNL0so/cm2dQ5Fs/T8xVg9EInsMQG+6aQZQ9v4/IXj/WeCtHECxOWZwIif5Pzbwz4IgaAZAy+OTAK72A0DVW5rdDtr2P2piH0UYr+s/ftLm0/IaAkBg5AlAGSO2P5/hAYZSjdA/gb7mhQenBECxEm0oKVzSP6xjfrLhksc/tx3Y7bL7CUA7MsYrhWLpPxKdwK6LZgpAF6Lpxxghyz85dEE1QLwTQNPV1lBY9/U/CvqG3wDN/j9BM7AtzWv+P1UnlsRopNM/woqzgJRb9j8S8ksFFh/oPzs/MMaM0u8/RFoPSYKZ1T+slSZ3YRwVQG01fedMdwNAqr0+6esKrz+CKhzl2fv4P1UfPPd1Bvw/dvXmQalOCEAOjvMvi3r+P8qG0JITLfE/xeOhAyAQ4T/xbtvTofLxP8obpPOnc/Y/rHbX6z9OA0AsI9pajvsJQIYXaBvFsvc/encgiBWf5z/z8GdiZ1rwP48IY37quPk/RH4MQ00m2D+fgMJxYD/kP1Sn235V0/w/gg/W0BaxCkDi6jFnZWoCQKX2mnwKm/Y/SD6+BVcbxj9AkfAUN8P8P6HkhenszgFAETdCJCi98T9tE48A3xX3P6UBOyTcJRFAIRP/lawe0j8THcEC6koIQOIJ+mgBsvw/3lnnQPXTBUBTN31uh9vrP+46L7m0RdI/XK7G+LGuDkBmJGfA+mP1P7ra9dEufNA/4YMyvHk57z8UHjBOH3v6PwxCbdc2FA5A+oRKjfAIrD/0BruHGUDVP2ga/83QLfI/+H7wkWNs6D80XhFZv+C5P1xHkaYlOvE/oZJMPabM4T/9Vf1PhQj4Pwzc8UxC6vc/DuBp1Y748T8saqrJp9zYPzZXey7AAwFA6JPqrCXP3D8/JY+cfj/jP9d7Tas3C+s/t78r/1We9z/Er/azlFujP6GT8F+iI84/HWGaaAYU9D++KNOa9/bUP84BozEwBPg/mWx3+Wyy/D8RG3rQxpruP8LUgX3r9xBAklz6Zguy+j/Sd7oiHOANQIGCVmv2JpM/3riE574W4D/xMV2pFn3gP4aMCBvBlu4/4zylY8EY2D+Os+SKhkGpP8NbGwHFQvQ/KnnKGuSX8T9tbv7gJu7QP3+mQHDI4fM/ZIo/CjSp4T9x5UhkWonmP9b8NagOjc0/7WOv6WKz1z/4T1gdnyndP+YiKdr2iOE/4GR5xLKx2j+MXw5+g7nmP1c6mE5rxeI/U7O8UsbJwz9qPRJiQDjLP6jG8bfyQAFAfl6htIZR8D/AjSedjAf1PyCZ3E1EAa8/BsvYEspJ6T9a40HkjZf0P1ShGn3+efA/eueigOCqCECI0hb04VznP62I2C0t/AFA+fEFAkQm+D9Qa5kpb9/zP3JT8RfEzQFA3x4hZrOl+j8gqfHzSmbrP+oiMaZOjO4/M7qEtsVH0T8uyrLwErn6PwB/mQ25cPs/BJrmmgWzB0C8yMn3IXXgP6+lbf5I7O0/RcJ3+dQF5D96kUzifb7pP7Lld7EdDOE/HEk5IRgT8z8eHvMwNe+uP5/WxqaPZfI/SegLFS9+8j8MXTCy9nC6P88B1feChss/6IIApOHj5T+J707xCGvhP8A1OK4kDOQ/AcHFHTka8j9uaeXLBgz8P37muD5jXug/nO85boSx7z9eMR6X8v3MP9SQVRd5pQhAH8sAEoCO2D80qpUcR0/oPw1txNYyyfA/bzbNaT4M9j/FBd70vb/vPxKBUAIAjPQ/gd8Z/nuo8z9oEeBQhWvzPya7JWJ8m/M/0kXXljvY4D9qxT4tg4avP0znlHA5pds/j9DFF0FM/z++ByK46gjYP97I3/b+FfI/XtEzuwzw4D+nU21Fo8jCP2rp1o9PXb0/PNw1gdxf0D/KF/n3cQjZPyckAirvIvo/ld+THWcC1j/XrVlGQ93nP0p682tgs+I/tRD8vFqq8j/QJxjw4RbMP8006hNdbpg/HeMa/lUjAUCBSBJYhrjWP6vDr9RPytY/2uBYI9aS7z+QrVv3B/XfP3INUhSiwO4/r2eyWtyo5j9ACQcznfnzP4f+ohL/uQFASRl2cL52yD+5FKu7OYbyP5rpJtEv79M/0pLIwGh58T+1mXIt24yzPxlKr3r/V6w/LuLLWAKYkz92Em4ob9r0P+s06+5q5uw/K8rrXdg+7D/HSLAX4inxP2eN7zatZOY/3BkurcZp1j9zgwMJWCTRP+ExdjHKfQFAr1l6Uro+wz+oWAPVKjDjPxKYEuln24Q/ntFCuarl+T8di4oPihX4P9gd45UIAPI/BeiEmUCg0j+Rm+Ehha4AQILebV2cvPM/LxbnNaDb4T9stMPXBunxPyoyCdkG2PM/Rjf9B4p30j9kkEFYpTHjPwRVkUIuYeQ/9cB1JbQh2D/H4mTYEWL0P5ja3dt5QuE/s5Yi2B9Puj+vUMblJoHqPzaB/CT4XOg/FGRh82NZ3T+fmx/Ty/DkP+jOhT2G0fI/sZI9IKZJ7T9smDw2me7pP/MLMJtD/cA/0cUzJ04V+D9jmm1xh/3oP7ZCDQ75EPA/wOthT1U25T/mxHB2kFrjP32xkxA5H8E/HjZGTMWn5z88GZe7RwTvPzArJ9R7M8o/rmEnkMAl6j/O5TWV8zPtP06bLgFEPbk/nkPLLwrOkz8VOEJvXRDhP9wjYHydC8E/7hlHkpGc+T9tIISDA7fvPyCXL0n1rto/O/cCUxM57z90hRvOgozTP0Y2NslOZPQ/Mlb1OT896j//Q1P8ntPoPzOwIhv2ydA/+yx/70Mk7T8naRGCA73EP5zdsh7g9PY/vmirWHsPzj+lTNoEsTvsPylD6EiCF+k/Yi9hyuRy7T8bk54MixP5P+pWTMirxvk/RVij/yGY0D/yp0sOkMXjP7Oe+dhfmc0/k+WM1f+v9j+dmornCp/eP6VzZuAT/eQ/3PL50TYZ8j/+yhtkphvjPxDr/vqD+fg/LVdlSJfGzT9yr1XMJTHzP5feTc0fL+U/aA4OYkz37z/gBvue23ThP8XiXQcvLac/PoI0sZq85D/6a8QbbwHpP1yi/hk2ZN4/hIgh6M4q5D/+Psz5NNT2P40Pyav9+IU/LqBjOtWq4z/zlgFEwS7SPxBq5bVKpdQ/mhS/fHOumT/8Z+YxN8fIP+l38sjNodc/SawfLeNX1j8HsGDLQdnnPwf8mikORtY/kjGk90wI5D9eBEE5hZHrPxEXy0oiRaY/lWu+PuRixT8P2TooOlPxP22LRb4L64g/clzfSbKwjj8IirD8wYCGP1Baw4ddc+0/bnH33Gs92T+xo3Y5ebnQP3hosYK/N64/mjIY+TQT8D+/zJZSHyjlP3AVVCjx9sM/kHDF6qnL3T+wolGHNF/oP0ZqGg6Gu+E/M+NxvBMR5z+CJznGaWi7P8srhgJ24aI/8atOaSf12T8O81qpYEetPwSDct678vE/HSbe7qKd8z8mwYuzqIHtPxoqtSGQwdo/Y6XtX/vJ7D+BHm+wFbn0PwlkalankeE/NtE7uhIs5j+5j+FrSDHQP61BWxF7g+E/Nlnpl9DauD+S5lleacvxPweGIBz6Mds/aWg20peRzT8pAzSwyXHDP7Z42/sPjt0/nQJL75Zf1T/GoPxBkM3bP2RZUjZT3PE/d5cYpj/j+T+0LkXKXfjlP0SqGP1s2s8/ZHDiuZAd9j/bS4GcqdbwP4Fjkaodv9A/Ejqj2Xe1sj/v32zyGX5sP57lba+iH8k/37xIT4Ia0D9G86QpJIXiP5vuNNbwAug/XupsIQfCzD9PBvz066bgP8XPS3Ct3/A/b/MtCbOG5T/nZRMa09jCP0GGou5lxuY/A54w7V7t5T94Q40JPeXiP3CeghlEO+k/vH6EWWJV1T/gwASQPZPqP8LaLKKT8Oc/71nKZkSQ6j+22nmkIZLmPzoup+77iuU//wQt8iEL5D8ms4YPE2T1PyWx8b7oPe4/1J36lY/R6j8AYeSB2oHjP+f2BqN7juE/8OKK8xtJ5D//j05qSajhP7T2PvEDaek/i76Dj2Dq0j+tT0y6AZQEQLC5/Ha2Rrs/mFpA2KS29D9zUz0Mj7PrP94ttBvCmd8/u8f1jI3h8z8NMKoYultUP7ORC7yfkpM/fIbXq6c14T8LeT9v9aDoP5cTCx1egfE/sBK0UCEk7T9I94sp1wnjP4KxTSomZtA/9go1y8MhzD8/1aw0WUTjP6/1oi2SFNs/OeXPq8YZ8T+IkSd2s9i5P3/Csmn7INs/jUYKrczmtD80qxgj9+7sP9tjlqrqssE/yclu3god6z+NiQxHY3zfP2O4XAhYmdA/6VslWKc13j8V/ow/WefMP837MKaRz+4/l9q21DeO5D9LSdEkSXjZP/yxTdj4sbk/Cv4FNBWhzz9gFn/We0e6P1DR2jfAEdA/FNl41Fus4z97Aok41Ue8P/Le7wiGePI/aLHUq2Qk/j+FZJ2H0aT2P50IpXIy6bA/hxjGxYiK7T+uQH3lxy60P2Wf3JIHk+k/jm59q++J6D/g8A+fjSBkP3RbGcFGrNc//uNExCf45j+WPYYkALLiP747/O6WY9g/0catQX9C5j9KzOU85KfYP82JZQPa8+c/lP698FH91D9f2N6262XkP3yoQUk7uKM/UsuSX4uhwj9GvFUwSNHBPzFOb5s9avE//zQF6f8GaT/KceEkMdXzP6iHySOMVdY/p8SFliP27j8hTpIdDdHUPzqZrD0Rfes/klvUwDCu5T/hD4MRP5rXPycfogOYJdw/Khbul2oQuD828X3mdb7cP14DRBPzLd8/Dn5DgLZSkz+VBaPV28jjP6av78WSfPI/1AQutwAhzT9II0KOhJHbPzuuE0Klp+o/c6tORL2bzz8ch+9zbHS/P2ifDLXs2MU/iGBOXqTq9j8Rfk3rYfXWP+t/FF79plU/nbIeDvbp1z8DF2kZJ6jiP7hhAqkAH+M/zpkFscYwoD/eCk7ldPfZP8TEhB4RsNk/ZW7boKag8z8exkxMKjqiPzC5//84tcE/FkARp9py5D+UB7ODWnDQP9vTIqpWlNM/+ig6GkXrzT+b/s0R8oK7P7XO6v5BhKM/1Fly4lhd6z8i3IGxBJ+vP2KeKqqmtus/gMorDqt0pT9HQu4XVTKyPxt6wVTNrOQ/M4gE02uv1D/qaRWBV77lPwQrXAHPxfI/MghYQnE11j8tSVAjcjfSP4sazlT9Wrg/nYdJ3rSe4D+uuFJ2d0rlP2gq5Mc7iuo/Nl3iGxea4T9tF8o3ycTnPwSsa3WZKeM/AoNeyWEJrT+KExHEUV/iPz3FH2O3MMc/6EMEW80xyz+esX5XburRPyokbQK4u8g/D3hg4ZHC1T8YUvGLyzPiP6vg6RMNDtA//PMXV39b4j9k/xCfJIPeP/2S94EAp/A/9zD7XjHyyz9Xvcly9H6+PwDW5iC4peA/fCpGWZ5wwz9tEyZdeJqzP4wuSEh0eOY/uu6NUX6z4T/qTeOUPIDqP+W2wm/LXc0/jEJT9VDhwj+dacm8M1LvP6Au+7lfCuE/dIPmoDWy5z+tYNALbQzhPyk6HQKq8sA/Eg2oOdYh+D9Lyix50grRP0kTm31gu9I/MUH1jpim0D/u+4mFMwXPPyq+N6PaHL0/0qSJ/UFGzD/hlPkSFsHjPyijT+51/7Y/DJYLk4tszj+8irMJXB7GP89cMQN70+s/Gi1USlJ+1D+vOrzQ4qfWPz1avEzU9OM/bUV02iBt5j+wgtRe1uHaP+qmcnp0CeQ/7yp6VM923T/j79/KtpjxP87Xn9XeDMo/t2GQfzo+8D8+KCahd6rCP0sOwWt9ZJA/AYZdEHyL0D9PT727/wrkP1Io3Ct7iss/GdsObuks0j+aXzMIT3HUPwAsuGFCMNM/52lkQ+TV8D/1+B5kFCLgPxBWqpxG1c8/ungIgfLmrz/7uWnBDaLkP/427sZ6Dek/FzCAP5twyz/PMeNQeKPKP+3stO4RYe4/QVmnAXL04D8ZA2V0Wu7GPxozm1HLla4/ymLxcwSH2j/BaybJrqb3PxmLlQ5a1dM/W4xWHMrx0D8SK0bvTcPaP+DrAHimgs0/Cvq0QAFGxD8oEFbL5vLSP2javW3sKPA/l2aOgkouaT8/SRNORbHVP1qGr/qAit4/BG3YYb8Y2z+SXDsvJOTAPwmybGOLgNI/h5ubg/+f2z/xXMNuywrBPwZ95gD2a64/XV0c2yzDsT9RJ7KiY2eIP3w9tRs5ssw/2f40Zk1K1D+AtzgkJgPMP58smaMSxdE/e4/LjKwgrj/Pnh2diUWzP5T/HOZ2xds/8bEDfRgD9D9ILbtCpuLZP0jywsdusbA/N9ocCl8rpz8NU40NInzlP3Ruwlb7XOE/auMew01R6T9eJMAiHobbPyWZeQMUnak/aeiHVMtHrT+SCezhAL67P4wKgr8bpuk/a6XzYFlStT8lW/rEEmjVP8bqrltoq/k/VeqpJ1G5yD8236VQzLTbP/yKfMMAb+s/knGMevbe5T8L41bCt4bVPzmjVvpCqdg/24p0sFd16D+V5m+Z2PbKPzC9iHc+J/Y/oC0i8PtG2D9gyLKC6v2vP8VTPec5N9Y/TxCfqxrk8D8Gmjo/OWTwP1++3mlwTOQ/HjzBelzcyT8Wswaiv+ntPyWL+RX9f7o/AhlEkTKY7z9zTw5zzYrXP0xUirhUu7g/aam12wWRxj+4eRr1u425P7WfwrA7o80//srIZTxV1j+5uhjQ42+7P2HtYK4VV9I/HaVlUqRg3T9bckGIaO3fP4n8m5FW89Y/18XfAo6nzT/6KyEBsWLQP0P/PQw0rNI/GY2mGFC44D/CoAo0jpHcP1CuUuZ04eQ/FWGmqT0B0j8TSqX0bS7XPwtfeijVceM/E9W7D7Nn0D9pq6RWO/bFP6tfFrGtjt4/4KUK3oMM1T80/puaOM7EP9/BOKQ/F8E/UVn5wVk9uT997/qnlT3sPzRHEWIFyNc/GHT2ZOhi0T+IAMCbxg7IP069Ngr5oeI/4gofvYZ04D/h6dfJ7HOOP7oIQxW25c4/ls1zFp8B7T9aTecPP8TgP50UN8lsKNg/fXsT8fsZ8T8q+yyp9RmyP+VVwlzTwrA/e6ZEy0QN5j9JDpSumpnNP2KzuRkzEOM/ARF267MX3T+fbwxZana2P2uxJLDhCuU/p01jG2ex7D93Hd42VmXDPxKCCPkBAOQ/TVPDbJhh3j9eiR/l1VneP+BM1DuGa9Y/YMmokWjG4z8oYPsJ3sq4P00ndFevQ8w/8i/eupFlsj8X/jV2KmLlP5k4hQGtUo8/tWnoD27d3T8XkaXl5ufPP2fvOEKnkLE/gL9Dqv9i4z8YwfLqKpviP3yNhufg9I0/7vgY4qsNvD/TUfuvugDxP4V2YI9f+ro/fcc7yvib5D/AxqwT/6rWP0sJ8RYNrug/pRySlzAQ8j+VczMalyCxP57vMEoJmMw/SPK8qivuvz9MTeINumDuP8U8UUQvjrE/VgeWhI/7uj98NJbLrcDCP58ZhyRvE+Q/HIQtCS3b3j9UVnRh2azdPxnP+vkufdc/hRBMrOiI3z9QmjuG0r/EP5kM5wmdJc8/Fm6u/jZ6uD9WLoyB5P61P6/HUoIAicM/ZN0rvZh57j+J86wueNbkPzIKT1HGJ+Y/RAP26A7R0z8Uc3Lc7Cu5P+UCwTK9nNA/BQUG1b4Amj/1TVEfsmDhP8jFCU7vBuA/YQsVFa9cwj8CspSGWDDWPyY1xamZRLs/ixN4B1gomT/vbNxZywjZP+A/Uqttbe0/GWj5hVN50z/FL0wGCoDgPz+lpKNW59Y/Ns5ft7dF6D8s7yJt3qTeP9pL3Fj0rLY/6LSbxyOQ4z9DJklYaOKfP2dFurn7/dU/e0XAEQWDtD/EO6T8cNThP8XN08goxNM/gLCIZ9KHrz+wztwxdc+wP7MeBPwa8+w/7BKE0qFvtj/Hh/NduMbVP5AIRZZqtLg/0KhpDClHtj+Bs+ChNEPlP26/1ijSBNQ/t/FBj8hVwT9insYc9r7BP21t65gIvMo/wii8qVS54D/t5M9sv3fUPzLS78ACW7c/5mUtXXj81z+18vBsrKnmPywB5Jc5F7o/F5n2Dc4kyT+oK7TO0tq1P8YNgC4x+Mg/PR+VFic86j8OteEYfYSsP4mmhjUJztE/ZqqussYJ0j9Xbkokury0P/dvPT/JI50/UBHeHi07wj/u4xTBtT+SP+tDdwYYz9o/pI1VPAaN0D/jpRXNtl7bP26J5ob5YLk/GL5fs54Zyj+B4sJzB4jaP3iPcgJhwbY/2sAa+Jozwz9zcsZLzULjP1ZE9ShARtg/0JCymEOs6j9zi8ll4THWP5E7csYO3Lc/2ZR1mGDS1D8GLV0ebFjbP9mCytCRLNs/HHLhNctqyz+fmwz4ZnCoPwFx75zgStw/2hxQFw6g0j9bT3gmyAvMP6Z78B44fcQ/bwAQvRfctz9HMlamUzzFP432WiiHjOM/IcFCtBHbxj9w2iuZ0lfJP7TLzQRtMM4/DxwVsZUL8D+u7VMoHLLQPwq7eyk+FNA/pcXa8Dm65j+b8m0ma3TjP75UYPlMdd8/6NymY+Rz2z8CorEUZya4PyhCweKuetQ/NcvAASpT0j+d1nJst93XP5e23/sLF+w/m8Diyoz04D/NBgPXgNzKP4bvYLXkHLE/Cig8gQrr4j8pMhgA2VPgPwRYx8yzGrA/QoThvMnAzj80ops/kLbYP4QwEGB2G9U/og+HyoLT5z+vT+w0ipSoP+5o8RB17Y0/R79yAPeA2z+Ux06TnKTAPzz7Ow1Kj90/MIPfU3dmxj/k09PJH/XhP7euvj1SLdY/GqGfuNq92T9bAfeO4o3PP63yBHeu8eU/m3dPTMedwD8vQysn867oPw4j5ORnWO0/NKyQq5bKvT9xF/XIiKXqP64dedW/K9k//7CxtrYDzT+alNBJwELdP64Jmp99ats/iBw4qNYmqD+MnY7769LCP2iwwIq/VrE/DjFuX+oS2D/9R0mxZVWXP2JwvXIes94/1rFTtMIWnD+u1ggSFQ/hP7NR7vaMF8w/I/yR4lVrwz/w0r8d9PeFP9bolu4CgKM/TIaDiz4jwz+IpVaLTv7TP3wLCj+6ttM/EzoPno6C1D/15KD64sbPP3xkJiZqD68/n1OO8SXV1z/C5r2gBGe4P6ZCcNFdNsw/wezjoUEjtD8dO0N9r9LMP1XJcZW2E9c/Hx/LYyNUvT+eJr+HZ1OrPzRiOnPQepo/d61rMaO5mD83h5ws1AjfP3AKJv/lxrc/BFxj53TNwz8dhqOtu6G2P6i0Kl0SWtY/0McjLxfbyT9KSPtsGKTBPyRVOohLtcA/1Ih9GJwi2T/6GVDLOGS+P74m7qCejK4/cPgWo37z7T8pQ1hTYxHHP0NyM2l1ltQ/MMsqCkeB2j9Mmjy1PEXCP+js0KdiUeQ/Np6h4ZRnzT/7XU0aCRTAP/ER5UQvLOE/fVvn2+gS1T8TPTszmuTSP5dkYYpUvNM/xisTpDqM0T/IWCO39/rCPx/KfX+Ve9A/sQUFXWqf4D/AcO+/OyrRPzler3KdTcY/Avgn7RXv6T9cs7mbYonVP1iRG6MzQ+Q/4bNCxuhAwD9rhNPwKIe6P7Rh8OAP4OA/XOB5QZx9wD+UjFQGbGS9P4wOfwePw9Y/kEVHgqtIyD/tYJXyvivNPyhVrqQXqsY/aApNZnkY2j+5ZNZvFDG2P7StDwhky+E/TO7p5asHuD/IFEcAokOzP3qzvvQ3ENE/bsAlluS3yD/VohTG8N2dP1ShLmzsl9M/NqLL6nRovj9Rdy+cDKWHP2379NAaU+Q/jfPZlXNS6D+5aI8ticXcP65qorFaI7A/vk75X6beyz/2kOkq+kzUP7ZP4Sfg/dg/wE1cZdax0D+829L8lIa5P7mKxFWzwt0/gTvv7jvi3D9qhkQe8ey9Pye8xUpR07Y/4O5bvWIbpz9W2ekjTZHVP4rpoUKrt80/FnfJpvVK4T9LbfHGd1jQP5p+bL80JLQ/Ne3cps+bgj+rvHKWjezmP6Bv2R5redk/EZsLIbru4D9vqHlDbYDhPxz77lwpzsg/oN5UUyEJxz+w718OrgSsP/Ul5avzptM/KOYVbFT8hj86S+YfSPSiP7haP9KWddA/MLsAQeZz1j86oT9ZogLDP1wEPOXcA9M/3eVqp07Z4j8aI0zkiM95P7J5xFMFSsc/+sRHoYS2xD8rqjebsC3iP/CBGhhJSrs/j8XStU2/uj/Ng7GWB6ncP9KgtV0I1dM/Kk41vD2C1D+s7MRcEHPHPy/zaX7AHNE/xpBRPgS9zT/tUS8S9Hy8P18DUiRGQrw/zLIT6T+E1D/DZDDnbIOdP7qKhVYRvtQ/zRfN6//gxz/Sqlz8Zg/UP538kn+tIbA/WuNq003l4j+2lcz/dEnUP9zunw6dzM4/rGvaB+bYvT87NRxy+8vlP+HSLYyyQcU/0oVaUd7A0z9/nJLRgIjOPx5qMMbvNcc/R3oDira8zD/PvOYX1PvDP1katQZcj7A/NtSb38zNkj9tAkWcXjLXP1d9ZyHp5eY/f1qSViESyz8XnBVbxz6dP+z39W/qpNA/sKEPXZJozT+BJ7I6SlezP38+V02FCsA/dnc1nUmB1T9v0wdOAQbYP2e00TSLjMY/LYIrJQrl1T/EZMQIhLTgP9rfk3draso/cbITj2qbwD+HQib+CNvQP/4aZ8TDAtM/bhrY1AkNxT8DQFWioH7DPx4xdFN0O8I/ha43DW1v3T8NItiJrC26P8G9HmroDL8/JaQgBUjLtj/67bwXzPxvP5UcJQIfLcs/FJwyZCLs3T8MUfYJ1FLRPw5LsTK9kb4/305BV9/Yvj8NKxeLDSTCP5bOmeeXEc4/9asZC92KsD+oaGW8Ot+SP5pr+FU1OaA/2+sLoY0n0T86WPVpVO7APyBzRljAPas/5jhYu3UDsD+i/JwDtQK2P8nCKzNyedo/wb2NwRRxzD+eLD1PfxrgP+O1fmU6E9o/RzqnBcxvzT9mKonznq7DP2R3M0+Ej6g/CHq7Zz34sT/KmvCt44h/P2tV53tOx8Y/JeTbuJCZ2z/PrG+6qJanPxpDm5vt3bg/hSOVD/efzT8quKAl65a6PzbA0OKEwdI/M47ydHjtwT8PhYL/ctTFPyZ7mQ5XbLc/thzG0rMarz+mVcOttJWnP3kDZwJBQ9k/1hqRwfzByD9PbE2xewWmP8Up8b8P+MA/Iv0Vjs5+yz9m+LYXNWbJP778KOm9pdI/h1YRhvmU0D+BCdtzl8jBPy5MuiNNx8Q/2AxsQdn/0T//wec+1F2SP2ASJjAjN88/qphCRFMR0D/zUMJ81vqdP4M+Flt88sA/zXtIzBoxwT//aGFJ03fCP6xfUgpmSsI/CDEZZuP90T8B62Nip/uEP4ondJaFabo/XpzWxBayrT9HIIlmAD3LP9z0hbQrBpk/z32A2cDQsD9fFXgQGcGTP2tcOF+Uf7s/1C2c6Ps51z/V+fcuOTfDP7xLExDcy84/mbvXBvzywj/Lg1jjHwDVP4ink80QJ+c/pe3lkGLCjz+xOmgSeBXXPxMgZ7VAS98/onebEAIQsj+6K/4VnP3RP3Amdgob5Xk/i+lRXNOnoj+4EeiibtXiP21yUd/n3Nw/EwidCgrm0z80sI901ozgP+ueYYd9Bc4/Jr91wt4JuD+RwfgErKuUPxLTJ0UfBaY/GMnm5g3OmD/56rQMm5rFP4PZHohhad0/RDc5M7nWqD+Rudql6QjIP1myyCLW9tA/7JifJLBJzz9OtmUkrGzAP/SjExofr+E/pbcjRIqE2D8SRS+2WGjAP5jne0HijNA/S5I9UXJIgj8ne9f0K3TSP7AAt6D3fLo/pWjY2m5tyD8L2aB5DQusP13HexFL88A/hZMx8zBUrj+qiBnLq93FP9yRDYhwBt8//qlwUhq0mT8zZpL/Im/MP/LmgymKXuY/WmkNqS1Jsz+aOkMuXc3LP2DRfhlRGck/sXjRv6MA0z84NCYbtflxP2vSCS8K/7U/9Urgev5gsD+ABTt35ra0P3KVB0Ok18k/hlgFrVjHhj+56MIOwxfWP4W1hQWXI8A/GcRwxjaroT8uNvD2bme2P3BTxr85J5I/HUlChYfVyD/PV2gm3CCqPzH9s6OM3sM/oU0u/1xH4D8ENXnaSKKCPwLo6B3pHMY/0rH+d0jKvT9AuZMKyx29PytLgZf5GMA/fgRQilUUzj++tOJxC2HXP+WvVxb3p94/5DKaUva/2j+RkZew8PvYP7aNE381S7w/S8e62V7qtT+ND94TuHDTP5XxXQjciNk/U8VQiTJErz++MLM6jFWrP4KkxS1Ousg/B3qOmyad2z8xvZEXBurdPwaoonAgDN4/uGeOf7L0zz8P/VQD8gjPP7hFZg2SydI/ZsVTPq2zvT/lTKnC4DjHP2wv+oFefr4/r79t3t8ezD+5vBDnwzPFPy8h7vC7RMk/kiTv5WPNvT8f9Z4Om3/JP0/BAI9s4cc/rcgBSTiawz8f+0fG28DIP0TQkrNBEMQ/rBMRfuCftj+tLmhuJLzWP70wDL/DDng/jTrlMneXwj+CZSxK85zFP5CEN/un3c0/U6SBe1T2YT+97X2WeLieP976YB2uQMM/UN1dcnkrPT8nzADfuV3DP6JZ493gu8c/lntEvM3juD8m4b9b6ujLP9vvmS9xmtM/p/6wYfFU3T87XeQeIXjRP1TV9hdj+6k/5OTApi3HmD+1byAwTGPdP1EQPX4NFcg/RcmpT50G0z9wybGPKH62P0MV/GR37LA/MZBghrs1jj+OyRayE76gP1CeLjLL5Nc/M9jUTTnzxj8SxQRqxmDRP0qfzu8a8M0/2cK5Ixcutz8IMs2bK7G5P+BIacrArss/ihTDlQmKvj+lyDIft6VmPx1lJN0/0sI/U7CneUGn1j/5FB6uCuacP4qzQpGA+9A/HYs6bBCZkT+BfvN9ud+4P1PHfF2wQok/Hz0ate7+uT+KA92NCkq8P1yxHwhdYbU/EexLkYCOqD8cl1cS7XbRP4W5HgwlrNI/5kOoGvj1wD8SHhFzVo2hP637KCNqnNA/gGIEifef2T/YOAb18OmbP2Sh71prWcE/Whd7oKv/0j9jkXN/wmbPP97RtvK14pY/VSSqw8+7sT8sVdTJGMbAP5dG6cjWT8Q/DyrtEFerjj8WiR3IBf7LP0nlA3S7YYw/1y9z/le9sT/nOB9WiarSP2xDdEOWsc0/DKat6O420D9qloEkxtmoPxjRXuN/I9U/ZgrHFq+P0D+q+aBmXJKnPzbH1S6Djbk/J8VmX5oylz84CwpyGuy9P9P3ki2L43U/JAV5My0U0D8L7ft7rHzYP7z7QuUtFsc/hhfR/LI9wT8vvSZXd5y1P7flUa29MMA/T870AHvntT9fuZ2h5oytP1xa4AIMda8/vsYbtXsmyj/0YZeKJojLP5v0NetcS7E/GhKko6mOrD8mzD1/1YK1P7lVmzEwz8A/Se+Y32W0zT+kTUy4x83CP9IKuZ3ABbE/+lBGmWUfqT8byL8VSoSRP4r2US/56oA/WbVZy5KRmD8VAa89dM69P+VadHvxNrc/K4Nt5GFb0z82XwYEtoa3P4fhUtkeI60/UEKw3bTpkT9AKVdGC+zCPw+DWVwu/Xo/DSIsxb8Suz/qupBjzquiP1b3gN/Yb8g/8RnC2CSnvD/b3ccyBJLPPw+tAlkXZbM/dIbb4qdiwT/497qumgu7P8yn1G+0isU/YJeniM6xpD8fT/onWd1gP87YgCay2cY/lUQBn3oSqT+q/A+xv4bMP+tnrqq6M9I/O+w2b6Ggxz8Br6TqbXvHP7q+nEzQfpg/7LOByZWHwD9WU++B2xerP/fzCT0D740/DchQ0iBJtD8s9wiDh8DAP0EvaFQqz80/giIPV4odsD+SOLO8BTygP6lqPVMrnLY/WSjygCRflT8xpBZXHmSqP+sA12PiO7g/3O6tZc6ysT+MIFHUOGPLP5V4Pvm+9bE/x2gLdD64ej/pa0XNTH6WP7uAKfXX4LQ/E8Z/OMOjrz/0kJrUy7OwP6BzM0dWhsA/NRTF1yqJkD/gyfDvda6yP9sOmeWuKLY/CGs5bBxfoz/Itr6WbsasP8Gap5zO8s0/VOI/u9Rbzj+NsQpFeynFP5KlVJgAisA/EcTMbtttqz+VXKUsaYbHP7tHKwYvy7Y/iZVXgDA9rD84Loc1VvbUP+1x5fnO6rg/uns5tp6Dnz8ZzrpPRsSsP0G9HwPr064/g96/PZvYuj/TrrBDl8W/P15Cjsats8o/WpycYdE/cD+sJKsOKWOzPzfuoBqNb2M/k7/4UkJuoz8AK6wRdQiMP0iAuZD22LQ/lQiRZK6BWj8vSq3IuPqwP6Qqd2QG/bQ/zsmvOwsqyD/CotCL7Wq1P6epjE00p7I/4D1ZCIEhrT8Nl7CD56yiP95ymZVmXag/UQ3AXjsszz/92gbNv13OP7K8ezPtFsE/AL1Vo8LwqD/PFH2Ik9SqP+00YSkPm74/BPW2zLtfgD/9XIcm0lTBP0RwrW3Kfag/g/bil3YgwD9VckmAfyS9P3LdV6XAK6c/uyoZ5L1viT9KVvyQWc6/P3j7/7jbBKE/AG9LifYy0T/Ytxd+LmC5P11vybdyL7k/Zq3uNYiwxj9TxTgW85i2P2PDrqCsK6w/ZbipEaVMoD9P1nvNbPKlP6wrn8T0gMc/JSRCzQpowj8iabmwLXC+P50Sf+SGG8A/aForJrq9oD/CTmhFPiauP7fZbhqvSbM/cutwmGgWyT+wXthRcexSP+6esmCyD58/hoTMKCp2pz8DBmdjnIO1P9hFdAlkMcw/G5mulUh9tz8ss8WPOMm5P/2/JawqWbI/l5eGohQwqj8gvsUUuT+UPwHtef/oKZI/WjYIhX47pz/k1Se0xB+uP1AOwTO8QcA/0Vo1frtStT8BgD/ZzZu6P8IS4DjcTKI/J6S+lQVRrz+kB7g7POi5P1UL4HQA75I/VY+gC5H5tz8TPtG6FS6IP1aWaRgUC7o/A1BjhIDasT9ut3cjS6CsP//OtX47AqA/tJdOFamytD/wmSDcoUK/P4ri3nI1Naw/2MXle0xdmz/HOkj4K0WhP2g4+gsvonA/gxk1Jy7EpT/qVu5QgN6lPxVvexZZZbU/U5dXe6GNmz8cFyLjx8WoP+u1ZBJ5sko/vwxQ5BkTpD/QNSOk+UOxP9fjtzNZQls/A8h9+dlIrD8G4RAP4sSxPycCwhXLoKo/u8vacpE8nD/keKW51AtEP2isZpYR2ZE/OLzcGQXmkz8tz9vLlMavPy+A+hWRu68/1vrcywWdgz8Bhn14tTirP5CadS4Iobk/iM7XwMjYpz8+/6FdsoieP3EL4I1Mt1E/BcOmBKRmoT+FXDOVJmepPwA+fgCElqo/sUaPqkAmuD/Bmo9N829yP/Mbx+g/YaI/7RydCdcxoD+gBm3NouGSP9Rc7o+aiaY/ODj6UsdaqD+KVf0hQ1mWP0SfYUg5154/wPkJ03q/ej8gyAGibMSMP1rHMRYKKno/A5RNf8eypD+18AepVmaVP0YW9wJTjZE/0BgkdWoYgT8V9UHJM8KGPwAAAAAAAAAA",
          "dtype": "f8"
         },
         "yaxis": "y"
        },
        {
         "hovertemplate": "variable=prop_class_2<br>Number of samples=%{x}<br>Difference / %=%{y}<extra></extra>",
         "legendgroup": "prop_class_2",
         "line": {
          "color": "#2CA02C",
          "dash": "solid"
         },
         "marker": {
          "symbol": "circle"
         },
         "mode": "lines",
         "name": "prop_class_2",
         "showlegend": true,
         "type": "scattergl",
         "x": {
          "bdata": "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",
          "dtype": "i2"
         },
         "xaxis": "x",
         "y": {
          "bdata": "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",
          "dtype": "f8"
         },
         "yaxis": "y"
        }
       ],
       "layout": {
        "legend": {
         "title": {
          "text": "variable"
         },
         "tracegroupgap": 0
        },
        "template": {
         "data": {
          "bar": [
           {
            "error_x": {
             "color": "rgb(36,36,36)"
            },
            "error_y": {
             "color": "rgb(36,36,36)"
            },
            "marker": {
             "line": {
              "color": "white",
              "width": 0.5
             },
             "pattern": {
              "fillmode": "overlay",
              "size": 10,
              "solidity": 0.2
             }
            },
            "type": "bar"
           }
          ],
          "barpolar": [
           {
            "marker": {
             "line": {
              "color": "white",
              "width": 0.5
             },
             "pattern": {
              "fillmode": "overlay",
              "size": 10,
              "solidity": 0.2
             }
            },
            "type": "barpolar"
           }
          ],
          "carpet": [
           {
            "aaxis": {
             "endlinecolor": "rgb(36,36,36)",
             "gridcolor": "white",
             "linecolor": "white",
             "minorgridcolor": "white",
             "startlinecolor": "rgb(36,36,36)"
            },
            "baxis": {
             "endlinecolor": "rgb(36,36,36)",
             "gridcolor": "white",
             "linecolor": "white",
             "minorgridcolor": "white",
             "startlinecolor": "rgb(36,36,36)"
            },
            "type": "carpet"
           }
          ],
          "choropleth": [
           {
            "colorbar": {
             "outlinewidth": 1,
             "tickcolor": "rgb(36,36,36)",
             "ticks": "outside"
            },
            "type": "choropleth"
           }
          ],
          "contour": [
           {
            "colorbar": {
             "outlinewidth": 1,
             "tickcolor": "rgb(36,36,36)",
             "ticks": "outside"
            },
            "colorscale": [
             [
              0,
              "#440154"
             ],
             [
              0.1111111111111111,
              "#482878"
             ],
             [
              0.2222222222222222,
              "#3e4989"
             ],
             [
              0.3333333333333333,
              "#31688e"
             ],
             [
              0.4444444444444444,
              "#26828e"
             ],
             [
              0.5555555555555556,
              "#1f9e89"
             ],
             [
              0.6666666666666666,
              "#35b779"
             ],
             [
              0.7777777777777778,
              "#6ece58"
             ],
             [
              0.8888888888888888,
              "#b5de2b"
             ],
             [
              1,
              "#fde725"
             ]
            ],
            "type": "contour"
           }
          ],
          "contourcarpet": [
           {
            "colorbar": {
             "outlinewidth": 1,
             "tickcolor": "rgb(36,36,36)",
             "ticks": "outside"
            },
            "type": "contourcarpet"
           }
          ],
          "heatmap": [
           {
            "colorbar": {
             "outlinewidth": 1,
             "tickcolor": "rgb(36,36,36)",
             "ticks": "outside"
            },
            "colorscale": [
             [
              0,
              "#440154"
             ],
             [
              0.1111111111111111,
              "#482878"
             ],
             [
              0.2222222222222222,
              "#3e4989"
             ],
             [
              0.3333333333333333,
              "#31688e"
             ],
             [
              0.4444444444444444,
              "#26828e"
             ],
             [
              0.5555555555555556,
              "#1f9e89"
             ],
             [
              0.6666666666666666,
              "#35b779"
             ],
             [
              0.7777777777777778,
              "#6ece58"
             ],
             [
              0.8888888888888888,
              "#b5de2b"
             ],
             [
              1,
              "#fde725"
             ]
            ],
            "type": "heatmap"
           }
          ],
          "histogram": [
           {
            "marker": {
             "line": {
              "color": "white",
              "width": 0.6
             }
            },
            "type": "histogram"
           }
          ],
          "histogram2d": [
           {
            "colorbar": {
             "outlinewidth": 1,
             "tickcolor": "rgb(36,36,36)",
             "ticks": "outside"
            },
            "colorscale": [
             [
              0,
              "#440154"
             ],
             [
              0.1111111111111111,
              "#482878"
             ],
             [
              0.2222222222222222,
              "#3e4989"
             ],
             [
              0.3333333333333333,
              "#31688e"
             ],
             [
              0.4444444444444444,
              "#26828e"
             ],
             [
              0.5555555555555556,
              "#1f9e89"
             ],
             [
              0.6666666666666666,
              "#35b779"
             ],
             [
              0.7777777777777778,
              "#6ece58"
             ],
             [
              0.8888888888888888,
              "#b5de2b"
             ],
             [
              1,
              "#fde725"
             ]
            ],
            "type": "histogram2d"
           }
          ],
          "histogram2dcontour": [
           {
            "colorbar": {
             "outlinewidth": 1,
             "tickcolor": "rgb(36,36,36)",
             "ticks": "outside"
            },
            "colorscale": [
             [
              0,
              "#440154"
             ],
             [
              0.1111111111111111,
              "#482878"
             ],
             [
              0.2222222222222222,
              "#3e4989"
             ],
             [
              0.3333333333333333,
              "#31688e"
             ],
             [
              0.4444444444444444,
              "#26828e"
             ],
             [
              0.5555555555555556,
              "#1f9e89"
             ],
             [
              0.6666666666666666,
              "#35b779"
             ],
             [
              0.7777777777777778,
              "#6ece58"
             ],
             [
              0.8888888888888888,
              "#b5de2b"
             ],
             [
              1,
              "#fde725"
             ]
            ],
            "type": "histogram2dcontour"
           }
          ],
          "mesh3d": [
           {
            "colorbar": {
             "outlinewidth": 1,
             "tickcolor": "rgb(36,36,36)",
             "ticks": "outside"
            },
            "type": "mesh3d"
           }
          ],
          "parcoords": [
           {
            "line": {
             "colorbar": {
              "outlinewidth": 1,
              "tickcolor": "rgb(36,36,36)",
              "ticks": "outside"
             }
            },
            "type": "parcoords"
           }
          ],
          "pie": [
           {
            "automargin": true,
            "type": "pie"
           }
          ],
          "scatter": [
           {
            "fillpattern": {
             "fillmode": "overlay",
             "size": 10,
             "solidity": 0.2
            },
            "type": "scatter"
           }
          ],
          "scatter3d": [
           {
            "line": {
             "colorbar": {
              "outlinewidth": 1,
              "tickcolor": "rgb(36,36,36)",
              "ticks": "outside"
             }
            },
            "marker": {
             "colorbar": {
              "outlinewidth": 1,
              "tickcolor": "rgb(36,36,36)",
              "ticks": "outside"
             }
            },
            "type": "scatter3d"
           }
          ],
          "scattercarpet": [
           {
            "marker": {
             "colorbar": {
              "outlinewidth": 1,
              "tickcolor": "rgb(36,36,36)",
              "ticks": "outside"
             }
            },
            "type": "scattercarpet"
           }
          ],
          "scattergeo": [
           {
            "marker": {
             "colorbar": {
              "outlinewidth": 1,
              "tickcolor": "rgb(36,36,36)",
              "ticks": "outside"
             }
            },
            "type": "scattergeo"
           }
          ],
          "scattergl": [
           {
            "marker": {
             "colorbar": {
              "outlinewidth": 1,
              "tickcolor": "rgb(36,36,36)",
              "ticks": "outside"
             }
            },
            "type": "scattergl"
           }
          ],
          "scattermap": [
           {
            "marker": {
             "colorbar": {
              "outlinewidth": 1,
              "tickcolor": "rgb(36,36,36)",
              "ticks": "outside"
             }
            },
            "type": "scattermap"
           }
          ],
          "scattermapbox": [
           {
            "marker": {
             "colorbar": {
              "outlinewidth": 1,
              "tickcolor": "rgb(36,36,36)",
              "ticks": "outside"
             }
            },
            "type": "scattermapbox"
           }
          ],
          "scatterpolar": [
           {
            "marker": {
             "colorbar": {
              "outlinewidth": 1,
              "tickcolor": "rgb(36,36,36)",
              "ticks": "outside"
             }
            },
            "type": "scatterpolar"
           }
          ],
          "scatterpolargl": [
           {
            "marker": {
             "colorbar": {
              "outlinewidth": 1,
              "tickcolor": "rgb(36,36,36)",
              "ticks": "outside"
             }
            },
            "type": "scatterpolargl"
           }
          ],
          "scatterternary": [
           {
            "marker": {
             "colorbar": {
              "outlinewidth": 1,
              "tickcolor": "rgb(36,36,36)",
              "ticks": "outside"
             }
            },
            "type": "scatterternary"
           }
          ],
          "surface": [
           {
            "colorbar": {
             "outlinewidth": 1,
             "tickcolor": "rgb(36,36,36)",
             "ticks": "outside"
            },
            "colorscale": [
             [
              0,
              "#440154"
             ],
             [
              0.1111111111111111,
              "#482878"
             ],
             [
              0.2222222222222222,
              "#3e4989"
             ],
             [
              0.3333333333333333,
              "#31688e"
             ],
             [
              0.4444444444444444,
              "#26828e"
             ],
             [
              0.5555555555555556,
              "#1f9e89"
             ],
             [
              0.6666666666666666,
              "#35b779"
             ],
             [
              0.7777777777777778,
              "#6ece58"
             ],
             [
              0.8888888888888888,
              "#b5de2b"
             ],
             [
              1,
              "#fde725"
             ]
            ],
            "type": "surface"
           }
          ],
          "table": [
           {
            "cells": {
             "fill": {
              "color": "rgb(237,237,237)"
             },
             "line": {
              "color": "white"
             }
            },
            "header": {
             "fill": {
              "color": "rgb(217,217,217)"
             },
             "line": {
              "color": "white"
             }
            },
            "type": "table"
           }
          ]
         },
         "layout": {
          "annotationdefaults": {
           "arrowhead": 0,
           "arrowwidth": 1
          },
          "autotypenumbers": "strict",
          "coloraxis": {
           "colorbar": {
            "outlinewidth": 1,
            "tickcolor": "rgb(36,36,36)",
            "ticks": "outside"
           }
          },
          "colorscale": {
           "diverging": [
            [
             0,
             "rgb(103,0,31)"
            ],
            [
             0.1,
             "rgb(178,24,43)"
            ],
            [
             0.2,
             "rgb(214,96,77)"
            ],
            [
             0.3,
             "rgb(244,165,130)"
            ],
            [
             0.4,
             "rgb(253,219,199)"
            ],
            [
             0.5,
             "rgb(247,247,247)"
            ],
            [
             0.6,
             "rgb(209,229,240)"
            ],
            [
             0.7,
             "rgb(146,197,222)"
            ],
            [
             0.8,
             "rgb(67,147,195)"
            ],
            [
             0.9,
             "rgb(33,102,172)"
            ],
            [
             1,
             "rgb(5,48,97)"
            ]
           ],
           "sequential": [
            [
             0,
             "#440154"
            ],
            [
             0.1111111111111111,
             "#482878"
            ],
            [
             0.2222222222222222,
             "#3e4989"
            ],
            [
             0.3333333333333333,
             "#31688e"
            ],
            [
             0.4444444444444444,
             "#26828e"
            ],
            [
             0.5555555555555556,
             "#1f9e89"
            ],
            [
             0.6666666666666666,
             "#35b779"
            ],
            [
             0.7777777777777778,
             "#6ece58"
            ],
            [
             0.8888888888888888,
             "#b5de2b"
            ],
            [
             1,
             "#fde725"
            ]
           ],
           "sequentialminus": [
            [
             0,
             "#440154"
            ],
            [
             0.1111111111111111,
             "#482878"
            ],
            [
             0.2222222222222222,
             "#3e4989"
            ],
            [
             0.3333333333333333,
             "#31688e"
            ],
            [
             0.4444444444444444,
             "#26828e"
            ],
            [
             0.5555555555555556,
             "#1f9e89"
            ],
            [
             0.6666666666666666,
             "#35b779"
            ],
            [
             0.7777777777777778,
             "#6ece58"
            ],
            [
             0.8888888888888888,
             "#b5de2b"
            ],
            [
             1,
             "#fde725"
            ]
           ]
          },
          "colorway": [
           "#1F77B4",
           "#FF7F0E",
           "#2CA02C",
           "#D62728",
           "#9467BD",
           "#8C564B",
           "#E377C2",
           "#7F7F7F",
           "#BCBD22",
           "#17BECF"
          ],
          "font": {
           "color": "rgb(36,36,36)"
          },
          "geo": {
           "bgcolor": "white",
           "lakecolor": "white",
           "landcolor": "white",
           "showlakes": true,
           "showland": true,
           "subunitcolor": "white"
          },
          "hoverlabel": {
           "align": "left"
          },
          "hovermode": "closest",
          "mapbox": {
           "style": "light"
          },
          "paper_bgcolor": "white",
          "plot_bgcolor": "white",
          "polar": {
           "angularaxis": {
            "gridcolor": "rgb(232,232,232)",
            "linecolor": "rgb(36,36,36)",
            "showgrid": false,
            "showline": true,
            "ticks": "outside"
           },
           "bgcolor": "white",
           "radialaxis": {
            "gridcolor": "rgb(232,232,232)",
            "linecolor": "rgb(36,36,36)",
            "showgrid": false,
            "showline": true,
            "ticks": "outside"
           }
          },
          "scene": {
           "xaxis": {
            "backgroundcolor": "white",
            "gridcolor": "rgb(232,232,232)",
            "gridwidth": 2,
            "linecolor": "rgb(36,36,36)",
            "showbackground": true,
            "showgrid": false,
            "showline": true,
            "ticks": "outside",
            "zeroline": false,
            "zerolinecolor": "rgb(36,36,36)"
           },
           "yaxis": {
            "backgroundcolor": "white",
            "gridcolor": "rgb(232,232,232)",
            "gridwidth": 2,
            "linecolor": "rgb(36,36,36)",
            "showbackground": true,
            "showgrid": false,
            "showline": true,
            "ticks": "outside",
            "zeroline": false,
            "zerolinecolor": "rgb(36,36,36)"
           },
           "zaxis": {
            "backgroundcolor": "white",
            "gridcolor": "rgb(232,232,232)",
            "gridwidth": 2,
            "linecolor": "rgb(36,36,36)",
            "showbackground": true,
            "showgrid": false,
            "showline": true,
            "ticks": "outside",
            "zeroline": false,
            "zerolinecolor": "rgb(36,36,36)"
           }
          },
          "shapedefaults": {
           "fillcolor": "black",
           "line": {
            "width": 0
           },
           "opacity": 0.3
          },
          "ternary": {
           "aaxis": {
            "gridcolor": "rgb(232,232,232)",
            "linecolor": "rgb(36,36,36)",
            "showgrid": false,
            "showline": true,
            "ticks": "outside"
           },
           "baxis": {
            "gridcolor": "rgb(232,232,232)",
            "linecolor": "rgb(36,36,36)",
            "showgrid": false,
            "showline": true,
            "ticks": "outside"
           },
           "bgcolor": "white",
           "caxis": {
            "gridcolor": "rgb(232,232,232)",
            "linecolor": "rgb(36,36,36)",
            "showgrid": false,
            "showline": true,
            "ticks": "outside"
           }
          },
          "title": {
           "x": 0.05
          },
          "xaxis": {
           "automargin": true,
           "gridcolor": "rgb(232,232,232)",
           "linecolor": "rgb(36,36,36)",
           "showgrid": false,
           "showline": true,
           "ticks": "outside",
           "title": {
            "standoff": 15
           },
           "zeroline": false,
           "zerolinecolor": "rgb(36,36,36)"
          },
          "yaxis": {
           "automargin": true,
           "gridcolor": "rgb(232,232,232)",
           "linecolor": "rgb(36,36,36)",
           "showgrid": false,
           "showline": true,
           "ticks": "outside",
           "title": {
            "standoff": 15
           },
           "zeroline": false,
           "zerolinecolor": "rgb(36,36,36)"
          }
         }
        },
        "title": {
         "text": "Relative difference from the mean proportion of each class"
        },
        "width": 800,
        "xaxis": {
         "anchor": "y",
         "domain": [
          0,
          1
         ],
         "title": {
          "text": "Number of samples"
         }
        },
        "yaxis": {
         "anchor": "x",
         "domain": [
          0,
          1
         ],
         "title": {
          "text": "Difference / %"
         }
        }
       }
      }
     },
     "metadata": {},
     "output_type": "display_data"
    }
   ],
   "source": [
    "# calculate the relative difference from the mean proportion of each class\n",
    "diff_from_mean = (mean_prop_df - mean_prop).abs() / mean_prop * 100\n",
    "diff_from_mean['n'] = mean_prop_df['n']\n",
    "\n",
    "fig = px.line(\n",
    "    diff_from_mean,\n",
    "    x='n',\n",
    "    y=['prop_class_0', 'prop_class_1', 'prop_class_2'],\n",
    "    title='Relative difference from the mean proportion of each class',\n",
    "    labels={'value': 'Difference / %', 'n': 'Number of samples'},\n",
    "    width=800,\n",
    ")\n",
    "\n",
    "fig.show()"
   ]
  },
  {
   "cell_type": "markdown",
   "metadata": {},
   "source": [
    "> To calculate the proportion of individual classes in the data set, this can be done by using samples. To determine the number of voxels of the individual images, these must be loaded. For the present application, this takes several minutes for the entire data set. Here it can be advantageous to use a sample. as can be seen in the two diagrams, acceptable results are already achieved with n=200 by sampling."
   ]
  }
 ],
 "metadata": {
  "kernelspec": {
   "display_name": ".venv",
   "language": "python",
   "name": "python3"
  },
  "language_info": {
   "codemirror_mode": {
    "name": "ipython",
    "version": 3
   },
   "file_extension": ".py",
   "mimetype": "text/x-python",
   "name": "python",
   "nbconvert_exporter": "python",
   "pygments_lexer": "ipython3",
   "version": "3.13.1"
  }
 },
 "nbformat": 4,
 "nbformat_minor": 2
}
