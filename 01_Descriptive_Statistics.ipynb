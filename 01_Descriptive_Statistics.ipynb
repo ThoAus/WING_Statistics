{
 "cells": [
  {
   "cell_type": "markdown",
   "metadata": {},
   "source": [
    "# Preparations"
   ]
  },
  {
   "cell_type": "code",
   "execution_count": 1,
   "metadata": {},
   "outputs": [],
   "source": [
    "import numpy as np\n",
    "import pandas as pd\n",
    "\n",
    "import matplotlib.pyplot as plt\n",
    "import plotly.express as px\n",
    "import seaborn as sns\n",
    "\n",
    "from ucimlrepo import fetch_ucirepo\n",
    "import statistics"
   ]
  },
  {
   "cell_type": "code",
   "execution_count": 2,
   "metadata": {},
   "outputs": [],
   "source": [
    "# Set global theme for plotly\n",
    "px.defaults.template = 'simple_white'\n",
    "\n",
    "# Set the seaborn theme\n",
    "sns.set_theme(style='white')"
   ]
  },
  {
   "cell_type": "markdown",
   "metadata": {},
   "source": [
    "# Frequency Distribution"
   ]
  },
  {
   "cell_type": "markdown",
   "metadata": {},
   "source": [
    "https://mciwing.github.io/statistics/univariate/Frequency/\n",
    "\n",
    "Analyse the Dataset\n",
    "- Look at the website of the dataset and get familiar\n",
    "\n",
    "Generate the following plot (think about attribute types, title, labeling of the axes)\n",
    "- Histogram | Absolute Frequency | Variable: origin\n",
    "- Bar Chart | Absoulte Frequency | no binning | Variable: weight\n",
    "- Histogram | Absoulte Frequency | automatic binning | Variable: weight\n",
    "- Histogram | Relative Frequency | cumulated | Variable: hoursepower\n",
    "- Pie Chart | Relative Frequency | Variable: cylinders\n"
   ]
  },
  {
   "cell_type": "code",
   "execution_count": 3,
   "metadata": {},
   "outputs": [
    {
     "data": {
      "text/html": [
       "<div>\n",
       "<style scoped>\n",
       "    .dataframe tbody tr th:only-of-type {\n",
       "        vertical-align: middle;\n",
       "    }\n",
       "\n",
       "    .dataframe tbody tr th {\n",
       "        vertical-align: top;\n",
       "    }\n",
       "\n",
       "    .dataframe thead th {\n",
       "        text-align: right;\n",
       "    }\n",
       "</style>\n",
       "<table border=\"1\" class=\"dataframe\">\n",
       "  <thead>\n",
       "    <tr style=\"text-align: right;\">\n",
       "      <th></th>\n",
       "      <th>displacement</th>\n",
       "      <th>cylinders</th>\n",
       "      <th>horsepower</th>\n",
       "      <th>weight</th>\n",
       "      <th>acceleration</th>\n",
       "      <th>model_year</th>\n",
       "      <th>origin</th>\n",
       "      <th>car_name</th>\n",
       "    </tr>\n",
       "  </thead>\n",
       "  <tbody>\n",
       "    <tr>\n",
       "      <th>0</th>\n",
       "      <td>307.0</td>\n",
       "      <td>8</td>\n",
       "      <td>130.0</td>\n",
       "      <td>3504</td>\n",
       "      <td>12.0</td>\n",
       "      <td>70</td>\n",
       "      <td>1</td>\n",
       "      <td>chevrolet,chevelle,malibu</td>\n",
       "    </tr>\n",
       "    <tr>\n",
       "      <th>1</th>\n",
       "      <td>350.0</td>\n",
       "      <td>8</td>\n",
       "      <td>165.0</td>\n",
       "      <td>3693</td>\n",
       "      <td>11.5</td>\n",
       "      <td>70</td>\n",
       "      <td>1</td>\n",
       "      <td>buick,skylark,320</td>\n",
       "    </tr>\n",
       "    <tr>\n",
       "      <th>2</th>\n",
       "      <td>318.0</td>\n",
       "      <td>8</td>\n",
       "      <td>150.0</td>\n",
       "      <td>3436</td>\n",
       "      <td>11.0</td>\n",
       "      <td>70</td>\n",
       "      <td>1</td>\n",
       "      <td>plymouth,satellite</td>\n",
       "    </tr>\n",
       "    <tr>\n",
       "      <th>3</th>\n",
       "      <td>304.0</td>\n",
       "      <td>8</td>\n",
       "      <td>150.0</td>\n",
       "      <td>3433</td>\n",
       "      <td>12.0</td>\n",
       "      <td>70</td>\n",
       "      <td>1</td>\n",
       "      <td>amc,rebel,sst</td>\n",
       "    </tr>\n",
       "    <tr>\n",
       "      <th>4</th>\n",
       "      <td>302.0</td>\n",
       "      <td>8</td>\n",
       "      <td>140.0</td>\n",
       "      <td>3449</td>\n",
       "      <td>10.5</td>\n",
       "      <td>70</td>\n",
       "      <td>1</td>\n",
       "      <td>ford,torino</td>\n",
       "    </tr>\n",
       "  </tbody>\n",
       "</table>\n",
       "</div>"
      ],
      "text/plain": [
       "   displacement  cylinders  horsepower  weight  acceleration  model_year  \\\n",
       "0         307.0          8       130.0    3504          12.0          70   \n",
       "1         350.0          8       165.0    3693          11.5          70   \n",
       "2         318.0          8       150.0    3436          11.0          70   \n",
       "3         304.0          8       150.0    3433          12.0          70   \n",
       "4         302.0          8       140.0    3449          10.5          70   \n",
       "\n",
       "   origin                   car_name  \n",
       "0       1  chevrolet,chevelle,malibu  \n",
       "1       1          buick,skylark,320  \n",
       "2       1         plymouth,satellite  \n",
       "3       1              amc,rebel,sst  \n",
       "4       1                ford,torino  "
      ]
     },
     "execution_count": 3,
     "metadata": {},
     "output_type": "execute_result"
    }
   ],
   "source": [
    "# fetch dataset \n",
    "cars = fetch_ucirepo(id=9) \n",
    "# https://archive.ics.uci.edu/dataset/9/auto+mpg\n",
    "\n",
    "# create a dataframe\n",
    "data = cars.data.features\n",
    "data = data.join(cars.data.ids)\n",
    "data.head()"
   ]
  },
  {
   "cell_type": "markdown",
   "metadata": {},
   "source": [
    "### Histogram | Absolute Frequency | Variable: origin"
   ]
  },
  {
   "cell_type": "code",
   "execution_count": 4,
   "metadata": {},
   "outputs": [
    {
     "data": {
      "application/vnd.plotly.v1+json": {
       "config": {
        "plotlyServerURL": "https://plot.ly"
       },
       "data": [
        {
         "bingroup": "x",
         "hovertemplate": "origin=%{x}<br>count=%{y}<extra></extra>",
         "legendgroup": "",
         "marker": {
          "color": "#1F77B4",
          "pattern": {
           "shape": ""
          }
         },
         "name": "",
         "orientation": "v",
         "showlegend": false,
         "type": "histogram",
         "x": {
          "bdata": "AQEBAQEBAQEBAQEBAQEDAQEBAwICAgICAQEBAQEDAQMBAQEBAQEBAQEBAQEBAQEBAQECAgIDAwIBAwECAQEBAQEBAQEBAQEDAQEBAQICAgIBAwMBAwEBAQEBAQEBAQEBAQEBAQEBAgEBAQEBAwEDAwEBAgEBAgICAgECAwEBAQEBAwEDAQEBAQEBAQEBAgICAwMBAgIDAwIBAQEBAQEBAQEBAQEBAQEDAQEBAwIDAQIBAgICAgMCAgEBAgEBAQEBAQEBAQECAwEBAQECAwMBAgECAwIBAQEBAwECAQMBAQEBAQEBAQEBAQECAQMBAQEDAgMCAwIBAwMDAQEBAQEBAQEBAQEBAQEBAQEBAwMBAwEBAwICAgICAwEBAQEBAQEBAQEBAQECAwEBAgECAQEBAwIBAQEBAgMBAwEBAQECAwMDAwMBAwICAgIDAgMCAwMCAQMBAQEBAQMBAwMDAwMBAQECAgMDAwMCAgMDAQEBAQEBAQEBAQEBAgMDAQEDAwMDAwMBAQEBAwEBAQIBAQE=",
          "dtype": "i1"
         },
         "xaxis": "x",
         "yaxis": "y"
        }
       ],
       "layout": {
        "barmode": "relative",
        "legend": {
         "tracegroupgap": 0
        },
        "template": {
         "data": {
          "bar": [
           {
            "error_x": {
             "color": "rgb(36,36,36)"
            },
            "error_y": {
             "color": "rgb(36,36,36)"
            },
            "marker": {
             "line": {
              "color": "white",
              "width": 0.5
             },
             "pattern": {
              "fillmode": "overlay",
              "size": 10,
              "solidity": 0.2
             }
            },
            "type": "bar"
           }
          ],
          "barpolar": [
           {
            "marker": {
             "line": {
              "color": "white",
              "width": 0.5
             },
             "pattern": {
              "fillmode": "overlay",
              "size": 10,
              "solidity": 0.2
             }
            },
            "type": "barpolar"
           }
          ],
          "carpet": [
           {
            "aaxis": {
             "endlinecolor": "rgb(36,36,36)",
             "gridcolor": "white",
             "linecolor": "white",
             "minorgridcolor": "white",
             "startlinecolor": "rgb(36,36,36)"
            },
            "baxis": {
             "endlinecolor": "rgb(36,36,36)",
             "gridcolor": "white",
             "linecolor": "white",
             "minorgridcolor": "white",
             "startlinecolor": "rgb(36,36,36)"
            },
            "type": "carpet"
           }
          ],
          "choropleth": [
           {
            "colorbar": {
             "outlinewidth": 1,
             "tickcolor": "rgb(36,36,36)",
             "ticks": "outside"
            },
            "type": "choropleth"
           }
          ],
          "contour": [
           {
            "colorbar": {
             "outlinewidth": 1,
             "tickcolor": "rgb(36,36,36)",
             "ticks": "outside"
            },
            "colorscale": [
             [
              0,
              "#440154"
             ],
             [
              0.1111111111111111,
              "#482878"
             ],
             [
              0.2222222222222222,
              "#3e4989"
             ],
             [
              0.3333333333333333,
              "#31688e"
             ],
             [
              0.4444444444444444,
              "#26828e"
             ],
             [
              0.5555555555555556,
              "#1f9e89"
             ],
             [
              0.6666666666666666,
              "#35b779"
             ],
             [
              0.7777777777777778,
              "#6ece58"
             ],
             [
              0.8888888888888888,
              "#b5de2b"
             ],
             [
              1,
              "#fde725"
             ]
            ],
            "type": "contour"
           }
          ],
          "contourcarpet": [
           {
            "colorbar": {
             "outlinewidth": 1,
             "tickcolor": "rgb(36,36,36)",
             "ticks": "outside"
            },
            "type": "contourcarpet"
           }
          ],
          "heatmap": [
           {
            "colorbar": {
             "outlinewidth": 1,
             "tickcolor": "rgb(36,36,36)",
             "ticks": "outside"
            },
            "colorscale": [
             [
              0,
              "#440154"
             ],
             [
              0.1111111111111111,
              "#482878"
             ],
             [
              0.2222222222222222,
              "#3e4989"
             ],
             [
              0.3333333333333333,
              "#31688e"
             ],
             [
              0.4444444444444444,
              "#26828e"
             ],
             [
              0.5555555555555556,
              "#1f9e89"
             ],
             [
              0.6666666666666666,
              "#35b779"
             ],
             [
              0.7777777777777778,
              "#6ece58"
             ],
             [
              0.8888888888888888,
              "#b5de2b"
             ],
             [
              1,
              "#fde725"
             ]
            ],
            "type": "heatmap"
           }
          ],
          "histogram": [
           {
            "marker": {
             "line": {
              "color": "white",
              "width": 0.6
             }
            },
            "type": "histogram"
           }
          ],
          "histogram2d": [
           {
            "colorbar": {
             "outlinewidth": 1,
             "tickcolor": "rgb(36,36,36)",
             "ticks": "outside"
            },
            "colorscale": [
             [
              0,
              "#440154"
             ],
             [
              0.1111111111111111,
              "#482878"
             ],
             [
              0.2222222222222222,
              "#3e4989"
             ],
             [
              0.3333333333333333,
              "#31688e"
             ],
             [
              0.4444444444444444,
              "#26828e"
             ],
             [
              0.5555555555555556,
              "#1f9e89"
             ],
             [
              0.6666666666666666,
              "#35b779"
             ],
             [
              0.7777777777777778,
              "#6ece58"
             ],
             [
              0.8888888888888888,
              "#b5de2b"
             ],
             [
              1,
              "#fde725"
             ]
            ],
            "type": "histogram2d"
           }
          ],
          "histogram2dcontour": [
           {
            "colorbar": {
             "outlinewidth": 1,
             "tickcolor": "rgb(36,36,36)",
             "ticks": "outside"
            },
            "colorscale": [
             [
              0,
              "#440154"
             ],
             [
              0.1111111111111111,
              "#482878"
             ],
             [
              0.2222222222222222,
              "#3e4989"
             ],
             [
              0.3333333333333333,
              "#31688e"
             ],
             [
              0.4444444444444444,
              "#26828e"
             ],
             [
              0.5555555555555556,
              "#1f9e89"
             ],
             [
              0.6666666666666666,
              "#35b779"
             ],
             [
              0.7777777777777778,
              "#6ece58"
             ],
             [
              0.8888888888888888,
              "#b5de2b"
             ],
             [
              1,
              "#fde725"
             ]
            ],
            "type": "histogram2dcontour"
           }
          ],
          "mesh3d": [
           {
            "colorbar": {
             "outlinewidth": 1,
             "tickcolor": "rgb(36,36,36)",
             "ticks": "outside"
            },
            "type": "mesh3d"
           }
          ],
          "parcoords": [
           {
            "line": {
             "colorbar": {
              "outlinewidth": 1,
              "tickcolor": "rgb(36,36,36)",
              "ticks": "outside"
             }
            },
            "type": "parcoords"
           }
          ],
          "pie": [
           {
            "automargin": true,
            "type": "pie"
           }
          ],
          "scatter": [
           {
            "fillpattern": {
             "fillmode": "overlay",
             "size": 10,
             "solidity": 0.2
            },
            "type": "scatter"
           }
          ],
          "scatter3d": [
           {
            "line": {
             "colorbar": {
              "outlinewidth": 1,
              "tickcolor": "rgb(36,36,36)",
              "ticks": "outside"
             }
            },
            "marker": {
             "colorbar": {
              "outlinewidth": 1,
              "tickcolor": "rgb(36,36,36)",
              "ticks": "outside"
             }
            },
            "type": "scatter3d"
           }
          ],
          "scattercarpet": [
           {
            "marker": {
             "colorbar": {
              "outlinewidth": 1,
              "tickcolor": "rgb(36,36,36)",
              "ticks": "outside"
             }
            },
            "type": "scattercarpet"
           }
          ],
          "scattergeo": [
           {
            "marker": {
             "colorbar": {
              "outlinewidth": 1,
              "tickcolor": "rgb(36,36,36)",
              "ticks": "outside"
             }
            },
            "type": "scattergeo"
           }
          ],
          "scattergl": [
           {
            "marker": {
             "colorbar": {
              "outlinewidth": 1,
              "tickcolor": "rgb(36,36,36)",
              "ticks": "outside"
             }
            },
            "type": "scattergl"
           }
          ],
          "scattermap": [
           {
            "marker": {
             "colorbar": {
              "outlinewidth": 1,
              "tickcolor": "rgb(36,36,36)",
              "ticks": "outside"
             }
            },
            "type": "scattermap"
           }
          ],
          "scattermapbox": [
           {
            "marker": {
             "colorbar": {
              "outlinewidth": 1,
              "tickcolor": "rgb(36,36,36)",
              "ticks": "outside"
             }
            },
            "type": "scattermapbox"
           }
          ],
          "scatterpolar": [
           {
            "marker": {
             "colorbar": {
              "outlinewidth": 1,
              "tickcolor": "rgb(36,36,36)",
              "ticks": "outside"
             }
            },
            "type": "scatterpolar"
           }
          ],
          "scatterpolargl": [
           {
            "marker": {
             "colorbar": {
              "outlinewidth": 1,
              "tickcolor": "rgb(36,36,36)",
              "ticks": "outside"
             }
            },
            "type": "scatterpolargl"
           }
          ],
          "scatterternary": [
           {
            "marker": {
             "colorbar": {
              "outlinewidth": 1,
              "tickcolor": "rgb(36,36,36)",
              "ticks": "outside"
             }
            },
            "type": "scatterternary"
           }
          ],
          "surface": [
           {
            "colorbar": {
             "outlinewidth": 1,
             "tickcolor": "rgb(36,36,36)",
             "ticks": "outside"
            },
            "colorscale": [
             [
              0,
              "#440154"
             ],
             [
              0.1111111111111111,
              "#482878"
             ],
             [
              0.2222222222222222,
              "#3e4989"
             ],
             [
              0.3333333333333333,
              "#31688e"
             ],
             [
              0.4444444444444444,
              "#26828e"
             ],
             [
              0.5555555555555556,
              "#1f9e89"
             ],
             [
              0.6666666666666666,
              "#35b779"
             ],
             [
              0.7777777777777778,
              "#6ece58"
             ],
             [
              0.8888888888888888,
              "#b5de2b"
             ],
             [
              1,
              "#fde725"
             ]
            ],
            "type": "surface"
           }
          ],
          "table": [
           {
            "cells": {
             "fill": {
              "color": "rgb(237,237,237)"
             },
             "line": {
              "color": "white"
             }
            },
            "header": {
             "fill": {
              "color": "rgb(217,217,217)"
             },
             "line": {
              "color": "white"
             }
            },
            "type": "table"
           }
          ]
         },
         "layout": {
          "annotationdefaults": {
           "arrowhead": 0,
           "arrowwidth": 1
          },
          "autotypenumbers": "strict",
          "coloraxis": {
           "colorbar": {
            "outlinewidth": 1,
            "tickcolor": "rgb(36,36,36)",
            "ticks": "outside"
           }
          },
          "colorscale": {
           "diverging": [
            [
             0,
             "rgb(103,0,31)"
            ],
            [
             0.1,
             "rgb(178,24,43)"
            ],
            [
             0.2,
             "rgb(214,96,77)"
            ],
            [
             0.3,
             "rgb(244,165,130)"
            ],
            [
             0.4,
             "rgb(253,219,199)"
            ],
            [
             0.5,
             "rgb(247,247,247)"
            ],
            [
             0.6,
             "rgb(209,229,240)"
            ],
            [
             0.7,
             "rgb(146,197,222)"
            ],
            [
             0.8,
             "rgb(67,147,195)"
            ],
            [
             0.9,
             "rgb(33,102,172)"
            ],
            [
             1,
             "rgb(5,48,97)"
            ]
           ],
           "sequential": [
            [
             0,
             "#440154"
            ],
            [
             0.1111111111111111,
             "#482878"
            ],
            [
             0.2222222222222222,
             "#3e4989"
            ],
            [
             0.3333333333333333,
             "#31688e"
            ],
            [
             0.4444444444444444,
             "#26828e"
            ],
            [
             0.5555555555555556,
             "#1f9e89"
            ],
            [
             0.6666666666666666,
             "#35b779"
            ],
            [
             0.7777777777777778,
             "#6ece58"
            ],
            [
             0.8888888888888888,
             "#b5de2b"
            ],
            [
             1,
             "#fde725"
            ]
           ],
           "sequentialminus": [
            [
             0,
             "#440154"
            ],
            [
             0.1111111111111111,
             "#482878"
            ],
            [
             0.2222222222222222,
             "#3e4989"
            ],
            [
             0.3333333333333333,
             "#31688e"
            ],
            [
             0.4444444444444444,
             "#26828e"
            ],
            [
             0.5555555555555556,
             "#1f9e89"
            ],
            [
             0.6666666666666666,
             "#35b779"
            ],
            [
             0.7777777777777778,
             "#6ece58"
            ],
            [
             0.8888888888888888,
             "#b5de2b"
            ],
            [
             1,
             "#fde725"
            ]
           ]
          },
          "colorway": [
           "#1F77B4",
           "#FF7F0E",
           "#2CA02C",
           "#D62728",
           "#9467BD",
           "#8C564B",
           "#E377C2",
           "#7F7F7F",
           "#BCBD22",
           "#17BECF"
          ],
          "font": {
           "color": "rgb(36,36,36)"
          },
          "geo": {
           "bgcolor": "white",
           "lakecolor": "white",
           "landcolor": "white",
           "showlakes": true,
           "showland": true,
           "subunitcolor": "white"
          },
          "hoverlabel": {
           "align": "left"
          },
          "hovermode": "closest",
          "mapbox": {
           "style": "light"
          },
          "paper_bgcolor": "white",
          "plot_bgcolor": "white",
          "polar": {
           "angularaxis": {
            "gridcolor": "rgb(232,232,232)",
            "linecolor": "rgb(36,36,36)",
            "showgrid": false,
            "showline": true,
            "ticks": "outside"
           },
           "bgcolor": "white",
           "radialaxis": {
            "gridcolor": "rgb(232,232,232)",
            "linecolor": "rgb(36,36,36)",
            "showgrid": false,
            "showline": true,
            "ticks": "outside"
           }
          },
          "scene": {
           "xaxis": {
            "backgroundcolor": "white",
            "gridcolor": "rgb(232,232,232)",
            "gridwidth": 2,
            "linecolor": "rgb(36,36,36)",
            "showbackground": true,
            "showgrid": false,
            "showline": true,
            "ticks": "outside",
            "zeroline": false,
            "zerolinecolor": "rgb(36,36,36)"
           },
           "yaxis": {
            "backgroundcolor": "white",
            "gridcolor": "rgb(232,232,232)",
            "gridwidth": 2,
            "linecolor": "rgb(36,36,36)",
            "showbackground": true,
            "showgrid": false,
            "showline": true,
            "ticks": "outside",
            "zeroline": false,
            "zerolinecolor": "rgb(36,36,36)"
           },
           "zaxis": {
            "backgroundcolor": "white",
            "gridcolor": "rgb(232,232,232)",
            "gridwidth": 2,
            "linecolor": "rgb(36,36,36)",
            "showbackground": true,
            "showgrid": false,
            "showline": true,
            "ticks": "outside",
            "zeroline": false,
            "zerolinecolor": "rgb(36,36,36)"
           }
          },
          "shapedefaults": {
           "fillcolor": "black",
           "line": {
            "width": 0
           },
           "opacity": 0.3
          },
          "ternary": {
           "aaxis": {
            "gridcolor": "rgb(232,232,232)",
            "linecolor": "rgb(36,36,36)",
            "showgrid": false,
            "showline": true,
            "ticks": "outside"
           },
           "baxis": {
            "gridcolor": "rgb(232,232,232)",
            "linecolor": "rgb(36,36,36)",
            "showgrid": false,
            "showline": true,
            "ticks": "outside"
           },
           "bgcolor": "white",
           "caxis": {
            "gridcolor": "rgb(232,232,232)",
            "linecolor": "rgb(36,36,36)",
            "showgrid": false,
            "showline": true,
            "ticks": "outside"
           }
          },
          "title": {
           "x": 0.05
          },
          "xaxis": {
           "automargin": true,
           "gridcolor": "rgb(232,232,232)",
           "linecolor": "rgb(36,36,36)",
           "showgrid": false,
           "showline": true,
           "ticks": "outside",
           "title": {
            "standoff": 15
           },
           "zeroline": false,
           "zerolinecolor": "rgb(36,36,36)"
          },
          "yaxis": {
           "automargin": true,
           "gridcolor": "rgb(232,232,232)",
           "linecolor": "rgb(36,36,36)",
           "showgrid": false,
           "showline": true,
           "ticks": "outside",
           "title": {
            "standoff": 15
           },
           "zeroline": false,
           "zerolinecolor": "rgb(36,36,36)"
          }
         }
        },
        "title": {
         "text": "Car origin"
        },
        "width": 500,
        "xaxis": {
         "anchor": "y",
         "domain": [
          0,
          1
         ],
         "title": {
          "text": "origin"
         }
        },
        "yaxis": {
         "anchor": "x",
         "domain": [
          0,
          1
         ],
         "title": {
          "text": "count"
         }
        }
       }
      }
     },
     "metadata": {},
     "output_type": "display_data"
    }
   ],
   "source": [
    "fig = px.histogram(\n",
    "    data,\n",
    "    x='origin',\n",
    "    title='Car origin',\n",
    "    width=500,\n",
    "    )\n",
    "\n",
    "fig.show()"
   ]
  },
  {
   "cell_type": "markdown",
   "metadata": {},
   "source": [
    "### Bar Chart | Absoulte Frequency | no binning | Variable: weight"
   ]
  },
  {
   "cell_type": "code",
   "execution_count": 5,
   "metadata": {},
   "outputs": [
    {
     "data": {
      "application/vnd.plotly.v1+json": {
       "config": {
        "plotlyServerURL": "https://plot.ly"
       },
       "data": [
        {
         "hovertemplate": "index=%{x}<br>weight=%{y}<extra></extra>",
         "legendgroup": "",
         "marker": {
          "color": "#1F77B4",
          "pattern": {
           "shape": ""
          }
         },
         "name": "",
         "orientation": "v",
         "showlegend": false,
         "textposition": "auto",
         "type": "bar",
         "x": {
          "bdata": "AAABAAIAAwAEAAUABgAHAAgACQAKAAsADAANAA4ADwAQABEAEgATABQAFQAWABcAGAAZABoAGwAcAB0AHgAfACAAIQAiACMAJAAlACYAJwAoACkAKgArACwALQAuAC8AMAAxADIAMwA0ADUANgA3ADgAOQA6ADsAPAA9AD4APwBAAEEAQgBDAEQARQBGAEcASABJAEoASwBMAE0ATgBPAFAAUQBSAFMAVABVAFYAVwBYAFkAWgBbAFwAXQBeAF8AYABhAGIAYwBkAGUAZgBnAGgAaQBqAGsAbABtAG4AbwBwAHEAcgBzAHQAdQB2AHcAeAB5AHoAewB8AH0AfgB/AIAAgQCCAIMAhACFAIYAhwCIAIkAigCLAIwAjQCOAI8AkACRAJIAkwCUAJUAlgCXAJgAmQCaAJsAnACdAJ4AnwCgAKEAogCjAKQApQCmAKcAqACpAKoAqwCsAK0ArgCvALAAsQCyALMAtAC1ALYAtwC4ALkAugC7ALwAvQC+AL8AwADBAMIAwwDEAMUAxgDHAMgAyQDKAMsAzADNAM4AzwDQANEA0gDTANQA1QDWANcA2ADZANoA2wDcAN0A3gDfAOAA4QDiAOMA5ADlAOYA5wDoAOkA6gDrAOwA7QDuAO8A8ADxAPIA8wD0APUA9gD3APgA+QD6APsA/AD9AP4A/wAAAQEBAgEDAQQBBQEGAQcBCAEJAQoBCwEMAQ0BDgEPARABEQESARMBFAEVARYBFwEYARkBGgEbARwBHQEeAR8BIAEhASIBIwEkASUBJgEnASgBKQEqASsBLAEtAS4BLwEwATEBMgEzATQBNQE2ATcBOAE5AToBOwE8AT0BPgE/AUABQQFCAUMBRAFFAUYBRwFIAUkBSgFLAUwBTQFOAU8BUAFRAVIBUwFUAVUBVgFXAVgBWQFaAVsBXAFdAV4BXwFgAWEBYgFjAWQBZQFmAWcBaAFpAWoBawFsAW0BbgFvAXABcQFyAXMBdAF1AXYBdwF4AXkBegF7AXwBfQF+AX8BgAGBAYIBgwGEAYUBhgGHAYgBiQGKAYsBjAGNAQ==",
          "dtype": "i2"
         },
         "xaxis": "x",
         "y": {
          "bdata": "sA1tDmwNaQ15DfUQAhHYEEkRCg/rDRkOsQ4ODEQJEQvWChsKUggrB3AKfglHCboIWAoHEhgRHhF8ElII2Ai0CP4HSgpvDQEN5gzYDHEQcBE6EAAQWxOKEhQUkgtoCdIMQwysCEsIGggRCO0GTQYqB6MH5ghOCM4IaAmyCLIQIREnECEQWA4ZEpYRaBFGERoJNA8CEMYQ7Q91C88JowuNCFsJ8AjKCXQINAgEEFgOlA/KD8EOWBNwEQsRjRB/ElcT7Q4xDM4MgQvNC1gLngeFEyoTLhKTEeUK5whhCUsJTAgGCagJ2QjyD7YQSwduCBYKNAtHDWQK9wpQDh4MOwtVCwgNngeTCSwH7gnFDjAOHQ4tEFsSaREeEqEQqwirB/wIcQbTB00IPAjGCLkJVwnQB8AMgw1oDVYMPBJYEZIRMRJDDzkPkg7JDt8LlQxhDHsITwpiCyAKjgqvCPEJqAuRB4sMhgqNC4ELbwoDB6AJrAgMCs8Imgh3EF4Qeg93EKEMGQ3ECw0M8wd0CJEHAwdDDvYNPQ55DCEHxgdrCAUKTgxkD8YMcgvsDhwR1w8eD6sO/QdrCCEH/AiZBygP3A8sEMcQwA1hDS4OxQ18EEUQ5RDvEJQHtArZCMMKAwgbCMEHjgj/CigKoArBBwgHwQcWCAgHJQ2XDvINzw1TDJULoApmDYoMNA3+CyQOUg1hDXUNhQzwD2sIAAr8CLYI0wm5CicLZQkOC0QM6wpSDcYHVwitDK4LSgvBDCANAA+NDnMP9g4IEdYPFQ5kD4UHtwd7B24Kyg08D3YMXA2YCGYI5AdSCG4KIwqMCvwJYAiwB0gI4wd2CjYLuws1DYwIlwruCYIJ2Qg+CPAKPgglCB8JhguyDDoHKwdhCDUHXgt0CcQJWQvyCLoJSwo8CqUKUQnbBlMH4AYRCLcHAgjBB6cI/QdMCY4IEAmiCC4JNwpLCp4MWAxUC3ILVw2NDvQLiQ0tClAKWwkPCt0JrwoxC9sLvAfpB7IHTQhNCHAInQjFCK0HrQfLB4ELxwsZChMLaQpCCYYL5gpSCPcIQQqgCg==",
          "dtype": "i2"
         },
         "yaxis": "y"
        }
       ],
       "layout": {
        "barmode": "relative",
        "legend": {
         "tracegroupgap": 0
        },
        "template": {
         "data": {
          "bar": [
           {
            "error_x": {
             "color": "rgb(36,36,36)"
            },
            "error_y": {
             "color": "rgb(36,36,36)"
            },
            "marker": {
             "line": {
              "color": "white",
              "width": 0.5
             },
             "pattern": {
              "fillmode": "overlay",
              "size": 10,
              "solidity": 0.2
             }
            },
            "type": "bar"
           }
          ],
          "barpolar": [
           {
            "marker": {
             "line": {
              "color": "white",
              "width": 0.5
             },
             "pattern": {
              "fillmode": "overlay",
              "size": 10,
              "solidity": 0.2
             }
            },
            "type": "barpolar"
           }
          ],
          "carpet": [
           {
            "aaxis": {
             "endlinecolor": "rgb(36,36,36)",
             "gridcolor": "white",
             "linecolor": "white",
             "minorgridcolor": "white",
             "startlinecolor": "rgb(36,36,36)"
            },
            "baxis": {
             "endlinecolor": "rgb(36,36,36)",
             "gridcolor": "white",
             "linecolor": "white",
             "minorgridcolor": "white",
             "startlinecolor": "rgb(36,36,36)"
            },
            "type": "carpet"
           }
          ],
          "choropleth": [
           {
            "colorbar": {
             "outlinewidth": 1,
             "tickcolor": "rgb(36,36,36)",
             "ticks": "outside"
            },
            "type": "choropleth"
           }
          ],
          "contour": [
           {
            "colorbar": {
             "outlinewidth": 1,
             "tickcolor": "rgb(36,36,36)",
             "ticks": "outside"
            },
            "colorscale": [
             [
              0,
              "#440154"
             ],
             [
              0.1111111111111111,
              "#482878"
             ],
             [
              0.2222222222222222,
              "#3e4989"
             ],
             [
              0.3333333333333333,
              "#31688e"
             ],
             [
              0.4444444444444444,
              "#26828e"
             ],
             [
              0.5555555555555556,
              "#1f9e89"
             ],
             [
              0.6666666666666666,
              "#35b779"
             ],
             [
              0.7777777777777778,
              "#6ece58"
             ],
             [
              0.8888888888888888,
              "#b5de2b"
             ],
             [
              1,
              "#fde725"
             ]
            ],
            "type": "contour"
           }
          ],
          "contourcarpet": [
           {
            "colorbar": {
             "outlinewidth": 1,
             "tickcolor": "rgb(36,36,36)",
             "ticks": "outside"
            },
            "type": "contourcarpet"
           }
          ],
          "heatmap": [
           {
            "colorbar": {
             "outlinewidth": 1,
             "tickcolor": "rgb(36,36,36)",
             "ticks": "outside"
            },
            "colorscale": [
             [
              0,
              "#440154"
             ],
             [
              0.1111111111111111,
              "#482878"
             ],
             [
              0.2222222222222222,
              "#3e4989"
             ],
             [
              0.3333333333333333,
              "#31688e"
             ],
             [
              0.4444444444444444,
              "#26828e"
             ],
             [
              0.5555555555555556,
              "#1f9e89"
             ],
             [
              0.6666666666666666,
              "#35b779"
             ],
             [
              0.7777777777777778,
              "#6ece58"
             ],
             [
              0.8888888888888888,
              "#b5de2b"
             ],
             [
              1,
              "#fde725"
             ]
            ],
            "type": "heatmap"
           }
          ],
          "histogram": [
           {
            "marker": {
             "line": {
              "color": "white",
              "width": 0.6
             }
            },
            "type": "histogram"
           }
          ],
          "histogram2d": [
           {
            "colorbar": {
             "outlinewidth": 1,
             "tickcolor": "rgb(36,36,36)",
             "ticks": "outside"
            },
            "colorscale": [
             [
              0,
              "#440154"
             ],
             [
              0.1111111111111111,
              "#482878"
             ],
             [
              0.2222222222222222,
              "#3e4989"
             ],
             [
              0.3333333333333333,
              "#31688e"
             ],
             [
              0.4444444444444444,
              "#26828e"
             ],
             [
              0.5555555555555556,
              "#1f9e89"
             ],
             [
              0.6666666666666666,
              "#35b779"
             ],
             [
              0.7777777777777778,
              "#6ece58"
             ],
             [
              0.8888888888888888,
              "#b5de2b"
             ],
             [
              1,
              "#fde725"
             ]
            ],
            "type": "histogram2d"
           }
          ],
          "histogram2dcontour": [
           {
            "colorbar": {
             "outlinewidth": 1,
             "tickcolor": "rgb(36,36,36)",
             "ticks": "outside"
            },
            "colorscale": [
             [
              0,
              "#440154"
             ],
             [
              0.1111111111111111,
              "#482878"
             ],
             [
              0.2222222222222222,
              "#3e4989"
             ],
             [
              0.3333333333333333,
              "#31688e"
             ],
             [
              0.4444444444444444,
              "#26828e"
             ],
             [
              0.5555555555555556,
              "#1f9e89"
             ],
             [
              0.6666666666666666,
              "#35b779"
             ],
             [
              0.7777777777777778,
              "#6ece58"
             ],
             [
              0.8888888888888888,
              "#b5de2b"
             ],
             [
              1,
              "#fde725"
             ]
            ],
            "type": "histogram2dcontour"
           }
          ],
          "mesh3d": [
           {
            "colorbar": {
             "outlinewidth": 1,
             "tickcolor": "rgb(36,36,36)",
             "ticks": "outside"
            },
            "type": "mesh3d"
           }
          ],
          "parcoords": [
           {
            "line": {
             "colorbar": {
              "outlinewidth": 1,
              "tickcolor": "rgb(36,36,36)",
              "ticks": "outside"
             }
            },
            "type": "parcoords"
           }
          ],
          "pie": [
           {
            "automargin": true,
            "type": "pie"
           }
          ],
          "scatter": [
           {
            "fillpattern": {
             "fillmode": "overlay",
             "size": 10,
             "solidity": 0.2
            },
            "type": "scatter"
           }
          ],
          "scatter3d": [
           {
            "line": {
             "colorbar": {
              "outlinewidth": 1,
              "tickcolor": "rgb(36,36,36)",
              "ticks": "outside"
             }
            },
            "marker": {
             "colorbar": {
              "outlinewidth": 1,
              "tickcolor": "rgb(36,36,36)",
              "ticks": "outside"
             }
            },
            "type": "scatter3d"
           }
          ],
          "scattercarpet": [
           {
            "marker": {
             "colorbar": {
              "outlinewidth": 1,
              "tickcolor": "rgb(36,36,36)",
              "ticks": "outside"
             }
            },
            "type": "scattercarpet"
           }
          ],
          "scattergeo": [
           {
            "marker": {
             "colorbar": {
              "outlinewidth": 1,
              "tickcolor": "rgb(36,36,36)",
              "ticks": "outside"
             }
            },
            "type": "scattergeo"
           }
          ],
          "scattergl": [
           {
            "marker": {
             "colorbar": {
              "outlinewidth": 1,
              "tickcolor": "rgb(36,36,36)",
              "ticks": "outside"
             }
            },
            "type": "scattergl"
           }
          ],
          "scattermap": [
           {
            "marker": {
             "colorbar": {
              "outlinewidth": 1,
              "tickcolor": "rgb(36,36,36)",
              "ticks": "outside"
             }
            },
            "type": "scattermap"
           }
          ],
          "scattermapbox": [
           {
            "marker": {
             "colorbar": {
              "outlinewidth": 1,
              "tickcolor": "rgb(36,36,36)",
              "ticks": "outside"
             }
            },
            "type": "scattermapbox"
           }
          ],
          "scatterpolar": [
           {
            "marker": {
             "colorbar": {
              "outlinewidth": 1,
              "tickcolor": "rgb(36,36,36)",
              "ticks": "outside"
             }
            },
            "type": "scatterpolar"
           }
          ],
          "scatterpolargl": [
           {
            "marker": {
             "colorbar": {
              "outlinewidth": 1,
              "tickcolor": "rgb(36,36,36)",
              "ticks": "outside"
             }
            },
            "type": "scatterpolargl"
           }
          ],
          "scatterternary": [
           {
            "marker": {
             "colorbar": {
              "outlinewidth": 1,
              "tickcolor": "rgb(36,36,36)",
              "ticks": "outside"
             }
            },
            "type": "scatterternary"
           }
          ],
          "surface": [
           {
            "colorbar": {
             "outlinewidth": 1,
             "tickcolor": "rgb(36,36,36)",
             "ticks": "outside"
            },
            "colorscale": [
             [
              0,
              "#440154"
             ],
             [
              0.1111111111111111,
              "#482878"
             ],
             [
              0.2222222222222222,
              "#3e4989"
             ],
             [
              0.3333333333333333,
              "#31688e"
             ],
             [
              0.4444444444444444,
              "#26828e"
             ],
             [
              0.5555555555555556,
              "#1f9e89"
             ],
             [
              0.6666666666666666,
              "#35b779"
             ],
             [
              0.7777777777777778,
              "#6ece58"
             ],
             [
              0.8888888888888888,
              "#b5de2b"
             ],
             [
              1,
              "#fde725"
             ]
            ],
            "type": "surface"
           }
          ],
          "table": [
           {
            "cells": {
             "fill": {
              "color": "rgb(237,237,237)"
             },
             "line": {
              "color": "white"
             }
            },
            "header": {
             "fill": {
              "color": "rgb(217,217,217)"
             },
             "line": {
              "color": "white"
             }
            },
            "type": "table"
           }
          ]
         },
         "layout": {
          "annotationdefaults": {
           "arrowhead": 0,
           "arrowwidth": 1
          },
          "autotypenumbers": "strict",
          "coloraxis": {
           "colorbar": {
            "outlinewidth": 1,
            "tickcolor": "rgb(36,36,36)",
            "ticks": "outside"
           }
          },
          "colorscale": {
           "diverging": [
            [
             0,
             "rgb(103,0,31)"
            ],
            [
             0.1,
             "rgb(178,24,43)"
            ],
            [
             0.2,
             "rgb(214,96,77)"
            ],
            [
             0.3,
             "rgb(244,165,130)"
            ],
            [
             0.4,
             "rgb(253,219,199)"
            ],
            [
             0.5,
             "rgb(247,247,247)"
            ],
            [
             0.6,
             "rgb(209,229,240)"
            ],
            [
             0.7,
             "rgb(146,197,222)"
            ],
            [
             0.8,
             "rgb(67,147,195)"
            ],
            [
             0.9,
             "rgb(33,102,172)"
            ],
            [
             1,
             "rgb(5,48,97)"
            ]
           ],
           "sequential": [
            [
             0,
             "#440154"
            ],
            [
             0.1111111111111111,
             "#482878"
            ],
            [
             0.2222222222222222,
             "#3e4989"
            ],
            [
             0.3333333333333333,
             "#31688e"
            ],
            [
             0.4444444444444444,
             "#26828e"
            ],
            [
             0.5555555555555556,
             "#1f9e89"
            ],
            [
             0.6666666666666666,
             "#35b779"
            ],
            [
             0.7777777777777778,
             "#6ece58"
            ],
            [
             0.8888888888888888,
             "#b5de2b"
            ],
            [
             1,
             "#fde725"
            ]
           ],
           "sequentialminus": [
            [
             0,
             "#440154"
            ],
            [
             0.1111111111111111,
             "#482878"
            ],
            [
             0.2222222222222222,
             "#3e4989"
            ],
            [
             0.3333333333333333,
             "#31688e"
            ],
            [
             0.4444444444444444,
             "#26828e"
            ],
            [
             0.5555555555555556,
             "#1f9e89"
            ],
            [
             0.6666666666666666,
             "#35b779"
            ],
            [
             0.7777777777777778,
             "#6ece58"
            ],
            [
             0.8888888888888888,
             "#b5de2b"
            ],
            [
             1,
             "#fde725"
            ]
           ]
          },
          "colorway": [
           "#1F77B4",
           "#FF7F0E",
           "#2CA02C",
           "#D62728",
           "#9467BD",
           "#8C564B",
           "#E377C2",
           "#7F7F7F",
           "#BCBD22",
           "#17BECF"
          ],
          "font": {
           "color": "rgb(36,36,36)"
          },
          "geo": {
           "bgcolor": "white",
           "lakecolor": "white",
           "landcolor": "white",
           "showlakes": true,
           "showland": true,
           "subunitcolor": "white"
          },
          "hoverlabel": {
           "align": "left"
          },
          "hovermode": "closest",
          "mapbox": {
           "style": "light"
          },
          "paper_bgcolor": "white",
          "plot_bgcolor": "white",
          "polar": {
           "angularaxis": {
            "gridcolor": "rgb(232,232,232)",
            "linecolor": "rgb(36,36,36)",
            "showgrid": false,
            "showline": true,
            "ticks": "outside"
           },
           "bgcolor": "white",
           "radialaxis": {
            "gridcolor": "rgb(232,232,232)",
            "linecolor": "rgb(36,36,36)",
            "showgrid": false,
            "showline": true,
            "ticks": "outside"
           }
          },
          "scene": {
           "xaxis": {
            "backgroundcolor": "white",
            "gridcolor": "rgb(232,232,232)",
            "gridwidth": 2,
            "linecolor": "rgb(36,36,36)",
            "showbackground": true,
            "showgrid": false,
            "showline": true,
            "ticks": "outside",
            "zeroline": false,
            "zerolinecolor": "rgb(36,36,36)"
           },
           "yaxis": {
            "backgroundcolor": "white",
            "gridcolor": "rgb(232,232,232)",
            "gridwidth": 2,
            "linecolor": "rgb(36,36,36)",
            "showbackground": true,
            "showgrid": false,
            "showline": true,
            "ticks": "outside",
            "zeroline": false,
            "zerolinecolor": "rgb(36,36,36)"
           },
           "zaxis": {
            "backgroundcolor": "white",
            "gridcolor": "rgb(232,232,232)",
            "gridwidth": 2,
            "linecolor": "rgb(36,36,36)",
            "showbackground": true,
            "showgrid": false,
            "showline": true,
            "ticks": "outside",
            "zeroline": false,
            "zerolinecolor": "rgb(36,36,36)"
           }
          },
          "shapedefaults": {
           "fillcolor": "black",
           "line": {
            "width": 0
           },
           "opacity": 0.3
          },
          "ternary": {
           "aaxis": {
            "gridcolor": "rgb(232,232,232)",
            "linecolor": "rgb(36,36,36)",
            "showgrid": false,
            "showline": true,
            "ticks": "outside"
           },
           "baxis": {
            "gridcolor": "rgb(232,232,232)",
            "linecolor": "rgb(36,36,36)",
            "showgrid": false,
            "showline": true,
            "ticks": "outside"
           },
           "bgcolor": "white",
           "caxis": {
            "gridcolor": "rgb(232,232,232)",
            "linecolor": "rgb(36,36,36)",
            "showgrid": false,
            "showline": true,
            "ticks": "outside"
           }
          },
          "title": {
           "x": 0.05
          },
          "xaxis": {
           "automargin": true,
           "gridcolor": "rgb(232,232,232)",
           "linecolor": "rgb(36,36,36)",
           "showgrid": false,
           "showline": true,
           "ticks": "outside",
           "title": {
            "standoff": 15
           },
           "zeroline": false,
           "zerolinecolor": "rgb(36,36,36)"
          },
          "yaxis": {
           "automargin": true,
           "gridcolor": "rgb(232,232,232)",
           "linecolor": "rgb(36,36,36)",
           "showgrid": false,
           "showline": true,
           "ticks": "outside",
           "title": {
            "standoff": 15
           },
           "zeroline": false,
           "zerolinecolor": "rgb(36,36,36)"
          }
         }
        },
        "title": {
         "text": "Car weight"
        },
        "width": 500,
        "xaxis": {
         "anchor": "y",
         "domain": [
          0,
          1
         ],
         "title": {
          "text": "index"
         }
        },
        "yaxis": {
         "anchor": "x",
         "domain": [
          0,
          1
         ],
         "title": {
          "text": "weight"
         }
        }
       }
      }
     },
     "metadata": {},
     "output_type": "display_data"
    }
   ],
   "source": [
    "fig = px.bar(\n",
    "    data,\n",
    "    y='weight',\n",
    "    width=500,\n",
    "    title='Car weight',\n",
    "    )\n",
    "\n",
    "fig.show()"
   ]
  },
  {
   "cell_type": "markdown",
   "metadata": {},
   "source": [
    "### Histogram | Absoulte Frequency | automatic binning | Variable: weight"
   ]
  },
  {
   "cell_type": "code",
   "execution_count": 6,
   "metadata": {},
   "outputs": [
    {
     "data": {
      "application/vnd.plotly.v1+json": {
       "config": {
        "plotlyServerURL": "https://plot.ly"
       },
       "data": [
        {
         "bingroup": "x",
         "hovertemplate": "weight=%{x}<br>count=%{y}<extra></extra>",
         "legendgroup": "",
         "marker": {
          "color": "#1F77B4",
          "pattern": {
           "shape": ""
          }
         },
         "name": "",
         "orientation": "v",
         "showlegend": false,
         "type": "histogram",
         "x": {
          "bdata": "sA1tDmwNaQ15DfUQAhHYEEkRCg/rDRkOsQ4ODEQJEQvWChsKUggrB3AKfglHCboIWAoHEhgRHhF8ElII2Ai0CP4HSgpvDQEN5gzYDHEQcBE6EAAQWxOKEhQUkgtoCdIMQwysCEsIGggRCO0GTQYqB6MH5ghOCM4IaAmyCLIQIREnECEQWA4ZEpYRaBFGERoJNA8CEMYQ7Q91C88JowuNCFsJ8AjKCXQINAgEEFgOlA/KD8EOWBNwEQsRjRB/ElcT7Q4xDM4MgQvNC1gLngeFEyoTLhKTEeUK5whhCUsJTAgGCagJ2QjyD7YQSwduCBYKNAtHDWQK9wpQDh4MOwtVCwgNngeTCSwH7gnFDjAOHQ4tEFsSaREeEqEQqwirB/wIcQbTB00IPAjGCLkJVwnQB8AMgw1oDVYMPBJYEZIRMRJDDzkPkg7JDt8LlQxhDHsITwpiCyAKjgqvCPEJqAuRB4sMhgqNC4ELbwoDB6AJrAgMCs8Imgh3EF4Qeg93EKEMGQ3ECw0M8wd0CJEHAwdDDvYNPQ55DCEHxgdrCAUKTgxkD8YMcgvsDhwR1w8eD6sO/QdrCCEH/AiZBygP3A8sEMcQwA1hDS4OxQ18EEUQ5RDvEJQHtArZCMMKAwgbCMEHjgj/CigKoArBBwgHwQcWCAgHJQ2XDvINzw1TDJULoApmDYoMNA3+CyQOUg1hDXUNhQzwD2sIAAr8CLYI0wm5CicLZQkOC0QM6wpSDcYHVwitDK4LSgvBDCANAA+NDnMP9g4IEdYPFQ5kD4UHtwd7B24Kyg08D3YMXA2YCGYI5AdSCG4KIwqMCvwJYAiwB0gI4wd2CjYLuws1DYwIlwruCYIJ2Qg+CPAKPgglCB8JhguyDDoHKwdhCDUHXgt0CcQJWQvyCLoJSwo8CqUKUQnbBlMH4AYRCLcHAgjBB6cI/QdMCY4IEAmiCC4JNwpLCp4MWAxUC3ILVw2NDvQLiQ0tClAKWwkPCt0JrwoxC9sLvAfpB7IHTQhNCHAInQjFCK0HrQfLB4ELxwsZChMLaQpCCYYL5gpSCPcIQQqgCg==",
          "dtype": "i2"
         },
         "xaxis": "x",
         "yaxis": "y"
        }
       ],
       "layout": {
        "barmode": "relative",
        "legend": {
         "tracegroupgap": 0
        },
        "template": {
         "data": {
          "bar": [
           {
            "error_x": {
             "color": "rgb(36,36,36)"
            },
            "error_y": {
             "color": "rgb(36,36,36)"
            },
            "marker": {
             "line": {
              "color": "white",
              "width": 0.5
             },
             "pattern": {
              "fillmode": "overlay",
              "size": 10,
              "solidity": 0.2
             }
            },
            "type": "bar"
           }
          ],
          "barpolar": [
           {
            "marker": {
             "line": {
              "color": "white",
              "width": 0.5
             },
             "pattern": {
              "fillmode": "overlay",
              "size": 10,
              "solidity": 0.2
             }
            },
            "type": "barpolar"
           }
          ],
          "carpet": [
           {
            "aaxis": {
             "endlinecolor": "rgb(36,36,36)",
             "gridcolor": "white",
             "linecolor": "white",
             "minorgridcolor": "white",
             "startlinecolor": "rgb(36,36,36)"
            },
            "baxis": {
             "endlinecolor": "rgb(36,36,36)",
             "gridcolor": "white",
             "linecolor": "white",
             "minorgridcolor": "white",
             "startlinecolor": "rgb(36,36,36)"
            },
            "type": "carpet"
           }
          ],
          "choropleth": [
           {
            "colorbar": {
             "outlinewidth": 1,
             "tickcolor": "rgb(36,36,36)",
             "ticks": "outside"
            },
            "type": "choropleth"
           }
          ],
          "contour": [
           {
            "colorbar": {
             "outlinewidth": 1,
             "tickcolor": "rgb(36,36,36)",
             "ticks": "outside"
            },
            "colorscale": [
             [
              0,
              "#440154"
             ],
             [
              0.1111111111111111,
              "#482878"
             ],
             [
              0.2222222222222222,
              "#3e4989"
             ],
             [
              0.3333333333333333,
              "#31688e"
             ],
             [
              0.4444444444444444,
              "#26828e"
             ],
             [
              0.5555555555555556,
              "#1f9e89"
             ],
             [
              0.6666666666666666,
              "#35b779"
             ],
             [
              0.7777777777777778,
              "#6ece58"
             ],
             [
              0.8888888888888888,
              "#b5de2b"
             ],
             [
              1,
              "#fde725"
             ]
            ],
            "type": "contour"
           }
          ],
          "contourcarpet": [
           {
            "colorbar": {
             "outlinewidth": 1,
             "tickcolor": "rgb(36,36,36)",
             "ticks": "outside"
            },
            "type": "contourcarpet"
           }
          ],
          "heatmap": [
           {
            "colorbar": {
             "outlinewidth": 1,
             "tickcolor": "rgb(36,36,36)",
             "ticks": "outside"
            },
            "colorscale": [
             [
              0,
              "#440154"
             ],
             [
              0.1111111111111111,
              "#482878"
             ],
             [
              0.2222222222222222,
              "#3e4989"
             ],
             [
              0.3333333333333333,
              "#31688e"
             ],
             [
              0.4444444444444444,
              "#26828e"
             ],
             [
              0.5555555555555556,
              "#1f9e89"
             ],
             [
              0.6666666666666666,
              "#35b779"
             ],
             [
              0.7777777777777778,
              "#6ece58"
             ],
             [
              0.8888888888888888,
              "#b5de2b"
             ],
             [
              1,
              "#fde725"
             ]
            ],
            "type": "heatmap"
           }
          ],
          "histogram": [
           {
            "marker": {
             "line": {
              "color": "white",
              "width": 0.6
             }
            },
            "type": "histogram"
           }
          ],
          "histogram2d": [
           {
            "colorbar": {
             "outlinewidth": 1,
             "tickcolor": "rgb(36,36,36)",
             "ticks": "outside"
            },
            "colorscale": [
             [
              0,
              "#440154"
             ],
             [
              0.1111111111111111,
              "#482878"
             ],
             [
              0.2222222222222222,
              "#3e4989"
             ],
             [
              0.3333333333333333,
              "#31688e"
             ],
             [
              0.4444444444444444,
              "#26828e"
             ],
             [
              0.5555555555555556,
              "#1f9e89"
             ],
             [
              0.6666666666666666,
              "#35b779"
             ],
             [
              0.7777777777777778,
              "#6ece58"
             ],
             [
              0.8888888888888888,
              "#b5de2b"
             ],
             [
              1,
              "#fde725"
             ]
            ],
            "type": "histogram2d"
           }
          ],
          "histogram2dcontour": [
           {
            "colorbar": {
             "outlinewidth": 1,
             "tickcolor": "rgb(36,36,36)",
             "ticks": "outside"
            },
            "colorscale": [
             [
              0,
              "#440154"
             ],
             [
              0.1111111111111111,
              "#482878"
             ],
             [
              0.2222222222222222,
              "#3e4989"
             ],
             [
              0.3333333333333333,
              "#31688e"
             ],
             [
              0.4444444444444444,
              "#26828e"
             ],
             [
              0.5555555555555556,
              "#1f9e89"
             ],
             [
              0.6666666666666666,
              "#35b779"
             ],
             [
              0.7777777777777778,
              "#6ece58"
             ],
             [
              0.8888888888888888,
              "#b5de2b"
             ],
             [
              1,
              "#fde725"
             ]
            ],
            "type": "histogram2dcontour"
           }
          ],
          "mesh3d": [
           {
            "colorbar": {
             "outlinewidth": 1,
             "tickcolor": "rgb(36,36,36)",
             "ticks": "outside"
            },
            "type": "mesh3d"
           }
          ],
          "parcoords": [
           {
            "line": {
             "colorbar": {
              "outlinewidth": 1,
              "tickcolor": "rgb(36,36,36)",
              "ticks": "outside"
             }
            },
            "type": "parcoords"
           }
          ],
          "pie": [
           {
            "automargin": true,
            "type": "pie"
           }
          ],
          "scatter": [
           {
            "fillpattern": {
             "fillmode": "overlay",
             "size": 10,
             "solidity": 0.2
            },
            "type": "scatter"
           }
          ],
          "scatter3d": [
           {
            "line": {
             "colorbar": {
              "outlinewidth": 1,
              "tickcolor": "rgb(36,36,36)",
              "ticks": "outside"
             }
            },
            "marker": {
             "colorbar": {
              "outlinewidth": 1,
              "tickcolor": "rgb(36,36,36)",
              "ticks": "outside"
             }
            },
            "type": "scatter3d"
           }
          ],
          "scattercarpet": [
           {
            "marker": {
             "colorbar": {
              "outlinewidth": 1,
              "tickcolor": "rgb(36,36,36)",
              "ticks": "outside"
             }
            },
            "type": "scattercarpet"
           }
          ],
          "scattergeo": [
           {
            "marker": {
             "colorbar": {
              "outlinewidth": 1,
              "tickcolor": "rgb(36,36,36)",
              "ticks": "outside"
             }
            },
            "type": "scattergeo"
           }
          ],
          "scattergl": [
           {
            "marker": {
             "colorbar": {
              "outlinewidth": 1,
              "tickcolor": "rgb(36,36,36)",
              "ticks": "outside"
             }
            },
            "type": "scattergl"
           }
          ],
          "scattermap": [
           {
            "marker": {
             "colorbar": {
              "outlinewidth": 1,
              "tickcolor": "rgb(36,36,36)",
              "ticks": "outside"
             }
            },
            "type": "scattermap"
           }
          ],
          "scattermapbox": [
           {
            "marker": {
             "colorbar": {
              "outlinewidth": 1,
              "tickcolor": "rgb(36,36,36)",
              "ticks": "outside"
             }
            },
            "type": "scattermapbox"
           }
          ],
          "scatterpolar": [
           {
            "marker": {
             "colorbar": {
              "outlinewidth": 1,
              "tickcolor": "rgb(36,36,36)",
              "ticks": "outside"
             }
            },
            "type": "scatterpolar"
           }
          ],
          "scatterpolargl": [
           {
            "marker": {
             "colorbar": {
              "outlinewidth": 1,
              "tickcolor": "rgb(36,36,36)",
              "ticks": "outside"
             }
            },
            "type": "scatterpolargl"
           }
          ],
          "scatterternary": [
           {
            "marker": {
             "colorbar": {
              "outlinewidth": 1,
              "tickcolor": "rgb(36,36,36)",
              "ticks": "outside"
             }
            },
            "type": "scatterternary"
           }
          ],
          "surface": [
           {
            "colorbar": {
             "outlinewidth": 1,
             "tickcolor": "rgb(36,36,36)",
             "ticks": "outside"
            },
            "colorscale": [
             [
              0,
              "#440154"
             ],
             [
              0.1111111111111111,
              "#482878"
             ],
             [
              0.2222222222222222,
              "#3e4989"
             ],
             [
              0.3333333333333333,
              "#31688e"
             ],
             [
              0.4444444444444444,
              "#26828e"
             ],
             [
              0.5555555555555556,
              "#1f9e89"
             ],
             [
              0.6666666666666666,
              "#35b779"
             ],
             [
              0.7777777777777778,
              "#6ece58"
             ],
             [
              0.8888888888888888,
              "#b5de2b"
             ],
             [
              1,
              "#fde725"
             ]
            ],
            "type": "surface"
           }
          ],
          "table": [
           {
            "cells": {
             "fill": {
              "color": "rgb(237,237,237)"
             },
             "line": {
              "color": "white"
             }
            },
            "header": {
             "fill": {
              "color": "rgb(217,217,217)"
             },
             "line": {
              "color": "white"
             }
            },
            "type": "table"
           }
          ]
         },
         "layout": {
          "annotationdefaults": {
           "arrowhead": 0,
           "arrowwidth": 1
          },
          "autotypenumbers": "strict",
          "coloraxis": {
           "colorbar": {
            "outlinewidth": 1,
            "tickcolor": "rgb(36,36,36)",
            "ticks": "outside"
           }
          },
          "colorscale": {
           "diverging": [
            [
             0,
             "rgb(103,0,31)"
            ],
            [
             0.1,
             "rgb(178,24,43)"
            ],
            [
             0.2,
             "rgb(214,96,77)"
            ],
            [
             0.3,
             "rgb(244,165,130)"
            ],
            [
             0.4,
             "rgb(253,219,199)"
            ],
            [
             0.5,
             "rgb(247,247,247)"
            ],
            [
             0.6,
             "rgb(209,229,240)"
            ],
            [
             0.7,
             "rgb(146,197,222)"
            ],
            [
             0.8,
             "rgb(67,147,195)"
            ],
            [
             0.9,
             "rgb(33,102,172)"
            ],
            [
             1,
             "rgb(5,48,97)"
            ]
           ],
           "sequential": [
            [
             0,
             "#440154"
            ],
            [
             0.1111111111111111,
             "#482878"
            ],
            [
             0.2222222222222222,
             "#3e4989"
            ],
            [
             0.3333333333333333,
             "#31688e"
            ],
            [
             0.4444444444444444,
             "#26828e"
            ],
            [
             0.5555555555555556,
             "#1f9e89"
            ],
            [
             0.6666666666666666,
             "#35b779"
            ],
            [
             0.7777777777777778,
             "#6ece58"
            ],
            [
             0.8888888888888888,
             "#b5de2b"
            ],
            [
             1,
             "#fde725"
            ]
           ],
           "sequentialminus": [
            [
             0,
             "#440154"
            ],
            [
             0.1111111111111111,
             "#482878"
            ],
            [
             0.2222222222222222,
             "#3e4989"
            ],
            [
             0.3333333333333333,
             "#31688e"
            ],
            [
             0.4444444444444444,
             "#26828e"
            ],
            [
             0.5555555555555556,
             "#1f9e89"
            ],
            [
             0.6666666666666666,
             "#35b779"
            ],
            [
             0.7777777777777778,
             "#6ece58"
            ],
            [
             0.8888888888888888,
             "#b5de2b"
            ],
            [
             1,
             "#fde725"
            ]
           ]
          },
          "colorway": [
           "#1F77B4",
           "#FF7F0E",
           "#2CA02C",
           "#D62728",
           "#9467BD",
           "#8C564B",
           "#E377C2",
           "#7F7F7F",
           "#BCBD22",
           "#17BECF"
          ],
          "font": {
           "color": "rgb(36,36,36)"
          },
          "geo": {
           "bgcolor": "white",
           "lakecolor": "white",
           "landcolor": "white",
           "showlakes": true,
           "showland": true,
           "subunitcolor": "white"
          },
          "hoverlabel": {
           "align": "left"
          },
          "hovermode": "closest",
          "mapbox": {
           "style": "light"
          },
          "paper_bgcolor": "white",
          "plot_bgcolor": "white",
          "polar": {
           "angularaxis": {
            "gridcolor": "rgb(232,232,232)",
            "linecolor": "rgb(36,36,36)",
            "showgrid": false,
            "showline": true,
            "ticks": "outside"
           },
           "bgcolor": "white",
           "radialaxis": {
            "gridcolor": "rgb(232,232,232)",
            "linecolor": "rgb(36,36,36)",
            "showgrid": false,
            "showline": true,
            "ticks": "outside"
           }
          },
          "scene": {
           "xaxis": {
            "backgroundcolor": "white",
            "gridcolor": "rgb(232,232,232)",
            "gridwidth": 2,
            "linecolor": "rgb(36,36,36)",
            "showbackground": true,
            "showgrid": false,
            "showline": true,
            "ticks": "outside",
            "zeroline": false,
            "zerolinecolor": "rgb(36,36,36)"
           },
           "yaxis": {
            "backgroundcolor": "white",
            "gridcolor": "rgb(232,232,232)",
            "gridwidth": 2,
            "linecolor": "rgb(36,36,36)",
            "showbackground": true,
            "showgrid": false,
            "showline": true,
            "ticks": "outside",
            "zeroline": false,
            "zerolinecolor": "rgb(36,36,36)"
           },
           "zaxis": {
            "backgroundcolor": "white",
            "gridcolor": "rgb(232,232,232)",
            "gridwidth": 2,
            "linecolor": "rgb(36,36,36)",
            "showbackground": true,
            "showgrid": false,
            "showline": true,
            "ticks": "outside",
            "zeroline": false,
            "zerolinecolor": "rgb(36,36,36)"
           }
          },
          "shapedefaults": {
           "fillcolor": "black",
           "line": {
            "width": 0
           },
           "opacity": 0.3
          },
          "ternary": {
           "aaxis": {
            "gridcolor": "rgb(232,232,232)",
            "linecolor": "rgb(36,36,36)",
            "showgrid": false,
            "showline": true,
            "ticks": "outside"
           },
           "baxis": {
            "gridcolor": "rgb(232,232,232)",
            "linecolor": "rgb(36,36,36)",
            "showgrid": false,
            "showline": true,
            "ticks": "outside"
           },
           "bgcolor": "white",
           "caxis": {
            "gridcolor": "rgb(232,232,232)",
            "linecolor": "rgb(36,36,36)",
            "showgrid": false,
            "showline": true,
            "ticks": "outside"
           }
          },
          "title": {
           "x": 0.05
          },
          "xaxis": {
           "automargin": true,
           "gridcolor": "rgb(232,232,232)",
           "linecolor": "rgb(36,36,36)",
           "showgrid": false,
           "showline": true,
           "ticks": "outside",
           "title": {
            "standoff": 15
           },
           "zeroline": false,
           "zerolinecolor": "rgb(36,36,36)"
          },
          "yaxis": {
           "automargin": true,
           "gridcolor": "rgb(232,232,232)",
           "linecolor": "rgb(36,36,36)",
           "showgrid": false,
           "showline": true,
           "ticks": "outside",
           "title": {
            "standoff": 15
           },
           "zeroline": false,
           "zerolinecolor": "rgb(36,36,36)"
          }
         }
        },
        "title": {
         "text": "Car weight"
        },
        "width": 500,
        "xaxis": {
         "anchor": "y",
         "domain": [
          0,
          1
         ],
         "title": {
          "text": "weight"
         }
        },
        "yaxis": {
         "anchor": "x",
         "domain": [
          0,
          1
         ],
         "title": {
          "text": "count"
         }
        }
       }
      }
     },
     "metadata": {},
     "output_type": "display_data"
    }
   ],
   "source": [
    "fig = px.histogram(\n",
    "    data,\n",
    "    x='weight',\n",
    "    title='Car weight',\n",
    "    width=500,\n",
    "    )\n",
    "\n",
    "fig.show()"
   ]
  },
  {
   "cell_type": "markdown",
   "metadata": {},
   "source": [
    "### Histogram | Relative Frequency | cumulated | Variable: hoursepower"
   ]
  },
  {
   "cell_type": "code",
   "execution_count": 7,
   "metadata": {},
   "outputs": [
    {
     "data": {
      "application/vnd.plotly.v1+json": {
       "config": {
        "plotlyServerURL": "https://plot.ly"
       },
       "data": [
        {
         "bingroup": "x",
         "cumulative": {
          "enabled": true
         },
         "histnorm": "percent",
         "hovertemplate": "horsepower=%{x}<br>percent=%{y}<extra></extra>",
         "legendgroup": "",
         "marker": {
          "color": "#1F77B4",
          "pattern": {
           "shape": ""
          }
         },
         "name": "",
         "orientation": "v",
         "showlegend": false,
         "type": "histogram",
         "x": {
          "bdata": "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",
          "dtype": "f8"
         },
         "xaxis": "x",
         "yaxis": "y"
        }
       ],
       "layout": {
        "barmode": "relative",
        "legend": {
         "tracegroupgap": 0
        },
        "template": {
         "data": {
          "bar": [
           {
            "error_x": {
             "color": "rgb(36,36,36)"
            },
            "error_y": {
             "color": "rgb(36,36,36)"
            },
            "marker": {
             "line": {
              "color": "white",
              "width": 0.5
             },
             "pattern": {
              "fillmode": "overlay",
              "size": 10,
              "solidity": 0.2
             }
            },
            "type": "bar"
           }
          ],
          "barpolar": [
           {
            "marker": {
             "line": {
              "color": "white",
              "width": 0.5
             },
             "pattern": {
              "fillmode": "overlay",
              "size": 10,
              "solidity": 0.2
             }
            },
            "type": "barpolar"
           }
          ],
          "carpet": [
           {
            "aaxis": {
             "endlinecolor": "rgb(36,36,36)",
             "gridcolor": "white",
             "linecolor": "white",
             "minorgridcolor": "white",
             "startlinecolor": "rgb(36,36,36)"
            },
            "baxis": {
             "endlinecolor": "rgb(36,36,36)",
             "gridcolor": "white",
             "linecolor": "white",
             "minorgridcolor": "white",
             "startlinecolor": "rgb(36,36,36)"
            },
            "type": "carpet"
           }
          ],
          "choropleth": [
           {
            "colorbar": {
             "outlinewidth": 1,
             "tickcolor": "rgb(36,36,36)",
             "ticks": "outside"
            },
            "type": "choropleth"
           }
          ],
          "contour": [
           {
            "colorbar": {
             "outlinewidth": 1,
             "tickcolor": "rgb(36,36,36)",
             "ticks": "outside"
            },
            "colorscale": [
             [
              0,
              "#440154"
             ],
             [
              0.1111111111111111,
              "#482878"
             ],
             [
              0.2222222222222222,
              "#3e4989"
             ],
             [
              0.3333333333333333,
              "#31688e"
             ],
             [
              0.4444444444444444,
              "#26828e"
             ],
             [
              0.5555555555555556,
              "#1f9e89"
             ],
             [
              0.6666666666666666,
              "#35b779"
             ],
             [
              0.7777777777777778,
              "#6ece58"
             ],
             [
              0.8888888888888888,
              "#b5de2b"
             ],
             [
              1,
              "#fde725"
             ]
            ],
            "type": "contour"
           }
          ],
          "contourcarpet": [
           {
            "colorbar": {
             "outlinewidth": 1,
             "tickcolor": "rgb(36,36,36)",
             "ticks": "outside"
            },
            "type": "contourcarpet"
           }
          ],
          "heatmap": [
           {
            "colorbar": {
             "outlinewidth": 1,
             "tickcolor": "rgb(36,36,36)",
             "ticks": "outside"
            },
            "colorscale": [
             [
              0,
              "#440154"
             ],
             [
              0.1111111111111111,
              "#482878"
             ],
             [
              0.2222222222222222,
              "#3e4989"
             ],
             [
              0.3333333333333333,
              "#31688e"
             ],
             [
              0.4444444444444444,
              "#26828e"
             ],
             [
              0.5555555555555556,
              "#1f9e89"
             ],
             [
              0.6666666666666666,
              "#35b779"
             ],
             [
              0.7777777777777778,
              "#6ece58"
             ],
             [
              0.8888888888888888,
              "#b5de2b"
             ],
             [
              1,
              "#fde725"
             ]
            ],
            "type": "heatmap"
           }
          ],
          "histogram": [
           {
            "marker": {
             "line": {
              "color": "white",
              "width": 0.6
             }
            },
            "type": "histogram"
           }
          ],
          "histogram2d": [
           {
            "colorbar": {
             "outlinewidth": 1,
             "tickcolor": "rgb(36,36,36)",
             "ticks": "outside"
            },
            "colorscale": [
             [
              0,
              "#440154"
             ],
             [
              0.1111111111111111,
              "#482878"
             ],
             [
              0.2222222222222222,
              "#3e4989"
             ],
             [
              0.3333333333333333,
              "#31688e"
             ],
             [
              0.4444444444444444,
              "#26828e"
             ],
             [
              0.5555555555555556,
              "#1f9e89"
             ],
             [
              0.6666666666666666,
              "#35b779"
             ],
             [
              0.7777777777777778,
              "#6ece58"
             ],
             [
              0.8888888888888888,
              "#b5de2b"
             ],
             [
              1,
              "#fde725"
             ]
            ],
            "type": "histogram2d"
           }
          ],
          "histogram2dcontour": [
           {
            "colorbar": {
             "outlinewidth": 1,
             "tickcolor": "rgb(36,36,36)",
             "ticks": "outside"
            },
            "colorscale": [
             [
              0,
              "#440154"
             ],
             [
              0.1111111111111111,
              "#482878"
             ],
             [
              0.2222222222222222,
              "#3e4989"
             ],
             [
              0.3333333333333333,
              "#31688e"
             ],
             [
              0.4444444444444444,
              "#26828e"
             ],
             [
              0.5555555555555556,
              "#1f9e89"
             ],
             [
              0.6666666666666666,
              "#35b779"
             ],
             [
              0.7777777777777778,
              "#6ece58"
             ],
             [
              0.8888888888888888,
              "#b5de2b"
             ],
             [
              1,
              "#fde725"
             ]
            ],
            "type": "histogram2dcontour"
           }
          ],
          "mesh3d": [
           {
            "colorbar": {
             "outlinewidth": 1,
             "tickcolor": "rgb(36,36,36)",
             "ticks": "outside"
            },
            "type": "mesh3d"
           }
          ],
          "parcoords": [
           {
            "line": {
             "colorbar": {
              "outlinewidth": 1,
              "tickcolor": "rgb(36,36,36)",
              "ticks": "outside"
             }
            },
            "type": "parcoords"
           }
          ],
          "pie": [
           {
            "automargin": true,
            "type": "pie"
           }
          ],
          "scatter": [
           {
            "fillpattern": {
             "fillmode": "overlay",
             "size": 10,
             "solidity": 0.2
            },
            "type": "scatter"
           }
          ],
          "scatter3d": [
           {
            "line": {
             "colorbar": {
              "outlinewidth": 1,
              "tickcolor": "rgb(36,36,36)",
              "ticks": "outside"
             }
            },
            "marker": {
             "colorbar": {
              "outlinewidth": 1,
              "tickcolor": "rgb(36,36,36)",
              "ticks": "outside"
             }
            },
            "type": "scatter3d"
           }
          ],
          "scattercarpet": [
           {
            "marker": {
             "colorbar": {
              "outlinewidth": 1,
              "tickcolor": "rgb(36,36,36)",
              "ticks": "outside"
             }
            },
            "type": "scattercarpet"
           }
          ],
          "scattergeo": [
           {
            "marker": {
             "colorbar": {
              "outlinewidth": 1,
              "tickcolor": "rgb(36,36,36)",
              "ticks": "outside"
             }
            },
            "type": "scattergeo"
           }
          ],
          "scattergl": [
           {
            "marker": {
             "colorbar": {
              "outlinewidth": 1,
              "tickcolor": "rgb(36,36,36)",
              "ticks": "outside"
             }
            },
            "type": "scattergl"
           }
          ],
          "scattermap": [
           {
            "marker": {
             "colorbar": {
              "outlinewidth": 1,
              "tickcolor": "rgb(36,36,36)",
              "ticks": "outside"
             }
            },
            "type": "scattermap"
           }
          ],
          "scattermapbox": [
           {
            "marker": {
             "colorbar": {
              "outlinewidth": 1,
              "tickcolor": "rgb(36,36,36)",
              "ticks": "outside"
             }
            },
            "type": "scattermapbox"
           }
          ],
          "scatterpolar": [
           {
            "marker": {
             "colorbar": {
              "outlinewidth": 1,
              "tickcolor": "rgb(36,36,36)",
              "ticks": "outside"
             }
            },
            "type": "scatterpolar"
           }
          ],
          "scatterpolargl": [
           {
            "marker": {
             "colorbar": {
              "outlinewidth": 1,
              "tickcolor": "rgb(36,36,36)",
              "ticks": "outside"
             }
            },
            "type": "scatterpolargl"
           }
          ],
          "scatterternary": [
           {
            "marker": {
             "colorbar": {
              "outlinewidth": 1,
              "tickcolor": "rgb(36,36,36)",
              "ticks": "outside"
             }
            },
            "type": "scatterternary"
           }
          ],
          "surface": [
           {
            "colorbar": {
             "outlinewidth": 1,
             "tickcolor": "rgb(36,36,36)",
             "ticks": "outside"
            },
            "colorscale": [
             [
              0,
              "#440154"
             ],
             [
              0.1111111111111111,
              "#482878"
             ],
             [
              0.2222222222222222,
              "#3e4989"
             ],
             [
              0.3333333333333333,
              "#31688e"
             ],
             [
              0.4444444444444444,
              "#26828e"
             ],
             [
              0.5555555555555556,
              "#1f9e89"
             ],
             [
              0.6666666666666666,
              "#35b779"
             ],
             [
              0.7777777777777778,
              "#6ece58"
             ],
             [
              0.8888888888888888,
              "#b5de2b"
             ],
             [
              1,
              "#fde725"
             ]
            ],
            "type": "surface"
           }
          ],
          "table": [
           {
            "cells": {
             "fill": {
              "color": "rgb(237,237,237)"
             },
             "line": {
              "color": "white"
             }
            },
            "header": {
             "fill": {
              "color": "rgb(217,217,217)"
             },
             "line": {
              "color": "white"
             }
            },
            "type": "table"
           }
          ]
         },
         "layout": {
          "annotationdefaults": {
           "arrowhead": 0,
           "arrowwidth": 1
          },
          "autotypenumbers": "strict",
          "coloraxis": {
           "colorbar": {
            "outlinewidth": 1,
            "tickcolor": "rgb(36,36,36)",
            "ticks": "outside"
           }
          },
          "colorscale": {
           "diverging": [
            [
             0,
             "rgb(103,0,31)"
            ],
            [
             0.1,
             "rgb(178,24,43)"
            ],
            [
             0.2,
             "rgb(214,96,77)"
            ],
            [
             0.3,
             "rgb(244,165,130)"
            ],
            [
             0.4,
             "rgb(253,219,199)"
            ],
            [
             0.5,
             "rgb(247,247,247)"
            ],
            [
             0.6,
             "rgb(209,229,240)"
            ],
            [
             0.7,
             "rgb(146,197,222)"
            ],
            [
             0.8,
             "rgb(67,147,195)"
            ],
            [
             0.9,
             "rgb(33,102,172)"
            ],
            [
             1,
             "rgb(5,48,97)"
            ]
           ],
           "sequential": [
            [
             0,
             "#440154"
            ],
            [
             0.1111111111111111,
             "#482878"
            ],
            [
             0.2222222222222222,
             "#3e4989"
            ],
            [
             0.3333333333333333,
             "#31688e"
            ],
            [
             0.4444444444444444,
             "#26828e"
            ],
            [
             0.5555555555555556,
             "#1f9e89"
            ],
            [
             0.6666666666666666,
             "#35b779"
            ],
            [
             0.7777777777777778,
             "#6ece58"
            ],
            [
             0.8888888888888888,
             "#b5de2b"
            ],
            [
             1,
             "#fde725"
            ]
           ],
           "sequentialminus": [
            [
             0,
             "#440154"
            ],
            [
             0.1111111111111111,
             "#482878"
            ],
            [
             0.2222222222222222,
             "#3e4989"
            ],
            [
             0.3333333333333333,
             "#31688e"
            ],
            [
             0.4444444444444444,
             "#26828e"
            ],
            [
             0.5555555555555556,
             "#1f9e89"
            ],
            [
             0.6666666666666666,
             "#35b779"
            ],
            [
             0.7777777777777778,
             "#6ece58"
            ],
            [
             0.8888888888888888,
             "#b5de2b"
            ],
            [
             1,
             "#fde725"
            ]
           ]
          },
          "colorway": [
           "#1F77B4",
           "#FF7F0E",
           "#2CA02C",
           "#D62728",
           "#9467BD",
           "#8C564B",
           "#E377C2",
           "#7F7F7F",
           "#BCBD22",
           "#17BECF"
          ],
          "font": {
           "color": "rgb(36,36,36)"
          },
          "geo": {
           "bgcolor": "white",
           "lakecolor": "white",
           "landcolor": "white",
           "showlakes": true,
           "showland": true,
           "subunitcolor": "white"
          },
          "hoverlabel": {
           "align": "left"
          },
          "hovermode": "closest",
          "mapbox": {
           "style": "light"
          },
          "paper_bgcolor": "white",
          "plot_bgcolor": "white",
          "polar": {
           "angularaxis": {
            "gridcolor": "rgb(232,232,232)",
            "linecolor": "rgb(36,36,36)",
            "showgrid": false,
            "showline": true,
            "ticks": "outside"
           },
           "bgcolor": "white",
           "radialaxis": {
            "gridcolor": "rgb(232,232,232)",
            "linecolor": "rgb(36,36,36)",
            "showgrid": false,
            "showline": true,
            "ticks": "outside"
           }
          },
          "scene": {
           "xaxis": {
            "backgroundcolor": "white",
            "gridcolor": "rgb(232,232,232)",
            "gridwidth": 2,
            "linecolor": "rgb(36,36,36)",
            "showbackground": true,
            "showgrid": false,
            "showline": true,
            "ticks": "outside",
            "zeroline": false,
            "zerolinecolor": "rgb(36,36,36)"
           },
           "yaxis": {
            "backgroundcolor": "white",
            "gridcolor": "rgb(232,232,232)",
            "gridwidth": 2,
            "linecolor": "rgb(36,36,36)",
            "showbackground": true,
            "showgrid": false,
            "showline": true,
            "ticks": "outside",
            "zeroline": false,
            "zerolinecolor": "rgb(36,36,36)"
           },
           "zaxis": {
            "backgroundcolor": "white",
            "gridcolor": "rgb(232,232,232)",
            "gridwidth": 2,
            "linecolor": "rgb(36,36,36)",
            "showbackground": true,
            "showgrid": false,
            "showline": true,
            "ticks": "outside",
            "zeroline": false,
            "zerolinecolor": "rgb(36,36,36)"
           }
          },
          "shapedefaults": {
           "fillcolor": "black",
           "line": {
            "width": 0
           },
           "opacity": 0.3
          },
          "ternary": {
           "aaxis": {
            "gridcolor": "rgb(232,232,232)",
            "linecolor": "rgb(36,36,36)",
            "showgrid": false,
            "showline": true,
            "ticks": "outside"
           },
           "baxis": {
            "gridcolor": "rgb(232,232,232)",
            "linecolor": "rgb(36,36,36)",
            "showgrid": false,
            "showline": true,
            "ticks": "outside"
           },
           "bgcolor": "white",
           "caxis": {
            "gridcolor": "rgb(232,232,232)",
            "linecolor": "rgb(36,36,36)",
            "showgrid": false,
            "showline": true,
            "ticks": "outside"
           }
          },
          "title": {
           "x": 0.05
          },
          "xaxis": {
           "automargin": true,
           "gridcolor": "rgb(232,232,232)",
           "linecolor": "rgb(36,36,36)",
           "showgrid": false,
           "showline": true,
           "ticks": "outside",
           "title": {
            "standoff": 15
           },
           "zeroline": false,
           "zerolinecolor": "rgb(36,36,36)"
          },
          "yaxis": {
           "automargin": true,
           "gridcolor": "rgb(232,232,232)",
           "linecolor": "rgb(36,36,36)",
           "showgrid": false,
           "showline": true,
           "ticks": "outside",
           "title": {
            "standoff": 15
           },
           "zeroline": false,
           "zerolinecolor": "rgb(36,36,36)"
          }
         }
        },
        "title": {
         "text": "Car horsepower"
        },
        "width": 500,
        "xaxis": {
         "anchor": "y",
         "domain": [
          0,
          1
         ],
         "title": {
          "text": "horsepower"
         }
        },
        "yaxis": {
         "anchor": "x",
         "domain": [
          0,
          1
         ],
         "title": {
          "text": "percent"
         }
        }
       }
      }
     },
     "metadata": {},
     "output_type": "display_data"
    }
   ],
   "source": [
    "fig = px.histogram(\n",
    "    data,\n",
    "    x='horsepower',\n",
    "    title='Car horsepower',\n",
    "    cumulative=True,\n",
    "    histnorm='percent',\n",
    "    width=500,\n",
    "    )\n",
    "\n",
    "fig.show()"
   ]
  },
  {
   "cell_type": "markdown",
   "metadata": {},
   "source": [
    "### Pie Chart | Relative Frequency | Variable: cylinders"
   ]
  },
  {
   "cell_type": "code",
   "execution_count": 8,
   "metadata": {},
   "outputs": [
    {
     "data": {
      "application/vnd.plotly.v1+json": {
       "config": {
        "plotlyServerURL": "https://plot.ly"
       },
       "data": [
        {
         "domain": {
          "x": [
           0,
           1
          ],
          "y": [
           0,
           1
          ]
         },
         "hovertemplate": "cylinders=%{label}<extra></extra>",
         "labels": {
          "bdata": "CAgICAgICAgICAgICAgEBgYGBAQEBAQEBggICAgEBAQEBgYGBgYICAgICAgIBgQGBgQEBAQEBAQEBAQEBAQICAgICAgICAgDCAgICAQEBAQEBAQEBAgICAgICAgICAgICAYGBgYGBAgICAgGBAQEAwQGBAgIBAQEBAgEBggGBgYGBAQEBAYGBggICAgIBAQEBAQEBAQEBAQGBgYGCAgICAYGBgYGCAgEBAYEBAQEBgQGBAQEBAQEBAQEBAgICAgGBgYGBAQEBAYGBgYEBAQEBAgEBgYICAgIBAQEBAQICAgIBgYGBggICAgEBAQEBAQEBAYEAwQEBAQECAgIBgYGBAYGBgYGBggGCAgEBAQEBAQEBAUGBAYEBAYGBAYGCAgICAgICAgEBAQEBQgECAQEBAQEBgYEBAQEBAQEBAYEBAQEBAQEBAQEBQQEBAQEBgMEBAQEBAQGBAQEBAQEBAQEBAQEBAQEBAQEBgYGBggGBgQEBAQEBAQEBAQEBAQEBAQEBAQGBgQGBAQEBAQEBAQ=",
          "dtype": "i1"
         },
         "legendgroup": "",
         "name": "",
         "showlegend": true,
         "type": "pie"
        }
       ],
       "layout": {
        "legend": {
         "tracegroupgap": 0
        },
        "template": {
         "data": {
          "bar": [
           {
            "error_x": {
             "color": "rgb(36,36,36)"
            },
            "error_y": {
             "color": "rgb(36,36,36)"
            },
            "marker": {
             "line": {
              "color": "white",
              "width": 0.5
             },
             "pattern": {
              "fillmode": "overlay",
              "size": 10,
              "solidity": 0.2
             }
            },
            "type": "bar"
           }
          ],
          "barpolar": [
           {
            "marker": {
             "line": {
              "color": "white",
              "width": 0.5
             },
             "pattern": {
              "fillmode": "overlay",
              "size": 10,
              "solidity": 0.2
             }
            },
            "type": "barpolar"
           }
          ],
          "carpet": [
           {
            "aaxis": {
             "endlinecolor": "rgb(36,36,36)",
             "gridcolor": "white",
             "linecolor": "white",
             "minorgridcolor": "white",
             "startlinecolor": "rgb(36,36,36)"
            },
            "baxis": {
             "endlinecolor": "rgb(36,36,36)",
             "gridcolor": "white",
             "linecolor": "white",
             "minorgridcolor": "white",
             "startlinecolor": "rgb(36,36,36)"
            },
            "type": "carpet"
           }
          ],
          "choropleth": [
           {
            "colorbar": {
             "outlinewidth": 1,
             "tickcolor": "rgb(36,36,36)",
             "ticks": "outside"
            },
            "type": "choropleth"
           }
          ],
          "contour": [
           {
            "colorbar": {
             "outlinewidth": 1,
             "tickcolor": "rgb(36,36,36)",
             "ticks": "outside"
            },
            "colorscale": [
             [
              0,
              "#440154"
             ],
             [
              0.1111111111111111,
              "#482878"
             ],
             [
              0.2222222222222222,
              "#3e4989"
             ],
             [
              0.3333333333333333,
              "#31688e"
             ],
             [
              0.4444444444444444,
              "#26828e"
             ],
             [
              0.5555555555555556,
              "#1f9e89"
             ],
             [
              0.6666666666666666,
              "#35b779"
             ],
             [
              0.7777777777777778,
              "#6ece58"
             ],
             [
              0.8888888888888888,
              "#b5de2b"
             ],
             [
              1,
              "#fde725"
             ]
            ],
            "type": "contour"
           }
          ],
          "contourcarpet": [
           {
            "colorbar": {
             "outlinewidth": 1,
             "tickcolor": "rgb(36,36,36)",
             "ticks": "outside"
            },
            "type": "contourcarpet"
           }
          ],
          "heatmap": [
           {
            "colorbar": {
             "outlinewidth": 1,
             "tickcolor": "rgb(36,36,36)",
             "ticks": "outside"
            },
            "colorscale": [
             [
              0,
              "#440154"
             ],
             [
              0.1111111111111111,
              "#482878"
             ],
             [
              0.2222222222222222,
              "#3e4989"
             ],
             [
              0.3333333333333333,
              "#31688e"
             ],
             [
              0.4444444444444444,
              "#26828e"
             ],
             [
              0.5555555555555556,
              "#1f9e89"
             ],
             [
              0.6666666666666666,
              "#35b779"
             ],
             [
              0.7777777777777778,
              "#6ece58"
             ],
             [
              0.8888888888888888,
              "#b5de2b"
             ],
             [
              1,
              "#fde725"
             ]
            ],
            "type": "heatmap"
           }
          ],
          "histogram": [
           {
            "marker": {
             "line": {
              "color": "white",
              "width": 0.6
             }
            },
            "type": "histogram"
           }
          ],
          "histogram2d": [
           {
            "colorbar": {
             "outlinewidth": 1,
             "tickcolor": "rgb(36,36,36)",
             "ticks": "outside"
            },
            "colorscale": [
             [
              0,
              "#440154"
             ],
             [
              0.1111111111111111,
              "#482878"
             ],
             [
              0.2222222222222222,
              "#3e4989"
             ],
             [
              0.3333333333333333,
              "#31688e"
             ],
             [
              0.4444444444444444,
              "#26828e"
             ],
             [
              0.5555555555555556,
              "#1f9e89"
             ],
             [
              0.6666666666666666,
              "#35b779"
             ],
             [
              0.7777777777777778,
              "#6ece58"
             ],
             [
              0.8888888888888888,
              "#b5de2b"
             ],
             [
              1,
              "#fde725"
             ]
            ],
            "type": "histogram2d"
           }
          ],
          "histogram2dcontour": [
           {
            "colorbar": {
             "outlinewidth": 1,
             "tickcolor": "rgb(36,36,36)",
             "ticks": "outside"
            },
            "colorscale": [
             [
              0,
              "#440154"
             ],
             [
              0.1111111111111111,
              "#482878"
             ],
             [
              0.2222222222222222,
              "#3e4989"
             ],
             [
              0.3333333333333333,
              "#31688e"
             ],
             [
              0.4444444444444444,
              "#26828e"
             ],
             [
              0.5555555555555556,
              "#1f9e89"
             ],
             [
              0.6666666666666666,
              "#35b779"
             ],
             [
              0.7777777777777778,
              "#6ece58"
             ],
             [
              0.8888888888888888,
              "#b5de2b"
             ],
             [
              1,
              "#fde725"
             ]
            ],
            "type": "histogram2dcontour"
           }
          ],
          "mesh3d": [
           {
            "colorbar": {
             "outlinewidth": 1,
             "tickcolor": "rgb(36,36,36)",
             "ticks": "outside"
            },
            "type": "mesh3d"
           }
          ],
          "parcoords": [
           {
            "line": {
             "colorbar": {
              "outlinewidth": 1,
              "tickcolor": "rgb(36,36,36)",
              "ticks": "outside"
             }
            },
            "type": "parcoords"
           }
          ],
          "pie": [
           {
            "automargin": true,
            "type": "pie"
           }
          ],
          "scatter": [
           {
            "fillpattern": {
             "fillmode": "overlay",
             "size": 10,
             "solidity": 0.2
            },
            "type": "scatter"
           }
          ],
          "scatter3d": [
           {
            "line": {
             "colorbar": {
              "outlinewidth": 1,
              "tickcolor": "rgb(36,36,36)",
              "ticks": "outside"
             }
            },
            "marker": {
             "colorbar": {
              "outlinewidth": 1,
              "tickcolor": "rgb(36,36,36)",
              "ticks": "outside"
             }
            },
            "type": "scatter3d"
           }
          ],
          "scattercarpet": [
           {
            "marker": {
             "colorbar": {
              "outlinewidth": 1,
              "tickcolor": "rgb(36,36,36)",
              "ticks": "outside"
             }
            },
            "type": "scattercarpet"
           }
          ],
          "scattergeo": [
           {
            "marker": {
             "colorbar": {
              "outlinewidth": 1,
              "tickcolor": "rgb(36,36,36)",
              "ticks": "outside"
             }
            },
            "type": "scattergeo"
           }
          ],
          "scattergl": [
           {
            "marker": {
             "colorbar": {
              "outlinewidth": 1,
              "tickcolor": "rgb(36,36,36)",
              "ticks": "outside"
             }
            },
            "type": "scattergl"
           }
          ],
          "scattermap": [
           {
            "marker": {
             "colorbar": {
              "outlinewidth": 1,
              "tickcolor": "rgb(36,36,36)",
              "ticks": "outside"
             }
            },
            "type": "scattermap"
           }
          ],
          "scattermapbox": [
           {
            "marker": {
             "colorbar": {
              "outlinewidth": 1,
              "tickcolor": "rgb(36,36,36)",
              "ticks": "outside"
             }
            },
            "type": "scattermapbox"
           }
          ],
          "scatterpolar": [
           {
            "marker": {
             "colorbar": {
              "outlinewidth": 1,
              "tickcolor": "rgb(36,36,36)",
              "ticks": "outside"
             }
            },
            "type": "scatterpolar"
           }
          ],
          "scatterpolargl": [
           {
            "marker": {
             "colorbar": {
              "outlinewidth": 1,
              "tickcolor": "rgb(36,36,36)",
              "ticks": "outside"
             }
            },
            "type": "scatterpolargl"
           }
          ],
          "scatterternary": [
           {
            "marker": {
             "colorbar": {
              "outlinewidth": 1,
              "tickcolor": "rgb(36,36,36)",
              "ticks": "outside"
             }
            },
            "type": "scatterternary"
           }
          ],
          "surface": [
           {
            "colorbar": {
             "outlinewidth": 1,
             "tickcolor": "rgb(36,36,36)",
             "ticks": "outside"
            },
            "colorscale": [
             [
              0,
              "#440154"
             ],
             [
              0.1111111111111111,
              "#482878"
             ],
             [
              0.2222222222222222,
              "#3e4989"
             ],
             [
              0.3333333333333333,
              "#31688e"
             ],
             [
              0.4444444444444444,
              "#26828e"
             ],
             [
              0.5555555555555556,
              "#1f9e89"
             ],
             [
              0.6666666666666666,
              "#35b779"
             ],
             [
              0.7777777777777778,
              "#6ece58"
             ],
             [
              0.8888888888888888,
              "#b5de2b"
             ],
             [
              1,
              "#fde725"
             ]
            ],
            "type": "surface"
           }
          ],
          "table": [
           {
            "cells": {
             "fill": {
              "color": "rgb(237,237,237)"
             },
             "line": {
              "color": "white"
             }
            },
            "header": {
             "fill": {
              "color": "rgb(217,217,217)"
             },
             "line": {
              "color": "white"
             }
            },
            "type": "table"
           }
          ]
         },
         "layout": {
          "annotationdefaults": {
           "arrowhead": 0,
           "arrowwidth": 1
          },
          "autotypenumbers": "strict",
          "coloraxis": {
           "colorbar": {
            "outlinewidth": 1,
            "tickcolor": "rgb(36,36,36)",
            "ticks": "outside"
           }
          },
          "colorscale": {
           "diverging": [
            [
             0,
             "rgb(103,0,31)"
            ],
            [
             0.1,
             "rgb(178,24,43)"
            ],
            [
             0.2,
             "rgb(214,96,77)"
            ],
            [
             0.3,
             "rgb(244,165,130)"
            ],
            [
             0.4,
             "rgb(253,219,199)"
            ],
            [
             0.5,
             "rgb(247,247,247)"
            ],
            [
             0.6,
             "rgb(209,229,240)"
            ],
            [
             0.7,
             "rgb(146,197,222)"
            ],
            [
             0.8,
             "rgb(67,147,195)"
            ],
            [
             0.9,
             "rgb(33,102,172)"
            ],
            [
             1,
             "rgb(5,48,97)"
            ]
           ],
           "sequential": [
            [
             0,
             "#440154"
            ],
            [
             0.1111111111111111,
             "#482878"
            ],
            [
             0.2222222222222222,
             "#3e4989"
            ],
            [
             0.3333333333333333,
             "#31688e"
            ],
            [
             0.4444444444444444,
             "#26828e"
            ],
            [
             0.5555555555555556,
             "#1f9e89"
            ],
            [
             0.6666666666666666,
             "#35b779"
            ],
            [
             0.7777777777777778,
             "#6ece58"
            ],
            [
             0.8888888888888888,
             "#b5de2b"
            ],
            [
             1,
             "#fde725"
            ]
           ],
           "sequentialminus": [
            [
             0,
             "#440154"
            ],
            [
             0.1111111111111111,
             "#482878"
            ],
            [
             0.2222222222222222,
             "#3e4989"
            ],
            [
             0.3333333333333333,
             "#31688e"
            ],
            [
             0.4444444444444444,
             "#26828e"
            ],
            [
             0.5555555555555556,
             "#1f9e89"
            ],
            [
             0.6666666666666666,
             "#35b779"
            ],
            [
             0.7777777777777778,
             "#6ece58"
            ],
            [
             0.8888888888888888,
             "#b5de2b"
            ],
            [
             1,
             "#fde725"
            ]
           ]
          },
          "colorway": [
           "#1F77B4",
           "#FF7F0E",
           "#2CA02C",
           "#D62728",
           "#9467BD",
           "#8C564B",
           "#E377C2",
           "#7F7F7F",
           "#BCBD22",
           "#17BECF"
          ],
          "font": {
           "color": "rgb(36,36,36)"
          },
          "geo": {
           "bgcolor": "white",
           "lakecolor": "white",
           "landcolor": "white",
           "showlakes": true,
           "showland": true,
           "subunitcolor": "white"
          },
          "hoverlabel": {
           "align": "left"
          },
          "hovermode": "closest",
          "mapbox": {
           "style": "light"
          },
          "paper_bgcolor": "white",
          "plot_bgcolor": "white",
          "polar": {
           "angularaxis": {
            "gridcolor": "rgb(232,232,232)",
            "linecolor": "rgb(36,36,36)",
            "showgrid": false,
            "showline": true,
            "ticks": "outside"
           },
           "bgcolor": "white",
           "radialaxis": {
            "gridcolor": "rgb(232,232,232)",
            "linecolor": "rgb(36,36,36)",
            "showgrid": false,
            "showline": true,
            "ticks": "outside"
           }
          },
          "scene": {
           "xaxis": {
            "backgroundcolor": "white",
            "gridcolor": "rgb(232,232,232)",
            "gridwidth": 2,
            "linecolor": "rgb(36,36,36)",
            "showbackground": true,
            "showgrid": false,
            "showline": true,
            "ticks": "outside",
            "zeroline": false,
            "zerolinecolor": "rgb(36,36,36)"
           },
           "yaxis": {
            "backgroundcolor": "white",
            "gridcolor": "rgb(232,232,232)",
            "gridwidth": 2,
            "linecolor": "rgb(36,36,36)",
            "showbackground": true,
            "showgrid": false,
            "showline": true,
            "ticks": "outside",
            "zeroline": false,
            "zerolinecolor": "rgb(36,36,36)"
           },
           "zaxis": {
            "backgroundcolor": "white",
            "gridcolor": "rgb(232,232,232)",
            "gridwidth": 2,
            "linecolor": "rgb(36,36,36)",
            "showbackground": true,
            "showgrid": false,
            "showline": true,
            "ticks": "outside",
            "zeroline": false,
            "zerolinecolor": "rgb(36,36,36)"
           }
          },
          "shapedefaults": {
           "fillcolor": "black",
           "line": {
            "width": 0
           },
           "opacity": 0.3
          },
          "ternary": {
           "aaxis": {
            "gridcolor": "rgb(232,232,232)",
            "linecolor": "rgb(36,36,36)",
            "showgrid": false,
            "showline": true,
            "ticks": "outside"
           },
           "baxis": {
            "gridcolor": "rgb(232,232,232)",
            "linecolor": "rgb(36,36,36)",
            "showgrid": false,
            "showline": true,
            "ticks": "outside"
           },
           "bgcolor": "white",
           "caxis": {
            "gridcolor": "rgb(232,232,232)",
            "linecolor": "rgb(36,36,36)",
            "showgrid": false,
            "showline": true,
            "ticks": "outside"
           }
          },
          "title": {
           "x": 0.05
          },
          "xaxis": {
           "automargin": true,
           "gridcolor": "rgb(232,232,232)",
           "linecolor": "rgb(36,36,36)",
           "showgrid": false,
           "showline": true,
           "ticks": "outside",
           "title": {
            "standoff": 15
           },
           "zeroline": false,
           "zerolinecolor": "rgb(36,36,36)"
          },
          "yaxis": {
           "automargin": true,
           "gridcolor": "rgb(232,232,232)",
           "linecolor": "rgb(36,36,36)",
           "showgrid": false,
           "showline": true,
           "ticks": "outside",
           "title": {
            "standoff": 15
           },
           "zeroline": false,
           "zerolinecolor": "rgb(36,36,36)"
          }
         }
        },
        "title": {
         "text": "Car cylinders"
        },
        "width": 500
       }
      }
     },
     "metadata": {},
     "output_type": "display_data"
    }
   ],
   "source": [
    "fig = px.pie(\n",
    "    data,\n",
    "    names='cylinders',\n",
    "    title='Car cylinders',\n",
    "    width=500,\n",
    "    )\n",
    "\n",
    "fig.show()"
   ]
  },
  {
   "cell_type": "markdown",
   "metadata": {},
   "source": [
    "# Measures of Central Tendency"
   ]
  },
  {
   "cell_type": "markdown",
   "metadata": {},
   "source": [
    "https://mciwing.github.io/statistics/univariate/Frequency/\n",
    "\n",
    "Calculate all useful and meaningful measure of central tendency (mean, median, mode) for the following attributes (think about attribute types)\n",
    "- car_name\n",
    "- origin\n",
    "- displacement\n",
    "\n",
    "Calculate the quartiles and plot a Boxplot fo the attribute acceleration"
   ]
  },
  {
   "cell_type": "code",
   "execution_count": 9,
   "metadata": {},
   "outputs": [
    {
     "data": {
      "text/html": [
       "<div>\n",
       "<style scoped>\n",
       "    .dataframe tbody tr th:only-of-type {\n",
       "        vertical-align: middle;\n",
       "    }\n",
       "\n",
       "    .dataframe tbody tr th {\n",
       "        vertical-align: top;\n",
       "    }\n",
       "\n",
       "    .dataframe thead th {\n",
       "        text-align: right;\n",
       "    }\n",
       "</style>\n",
       "<table border=\"1\" class=\"dataframe\">\n",
       "  <thead>\n",
       "    <tr style=\"text-align: right;\">\n",
       "      <th></th>\n",
       "      <th>displacement</th>\n",
       "      <th>cylinders</th>\n",
       "      <th>horsepower</th>\n",
       "      <th>weight</th>\n",
       "      <th>acceleration</th>\n",
       "      <th>model_year</th>\n",
       "      <th>origin</th>\n",
       "      <th>car_name</th>\n",
       "    </tr>\n",
       "  </thead>\n",
       "  <tbody>\n",
       "    <tr>\n",
       "      <th>0</th>\n",
       "      <td>307.0</td>\n",
       "      <td>8</td>\n",
       "      <td>130.0</td>\n",
       "      <td>3504</td>\n",
       "      <td>12.0</td>\n",
       "      <td>70</td>\n",
       "      <td>1</td>\n",
       "      <td>chevrolet,chevelle,malibu</td>\n",
       "    </tr>\n",
       "    <tr>\n",
       "      <th>1</th>\n",
       "      <td>350.0</td>\n",
       "      <td>8</td>\n",
       "      <td>165.0</td>\n",
       "      <td>3693</td>\n",
       "      <td>11.5</td>\n",
       "      <td>70</td>\n",
       "      <td>1</td>\n",
       "      <td>buick,skylark,320</td>\n",
       "    </tr>\n",
       "    <tr>\n",
       "      <th>2</th>\n",
       "      <td>318.0</td>\n",
       "      <td>8</td>\n",
       "      <td>150.0</td>\n",
       "      <td>3436</td>\n",
       "      <td>11.0</td>\n",
       "      <td>70</td>\n",
       "      <td>1</td>\n",
       "      <td>plymouth,satellite</td>\n",
       "    </tr>\n",
       "    <tr>\n",
       "      <th>3</th>\n",
       "      <td>304.0</td>\n",
       "      <td>8</td>\n",
       "      <td>150.0</td>\n",
       "      <td>3433</td>\n",
       "      <td>12.0</td>\n",
       "      <td>70</td>\n",
       "      <td>1</td>\n",
       "      <td>amc,rebel,sst</td>\n",
       "    </tr>\n",
       "    <tr>\n",
       "      <th>4</th>\n",
       "      <td>302.0</td>\n",
       "      <td>8</td>\n",
       "      <td>140.0</td>\n",
       "      <td>3449</td>\n",
       "      <td>10.5</td>\n",
       "      <td>70</td>\n",
       "      <td>1</td>\n",
       "      <td>ford,torino</td>\n",
       "    </tr>\n",
       "  </tbody>\n",
       "</table>\n",
       "</div>"
      ],
      "text/plain": [
       "   displacement  cylinders  horsepower  weight  acceleration  model_year  \\\n",
       "0         307.0          8       130.0    3504          12.0          70   \n",
       "1         350.0          8       165.0    3693          11.5          70   \n",
       "2         318.0          8       150.0    3436          11.0          70   \n",
       "3         304.0          8       150.0    3433          12.0          70   \n",
       "4         302.0          8       140.0    3449          10.5          70   \n",
       "\n",
       "   origin                   car_name  \n",
       "0       1  chevrolet,chevelle,malibu  \n",
       "1       1          buick,skylark,320  \n",
       "2       1         plymouth,satellite  \n",
       "3       1              amc,rebel,sst  \n",
       "4       1                ford,torino  "
      ]
     },
     "execution_count": 9,
     "metadata": {},
     "output_type": "execute_result"
    }
   ],
   "source": [
    "data.head()"
   ]
  },
  {
   "cell_type": "markdown",
   "metadata": {},
   "source": [
    "### car_name"
   ]
  },
  {
   "cell_type": "code",
   "execution_count": 10,
   "metadata": {},
   "outputs": [
    {
     "name": "stdout",
     "output_type": "stream",
     "text": [
      "mode = ford,pinto\n"
     ]
    }
   ],
   "source": [
    "print(f'mode = {data['car_name'].mode().values[0]}')"
   ]
  },
  {
   "cell_type": "markdown",
   "metadata": {},
   "source": [
    "mode = 'ford,pinto'"
   ]
  },
  {
   "cell_type": "markdown",
   "metadata": {},
   "source": [
    "### origin"
   ]
  },
  {
   "cell_type": "code",
   "execution_count": 11,
   "metadata": {},
   "outputs": [
    {
     "name": "stdout",
     "output_type": "stream",
     "text": [
      "mode = 1\n"
     ]
    }
   ],
   "source": [
    "print(f'mode = {data['origin'].mode().values[0]}')"
   ]
  },
  {
   "cell_type": "markdown",
   "metadata": {},
   "source": [
    "### displacement"
   ]
  },
  {
   "cell_type": "code",
   "execution_count": 12,
   "metadata": {},
   "outputs": [
    {
     "name": "stdout",
     "output_type": "stream",
     "text": [
      "mean = 193.4\n"
     ]
    }
   ],
   "source": [
    "print(f'mean = {data['displacement'].mean().round(1)}')"
   ]
  },
  {
   "cell_type": "code",
   "execution_count": 13,
   "metadata": {},
   "outputs": [
    {
     "name": "stdout",
     "output_type": "stream",
     "text": [
      "median = 148.5\n"
     ]
    }
   ],
   "source": [
    "print(f'median = {data['displacement'].median().round(1)}')"
   ]
  },
  {
   "cell_type": "code",
   "execution_count": 14,
   "metadata": {},
   "outputs": [
    {
     "name": "stdout",
     "output_type": "stream",
     "text": [
      "mode = 97.0\n"
     ]
    }
   ],
   "source": [
    "print(f'mode = {data['displacement'].mode().values[0].round(1)}')"
   ]
  },
  {
   "cell_type": "markdown",
   "metadata": {},
   "source": [
    "### Boxplot and quartile | acceleration"
   ]
  },
  {
   "cell_type": "code",
   "execution_count": 15,
   "metadata": {},
   "outputs": [
    {
     "data": {
      "text/plain": [
       "count    398.000000\n",
       "mean      15.568090\n",
       "std        2.757689\n",
       "min        8.000000\n",
       "25%       13.825000\n",
       "50%       15.500000\n",
       "75%       17.175000\n",
       "max       24.800000\n",
       "Name: acceleration, dtype: float64"
      ]
     },
     "execution_count": 15,
     "metadata": {},
     "output_type": "execute_result"
    }
   ],
   "source": [
    "data['acceleration'].describe()"
   ]
  },
  {
   "cell_type": "code",
   "execution_count": 16,
   "metadata": {},
   "outputs": [
    {
     "data": {
      "application/vnd.plotly.v1+json": {
       "config": {
        "plotlyServerURL": "https://plot.ly"
       },
       "data": [
        {
         "alignmentgroup": "True",
         "hovertemplate": "acceleration=%{y}<extra></extra>",
         "legendgroup": "",
         "marker": {
          "color": "#1F77B4"
         },
         "name": "",
         "notched": false,
         "offsetgroup": "",
         "orientation": "v",
         "showlegend": false,
         "type": "box",
         "x0": " ",
         "xaxis": "x",
         "y": {
          "bdata": "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",
          "dtype": "f8"
         },
         "y0": " ",
         "yaxis": "y"
        }
       ],
       "layout": {
        "boxmode": "group",
        "legend": {
         "tracegroupgap": 0
        },
        "template": {
         "data": {
          "bar": [
           {
            "error_x": {
             "color": "rgb(36,36,36)"
            },
            "error_y": {
             "color": "rgb(36,36,36)"
            },
            "marker": {
             "line": {
              "color": "white",
              "width": 0.5
             },
             "pattern": {
              "fillmode": "overlay",
              "size": 10,
              "solidity": 0.2
             }
            },
            "type": "bar"
           }
          ],
          "barpolar": [
           {
            "marker": {
             "line": {
              "color": "white",
              "width": 0.5
             },
             "pattern": {
              "fillmode": "overlay",
              "size": 10,
              "solidity": 0.2
             }
            },
            "type": "barpolar"
           }
          ],
          "carpet": [
           {
            "aaxis": {
             "endlinecolor": "rgb(36,36,36)",
             "gridcolor": "white",
             "linecolor": "white",
             "minorgridcolor": "white",
             "startlinecolor": "rgb(36,36,36)"
            },
            "baxis": {
             "endlinecolor": "rgb(36,36,36)",
             "gridcolor": "white",
             "linecolor": "white",
             "minorgridcolor": "white",
             "startlinecolor": "rgb(36,36,36)"
            },
            "type": "carpet"
           }
          ],
          "choropleth": [
           {
            "colorbar": {
             "outlinewidth": 1,
             "tickcolor": "rgb(36,36,36)",
             "ticks": "outside"
            },
            "type": "choropleth"
           }
          ],
          "contour": [
           {
            "colorbar": {
             "outlinewidth": 1,
             "tickcolor": "rgb(36,36,36)",
             "ticks": "outside"
            },
            "colorscale": [
             [
              0,
              "#440154"
             ],
             [
              0.1111111111111111,
              "#482878"
             ],
             [
              0.2222222222222222,
              "#3e4989"
             ],
             [
              0.3333333333333333,
              "#31688e"
             ],
             [
              0.4444444444444444,
              "#26828e"
             ],
             [
              0.5555555555555556,
              "#1f9e89"
             ],
             [
              0.6666666666666666,
              "#35b779"
             ],
             [
              0.7777777777777778,
              "#6ece58"
             ],
             [
              0.8888888888888888,
              "#b5de2b"
             ],
             [
              1,
              "#fde725"
             ]
            ],
            "type": "contour"
           }
          ],
          "contourcarpet": [
           {
            "colorbar": {
             "outlinewidth": 1,
             "tickcolor": "rgb(36,36,36)",
             "ticks": "outside"
            },
            "type": "contourcarpet"
           }
          ],
          "heatmap": [
           {
            "colorbar": {
             "outlinewidth": 1,
             "tickcolor": "rgb(36,36,36)",
             "ticks": "outside"
            },
            "colorscale": [
             [
              0,
              "#440154"
             ],
             [
              0.1111111111111111,
              "#482878"
             ],
             [
              0.2222222222222222,
              "#3e4989"
             ],
             [
              0.3333333333333333,
              "#31688e"
             ],
             [
              0.4444444444444444,
              "#26828e"
             ],
             [
              0.5555555555555556,
              "#1f9e89"
             ],
             [
              0.6666666666666666,
              "#35b779"
             ],
             [
              0.7777777777777778,
              "#6ece58"
             ],
             [
              0.8888888888888888,
              "#b5de2b"
             ],
             [
              1,
              "#fde725"
             ]
            ],
            "type": "heatmap"
           }
          ],
          "histogram": [
           {
            "marker": {
             "line": {
              "color": "white",
              "width": 0.6
             }
            },
            "type": "histogram"
           }
          ],
          "histogram2d": [
           {
            "colorbar": {
             "outlinewidth": 1,
             "tickcolor": "rgb(36,36,36)",
             "ticks": "outside"
            },
            "colorscale": [
             [
              0,
              "#440154"
             ],
             [
              0.1111111111111111,
              "#482878"
             ],
             [
              0.2222222222222222,
              "#3e4989"
             ],
             [
              0.3333333333333333,
              "#31688e"
             ],
             [
              0.4444444444444444,
              "#26828e"
             ],
             [
              0.5555555555555556,
              "#1f9e89"
             ],
             [
              0.6666666666666666,
              "#35b779"
             ],
             [
              0.7777777777777778,
              "#6ece58"
             ],
             [
              0.8888888888888888,
              "#b5de2b"
             ],
             [
              1,
              "#fde725"
             ]
            ],
            "type": "histogram2d"
           }
          ],
          "histogram2dcontour": [
           {
            "colorbar": {
             "outlinewidth": 1,
             "tickcolor": "rgb(36,36,36)",
             "ticks": "outside"
            },
            "colorscale": [
             [
              0,
              "#440154"
             ],
             [
              0.1111111111111111,
              "#482878"
             ],
             [
              0.2222222222222222,
              "#3e4989"
             ],
             [
              0.3333333333333333,
              "#31688e"
             ],
             [
              0.4444444444444444,
              "#26828e"
             ],
             [
              0.5555555555555556,
              "#1f9e89"
             ],
             [
              0.6666666666666666,
              "#35b779"
             ],
             [
              0.7777777777777778,
              "#6ece58"
             ],
             [
              0.8888888888888888,
              "#b5de2b"
             ],
             [
              1,
              "#fde725"
             ]
            ],
            "type": "histogram2dcontour"
           }
          ],
          "mesh3d": [
           {
            "colorbar": {
             "outlinewidth": 1,
             "tickcolor": "rgb(36,36,36)",
             "ticks": "outside"
            },
            "type": "mesh3d"
           }
          ],
          "parcoords": [
           {
            "line": {
             "colorbar": {
              "outlinewidth": 1,
              "tickcolor": "rgb(36,36,36)",
              "ticks": "outside"
             }
            },
            "type": "parcoords"
           }
          ],
          "pie": [
           {
            "automargin": true,
            "type": "pie"
           }
          ],
          "scatter": [
           {
            "fillpattern": {
             "fillmode": "overlay",
             "size": 10,
             "solidity": 0.2
            },
            "type": "scatter"
           }
          ],
          "scatter3d": [
           {
            "line": {
             "colorbar": {
              "outlinewidth": 1,
              "tickcolor": "rgb(36,36,36)",
              "ticks": "outside"
             }
            },
            "marker": {
             "colorbar": {
              "outlinewidth": 1,
              "tickcolor": "rgb(36,36,36)",
              "ticks": "outside"
             }
            },
            "type": "scatter3d"
           }
          ],
          "scattercarpet": [
           {
            "marker": {
             "colorbar": {
              "outlinewidth": 1,
              "tickcolor": "rgb(36,36,36)",
              "ticks": "outside"
             }
            },
            "type": "scattercarpet"
           }
          ],
          "scattergeo": [
           {
            "marker": {
             "colorbar": {
              "outlinewidth": 1,
              "tickcolor": "rgb(36,36,36)",
              "ticks": "outside"
             }
            },
            "type": "scattergeo"
           }
          ],
          "scattergl": [
           {
            "marker": {
             "colorbar": {
              "outlinewidth": 1,
              "tickcolor": "rgb(36,36,36)",
              "ticks": "outside"
             }
            },
            "type": "scattergl"
           }
          ],
          "scattermap": [
           {
            "marker": {
             "colorbar": {
              "outlinewidth": 1,
              "tickcolor": "rgb(36,36,36)",
              "ticks": "outside"
             }
            },
            "type": "scattermap"
           }
          ],
          "scattermapbox": [
           {
            "marker": {
             "colorbar": {
              "outlinewidth": 1,
              "tickcolor": "rgb(36,36,36)",
              "ticks": "outside"
             }
            },
            "type": "scattermapbox"
           }
          ],
          "scatterpolar": [
           {
            "marker": {
             "colorbar": {
              "outlinewidth": 1,
              "tickcolor": "rgb(36,36,36)",
              "ticks": "outside"
             }
            },
            "type": "scatterpolar"
           }
          ],
          "scatterpolargl": [
           {
            "marker": {
             "colorbar": {
              "outlinewidth": 1,
              "tickcolor": "rgb(36,36,36)",
              "ticks": "outside"
             }
            },
            "type": "scatterpolargl"
           }
          ],
          "scatterternary": [
           {
            "marker": {
             "colorbar": {
              "outlinewidth": 1,
              "tickcolor": "rgb(36,36,36)",
              "ticks": "outside"
             }
            },
            "type": "scatterternary"
           }
          ],
          "surface": [
           {
            "colorbar": {
             "outlinewidth": 1,
             "tickcolor": "rgb(36,36,36)",
             "ticks": "outside"
            },
            "colorscale": [
             [
              0,
              "#440154"
             ],
             [
              0.1111111111111111,
              "#482878"
             ],
             [
              0.2222222222222222,
              "#3e4989"
             ],
             [
              0.3333333333333333,
              "#31688e"
             ],
             [
              0.4444444444444444,
              "#26828e"
             ],
             [
              0.5555555555555556,
              "#1f9e89"
             ],
             [
              0.6666666666666666,
              "#35b779"
             ],
             [
              0.7777777777777778,
              "#6ece58"
             ],
             [
              0.8888888888888888,
              "#b5de2b"
             ],
             [
              1,
              "#fde725"
             ]
            ],
            "type": "surface"
           }
          ],
          "table": [
           {
            "cells": {
             "fill": {
              "color": "rgb(237,237,237)"
             },
             "line": {
              "color": "white"
             }
            },
            "header": {
             "fill": {
              "color": "rgb(217,217,217)"
             },
             "line": {
              "color": "white"
             }
            },
            "type": "table"
           }
          ]
         },
         "layout": {
          "annotationdefaults": {
           "arrowhead": 0,
           "arrowwidth": 1
          },
          "autotypenumbers": "strict",
          "coloraxis": {
           "colorbar": {
            "outlinewidth": 1,
            "tickcolor": "rgb(36,36,36)",
            "ticks": "outside"
           }
          },
          "colorscale": {
           "diverging": [
            [
             0,
             "rgb(103,0,31)"
            ],
            [
             0.1,
             "rgb(178,24,43)"
            ],
            [
             0.2,
             "rgb(214,96,77)"
            ],
            [
             0.3,
             "rgb(244,165,130)"
            ],
            [
             0.4,
             "rgb(253,219,199)"
            ],
            [
             0.5,
             "rgb(247,247,247)"
            ],
            [
             0.6,
             "rgb(209,229,240)"
            ],
            [
             0.7,
             "rgb(146,197,222)"
            ],
            [
             0.8,
             "rgb(67,147,195)"
            ],
            [
             0.9,
             "rgb(33,102,172)"
            ],
            [
             1,
             "rgb(5,48,97)"
            ]
           ],
           "sequential": [
            [
             0,
             "#440154"
            ],
            [
             0.1111111111111111,
             "#482878"
            ],
            [
             0.2222222222222222,
             "#3e4989"
            ],
            [
             0.3333333333333333,
             "#31688e"
            ],
            [
             0.4444444444444444,
             "#26828e"
            ],
            [
             0.5555555555555556,
             "#1f9e89"
            ],
            [
             0.6666666666666666,
             "#35b779"
            ],
            [
             0.7777777777777778,
             "#6ece58"
            ],
            [
             0.8888888888888888,
             "#b5de2b"
            ],
            [
             1,
             "#fde725"
            ]
           ],
           "sequentialminus": [
            [
             0,
             "#440154"
            ],
            [
             0.1111111111111111,
             "#482878"
            ],
            [
             0.2222222222222222,
             "#3e4989"
            ],
            [
             0.3333333333333333,
             "#31688e"
            ],
            [
             0.4444444444444444,
             "#26828e"
            ],
            [
             0.5555555555555556,
             "#1f9e89"
            ],
            [
             0.6666666666666666,
             "#35b779"
            ],
            [
             0.7777777777777778,
             "#6ece58"
            ],
            [
             0.8888888888888888,
             "#b5de2b"
            ],
            [
             1,
             "#fde725"
            ]
           ]
          },
          "colorway": [
           "#1F77B4",
           "#FF7F0E",
           "#2CA02C",
           "#D62728",
           "#9467BD",
           "#8C564B",
           "#E377C2",
           "#7F7F7F",
           "#BCBD22",
           "#17BECF"
          ],
          "font": {
           "color": "rgb(36,36,36)"
          },
          "geo": {
           "bgcolor": "white",
           "lakecolor": "white",
           "landcolor": "white",
           "showlakes": true,
           "showland": true,
           "subunitcolor": "white"
          },
          "hoverlabel": {
           "align": "left"
          },
          "hovermode": "closest",
          "mapbox": {
           "style": "light"
          },
          "paper_bgcolor": "white",
          "plot_bgcolor": "white",
          "polar": {
           "angularaxis": {
            "gridcolor": "rgb(232,232,232)",
            "linecolor": "rgb(36,36,36)",
            "showgrid": false,
            "showline": true,
            "ticks": "outside"
           },
           "bgcolor": "white",
           "radialaxis": {
            "gridcolor": "rgb(232,232,232)",
            "linecolor": "rgb(36,36,36)",
            "showgrid": false,
            "showline": true,
            "ticks": "outside"
           }
          },
          "scene": {
           "xaxis": {
            "backgroundcolor": "white",
            "gridcolor": "rgb(232,232,232)",
            "gridwidth": 2,
            "linecolor": "rgb(36,36,36)",
            "showbackground": true,
            "showgrid": false,
            "showline": true,
            "ticks": "outside",
            "zeroline": false,
            "zerolinecolor": "rgb(36,36,36)"
           },
           "yaxis": {
            "backgroundcolor": "white",
            "gridcolor": "rgb(232,232,232)",
            "gridwidth": 2,
            "linecolor": "rgb(36,36,36)",
            "showbackground": true,
            "showgrid": false,
            "showline": true,
            "ticks": "outside",
            "zeroline": false,
            "zerolinecolor": "rgb(36,36,36)"
           },
           "zaxis": {
            "backgroundcolor": "white",
            "gridcolor": "rgb(232,232,232)",
            "gridwidth": 2,
            "linecolor": "rgb(36,36,36)",
            "showbackground": true,
            "showgrid": false,
            "showline": true,
            "ticks": "outside",
            "zeroline": false,
            "zerolinecolor": "rgb(36,36,36)"
           }
          },
          "shapedefaults": {
           "fillcolor": "black",
           "line": {
            "width": 0
           },
           "opacity": 0.3
          },
          "ternary": {
           "aaxis": {
            "gridcolor": "rgb(232,232,232)",
            "linecolor": "rgb(36,36,36)",
            "showgrid": false,
            "showline": true,
            "ticks": "outside"
           },
           "baxis": {
            "gridcolor": "rgb(232,232,232)",
            "linecolor": "rgb(36,36,36)",
            "showgrid": false,
            "showline": true,
            "ticks": "outside"
           },
           "bgcolor": "white",
           "caxis": {
            "gridcolor": "rgb(232,232,232)",
            "linecolor": "rgb(36,36,36)",
            "showgrid": false,
            "showline": true,
            "ticks": "outside"
           }
          },
          "title": {
           "x": 0.05
          },
          "xaxis": {
           "automargin": true,
           "gridcolor": "rgb(232,232,232)",
           "linecolor": "rgb(36,36,36)",
           "showgrid": false,
           "showline": true,
           "ticks": "outside",
           "title": {
            "standoff": 15
           },
           "zeroline": false,
           "zerolinecolor": "rgb(36,36,36)"
          },
          "yaxis": {
           "automargin": true,
           "gridcolor": "rgb(232,232,232)",
           "linecolor": "rgb(36,36,36)",
           "showgrid": false,
           "showline": true,
           "ticks": "outside",
           "title": {
            "standoff": 15
           },
           "zeroline": false,
           "zerolinecolor": "rgb(36,36,36)"
          }
         }
        },
        "title": {
         "text": "Car acceleration"
        },
        "width": 300,
        "xaxis": {
         "anchor": "y",
         "domain": [
          0,
          1
         ]
        },
        "yaxis": {
         "anchor": "x",
         "domain": [
          0,
          1
         ],
         "title": {
          "text": "acceleration"
         }
        }
       }
      }
     },
     "metadata": {},
     "output_type": "display_data"
    }
   ],
   "source": [
    "fig = px.box(\n",
    "    data,\n",
    "    y='acceleration',\n",
    "    title='Car acceleration',\n",
    "    width=300,\n",
    "    )\n",
    "\n",
    "fig.show()"
   ]
  },
  {
   "cell_type": "markdown",
   "metadata": {},
   "source": [
    "# Measure of Dispersion"
   ]
  },
  {
   "cell_type": "markdown",
   "metadata": {},
   "source": [
    "https://mciwing.github.io/statistics/univariate/Dispersion/\n",
    "\n",
    "For the attribute acceleration calculate the following measures (use the sample formula - not population):\n",
    "- Range\n",
    "- IQR --> compare to the boxplot from the section Measures of Central Tendency\n",
    "- Variance\n",
    "- Standard Deviation\n",
    "- CV"
   ]
  },
  {
   "cell_type": "code",
   "execution_count": 17,
   "metadata": {},
   "outputs": [],
   "source": [
    "acc_values = data['acceleration'].values"
   ]
  },
  {
   "cell_type": "code",
   "execution_count": 18,
   "metadata": {},
   "outputs": [
    {
     "name": "stdout",
     "output_type": "stream",
     "text": [
      "range = 16.8\n"
     ]
    }
   ],
   "source": [
    "acc_range = acc_values.max() - acc_values.min()\n",
    "print(f'range = {acc_range}')"
   ]
  },
  {
   "cell_type": "code",
   "execution_count": 19,
   "metadata": {},
   "outputs": [
    {
     "data": {
      "text/plain": [
       "count    398.000000\n",
       "mean      15.568090\n",
       "std        2.757689\n",
       "min        8.000000\n",
       "25%       13.825000\n",
       "50%       15.500000\n",
       "75%       17.175000\n",
       "max       24.800000\n",
       "Name: acceleration, dtype: float64"
      ]
     },
     "execution_count": 19,
     "metadata": {},
     "output_type": "execute_result"
    }
   ],
   "source": [
    "data['acceleration'].describe()"
   ]
  },
  {
   "cell_type": "code",
   "execution_count": 20,
   "metadata": {},
   "outputs": [
    {
     "name": "stdout",
     "output_type": "stream",
     "text": [
      "IQR = 3.35\n"
     ]
    }
   ],
   "source": [
    "acc_iqr = (data['acceleration'].describe()['75%'] - data['acceleration'].describe()['25%']).round(2)\n",
    "print(f'IQR = {acc_iqr}')"
   ]
  },
  {
   "cell_type": "code",
   "execution_count": 21,
   "metadata": {},
   "outputs": [
    {
     "name": "stdout",
     "output_type": "stream",
     "text": [
      "variance = 7.6\n"
     ]
    }
   ],
   "source": [
    "acc_var = np.round(statistics.variance(acc_values), 2)\n",
    "print(f'variance = {acc_var}')"
   ]
  },
  {
   "cell_type": "code",
   "execution_count": 22,
   "metadata": {},
   "outputs": [
    {
     "name": "stdout",
     "output_type": "stream",
     "text": [
      "standard deviation = 2.76\n"
     ]
    }
   ],
   "source": [
    "acc_std = np.round(statistics.stdev(acc_values), 2)\n",
    "print(f'standard deviation = {acc_std}')"
   ]
  },
  {
   "cell_type": "code",
   "execution_count": 23,
   "metadata": {},
   "outputs": [
    {
     "name": "stdout",
     "output_type": "stream",
     "text": [
      "coefficient of variation = 0.18\n"
     ]
    }
   ],
   "source": [
    "coef_var_acc = np.round(acc_std / acc_values.mean(), 2)\n",
    "print(f'coefficient of variation = {coef_var_acc}')"
   ]
  },
  {
   "cell_type": "markdown",
   "metadata": {},
   "source": [
    "# Weight of Euro Coins"
   ]
  },
  {
   "cell_type": "markdown",
   "metadata": {},
   "source": [
    "Download the following dataset from this page and load it into your notebook.\n",
    "\n",
    "https://jse.amstat.org/datasets/euroweight.dat.txt\n",
    "\n",
    "As the Head of Quality Control at the European Central Bank (ECB), you are responsible, among other duties, for the quality management of 1-Euro coins. Consequently, you have tasked an employee with selecting a random sample of 2,000 coins. (Dataset: 'euro.csv', Unit: grams)\n",
    "- Calculate the average weight of the coins.\n",
    "- Determine the corresponding standard deviation and interpret its significance.\n",
    "- Create a histogram. Ensure that all axes are labeled and the chart is properly titled.\n"
   ]
  },
  {
   "cell_type": "code",
   "execution_count": 24,
   "metadata": {},
   "outputs": [
    {
     "data": {
      "text/html": [
       "<div>\n",
       "<style scoped>\n",
       "    .dataframe tbody tr th:only-of-type {\n",
       "        vertical-align: middle;\n",
       "    }\n",
       "\n",
       "    .dataframe tbody tr th {\n",
       "        vertical-align: top;\n",
       "    }\n",
       "\n",
       "    .dataframe thead th {\n",
       "        text-align: right;\n",
       "    }\n",
       "</style>\n",
       "<table border=\"1\" class=\"dataframe\">\n",
       "  <thead>\n",
       "    <tr style=\"text-align: right;\">\n",
       "      <th></th>\n",
       "      <th>Weight</th>\n",
       "      <th>Batch</th>\n",
       "    </tr>\n",
       "  </thead>\n",
       "  <tbody>\n",
       "    <tr>\n",
       "      <th>1</th>\n",
       "      <td>7.512</td>\n",
       "      <td>1</td>\n",
       "    </tr>\n",
       "    <tr>\n",
       "      <th>2</th>\n",
       "      <td>7.502</td>\n",
       "      <td>1</td>\n",
       "    </tr>\n",
       "    <tr>\n",
       "      <th>3</th>\n",
       "      <td>7.461</td>\n",
       "      <td>1</td>\n",
       "    </tr>\n",
       "    <tr>\n",
       "      <th>4</th>\n",
       "      <td>7.562</td>\n",
       "      <td>1</td>\n",
       "    </tr>\n",
       "    <tr>\n",
       "      <th>5</th>\n",
       "      <td>7.528</td>\n",
       "      <td>1</td>\n",
       "    </tr>\n",
       "  </tbody>\n",
       "</table>\n",
       "</div>"
      ],
      "text/plain": [
       "   Weight  Batch\n",
       "1   7.512      1\n",
       "2   7.502      1\n",
       "3   7.461      1\n",
       "4   7.562      1\n",
       "5   7.528      1"
      ]
     },
     "execution_count": 24,
     "metadata": {},
     "output_type": "execute_result"
    }
   ],
   "source": [
    "# Download the dataset fom a given URL and read it into a DataFrame\n",
    "coin_data = pd.read_csv(\n",
    "    'https://jse.amstat.org/datasets/euroweight.dat.txt',\n",
    "    sep='\\t',\n",
    "    header=None,\n",
    "    index_col=0,\n",
    "    names=['Weight', 'Batch'],\n",
    "    )\n",
    "\n",
    "coin_data.head()"
   ]
  },
  {
   "cell_type": "code",
   "execution_count": 25,
   "metadata": {},
   "outputs": [
    {
     "data": {
      "text/html": [
       "<div>\n",
       "<style scoped>\n",
       "    .dataframe tbody tr th:only-of-type {\n",
       "        vertical-align: middle;\n",
       "    }\n",
       "\n",
       "    .dataframe tbody tr th {\n",
       "        vertical-align: top;\n",
       "    }\n",
       "\n",
       "    .dataframe thead th {\n",
       "        text-align: right;\n",
       "    }\n",
       "</style>\n",
       "<table border=\"1\" class=\"dataframe\">\n",
       "  <thead>\n",
       "    <tr style=\"text-align: right;\">\n",
       "      <th></th>\n",
       "      <th>Weight</th>\n",
       "      <th>Batch</th>\n",
       "    </tr>\n",
       "  </thead>\n",
       "  <tbody>\n",
       "    <tr>\n",
       "      <th>count</th>\n",
       "      <td>2000.000000</td>\n",
       "      <td>2000.000000</td>\n",
       "    </tr>\n",
       "    <tr>\n",
       "      <th>mean</th>\n",
       "      <td>7.521232</td>\n",
       "      <td>4.500000</td>\n",
       "    </tr>\n",
       "    <tr>\n",
       "      <th>std</th>\n",
       "      <td>0.034379</td>\n",
       "      <td>2.291861</td>\n",
       "    </tr>\n",
       "    <tr>\n",
       "      <th>min</th>\n",
       "      <td>7.201000</td>\n",
       "      <td>1.000000</td>\n",
       "    </tr>\n",
       "    <tr>\n",
       "      <th>25%</th>\n",
       "      <td>7.498000</td>\n",
       "      <td>2.750000</td>\n",
       "    </tr>\n",
       "    <tr>\n",
       "      <th>50%</th>\n",
       "      <td>7.520000</td>\n",
       "      <td>4.500000</td>\n",
       "    </tr>\n",
       "    <tr>\n",
       "      <th>75%</th>\n",
       "      <td>7.544250</td>\n",
       "      <td>6.250000</td>\n",
       "    </tr>\n",
       "    <tr>\n",
       "      <th>max</th>\n",
       "      <td>7.752000</td>\n",
       "      <td>8.000000</td>\n",
       "    </tr>\n",
       "  </tbody>\n",
       "</table>\n",
       "</div>"
      ],
      "text/plain": [
       "            Weight        Batch\n",
       "count  2000.000000  2000.000000\n",
       "mean      7.521232     4.500000\n",
       "std       0.034379     2.291861\n",
       "min       7.201000     1.000000\n",
       "25%       7.498000     2.750000\n",
       "50%       7.520000     4.500000\n",
       "75%       7.544250     6.250000\n",
       "max       7.752000     8.000000"
      ]
     },
     "execution_count": 25,
     "metadata": {},
     "output_type": "execute_result"
    }
   ],
   "source": [
    "coin_data.describe()"
   ]
  },
  {
   "cell_type": "code",
   "execution_count": 26,
   "metadata": {},
   "outputs": [
    {
     "name": "stdout",
     "output_type": "stream",
     "text": [
      "mean = 7.521\n"
     ]
    }
   ],
   "source": [
    "mean_weight = coin_data['Weight'].mean().round(3)\n",
    "print(f'mean = {mean_weight}')"
   ]
  },
  {
   "cell_type": "code",
   "execution_count": 27,
   "metadata": {},
   "outputs": [
    {
     "name": "stdout",
     "output_type": "stream",
     "text": [
      "standard deviation = 0.034\n"
     ]
    }
   ],
   "source": [
    "std_weight = coin_data['Weight'].std().round(3)\n",
    "print(f'standard deviation = {std_weight}')"
   ]
  },
  {
   "cell_type": "code",
   "execution_count": 28,
   "metadata": {},
   "outputs": [
    {
     "data": {
      "application/vnd.plotly.v1+json": {
       "config": {
        "plotlyServerURL": "https://plot.ly"
       },
       "data": [
        {
         "bingroup": "x",
         "hovertemplate": "weight /g=%{x}<br>count=%{y}<extra></extra>",
         "legendgroup": "",
         "marker": {
          "color": "#1F77B4",
          "pattern": {
           "shape": ""
          }
         },
         "name": "",
         "orientation": "v",
         "showlegend": false,
         "type": "histogram",
         "x": {
          "bdata": "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",
          "dtype": "f8"
         },
         "xaxis": "x",
         "yaxis": "y"
        }
       ],
       "layout": {
        "barmode": "relative",
        "legend": {
         "tracegroupgap": 0
        },
        "template": {
         "data": {
          "bar": [
           {
            "error_x": {
             "color": "rgb(36,36,36)"
            },
            "error_y": {
             "color": "rgb(36,36,36)"
            },
            "marker": {
             "line": {
              "color": "white",
              "width": 0.5
             },
             "pattern": {
              "fillmode": "overlay",
              "size": 10,
              "solidity": 0.2
             }
            },
            "type": "bar"
           }
          ],
          "barpolar": [
           {
            "marker": {
             "line": {
              "color": "white",
              "width": 0.5
             },
             "pattern": {
              "fillmode": "overlay",
              "size": 10,
              "solidity": 0.2
             }
            },
            "type": "barpolar"
           }
          ],
          "carpet": [
           {
            "aaxis": {
             "endlinecolor": "rgb(36,36,36)",
             "gridcolor": "white",
             "linecolor": "white",
             "minorgridcolor": "white",
             "startlinecolor": "rgb(36,36,36)"
            },
            "baxis": {
             "endlinecolor": "rgb(36,36,36)",
             "gridcolor": "white",
             "linecolor": "white",
             "minorgridcolor": "white",
             "startlinecolor": "rgb(36,36,36)"
            },
            "type": "carpet"
           }
          ],
          "choropleth": [
           {
            "colorbar": {
             "outlinewidth": 1,
             "tickcolor": "rgb(36,36,36)",
             "ticks": "outside"
            },
            "type": "choropleth"
           }
          ],
          "contour": [
           {
            "colorbar": {
             "outlinewidth": 1,
             "tickcolor": "rgb(36,36,36)",
             "ticks": "outside"
            },
            "colorscale": [
             [
              0,
              "#440154"
             ],
             [
              0.1111111111111111,
              "#482878"
             ],
             [
              0.2222222222222222,
              "#3e4989"
             ],
             [
              0.3333333333333333,
              "#31688e"
             ],
             [
              0.4444444444444444,
              "#26828e"
             ],
             [
              0.5555555555555556,
              "#1f9e89"
             ],
             [
              0.6666666666666666,
              "#35b779"
             ],
             [
              0.7777777777777778,
              "#6ece58"
             ],
             [
              0.8888888888888888,
              "#b5de2b"
             ],
             [
              1,
              "#fde725"
             ]
            ],
            "type": "contour"
           }
          ],
          "contourcarpet": [
           {
            "colorbar": {
             "outlinewidth": 1,
             "tickcolor": "rgb(36,36,36)",
             "ticks": "outside"
            },
            "type": "contourcarpet"
           }
          ],
          "heatmap": [
           {
            "colorbar": {
             "outlinewidth": 1,
             "tickcolor": "rgb(36,36,36)",
             "ticks": "outside"
            },
            "colorscale": [
             [
              0,
              "#440154"
             ],
             [
              0.1111111111111111,
              "#482878"
             ],
             [
              0.2222222222222222,
              "#3e4989"
             ],
             [
              0.3333333333333333,
              "#31688e"
             ],
             [
              0.4444444444444444,
              "#26828e"
             ],
             [
              0.5555555555555556,
              "#1f9e89"
             ],
             [
              0.6666666666666666,
              "#35b779"
             ],
             [
              0.7777777777777778,
              "#6ece58"
             ],
             [
              0.8888888888888888,
              "#b5de2b"
             ],
             [
              1,
              "#fde725"
             ]
            ],
            "type": "heatmap"
           }
          ],
          "histogram": [
           {
            "marker": {
             "line": {
              "color": "white",
              "width": 0.6
             }
            },
            "type": "histogram"
           }
          ],
          "histogram2d": [
           {
            "colorbar": {
             "outlinewidth": 1,
             "tickcolor": "rgb(36,36,36)",
             "ticks": "outside"
            },
            "colorscale": [
             [
              0,
              "#440154"
             ],
             [
              0.1111111111111111,
              "#482878"
             ],
             [
              0.2222222222222222,
              "#3e4989"
             ],
             [
              0.3333333333333333,
              "#31688e"
             ],
             [
              0.4444444444444444,
              "#26828e"
             ],
             [
              0.5555555555555556,
              "#1f9e89"
             ],
             [
              0.6666666666666666,
              "#35b779"
             ],
             [
              0.7777777777777778,
              "#6ece58"
             ],
             [
              0.8888888888888888,
              "#b5de2b"
             ],
             [
              1,
              "#fde725"
             ]
            ],
            "type": "histogram2d"
           }
          ],
          "histogram2dcontour": [
           {
            "colorbar": {
             "outlinewidth": 1,
             "tickcolor": "rgb(36,36,36)",
             "ticks": "outside"
            },
            "colorscale": [
             [
              0,
              "#440154"
             ],
             [
              0.1111111111111111,
              "#482878"
             ],
             [
              0.2222222222222222,
              "#3e4989"
             ],
             [
              0.3333333333333333,
              "#31688e"
             ],
             [
              0.4444444444444444,
              "#26828e"
             ],
             [
              0.5555555555555556,
              "#1f9e89"
             ],
             [
              0.6666666666666666,
              "#35b779"
             ],
             [
              0.7777777777777778,
              "#6ece58"
             ],
             [
              0.8888888888888888,
              "#b5de2b"
             ],
             [
              1,
              "#fde725"
             ]
            ],
            "type": "histogram2dcontour"
           }
          ],
          "mesh3d": [
           {
            "colorbar": {
             "outlinewidth": 1,
             "tickcolor": "rgb(36,36,36)",
             "ticks": "outside"
            },
            "type": "mesh3d"
           }
          ],
          "parcoords": [
           {
            "line": {
             "colorbar": {
              "outlinewidth": 1,
              "tickcolor": "rgb(36,36,36)",
              "ticks": "outside"
             }
            },
            "type": "parcoords"
           }
          ],
          "pie": [
           {
            "automargin": true,
            "type": "pie"
           }
          ],
          "scatter": [
           {
            "fillpattern": {
             "fillmode": "overlay",
             "size": 10,
             "solidity": 0.2
            },
            "type": "scatter"
           }
          ],
          "scatter3d": [
           {
            "line": {
             "colorbar": {
              "outlinewidth": 1,
              "tickcolor": "rgb(36,36,36)",
              "ticks": "outside"
             }
            },
            "marker": {
             "colorbar": {
              "outlinewidth": 1,
              "tickcolor": "rgb(36,36,36)",
              "ticks": "outside"
             }
            },
            "type": "scatter3d"
           }
          ],
          "scattercarpet": [
           {
            "marker": {
             "colorbar": {
              "outlinewidth": 1,
              "tickcolor": "rgb(36,36,36)",
              "ticks": "outside"
             }
            },
            "type": "scattercarpet"
           }
          ],
          "scattergeo": [
           {
            "marker": {
             "colorbar": {
              "outlinewidth": 1,
              "tickcolor": "rgb(36,36,36)",
              "ticks": "outside"
             }
            },
            "type": "scattergeo"
           }
          ],
          "scattergl": [
           {
            "marker": {
             "colorbar": {
              "outlinewidth": 1,
              "tickcolor": "rgb(36,36,36)",
              "ticks": "outside"
             }
            },
            "type": "scattergl"
           }
          ],
          "scattermap": [
           {
            "marker": {
             "colorbar": {
              "outlinewidth": 1,
              "tickcolor": "rgb(36,36,36)",
              "ticks": "outside"
             }
            },
            "type": "scattermap"
           }
          ],
          "scattermapbox": [
           {
            "marker": {
             "colorbar": {
              "outlinewidth": 1,
              "tickcolor": "rgb(36,36,36)",
              "ticks": "outside"
             }
            },
            "type": "scattermapbox"
           }
          ],
          "scatterpolar": [
           {
            "marker": {
             "colorbar": {
              "outlinewidth": 1,
              "tickcolor": "rgb(36,36,36)",
              "ticks": "outside"
             }
            },
            "type": "scatterpolar"
           }
          ],
          "scatterpolargl": [
           {
            "marker": {
             "colorbar": {
              "outlinewidth": 1,
              "tickcolor": "rgb(36,36,36)",
              "ticks": "outside"
             }
            },
            "type": "scatterpolargl"
           }
          ],
          "scatterternary": [
           {
            "marker": {
             "colorbar": {
              "outlinewidth": 1,
              "tickcolor": "rgb(36,36,36)",
              "ticks": "outside"
             }
            },
            "type": "scatterternary"
           }
          ],
          "surface": [
           {
            "colorbar": {
             "outlinewidth": 1,
             "tickcolor": "rgb(36,36,36)",
             "ticks": "outside"
            },
            "colorscale": [
             [
              0,
              "#440154"
             ],
             [
              0.1111111111111111,
              "#482878"
             ],
             [
              0.2222222222222222,
              "#3e4989"
             ],
             [
              0.3333333333333333,
              "#31688e"
             ],
             [
              0.4444444444444444,
              "#26828e"
             ],
             [
              0.5555555555555556,
              "#1f9e89"
             ],
             [
              0.6666666666666666,
              "#35b779"
             ],
             [
              0.7777777777777778,
              "#6ece58"
             ],
             [
              0.8888888888888888,
              "#b5de2b"
             ],
             [
              1,
              "#fde725"
             ]
            ],
            "type": "surface"
           }
          ],
          "table": [
           {
            "cells": {
             "fill": {
              "color": "rgb(237,237,237)"
             },
             "line": {
              "color": "white"
             }
            },
            "header": {
             "fill": {
              "color": "rgb(217,217,217)"
             },
             "line": {
              "color": "white"
             }
            },
            "type": "table"
           }
          ]
         },
         "layout": {
          "annotationdefaults": {
           "arrowhead": 0,
           "arrowwidth": 1
          },
          "autotypenumbers": "strict",
          "coloraxis": {
           "colorbar": {
            "outlinewidth": 1,
            "tickcolor": "rgb(36,36,36)",
            "ticks": "outside"
           }
          },
          "colorscale": {
           "diverging": [
            [
             0,
             "rgb(103,0,31)"
            ],
            [
             0.1,
             "rgb(178,24,43)"
            ],
            [
             0.2,
             "rgb(214,96,77)"
            ],
            [
             0.3,
             "rgb(244,165,130)"
            ],
            [
             0.4,
             "rgb(253,219,199)"
            ],
            [
             0.5,
             "rgb(247,247,247)"
            ],
            [
             0.6,
             "rgb(209,229,240)"
            ],
            [
             0.7,
             "rgb(146,197,222)"
            ],
            [
             0.8,
             "rgb(67,147,195)"
            ],
            [
             0.9,
             "rgb(33,102,172)"
            ],
            [
             1,
             "rgb(5,48,97)"
            ]
           ],
           "sequential": [
            [
             0,
             "#440154"
            ],
            [
             0.1111111111111111,
             "#482878"
            ],
            [
             0.2222222222222222,
             "#3e4989"
            ],
            [
             0.3333333333333333,
             "#31688e"
            ],
            [
             0.4444444444444444,
             "#26828e"
            ],
            [
             0.5555555555555556,
             "#1f9e89"
            ],
            [
             0.6666666666666666,
             "#35b779"
            ],
            [
             0.7777777777777778,
             "#6ece58"
            ],
            [
             0.8888888888888888,
             "#b5de2b"
            ],
            [
             1,
             "#fde725"
            ]
           ],
           "sequentialminus": [
            [
             0,
             "#440154"
            ],
            [
             0.1111111111111111,
             "#482878"
            ],
            [
             0.2222222222222222,
             "#3e4989"
            ],
            [
             0.3333333333333333,
             "#31688e"
            ],
            [
             0.4444444444444444,
             "#26828e"
            ],
            [
             0.5555555555555556,
             "#1f9e89"
            ],
            [
             0.6666666666666666,
             "#35b779"
            ],
            [
             0.7777777777777778,
             "#6ece58"
            ],
            [
             0.8888888888888888,
             "#b5de2b"
            ],
            [
             1,
             "#fde725"
            ]
           ]
          },
          "colorway": [
           "#1F77B4",
           "#FF7F0E",
           "#2CA02C",
           "#D62728",
           "#9467BD",
           "#8C564B",
           "#E377C2",
           "#7F7F7F",
           "#BCBD22",
           "#17BECF"
          ],
          "font": {
           "color": "rgb(36,36,36)"
          },
          "geo": {
           "bgcolor": "white",
           "lakecolor": "white",
           "landcolor": "white",
           "showlakes": true,
           "showland": true,
           "subunitcolor": "white"
          },
          "hoverlabel": {
           "align": "left"
          },
          "hovermode": "closest",
          "mapbox": {
           "style": "light"
          },
          "paper_bgcolor": "white",
          "plot_bgcolor": "white",
          "polar": {
           "angularaxis": {
            "gridcolor": "rgb(232,232,232)",
            "linecolor": "rgb(36,36,36)",
            "showgrid": false,
            "showline": true,
            "ticks": "outside"
           },
           "bgcolor": "white",
           "radialaxis": {
            "gridcolor": "rgb(232,232,232)",
            "linecolor": "rgb(36,36,36)",
            "showgrid": false,
            "showline": true,
            "ticks": "outside"
           }
          },
          "scene": {
           "xaxis": {
            "backgroundcolor": "white",
            "gridcolor": "rgb(232,232,232)",
            "gridwidth": 2,
            "linecolor": "rgb(36,36,36)",
            "showbackground": true,
            "showgrid": false,
            "showline": true,
            "ticks": "outside",
            "zeroline": false,
            "zerolinecolor": "rgb(36,36,36)"
           },
           "yaxis": {
            "backgroundcolor": "white",
            "gridcolor": "rgb(232,232,232)",
            "gridwidth": 2,
            "linecolor": "rgb(36,36,36)",
            "showbackground": true,
            "showgrid": false,
            "showline": true,
            "ticks": "outside",
            "zeroline": false,
            "zerolinecolor": "rgb(36,36,36)"
           },
           "zaxis": {
            "backgroundcolor": "white",
            "gridcolor": "rgb(232,232,232)",
            "gridwidth": 2,
            "linecolor": "rgb(36,36,36)",
            "showbackground": true,
            "showgrid": false,
            "showline": true,
            "ticks": "outside",
            "zeroline": false,
            "zerolinecolor": "rgb(36,36,36)"
           }
          },
          "shapedefaults": {
           "fillcolor": "black",
           "line": {
            "width": 0
           },
           "opacity": 0.3
          },
          "ternary": {
           "aaxis": {
            "gridcolor": "rgb(232,232,232)",
            "linecolor": "rgb(36,36,36)",
            "showgrid": false,
            "showline": true,
            "ticks": "outside"
           },
           "baxis": {
            "gridcolor": "rgb(232,232,232)",
            "linecolor": "rgb(36,36,36)",
            "showgrid": false,
            "showline": true,
            "ticks": "outside"
           },
           "bgcolor": "white",
           "caxis": {
            "gridcolor": "rgb(232,232,232)",
            "linecolor": "rgb(36,36,36)",
            "showgrid": false,
            "showline": true,
            "ticks": "outside"
           }
          },
          "title": {
           "x": 0.05
          },
          "xaxis": {
           "automargin": true,
           "gridcolor": "rgb(232,232,232)",
           "linecolor": "rgb(36,36,36)",
           "showgrid": false,
           "showline": true,
           "ticks": "outside",
           "title": {
            "standoff": 15
           },
           "zeroline": false,
           "zerolinecolor": "rgb(36,36,36)"
          },
          "yaxis": {
           "automargin": true,
           "gridcolor": "rgb(232,232,232)",
           "linecolor": "rgb(36,36,36)",
           "showgrid": false,
           "showline": true,
           "ticks": "outside",
           "title": {
            "standoff": 15
           },
           "zeroline": false,
           "zerolinecolor": "rgb(36,36,36)"
          }
         }
        },
        "title": {
         "text": "Weight of the coins"
        },
        "width": 500,
        "xaxis": {
         "anchor": "y",
         "domain": [
          0,
          1
         ],
         "title": {
          "text": "weight /g"
         }
        },
        "yaxis": {
         "anchor": "x",
         "domain": [
          0,
          1
         ],
         "title": {
          "text": "count"
         }
        }
       }
      }
     },
     "metadata": {},
     "output_type": "display_data"
    }
   ],
   "source": [
    "fig = px.histogram(\n",
    "    coin_data,\n",
    "    x='Weight',\n",
    "    title='Weight of the coins',\n",
    "    width=500,\n",
    "    labels={'Weight': 'weight /g'},\n",
    "    )\n",
    "\n",
    "fig.show()"
   ]
  },
  {
   "cell_type": "markdown",
   "metadata": {},
   "source": [
    "# Frequency Distribution"
   ]
  },
  {
   "cell_type": "markdown",
   "metadata": {},
   "source": [
    "Work on the following task:\n",
    "\n",
    "- Generate a 2D Histogram for the variables origin and horsepower (think about attribute types, title, labeling of the axes).\n",
    "- Calculate the crosstab for the absolute frequencies of the variables origin and cylinders\n",
    "- Calculate the conditional crosstab for the relative frequencies to answer the following question: Whats the cylinder distributed within each origin?\n"
   ]
  },
  {
   "cell_type": "code",
   "execution_count": 29,
   "metadata": {},
   "outputs": [
    {
     "data": {
      "text/plain": [
       "(398, 8)"
      ]
     },
     "execution_count": 29,
     "metadata": {},
     "output_type": "execute_result"
    }
   ],
   "source": [
    "data.shape"
   ]
  },
  {
   "cell_type": "code",
   "execution_count": 30,
   "metadata": {},
   "outputs": [
    {
     "data": {
      "text/html": [
       "<div>\n",
       "<style scoped>\n",
       "    .dataframe tbody tr th:only-of-type {\n",
       "        vertical-align: middle;\n",
       "    }\n",
       "\n",
       "    .dataframe tbody tr th {\n",
       "        vertical-align: top;\n",
       "    }\n",
       "\n",
       "    .dataframe thead th {\n",
       "        text-align: right;\n",
       "    }\n",
       "</style>\n",
       "<table border=\"1\" class=\"dataframe\">\n",
       "  <thead>\n",
       "    <tr style=\"text-align: right;\">\n",
       "      <th></th>\n",
       "      <th>displacement</th>\n",
       "      <th>cylinders</th>\n",
       "      <th>horsepower</th>\n",
       "      <th>weight</th>\n",
       "      <th>acceleration</th>\n",
       "      <th>model_year</th>\n",
       "      <th>origin</th>\n",
       "      <th>car_name</th>\n",
       "    </tr>\n",
       "  </thead>\n",
       "  <tbody>\n",
       "    <tr>\n",
       "      <th>0</th>\n",
       "      <td>307.0</td>\n",
       "      <td>8</td>\n",
       "      <td>130.0</td>\n",
       "      <td>3504</td>\n",
       "      <td>12.0</td>\n",
       "      <td>70</td>\n",
       "      <td>1</td>\n",
       "      <td>chevrolet,chevelle,malibu</td>\n",
       "    </tr>\n",
       "    <tr>\n",
       "      <th>1</th>\n",
       "      <td>350.0</td>\n",
       "      <td>8</td>\n",
       "      <td>165.0</td>\n",
       "      <td>3693</td>\n",
       "      <td>11.5</td>\n",
       "      <td>70</td>\n",
       "      <td>1</td>\n",
       "      <td>buick,skylark,320</td>\n",
       "    </tr>\n",
       "    <tr>\n",
       "      <th>2</th>\n",
       "      <td>318.0</td>\n",
       "      <td>8</td>\n",
       "      <td>150.0</td>\n",
       "      <td>3436</td>\n",
       "      <td>11.0</td>\n",
       "      <td>70</td>\n",
       "      <td>1</td>\n",
       "      <td>plymouth,satellite</td>\n",
       "    </tr>\n",
       "    <tr>\n",
       "      <th>3</th>\n",
       "      <td>304.0</td>\n",
       "      <td>8</td>\n",
       "      <td>150.0</td>\n",
       "      <td>3433</td>\n",
       "      <td>12.0</td>\n",
       "      <td>70</td>\n",
       "      <td>1</td>\n",
       "      <td>amc,rebel,sst</td>\n",
       "    </tr>\n",
       "    <tr>\n",
       "      <th>4</th>\n",
       "      <td>302.0</td>\n",
       "      <td>8</td>\n",
       "      <td>140.0</td>\n",
       "      <td>3449</td>\n",
       "      <td>10.5</td>\n",
       "      <td>70</td>\n",
       "      <td>1</td>\n",
       "      <td>ford,torino</td>\n",
       "    </tr>\n",
       "  </tbody>\n",
       "</table>\n",
       "</div>"
      ],
      "text/plain": [
       "   displacement  cylinders  horsepower  weight  acceleration  model_year  \\\n",
       "0         307.0          8       130.0    3504          12.0          70   \n",
       "1         350.0          8       165.0    3693          11.5          70   \n",
       "2         318.0          8       150.0    3436          11.0          70   \n",
       "3         304.0          8       150.0    3433          12.0          70   \n",
       "4         302.0          8       140.0    3449          10.5          70   \n",
       "\n",
       "   origin                   car_name  \n",
       "0       1  chevrolet,chevelle,malibu  \n",
       "1       1          buick,skylark,320  \n",
       "2       1         plymouth,satellite  \n",
       "3       1              amc,rebel,sst  \n",
       "4       1                ford,torino  "
      ]
     },
     "execution_count": 30,
     "metadata": {},
     "output_type": "execute_result"
    }
   ],
   "source": [
    "data.head()"
   ]
  },
  {
   "cell_type": "code",
   "execution_count": 31,
   "metadata": {},
   "outputs": [
    {
     "data": {
      "application/vnd.plotly.v1+json": {
       "config": {
        "plotlyServerURL": "https://plot.ly"
       },
       "data": [
        {
         "coloraxis": "coloraxis",
         "hovertemplate": "origin=%{x}<br>horsepower=%{y}<br>count=%{z}<extra></extra>",
         "name": "",
         "type": "histogram2d",
         "x": {
          "bdata": "AQEBAQEBAQEBAQEBAQEDAQEBAwICAgICAQEBAQEDAQMBAQEBAQEBAQEBAQEBAQEBAQECAgIDAwIBAwECAQEBAQEBAQEBAQEDAQEBAQICAgIBAwMBAwEBAQEBAQEBAQEBAQEBAQEBAgEBAQEBAwEDAwEBAgEBAgICAgECAwEBAQEBAwEDAQEBAQEBAQEBAgICAwMBAgIDAwIBAQEBAQEBAQEBAQEBAQEDAQEBAwIDAQIBAgICAgMCAgEBAgEBAQEBAQEBAQECAwEBAQECAwMBAgECAwIBAQEBAwECAQMBAQEBAQEBAQEBAQECAQMBAQEDAgMCAwIBAwMDAQEBAQEBAQEBAQEBAQEBAQEBAwMBAwEBAwICAgICAwEBAQEBAQEBAQEBAQECAwEBAgECAQEBAwIBAQEBAgMBAwEBAQECAwMDAwMBAwICAgIDAgMCAwMCAQMBAQEBAQMBAwMDAwMBAQECAgMDAwMCAgMDAQEBAQEBAQEBAQEBAgMDAQEDAwMDAwMBAQEBAwEBAQIBAQE=",
          "dtype": "i1"
         },
         "xaxis": "x",
         "xbingroup": "x",
         "y": {
          "bdata": "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",
          "dtype": "f8"
         },
         "yaxis": "y",
         "ybingroup": "y"
        }
       ],
       "layout": {
        "coloraxis": {
         "colorbar": {
          "title": {
           "text": "count"
          }
         },
         "colorscale": [
          [
           0,
           "#440154"
          ],
          [
           0.1111111111111111,
           "#482878"
          ],
          [
           0.2222222222222222,
           "#3e4989"
          ],
          [
           0.3333333333333333,
           "#31688e"
          ],
          [
           0.4444444444444444,
           "#26828e"
          ],
          [
           0.5555555555555556,
           "#1f9e89"
          ],
          [
           0.6666666666666666,
           "#35b779"
          ],
          [
           0.7777777777777778,
           "#6ece58"
          ],
          [
           0.8888888888888888,
           "#b5de2b"
          ],
          [
           1,
           "#fde725"
          ]
         ]
        },
        "legend": {
         "tracegroupgap": 0
        },
        "template": {
         "data": {
          "bar": [
           {
            "error_x": {
             "color": "rgb(36,36,36)"
            },
            "error_y": {
             "color": "rgb(36,36,36)"
            },
            "marker": {
             "line": {
              "color": "white",
              "width": 0.5
             },
             "pattern": {
              "fillmode": "overlay",
              "size": 10,
              "solidity": 0.2
             }
            },
            "type": "bar"
           }
          ],
          "barpolar": [
           {
            "marker": {
             "line": {
              "color": "white",
              "width": 0.5
             },
             "pattern": {
              "fillmode": "overlay",
              "size": 10,
              "solidity": 0.2
             }
            },
            "type": "barpolar"
           }
          ],
          "carpet": [
           {
            "aaxis": {
             "endlinecolor": "rgb(36,36,36)",
             "gridcolor": "white",
             "linecolor": "white",
             "minorgridcolor": "white",
             "startlinecolor": "rgb(36,36,36)"
            },
            "baxis": {
             "endlinecolor": "rgb(36,36,36)",
             "gridcolor": "white",
             "linecolor": "white",
             "minorgridcolor": "white",
             "startlinecolor": "rgb(36,36,36)"
            },
            "type": "carpet"
           }
          ],
          "choropleth": [
           {
            "colorbar": {
             "outlinewidth": 1,
             "tickcolor": "rgb(36,36,36)",
             "ticks": "outside"
            },
            "type": "choropleth"
           }
          ],
          "contour": [
           {
            "colorbar": {
             "outlinewidth": 1,
             "tickcolor": "rgb(36,36,36)",
             "ticks": "outside"
            },
            "colorscale": [
             [
              0,
              "#440154"
             ],
             [
              0.1111111111111111,
              "#482878"
             ],
             [
              0.2222222222222222,
              "#3e4989"
             ],
             [
              0.3333333333333333,
              "#31688e"
             ],
             [
              0.4444444444444444,
              "#26828e"
             ],
             [
              0.5555555555555556,
              "#1f9e89"
             ],
             [
              0.6666666666666666,
              "#35b779"
             ],
             [
              0.7777777777777778,
              "#6ece58"
             ],
             [
              0.8888888888888888,
              "#b5de2b"
             ],
             [
              1,
              "#fde725"
             ]
            ],
            "type": "contour"
           }
          ],
          "contourcarpet": [
           {
            "colorbar": {
             "outlinewidth": 1,
             "tickcolor": "rgb(36,36,36)",
             "ticks": "outside"
            },
            "type": "contourcarpet"
           }
          ],
          "heatmap": [
           {
            "colorbar": {
             "outlinewidth": 1,
             "tickcolor": "rgb(36,36,36)",
             "ticks": "outside"
            },
            "colorscale": [
             [
              0,
              "#440154"
             ],
             [
              0.1111111111111111,
              "#482878"
             ],
             [
              0.2222222222222222,
              "#3e4989"
             ],
             [
              0.3333333333333333,
              "#31688e"
             ],
             [
              0.4444444444444444,
              "#26828e"
             ],
             [
              0.5555555555555556,
              "#1f9e89"
             ],
             [
              0.6666666666666666,
              "#35b779"
             ],
             [
              0.7777777777777778,
              "#6ece58"
             ],
             [
              0.8888888888888888,
              "#b5de2b"
             ],
             [
              1,
              "#fde725"
             ]
            ],
            "type": "heatmap"
           }
          ],
          "histogram": [
           {
            "marker": {
             "line": {
              "color": "white",
              "width": 0.6
             }
            },
            "type": "histogram"
           }
          ],
          "histogram2d": [
           {
            "colorbar": {
             "outlinewidth": 1,
             "tickcolor": "rgb(36,36,36)",
             "ticks": "outside"
            },
            "colorscale": [
             [
              0,
              "#440154"
             ],
             [
              0.1111111111111111,
              "#482878"
             ],
             [
              0.2222222222222222,
              "#3e4989"
             ],
             [
              0.3333333333333333,
              "#31688e"
             ],
             [
              0.4444444444444444,
              "#26828e"
             ],
             [
              0.5555555555555556,
              "#1f9e89"
             ],
             [
              0.6666666666666666,
              "#35b779"
             ],
             [
              0.7777777777777778,
              "#6ece58"
             ],
             [
              0.8888888888888888,
              "#b5de2b"
             ],
             [
              1,
              "#fde725"
             ]
            ],
            "type": "histogram2d"
           }
          ],
          "histogram2dcontour": [
           {
            "colorbar": {
             "outlinewidth": 1,
             "tickcolor": "rgb(36,36,36)",
             "ticks": "outside"
            },
            "colorscale": [
             [
              0,
              "#440154"
             ],
             [
              0.1111111111111111,
              "#482878"
             ],
             [
              0.2222222222222222,
              "#3e4989"
             ],
             [
              0.3333333333333333,
              "#31688e"
             ],
             [
              0.4444444444444444,
              "#26828e"
             ],
             [
              0.5555555555555556,
              "#1f9e89"
             ],
             [
              0.6666666666666666,
              "#35b779"
             ],
             [
              0.7777777777777778,
              "#6ece58"
             ],
             [
              0.8888888888888888,
              "#b5de2b"
             ],
             [
              1,
              "#fde725"
             ]
            ],
            "type": "histogram2dcontour"
           }
          ],
          "mesh3d": [
           {
            "colorbar": {
             "outlinewidth": 1,
             "tickcolor": "rgb(36,36,36)",
             "ticks": "outside"
            },
            "type": "mesh3d"
           }
          ],
          "parcoords": [
           {
            "line": {
             "colorbar": {
              "outlinewidth": 1,
              "tickcolor": "rgb(36,36,36)",
              "ticks": "outside"
             }
            },
            "type": "parcoords"
           }
          ],
          "pie": [
           {
            "automargin": true,
            "type": "pie"
           }
          ],
          "scatter": [
           {
            "fillpattern": {
             "fillmode": "overlay",
             "size": 10,
             "solidity": 0.2
            },
            "type": "scatter"
           }
          ],
          "scatter3d": [
           {
            "line": {
             "colorbar": {
              "outlinewidth": 1,
              "tickcolor": "rgb(36,36,36)",
              "ticks": "outside"
             }
            },
            "marker": {
             "colorbar": {
              "outlinewidth": 1,
              "tickcolor": "rgb(36,36,36)",
              "ticks": "outside"
             }
            },
            "type": "scatter3d"
           }
          ],
          "scattercarpet": [
           {
            "marker": {
             "colorbar": {
              "outlinewidth": 1,
              "tickcolor": "rgb(36,36,36)",
              "ticks": "outside"
             }
            },
            "type": "scattercarpet"
           }
          ],
          "scattergeo": [
           {
            "marker": {
             "colorbar": {
              "outlinewidth": 1,
              "tickcolor": "rgb(36,36,36)",
              "ticks": "outside"
             }
            },
            "type": "scattergeo"
           }
          ],
          "scattergl": [
           {
            "marker": {
             "colorbar": {
              "outlinewidth": 1,
              "tickcolor": "rgb(36,36,36)",
              "ticks": "outside"
             }
            },
            "type": "scattergl"
           }
          ],
          "scattermap": [
           {
            "marker": {
             "colorbar": {
              "outlinewidth": 1,
              "tickcolor": "rgb(36,36,36)",
              "ticks": "outside"
             }
            },
            "type": "scattermap"
           }
          ],
          "scattermapbox": [
           {
            "marker": {
             "colorbar": {
              "outlinewidth": 1,
              "tickcolor": "rgb(36,36,36)",
              "ticks": "outside"
             }
            },
            "type": "scattermapbox"
           }
          ],
          "scatterpolar": [
           {
            "marker": {
             "colorbar": {
              "outlinewidth": 1,
              "tickcolor": "rgb(36,36,36)",
              "ticks": "outside"
             }
            },
            "type": "scatterpolar"
           }
          ],
          "scatterpolargl": [
           {
            "marker": {
             "colorbar": {
              "outlinewidth": 1,
              "tickcolor": "rgb(36,36,36)",
              "ticks": "outside"
             }
            },
            "type": "scatterpolargl"
           }
          ],
          "scatterternary": [
           {
            "marker": {
             "colorbar": {
              "outlinewidth": 1,
              "tickcolor": "rgb(36,36,36)",
              "ticks": "outside"
             }
            },
            "type": "scatterternary"
           }
          ],
          "surface": [
           {
            "colorbar": {
             "outlinewidth": 1,
             "tickcolor": "rgb(36,36,36)",
             "ticks": "outside"
            },
            "colorscale": [
             [
              0,
              "#440154"
             ],
             [
              0.1111111111111111,
              "#482878"
             ],
             [
              0.2222222222222222,
              "#3e4989"
             ],
             [
              0.3333333333333333,
              "#31688e"
             ],
             [
              0.4444444444444444,
              "#26828e"
             ],
             [
              0.5555555555555556,
              "#1f9e89"
             ],
             [
              0.6666666666666666,
              "#35b779"
             ],
             [
              0.7777777777777778,
              "#6ece58"
             ],
             [
              0.8888888888888888,
              "#b5de2b"
             ],
             [
              1,
              "#fde725"
             ]
            ],
            "type": "surface"
           }
          ],
          "table": [
           {
            "cells": {
             "fill": {
              "color": "rgb(237,237,237)"
             },
             "line": {
              "color": "white"
             }
            },
            "header": {
             "fill": {
              "color": "rgb(217,217,217)"
             },
             "line": {
              "color": "white"
             }
            },
            "type": "table"
           }
          ]
         },
         "layout": {
          "annotationdefaults": {
           "arrowhead": 0,
           "arrowwidth": 1
          },
          "autotypenumbers": "strict",
          "coloraxis": {
           "colorbar": {
            "outlinewidth": 1,
            "tickcolor": "rgb(36,36,36)",
            "ticks": "outside"
           }
          },
          "colorscale": {
           "diverging": [
            [
             0,
             "rgb(103,0,31)"
            ],
            [
             0.1,
             "rgb(178,24,43)"
            ],
            [
             0.2,
             "rgb(214,96,77)"
            ],
            [
             0.3,
             "rgb(244,165,130)"
            ],
            [
             0.4,
             "rgb(253,219,199)"
            ],
            [
             0.5,
             "rgb(247,247,247)"
            ],
            [
             0.6,
             "rgb(209,229,240)"
            ],
            [
             0.7,
             "rgb(146,197,222)"
            ],
            [
             0.8,
             "rgb(67,147,195)"
            ],
            [
             0.9,
             "rgb(33,102,172)"
            ],
            [
             1,
             "rgb(5,48,97)"
            ]
           ],
           "sequential": [
            [
             0,
             "#440154"
            ],
            [
             0.1111111111111111,
             "#482878"
            ],
            [
             0.2222222222222222,
             "#3e4989"
            ],
            [
             0.3333333333333333,
             "#31688e"
            ],
            [
             0.4444444444444444,
             "#26828e"
            ],
            [
             0.5555555555555556,
             "#1f9e89"
            ],
            [
             0.6666666666666666,
             "#35b779"
            ],
            [
             0.7777777777777778,
             "#6ece58"
            ],
            [
             0.8888888888888888,
             "#b5de2b"
            ],
            [
             1,
             "#fde725"
            ]
           ],
           "sequentialminus": [
            [
             0,
             "#440154"
            ],
            [
             0.1111111111111111,
             "#482878"
            ],
            [
             0.2222222222222222,
             "#3e4989"
            ],
            [
             0.3333333333333333,
             "#31688e"
            ],
            [
             0.4444444444444444,
             "#26828e"
            ],
            [
             0.5555555555555556,
             "#1f9e89"
            ],
            [
             0.6666666666666666,
             "#35b779"
            ],
            [
             0.7777777777777778,
             "#6ece58"
            ],
            [
             0.8888888888888888,
             "#b5de2b"
            ],
            [
             1,
             "#fde725"
            ]
           ]
          },
          "colorway": [
           "#1F77B4",
           "#FF7F0E",
           "#2CA02C",
           "#D62728",
           "#9467BD",
           "#8C564B",
           "#E377C2",
           "#7F7F7F",
           "#BCBD22",
           "#17BECF"
          ],
          "font": {
           "color": "rgb(36,36,36)"
          },
          "geo": {
           "bgcolor": "white",
           "lakecolor": "white",
           "landcolor": "white",
           "showlakes": true,
           "showland": true,
           "subunitcolor": "white"
          },
          "hoverlabel": {
           "align": "left"
          },
          "hovermode": "closest",
          "mapbox": {
           "style": "light"
          },
          "paper_bgcolor": "white",
          "plot_bgcolor": "white",
          "polar": {
           "angularaxis": {
            "gridcolor": "rgb(232,232,232)",
            "linecolor": "rgb(36,36,36)",
            "showgrid": false,
            "showline": true,
            "ticks": "outside"
           },
           "bgcolor": "white",
           "radialaxis": {
            "gridcolor": "rgb(232,232,232)",
            "linecolor": "rgb(36,36,36)",
            "showgrid": false,
            "showline": true,
            "ticks": "outside"
           }
          },
          "scene": {
           "xaxis": {
            "backgroundcolor": "white",
            "gridcolor": "rgb(232,232,232)",
            "gridwidth": 2,
            "linecolor": "rgb(36,36,36)",
            "showbackground": true,
            "showgrid": false,
            "showline": true,
            "ticks": "outside",
            "zeroline": false,
            "zerolinecolor": "rgb(36,36,36)"
           },
           "yaxis": {
            "backgroundcolor": "white",
            "gridcolor": "rgb(232,232,232)",
            "gridwidth": 2,
            "linecolor": "rgb(36,36,36)",
            "showbackground": true,
            "showgrid": false,
            "showline": true,
            "ticks": "outside",
            "zeroline": false,
            "zerolinecolor": "rgb(36,36,36)"
           },
           "zaxis": {
            "backgroundcolor": "white",
            "gridcolor": "rgb(232,232,232)",
            "gridwidth": 2,
            "linecolor": "rgb(36,36,36)",
            "showbackground": true,
            "showgrid": false,
            "showline": true,
            "ticks": "outside",
            "zeroline": false,
            "zerolinecolor": "rgb(36,36,36)"
           }
          },
          "shapedefaults": {
           "fillcolor": "black",
           "line": {
            "width": 0
           },
           "opacity": 0.3
          },
          "ternary": {
           "aaxis": {
            "gridcolor": "rgb(232,232,232)",
            "linecolor": "rgb(36,36,36)",
            "showgrid": false,
            "showline": true,
            "ticks": "outside"
           },
           "baxis": {
            "gridcolor": "rgb(232,232,232)",
            "linecolor": "rgb(36,36,36)",
            "showgrid": false,
            "showline": true,
            "ticks": "outside"
           },
           "bgcolor": "white",
           "caxis": {
            "gridcolor": "rgb(232,232,232)",
            "linecolor": "rgb(36,36,36)",
            "showgrid": false,
            "showline": true,
            "ticks": "outside"
           }
          },
          "title": {
           "x": 0.05
          },
          "xaxis": {
           "automargin": true,
           "gridcolor": "rgb(232,232,232)",
           "linecolor": "rgb(36,36,36)",
           "showgrid": false,
           "showline": true,
           "ticks": "outside",
           "title": {
            "standoff": 15
           },
           "zeroline": false,
           "zerolinecolor": "rgb(36,36,36)"
          },
          "yaxis": {
           "automargin": true,
           "gridcolor": "rgb(232,232,232)",
           "linecolor": "rgb(36,36,36)",
           "showgrid": false,
           "showline": true,
           "ticks": "outside",
           "title": {
            "standoff": 15
           },
           "zeroline": false,
           "zerolinecolor": "rgb(36,36,36)"
          }
         }
        },
        "title": {
         "text": "Origin vs. Horsepower"
        },
        "width": 500,
        "xaxis": {
         "anchor": "y",
         "domain": [
          0,
          1
         ],
         "title": {
          "text": "origin"
         }
        },
        "yaxis": {
         "anchor": "x",
         "domain": [
          0,
          1
         ],
         "title": {
          "text": "horsepower"
         }
        }
       }
      }
     },
     "metadata": {},
     "output_type": "display_data"
    }
   ],
   "source": [
    "fig = px.density_heatmap(\n",
    "    data,\n",
    "    x='origin',\n",
    "    y='horsepower',\n",
    "    title='Origin vs. Horsepower',\n",
    "    width=500,\n",
    "    )\n",
    "\n",
    "fig.show()"
   ]
  },
  {
   "cell_type": "code",
   "execution_count": 32,
   "metadata": {},
   "outputs": [
    {
     "data": {
      "text/html": [
       "<div>\n",
       "<style scoped>\n",
       "    .dataframe tbody tr th:only-of-type {\n",
       "        vertical-align: middle;\n",
       "    }\n",
       "\n",
       "    .dataframe tbody tr th {\n",
       "        vertical-align: top;\n",
       "    }\n",
       "\n",
       "    .dataframe thead th {\n",
       "        text-align: right;\n",
       "    }\n",
       "</style>\n",
       "<table border=\"1\" class=\"dataframe\">\n",
       "  <thead>\n",
       "    <tr style=\"text-align: right;\">\n",
       "      <th>cylinders</th>\n",
       "      <th>3</th>\n",
       "      <th>4</th>\n",
       "      <th>5</th>\n",
       "      <th>6</th>\n",
       "      <th>8</th>\n",
       "    </tr>\n",
       "    <tr>\n",
       "      <th>origin</th>\n",
       "      <th></th>\n",
       "      <th></th>\n",
       "      <th></th>\n",
       "      <th></th>\n",
       "      <th></th>\n",
       "    </tr>\n",
       "  </thead>\n",
       "  <tbody>\n",
       "    <tr>\n",
       "      <th>1</th>\n",
       "      <td>0</td>\n",
       "      <td>72</td>\n",
       "      <td>0</td>\n",
       "      <td>74</td>\n",
       "      <td>103</td>\n",
       "    </tr>\n",
       "    <tr>\n",
       "      <th>2</th>\n",
       "      <td>0</td>\n",
       "      <td>63</td>\n",
       "      <td>3</td>\n",
       "      <td>4</td>\n",
       "      <td>0</td>\n",
       "    </tr>\n",
       "    <tr>\n",
       "      <th>3</th>\n",
       "      <td>4</td>\n",
       "      <td>69</td>\n",
       "      <td>0</td>\n",
       "      <td>6</td>\n",
       "      <td>0</td>\n",
       "    </tr>\n",
       "  </tbody>\n",
       "</table>\n",
       "</div>"
      ],
      "text/plain": [
       "cylinders  3   4  5   6    8\n",
       "origin                      \n",
       "1          0  72  0  74  103\n",
       "2          0  63  3   4    0\n",
       "3          4  69  0   6    0"
      ]
     },
     "execution_count": 32,
     "metadata": {},
     "output_type": "execute_result"
    }
   ],
   "source": [
    "pd.crosstab(data['origin'], data['cylinders'])"
   ]
  },
  {
   "cell_type": "code",
   "execution_count": 33,
   "metadata": {},
   "outputs": [
    {
     "data": {
      "text/html": [
       "<div>\n",
       "<style scoped>\n",
       "    .dataframe tbody tr th:only-of-type {\n",
       "        vertical-align: middle;\n",
       "    }\n",
       "\n",
       "    .dataframe tbody tr th {\n",
       "        vertical-align: top;\n",
       "    }\n",
       "\n",
       "    .dataframe thead th {\n",
       "        text-align: right;\n",
       "    }\n",
       "</style>\n",
       "<table border=\"1\" class=\"dataframe\">\n",
       "  <thead>\n",
       "    <tr style=\"text-align: right;\">\n",
       "      <th>cylinders</th>\n",
       "      <th>3</th>\n",
       "      <th>4</th>\n",
       "      <th>5</th>\n",
       "      <th>6</th>\n",
       "      <th>8</th>\n",
       "    </tr>\n",
       "    <tr>\n",
       "      <th>origin</th>\n",
       "      <th></th>\n",
       "      <th></th>\n",
       "      <th></th>\n",
       "      <th></th>\n",
       "      <th></th>\n",
       "    </tr>\n",
       "  </thead>\n",
       "  <tbody>\n",
       "    <tr>\n",
       "      <th>1</th>\n",
       "      <td>0.000000</td>\n",
       "      <td>0.289157</td>\n",
       "      <td>0.000000</td>\n",
       "      <td>0.297189</td>\n",
       "      <td>0.413655</td>\n",
       "    </tr>\n",
       "    <tr>\n",
       "      <th>2</th>\n",
       "      <td>0.000000</td>\n",
       "      <td>0.900000</td>\n",
       "      <td>0.042857</td>\n",
       "      <td>0.057143</td>\n",
       "      <td>0.000000</td>\n",
       "    </tr>\n",
       "    <tr>\n",
       "      <th>3</th>\n",
       "      <td>0.050633</td>\n",
       "      <td>0.873418</td>\n",
       "      <td>0.000000</td>\n",
       "      <td>0.075949</td>\n",
       "      <td>0.000000</td>\n",
       "    </tr>\n",
       "    <tr>\n",
       "      <th>All</th>\n",
       "      <td>0.010050</td>\n",
       "      <td>0.512563</td>\n",
       "      <td>0.007538</td>\n",
       "      <td>0.211055</td>\n",
       "      <td>0.258794</td>\n",
       "    </tr>\n",
       "  </tbody>\n",
       "</table>\n",
       "</div>"
      ],
      "text/plain": [
       "cylinders         3         4         5         6         8\n",
       "origin                                                     \n",
       "1          0.000000  0.289157  0.000000  0.297189  0.413655\n",
       "2          0.000000  0.900000  0.042857  0.057143  0.000000\n",
       "3          0.050633  0.873418  0.000000  0.075949  0.000000\n",
       "All        0.010050  0.512563  0.007538  0.211055  0.258794"
      ]
     },
     "execution_count": 33,
     "metadata": {},
     "output_type": "execute_result"
    }
   ],
   "source": [
    "pd.crosstab(data['origin'], data['cylinders'], margins=True, normalize='index')"
   ]
  },
  {
   "cell_type": "markdown",
   "metadata": {},
   "source": [
    "# Attribute Correlation"
   ]
  },
  {
   "cell_type": "markdown",
   "metadata": {},
   "source": [
    "Work on the following task:\n",
    "\n",
    "- Analyze the correlation between the variables horsepower and cylinders. Therefore calculate the covariance, pearson correlation coefficient and spearman correlation coefficient. Interpret the results.\n",
    "- Generate a scatter plot for the variabels horsepower and cylinders. Compare the before result with the calculated measures.\n",
    "- Take a closer look on the different variables and the corresponding attribute type. Is there a variable, where the calculation of the correlation makes no sense?\n"
   ]
  },
  {
   "cell_type": "code",
   "execution_count": 34,
   "metadata": {},
   "outputs": [
    {
     "name": "stdout",
     "output_type": "stream",
     "text": [
      "Covariance = 55.207\n"
     ]
    }
   ],
   "source": [
    "covariance = (data['horsepower'].cov(data['cylinders'], ddof=0)).round(3)\n",
    "print(f\"Covariance = {covariance}\")"
   ]
  },
  {
   "cell_type": "code",
   "execution_count": 35,
   "metadata": {},
   "outputs": [
    {
     "name": "stdout",
     "output_type": "stream",
     "text": [
      "Pearson correlation = 0.843\n"
     ]
    }
   ],
   "source": [
    "pearson_corr = (data['horsepower'].corr(data['cylinders'])).round(3)\n",
    "print(f\"Pearson correlation = {pearson_corr}\")"
   ]
  },
  {
   "cell_type": "code",
   "execution_count": 36,
   "metadata": {},
   "outputs": [
    {
     "name": "stdout",
     "output_type": "stream",
     "text": [
      "Spearman correlation = 0.816\n"
     ]
    }
   ],
   "source": [
    "spearman_corr = (data['horsepower'].corr(data['cylinders'], method='spearman')).round(3)\n",
    "print(f\"Spearman correlation = {spearman_corr}\")"
   ]
  },
  {
   "cell_type": "code",
   "execution_count": 37,
   "metadata": {},
   "outputs": [
    {
     "data": {
      "application/vnd.plotly.v1+json": {
       "config": {
        "plotlyServerURL": "https://plot.ly"
       },
       "data": [
        {
         "hovertemplate": "horsepower=%{x}<br>cylinders=%{y}<extra></extra>",
         "legendgroup": "",
         "marker": {
          "color": "#1F77B4",
          "symbol": "circle"
         },
         "mode": "markers",
         "name": "",
         "orientation": "v",
         "showlegend": false,
         "type": "scatter",
         "x": {
          "bdata": "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",
          "dtype": "f8"
         },
         "xaxis": "x",
         "y": {
          "bdata": "CAgICAgICAgICAgICAgEBgYGBAQEBAQEBggICAgEBAQEBgYGBgYICAgICAgIBgQGBgQEBAQEBAQEBAQEBAQICAgICAgICAgDCAgICAQEBAQEBAQEBAgICAgICAgICAgICAYGBgYGBAgICAgGBAQEAwQGBAgIBAQEBAgEBggGBgYGBAQEBAYGBggICAgIBAQEBAQEBAQEBAQGBgYGCAgICAYGBgYGCAgEBAYEBAQEBgQGBAQEBAQEBAQEBAgICAgGBgYGBAQEBAYGBgYEBAQEBAgEBgYICAgIBAQEBAQICAgIBgYGBggICAgEBAQEBAQEBAYEAwQEBAQECAgIBgYGBAYGBgYGBggGCAgEBAQEBAQEBAUGBAYEBAYGBAYGCAgICAgICAgEBAQEBQgECAQEBAQEBgYEBAQEBAQEBAYEBAQEBAQEBAQEBQQEBAQEBgMEBAQEBAQGBAQEBAQEBAQEBAQEBAQEBAQEBgYGBggGBgQEBAQEBAQEBAQEBAQEBAQEBAQGBgQGBAQEBAQEBAQ=",
          "dtype": "i1"
         },
         "yaxis": "y"
        }
       ],
       "layout": {
        "legend": {
         "tracegroupgap": 0
        },
        "template": {
         "data": {
          "bar": [
           {
            "error_x": {
             "color": "rgb(36,36,36)"
            },
            "error_y": {
             "color": "rgb(36,36,36)"
            },
            "marker": {
             "line": {
              "color": "white",
              "width": 0.5
             },
             "pattern": {
              "fillmode": "overlay",
              "size": 10,
              "solidity": 0.2
             }
            },
            "type": "bar"
           }
          ],
          "barpolar": [
           {
            "marker": {
             "line": {
              "color": "white",
              "width": 0.5
             },
             "pattern": {
              "fillmode": "overlay",
              "size": 10,
              "solidity": 0.2
             }
            },
            "type": "barpolar"
           }
          ],
          "carpet": [
           {
            "aaxis": {
             "endlinecolor": "rgb(36,36,36)",
             "gridcolor": "white",
             "linecolor": "white",
             "minorgridcolor": "white",
             "startlinecolor": "rgb(36,36,36)"
            },
            "baxis": {
             "endlinecolor": "rgb(36,36,36)",
             "gridcolor": "white",
             "linecolor": "white",
             "minorgridcolor": "white",
             "startlinecolor": "rgb(36,36,36)"
            },
            "type": "carpet"
           }
          ],
          "choropleth": [
           {
            "colorbar": {
             "outlinewidth": 1,
             "tickcolor": "rgb(36,36,36)",
             "ticks": "outside"
            },
            "type": "choropleth"
           }
          ],
          "contour": [
           {
            "colorbar": {
             "outlinewidth": 1,
             "tickcolor": "rgb(36,36,36)",
             "ticks": "outside"
            },
            "colorscale": [
             [
              0,
              "#440154"
             ],
             [
              0.1111111111111111,
              "#482878"
             ],
             [
              0.2222222222222222,
              "#3e4989"
             ],
             [
              0.3333333333333333,
              "#31688e"
             ],
             [
              0.4444444444444444,
              "#26828e"
             ],
             [
              0.5555555555555556,
              "#1f9e89"
             ],
             [
              0.6666666666666666,
              "#35b779"
             ],
             [
              0.7777777777777778,
              "#6ece58"
             ],
             [
              0.8888888888888888,
              "#b5de2b"
             ],
             [
              1,
              "#fde725"
             ]
            ],
            "type": "contour"
           }
          ],
          "contourcarpet": [
           {
            "colorbar": {
             "outlinewidth": 1,
             "tickcolor": "rgb(36,36,36)",
             "ticks": "outside"
            },
            "type": "contourcarpet"
           }
          ],
          "heatmap": [
           {
            "colorbar": {
             "outlinewidth": 1,
             "tickcolor": "rgb(36,36,36)",
             "ticks": "outside"
            },
            "colorscale": [
             [
              0,
              "#440154"
             ],
             [
              0.1111111111111111,
              "#482878"
             ],
             [
              0.2222222222222222,
              "#3e4989"
             ],
             [
              0.3333333333333333,
              "#31688e"
             ],
             [
              0.4444444444444444,
              "#26828e"
             ],
             [
              0.5555555555555556,
              "#1f9e89"
             ],
             [
              0.6666666666666666,
              "#35b779"
             ],
             [
              0.7777777777777778,
              "#6ece58"
             ],
             [
              0.8888888888888888,
              "#b5de2b"
             ],
             [
              1,
              "#fde725"
             ]
            ],
            "type": "heatmap"
           }
          ],
          "histogram": [
           {
            "marker": {
             "line": {
              "color": "white",
              "width": 0.6
             }
            },
            "type": "histogram"
           }
          ],
          "histogram2d": [
           {
            "colorbar": {
             "outlinewidth": 1,
             "tickcolor": "rgb(36,36,36)",
             "ticks": "outside"
            },
            "colorscale": [
             [
              0,
              "#440154"
             ],
             [
              0.1111111111111111,
              "#482878"
             ],
             [
              0.2222222222222222,
              "#3e4989"
             ],
             [
              0.3333333333333333,
              "#31688e"
             ],
             [
              0.4444444444444444,
              "#26828e"
             ],
             [
              0.5555555555555556,
              "#1f9e89"
             ],
             [
              0.6666666666666666,
              "#35b779"
             ],
             [
              0.7777777777777778,
              "#6ece58"
             ],
             [
              0.8888888888888888,
              "#b5de2b"
             ],
             [
              1,
              "#fde725"
             ]
            ],
            "type": "histogram2d"
           }
          ],
          "histogram2dcontour": [
           {
            "colorbar": {
             "outlinewidth": 1,
             "tickcolor": "rgb(36,36,36)",
             "ticks": "outside"
            },
            "colorscale": [
             [
              0,
              "#440154"
             ],
             [
              0.1111111111111111,
              "#482878"
             ],
             [
              0.2222222222222222,
              "#3e4989"
             ],
             [
              0.3333333333333333,
              "#31688e"
             ],
             [
              0.4444444444444444,
              "#26828e"
             ],
             [
              0.5555555555555556,
              "#1f9e89"
             ],
             [
              0.6666666666666666,
              "#35b779"
             ],
             [
              0.7777777777777778,
              "#6ece58"
             ],
             [
              0.8888888888888888,
              "#b5de2b"
             ],
             [
              1,
              "#fde725"
             ]
            ],
            "type": "histogram2dcontour"
           }
          ],
          "mesh3d": [
           {
            "colorbar": {
             "outlinewidth": 1,
             "tickcolor": "rgb(36,36,36)",
             "ticks": "outside"
            },
            "type": "mesh3d"
           }
          ],
          "parcoords": [
           {
            "line": {
             "colorbar": {
              "outlinewidth": 1,
              "tickcolor": "rgb(36,36,36)",
              "ticks": "outside"
             }
            },
            "type": "parcoords"
           }
          ],
          "pie": [
           {
            "automargin": true,
            "type": "pie"
           }
          ],
          "scatter": [
           {
            "fillpattern": {
             "fillmode": "overlay",
             "size": 10,
             "solidity": 0.2
            },
            "type": "scatter"
           }
          ],
          "scatter3d": [
           {
            "line": {
             "colorbar": {
              "outlinewidth": 1,
              "tickcolor": "rgb(36,36,36)",
              "ticks": "outside"
             }
            },
            "marker": {
             "colorbar": {
              "outlinewidth": 1,
              "tickcolor": "rgb(36,36,36)",
              "ticks": "outside"
             }
            },
            "type": "scatter3d"
           }
          ],
          "scattercarpet": [
           {
            "marker": {
             "colorbar": {
              "outlinewidth": 1,
              "tickcolor": "rgb(36,36,36)",
              "ticks": "outside"
             }
            },
            "type": "scattercarpet"
           }
          ],
          "scattergeo": [
           {
            "marker": {
             "colorbar": {
              "outlinewidth": 1,
              "tickcolor": "rgb(36,36,36)",
              "ticks": "outside"
             }
            },
            "type": "scattergeo"
           }
          ],
          "scattergl": [
           {
            "marker": {
             "colorbar": {
              "outlinewidth": 1,
              "tickcolor": "rgb(36,36,36)",
              "ticks": "outside"
             }
            },
            "type": "scattergl"
           }
          ],
          "scattermap": [
           {
            "marker": {
             "colorbar": {
              "outlinewidth": 1,
              "tickcolor": "rgb(36,36,36)",
              "ticks": "outside"
             }
            },
            "type": "scattermap"
           }
          ],
          "scattermapbox": [
           {
            "marker": {
             "colorbar": {
              "outlinewidth": 1,
              "tickcolor": "rgb(36,36,36)",
              "ticks": "outside"
             }
            },
            "type": "scattermapbox"
           }
          ],
          "scatterpolar": [
           {
            "marker": {
             "colorbar": {
              "outlinewidth": 1,
              "tickcolor": "rgb(36,36,36)",
              "ticks": "outside"
             }
            },
            "type": "scatterpolar"
           }
          ],
          "scatterpolargl": [
           {
            "marker": {
             "colorbar": {
              "outlinewidth": 1,
              "tickcolor": "rgb(36,36,36)",
              "ticks": "outside"
             }
            },
            "type": "scatterpolargl"
           }
          ],
          "scatterternary": [
           {
            "marker": {
             "colorbar": {
              "outlinewidth": 1,
              "tickcolor": "rgb(36,36,36)",
              "ticks": "outside"
             }
            },
            "type": "scatterternary"
           }
          ],
          "surface": [
           {
            "colorbar": {
             "outlinewidth": 1,
             "tickcolor": "rgb(36,36,36)",
             "ticks": "outside"
            },
            "colorscale": [
             [
              0,
              "#440154"
             ],
             [
              0.1111111111111111,
              "#482878"
             ],
             [
              0.2222222222222222,
              "#3e4989"
             ],
             [
              0.3333333333333333,
              "#31688e"
             ],
             [
              0.4444444444444444,
              "#26828e"
             ],
             [
              0.5555555555555556,
              "#1f9e89"
             ],
             [
              0.6666666666666666,
              "#35b779"
             ],
             [
              0.7777777777777778,
              "#6ece58"
             ],
             [
              0.8888888888888888,
              "#b5de2b"
             ],
             [
              1,
              "#fde725"
             ]
            ],
            "type": "surface"
           }
          ],
          "table": [
           {
            "cells": {
             "fill": {
              "color": "rgb(237,237,237)"
             },
             "line": {
              "color": "white"
             }
            },
            "header": {
             "fill": {
              "color": "rgb(217,217,217)"
             },
             "line": {
              "color": "white"
             }
            },
            "type": "table"
           }
          ]
         },
         "layout": {
          "annotationdefaults": {
           "arrowhead": 0,
           "arrowwidth": 1
          },
          "autotypenumbers": "strict",
          "coloraxis": {
           "colorbar": {
            "outlinewidth": 1,
            "tickcolor": "rgb(36,36,36)",
            "ticks": "outside"
           }
          },
          "colorscale": {
           "diverging": [
            [
             0,
             "rgb(103,0,31)"
            ],
            [
             0.1,
             "rgb(178,24,43)"
            ],
            [
             0.2,
             "rgb(214,96,77)"
            ],
            [
             0.3,
             "rgb(244,165,130)"
            ],
            [
             0.4,
             "rgb(253,219,199)"
            ],
            [
             0.5,
             "rgb(247,247,247)"
            ],
            [
             0.6,
             "rgb(209,229,240)"
            ],
            [
             0.7,
             "rgb(146,197,222)"
            ],
            [
             0.8,
             "rgb(67,147,195)"
            ],
            [
             0.9,
             "rgb(33,102,172)"
            ],
            [
             1,
             "rgb(5,48,97)"
            ]
           ],
           "sequential": [
            [
             0,
             "#440154"
            ],
            [
             0.1111111111111111,
             "#482878"
            ],
            [
             0.2222222222222222,
             "#3e4989"
            ],
            [
             0.3333333333333333,
             "#31688e"
            ],
            [
             0.4444444444444444,
             "#26828e"
            ],
            [
             0.5555555555555556,
             "#1f9e89"
            ],
            [
             0.6666666666666666,
             "#35b779"
            ],
            [
             0.7777777777777778,
             "#6ece58"
            ],
            [
             0.8888888888888888,
             "#b5de2b"
            ],
            [
             1,
             "#fde725"
            ]
           ],
           "sequentialminus": [
            [
             0,
             "#440154"
            ],
            [
             0.1111111111111111,
             "#482878"
            ],
            [
             0.2222222222222222,
             "#3e4989"
            ],
            [
             0.3333333333333333,
             "#31688e"
            ],
            [
             0.4444444444444444,
             "#26828e"
            ],
            [
             0.5555555555555556,
             "#1f9e89"
            ],
            [
             0.6666666666666666,
             "#35b779"
            ],
            [
             0.7777777777777778,
             "#6ece58"
            ],
            [
             0.8888888888888888,
             "#b5de2b"
            ],
            [
             1,
             "#fde725"
            ]
           ]
          },
          "colorway": [
           "#1F77B4",
           "#FF7F0E",
           "#2CA02C",
           "#D62728",
           "#9467BD",
           "#8C564B",
           "#E377C2",
           "#7F7F7F",
           "#BCBD22",
           "#17BECF"
          ],
          "font": {
           "color": "rgb(36,36,36)"
          },
          "geo": {
           "bgcolor": "white",
           "lakecolor": "white",
           "landcolor": "white",
           "showlakes": true,
           "showland": true,
           "subunitcolor": "white"
          },
          "hoverlabel": {
           "align": "left"
          },
          "hovermode": "closest",
          "mapbox": {
           "style": "light"
          },
          "paper_bgcolor": "white",
          "plot_bgcolor": "white",
          "polar": {
           "angularaxis": {
            "gridcolor": "rgb(232,232,232)",
            "linecolor": "rgb(36,36,36)",
            "showgrid": false,
            "showline": true,
            "ticks": "outside"
           },
           "bgcolor": "white",
           "radialaxis": {
            "gridcolor": "rgb(232,232,232)",
            "linecolor": "rgb(36,36,36)",
            "showgrid": false,
            "showline": true,
            "ticks": "outside"
           }
          },
          "scene": {
           "xaxis": {
            "backgroundcolor": "white",
            "gridcolor": "rgb(232,232,232)",
            "gridwidth": 2,
            "linecolor": "rgb(36,36,36)",
            "showbackground": true,
            "showgrid": false,
            "showline": true,
            "ticks": "outside",
            "zeroline": false,
            "zerolinecolor": "rgb(36,36,36)"
           },
           "yaxis": {
            "backgroundcolor": "white",
            "gridcolor": "rgb(232,232,232)",
            "gridwidth": 2,
            "linecolor": "rgb(36,36,36)",
            "showbackground": true,
            "showgrid": false,
            "showline": true,
            "ticks": "outside",
            "zeroline": false,
            "zerolinecolor": "rgb(36,36,36)"
           },
           "zaxis": {
            "backgroundcolor": "white",
            "gridcolor": "rgb(232,232,232)",
            "gridwidth": 2,
            "linecolor": "rgb(36,36,36)",
            "showbackground": true,
            "showgrid": false,
            "showline": true,
            "ticks": "outside",
            "zeroline": false,
            "zerolinecolor": "rgb(36,36,36)"
           }
          },
          "shapedefaults": {
           "fillcolor": "black",
           "line": {
            "width": 0
           },
           "opacity": 0.3
          },
          "ternary": {
           "aaxis": {
            "gridcolor": "rgb(232,232,232)",
            "linecolor": "rgb(36,36,36)",
            "showgrid": false,
            "showline": true,
            "ticks": "outside"
           },
           "baxis": {
            "gridcolor": "rgb(232,232,232)",
            "linecolor": "rgb(36,36,36)",
            "showgrid": false,
            "showline": true,
            "ticks": "outside"
           },
           "bgcolor": "white",
           "caxis": {
            "gridcolor": "rgb(232,232,232)",
            "linecolor": "rgb(36,36,36)",
            "showgrid": false,
            "showline": true,
            "ticks": "outside"
           }
          },
          "title": {
           "x": 0.05
          },
          "xaxis": {
           "automargin": true,
           "gridcolor": "rgb(232,232,232)",
           "linecolor": "rgb(36,36,36)",
           "showgrid": false,
           "showline": true,
           "ticks": "outside",
           "title": {
            "standoff": 15
           },
           "zeroline": false,
           "zerolinecolor": "rgb(36,36,36)"
          },
          "yaxis": {
           "automargin": true,
           "gridcolor": "rgb(232,232,232)",
           "linecolor": "rgb(36,36,36)",
           "showgrid": false,
           "showline": true,
           "ticks": "outside",
           "title": {
            "standoff": 15
           },
           "zeroline": false,
           "zerolinecolor": "rgb(36,36,36)"
          }
         }
        },
        "title": {
         "text": "Horsepower vs. Cylinders"
        },
        "width": 500,
        "xaxis": {
         "anchor": "y",
         "domain": [
          0,
          1
         ],
         "title": {
          "text": "horsepower"
         }
        },
        "yaxis": {
         "anchor": "x",
         "domain": [
          0,
          1
         ],
         "title": {
          "text": "cylinders"
         }
        }
       }
      }
     },
     "metadata": {},
     "output_type": "display_data"
    }
   ],
   "source": [
    "fig = px.scatter(\n",
    "    data,\n",
    "    x='horsepower',\n",
    "    y='cylinders',\n",
    "    title='Horsepower vs. Cylinders',\n",
    "    width=500,\n",
    "    )\n",
    "\n",
    "fig.show()"
   ]
  },
  {
   "cell_type": "markdown",
   "metadata": {},
   "source": [
    "There is a recognisable correlation in the graph: as the number of cylinders increases, so does the horsepower."
   ]
  },
  {
   "cell_type": "code",
   "execution_count": 38,
   "metadata": {},
   "outputs": [
    {
     "data": {
      "text/html": [
       "<div>\n",
       "<style scoped>\n",
       "    .dataframe tbody tr th:only-of-type {\n",
       "        vertical-align: middle;\n",
       "    }\n",
       "\n",
       "    .dataframe tbody tr th {\n",
       "        vertical-align: top;\n",
       "    }\n",
       "\n",
       "    .dataframe thead th {\n",
       "        text-align: right;\n",
       "    }\n",
       "</style>\n",
       "<table border=\"1\" class=\"dataframe\">\n",
       "  <thead>\n",
       "    <tr style=\"text-align: right;\">\n",
       "      <th></th>\n",
       "      <th>displacement</th>\n",
       "      <th>cylinders</th>\n",
       "      <th>horsepower</th>\n",
       "      <th>weight</th>\n",
       "      <th>acceleration</th>\n",
       "      <th>model_year</th>\n",
       "      <th>origin</th>\n",
       "      <th>car_name</th>\n",
       "    </tr>\n",
       "  </thead>\n",
       "  <tbody>\n",
       "    <tr>\n",
       "      <th>0</th>\n",
       "      <td>307.0</td>\n",
       "      <td>8</td>\n",
       "      <td>130.0</td>\n",
       "      <td>3504</td>\n",
       "      <td>12.0</td>\n",
       "      <td>70</td>\n",
       "      <td>1</td>\n",
       "      <td>chevrolet,chevelle,malibu</td>\n",
       "    </tr>\n",
       "    <tr>\n",
       "      <th>1</th>\n",
       "      <td>350.0</td>\n",
       "      <td>8</td>\n",
       "      <td>165.0</td>\n",
       "      <td>3693</td>\n",
       "      <td>11.5</td>\n",
       "      <td>70</td>\n",
       "      <td>1</td>\n",
       "      <td>buick,skylark,320</td>\n",
       "    </tr>\n",
       "    <tr>\n",
       "      <th>2</th>\n",
       "      <td>318.0</td>\n",
       "      <td>8</td>\n",
       "      <td>150.0</td>\n",
       "      <td>3436</td>\n",
       "      <td>11.0</td>\n",
       "      <td>70</td>\n",
       "      <td>1</td>\n",
       "      <td>plymouth,satellite</td>\n",
       "    </tr>\n",
       "    <tr>\n",
       "      <th>3</th>\n",
       "      <td>304.0</td>\n",
       "      <td>8</td>\n",
       "      <td>150.0</td>\n",
       "      <td>3433</td>\n",
       "      <td>12.0</td>\n",
       "      <td>70</td>\n",
       "      <td>1</td>\n",
       "      <td>amc,rebel,sst</td>\n",
       "    </tr>\n",
       "    <tr>\n",
       "      <th>4</th>\n",
       "      <td>302.0</td>\n",
       "      <td>8</td>\n",
       "      <td>140.0</td>\n",
       "      <td>3449</td>\n",
       "      <td>10.5</td>\n",
       "      <td>70</td>\n",
       "      <td>1</td>\n",
       "      <td>ford,torino</td>\n",
       "    </tr>\n",
       "  </tbody>\n",
       "</table>\n",
       "</div>"
      ],
      "text/plain": [
       "   displacement  cylinders  horsepower  weight  acceleration  model_year  \\\n",
       "0         307.0          8       130.0    3504          12.0          70   \n",
       "1         350.0          8       165.0    3693          11.5          70   \n",
       "2         318.0          8       150.0    3436          11.0          70   \n",
       "3         304.0          8       150.0    3433          12.0          70   \n",
       "4         302.0          8       140.0    3449          10.5          70   \n",
       "\n",
       "   origin                   car_name  \n",
       "0       1  chevrolet,chevelle,malibu  \n",
       "1       1          buick,skylark,320  \n",
       "2       1         plymouth,satellite  \n",
       "3       1              amc,rebel,sst  \n",
       "4       1                ford,torino  "
      ]
     },
     "execution_count": 38,
     "metadata": {},
     "output_type": "execute_result"
    }
   ],
   "source": [
    "data.head()"
   ]
  },
  {
   "cell_type": "code",
   "execution_count": 39,
   "metadata": {},
   "outputs": [
    {
     "data": {
      "image/png": "[encoded data removed]",
      "text/plain": [
       "<Figure size 1750x1750 with 28 Axes>"
      ]
     },
     "metadata": {},
     "output_type": "display_data"
    }
   ],
   "source": [
    "grid = sns.PairGrid(data, corner=True)\n",
    "grid.map(sns.scatterplot)\n",
    "\n",
    "plt.show()"
   ]
  },
  {
   "cell_type": "markdown",
   "metadata": {},
   "source": [
    "Calculating the correlation for the car_name makes no sense."
   ]
  },
  {
   "cell_type": "markdown",
   "metadata": {},
   "source": [
    "# Income vs. Expenditures"
   ]
  },
  {
   "cell_type": "markdown",
   "metadata": {},
   "source": [
    "Given below are the incomes and weekly consumption expenditures of four households (sample), each measured in euros:\n",
    "\n",
    "Work on the following task:\n",
    "\n",
    "- Calculate the covariance between income and expenditure. Interpret the result.\n",
    "- Calculate the covariance when income is measured in Euro cents. How does this affect the interpretation?\n",
    "- Switch back to income in Euro. Calculate the Pearson correlation coefficient. Interpret the results.\n",
    "- Calculate the correlation coefficient when income is measured in Euro Cents. How does this affect the interpretation?\n"
   ]
  },
  {
   "cell_type": "code",
   "execution_count": 40,
   "metadata": {},
   "outputs": [
    {
     "data": {
      "text/html": [
       "<div>\n",
       "<style scoped>\n",
       "    .dataframe tbody tr th:only-of-type {\n",
       "        vertical-align: middle;\n",
       "    }\n",
       "\n",
       "    .dataframe tbody tr th {\n",
       "        vertical-align: top;\n",
       "    }\n",
       "\n",
       "    .dataframe thead th {\n",
       "        text-align: right;\n",
       "    }\n",
       "</style>\n",
       "<table border=\"1\" class=\"dataframe\">\n",
       "  <thead>\n",
       "    <tr style=\"text-align: right;\">\n",
       "      <th></th>\n",
       "      <th>income</th>\n",
       "      <th>expenditure</th>\n",
       "      <th>expenditure_cent</th>\n",
       "    </tr>\n",
       "  </thead>\n",
       "  <tbody>\n",
       "    <tr>\n",
       "      <th>0</th>\n",
       "      <td>150</td>\n",
       "      <td>135</td>\n",
       "      <td>13500</td>\n",
       "    </tr>\n",
       "    <tr>\n",
       "      <th>1</th>\n",
       "      <td>250</td>\n",
       "      <td>150</td>\n",
       "      <td>15000</td>\n",
       "    </tr>\n",
       "    <tr>\n",
       "      <th>2</th>\n",
       "      <td>175</td>\n",
       "      <td>140</td>\n",
       "      <td>14000</td>\n",
       "    </tr>\n",
       "    <tr>\n",
       "      <th>3</th>\n",
       "      <td>165</td>\n",
       "      <td>150</td>\n",
       "      <td>15000</td>\n",
       "    </tr>\n",
       "  </tbody>\n",
       "</table>\n",
       "</div>"
      ],
      "text/plain": [
       "   income  expenditure  expenditure_cent\n",
       "0     150          135             13500\n",
       "1     250          150             15000\n",
       "2     175          140             14000\n",
       "3     165          150             15000"
      ]
     },
     "execution_count": 40,
     "metadata": {},
     "output_type": "execute_result"
    }
   ],
   "source": [
    "income = [150, 250, 175, 165]\n",
    "expenditure = [135, 150, 140, 150]\n",
    "df = pd.DataFrame({'income': income, 'expenditure': expenditure})\n",
    "df['expenditure_cent'] = df['expenditure']*100\n",
    "df.head()"
   ]
  },
  {
   "cell_type": "markdown",
   "metadata": {},
   "source": [
    "### Covariance"
   ]
  },
  {
   "cell_type": "code",
   "execution_count": 41,
   "metadata": {},
   "outputs": [
    {
     "name": "stdout",
     "output_type": "stream",
     "text": [
      "Covariance = 208.333\n"
     ]
    }
   ],
   "source": [
    "# Calculate the covariance\n",
    "covariance = df['income'].cov(df['expenditure']).round(3)\n",
    "print(f\"Covariance = {covariance}\")"
   ]
  },
  {
   "cell_type": "code",
   "execution_count": 42,
   "metadata": {},
   "outputs": [
    {
     "name": "stdout",
     "output_type": "stream",
     "text": [
      "Covariance = 20833.333\n"
     ]
    }
   ],
   "source": [
    "# Calculate the covariance\n",
    "covariance = df['income'].cov(df['expenditure_cent']).round(3)\n",
    "print(f\"Covariance = {covariance}\")"
   ]
  },
  {
   "cell_type": "markdown",
   "metadata": {},
   "source": [
    "The covariance changes by the factor 100 (same as Euros to cents)"
   ]
  },
  {
   "cell_type": "markdown",
   "metadata": {},
   "source": [
    "### Pearson correlation"
   ]
  },
  {
   "cell_type": "code",
   "execution_count": 43,
   "metadata": {},
   "outputs": [
    {
     "name": "stdout",
     "output_type": "stream",
     "text": [
      "Pearson correlation = 0.624\n",
      "Pearson correlation = 0.624\n"
     ]
    }
   ],
   "source": [
    "# Calculate the pearson correlation\n",
    "pearson_corr = df['income'].corr(df['expenditure']).round(3)\n",
    "print(f\"Pearson correlation = {pearson_corr}\")\n",
    "\n",
    "# Calculate the pearson correlation\n",
    "pearson_corr = df['income'].corr(df['expenditure_cent']).round(3)\n",
    "print(f\"Pearson correlation = {pearson_corr}\")"
   ]
  },
  {
   "cell_type": "markdown",
   "metadata": {},
   "source": [
    "It has no affect if the value is in euro or cents."
   ]
  }
 ],
 "metadata": {
  "kernelspec": {
   "display_name": ".venv",
   "language": "python",
   "name": "python3"
  },
  "language_info": {
   "codemirror_mode": {
    "name": "ipython",
    "version": 3
   },
   "file_extension": ".py",
   "mimetype": "text/x-python",
   "name": "python",
   "nbconvert_exporter": "python",
   "pygments_lexer": "ipython3",
   "version": "3.13.1"
  }
 },
 "nbformat": 4,
 "nbformat_minor": 2
}
